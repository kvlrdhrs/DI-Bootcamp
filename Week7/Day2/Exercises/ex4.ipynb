{
 "cells": [
  {
   "cell_type": "markdown",
   "metadata": {},
   "source": [
    "# Exercise 4 : Scrape And Categorize News Articles From A JavaScript-Enabled News Site"
   ]
  },
  {
   "cell_type": "code",
   "execution_count": 1,
   "metadata": {
    "metadata": {}
   },
   "outputs": [],
   "source": [
    "from bs4 import BeautifulSoup\n",
    "from selenium import webdriver\n",
    "from selenium.webdriver.common.keys import Keys\n",
    "from selenium.webdriver.common.by import By\n",
    "from selenium.webdriver.support.ui import WebDriverWait\n",
    "from selenium.webdriver.support import expected_conditions as EC\n",
    "import pprint  # To tidy up\n",
    "import pandas as pd"
   ]
  },
  {
   "cell_type": "code",
   "execution_count": 2,
   "metadata": {
    "metadata": {}
   },
   "outputs": [],
   "source": [
    "options = webdriver.ChromeOptions()\n",
    "options.add_argument('--headless')  # Run Chrome in headless mode\n",
    "options.add_argument(\"--no-sandbox\")  # Bypass OS security model\n",
    "options.add_argument(\"--disable-dev-shm-usage\")  # Overcome limited resource problems\n",
    "driver = webdriver.Chrome(options=options)"
   ]
  },
  {
   "cell_type": "code",
   "execution_count": 3,
   "metadata": {
    "metadata": {}
   },
   "outputs": [],
   "source": [
    "# Function to scrape archive data from iranintl.com\n",
    "def scrape_page(url):\n",
    "    driver.get(url)\n",
    "    soup = BeautifulSoup(driver.page_source, 'html')\n",
    "    articles = soup.find_all('article')\n",
    "\n",
    "    data = []\n",
    "    for article in articles:\n",
    "        # Find the h3 element containing the article name\n",
    "        article_name = article.find('h3', class_='jsx-268a7bdb02dd195b card__headline')\n",
    "        if article_name:\n",
    "            article_name_text = article_name.get_text(strip=True)\n",
    "\n",
    "        # Find the time element containing the datetime\n",
    "        time_element = article.find('time')\n",
    "        if time_element:\n",
    "            datetime = time_element['datetime']\n",
    "\n",
    "        data.append({'Article_name': article_name_text, 'Article_date': datetime})\n",
    "\n",
    "    return data"
   ]
  },
  {
   "cell_type": "code",
   "execution_count": 4,
   "metadata": {
    "metadata": {}
   },
   "outputs": [],
   "source": [
    "# Function to scrape data from multiple pages\n",
    "def scrape_multiple_pages(base_url, max_pages):\n",
    "    all_data = []\n",
    "    for page_number in range(1, max_pages + 1):\n",
    "        url = f\"{base_url}/page/{page_number}\"\n",
    "        data = scrape_page(url)\n",
    "        all_data.extend(data)\n",
    "    return all_data"
   ]
  },
  {
   "cell_type": "code",
   "execution_count": 5,
   "metadata": {
    "metadata": {}
   },
   "outputs": [],
   "source": [
    "# Define the base URL and the maximum number of pages to scrape\n",
    "base_url = \"https://www.iranintl.com/en/archive/iran-en\"\n",
    "max_pages = 100"
   ]
  },
  {
   "cell_type": "code",
   "execution_count": 6,
   "metadata": {
    "metadata": {}
   },
   "outputs": [],
   "source": [
    "# Scrape data from multiple pages\n",
    "all_data = scrape_multiple_pages(base_url, max_pages)"
   ]
  },
  {
   "cell_type": "code",
   "execution_count": 7,
   "metadata": {
    "metadata": {}
   },
   "outputs": [],
   "source": [
    "# Create a DataFrame\n",
    "df = pd.DataFrame(all_data)"
   ]
  },
  {
   "cell_type": "code",
   "execution_count": 8,
   "metadata": {
    "metadata": {}
   },
   "outputs": [
    {
     "data": {
      "text/html": [
       "<div>\n",
       "<style scoped>\n",
       "    .dataframe tbody tr th:only-of-type {\n",
       "        vertical-align: middle;\n",
       "    }\n",
       "\n",
       "    .dataframe tbody tr th {\n",
       "        vertical-align: top;\n",
       "    }\n",
       "\n",
       "    .dataframe thead th {\n",
       "        text-align: right;\n",
       "    }\n",
       "</style>\n",
       "<table border=\"1\" class=\"dataframe\">\n",
       "  <thead>\n",
       "    <tr style=\"text-align: right;\">\n",
       "      <th></th>\n",
       "      <th>Article_name</th>\n",
       "      <th>Article_date</th>\n",
       "    </tr>\n",
       "  </thead>\n",
       "  <tbody>\n",
       "    <tr>\n",
       "      <th>0</th>\n",
       "      <td>Iran's Crackdown On Women Intensifies Under Co...</td>\n",
       "      <td>2024-04-15T17:31:34.573Z</td>\n",
       "    </tr>\n",
       "    <tr>\n",
       "      <th>1</th>\n",
       "      <td>Iran FM Warns Of Harsh Response If Israel Reta...</td>\n",
       "      <td>2024-04-15T16:32:48.941Z</td>\n",
       "    </tr>\n",
       "    <tr>\n",
       "      <th>2</th>\n",
       "      <td>Iran Ramps Up Oil Exports By Relying On Floati...</td>\n",
       "      <td>2024-04-15T14:47:06.637Z</td>\n",
       "    </tr>\n",
       "    <tr>\n",
       "      <th>3</th>\n",
       "      <td>US Tried To Stop Tehran Attacking Israel, Says...</td>\n",
       "      <td>2024-04-15T14:37:21.120Z</td>\n",
       "    </tr>\n",
       "    <tr>\n",
       "      <th>4</th>\n",
       "      <td>Iranians Wary Of War With Israel</td>\n",
       "      <td>2024-04-15T12:43:13.689Z</td>\n",
       "    </tr>\n",
       "  </tbody>\n",
       "</table>\n",
       "</div>"
      ],
      "text/plain": [
       "                                        Article_name              Article_date\n",
       "0  Iran's Crackdown On Women Intensifies Under Co...  2024-04-15T17:31:34.573Z\n",
       "1  Iran FM Warns Of Harsh Response If Israel Reta...  2024-04-15T16:32:48.941Z\n",
       "2  Iran Ramps Up Oil Exports By Relying On Floati...  2024-04-15T14:47:06.637Z\n",
       "3  US Tried To Stop Tehran Attacking Israel, Says...  2024-04-15T14:37:21.120Z\n",
       "4                   Iranians Wary Of War With Israel  2024-04-15T12:43:13.689Z"
      ]
     },
     "execution_count": 8,
     "metadata": {},
     "output_type": "execute_result"
    }
   ],
   "source": [
    "df.head()"
   ]
  },
  {
   "cell_type": "code",
   "execution_count": 9,
   "metadata": {
    "metadata": {}
   },
   "outputs": [
    {
     "name": "stdout",
     "output_type": "stream",
     "text": [
      "<class 'pandas.core.frame.DataFrame'>\n",
      "RangeIndex: 3000 entries, 0 to 2999\n",
      "Data columns (total 2 columns):\n",
      " #   Column        Non-Null Count  Dtype \n",
      "---  ------        --------------  ----- \n",
      " 0   Article_name  3000 non-null   object\n",
      " 1   Article_date  3000 non-null   object\n",
      "dtypes: object(2)\n",
      "memory usage: 47.0+ KB\n"
     ]
    }
   ],
   "source": [
    "df.info()"
   ]
  },
  {
   "cell_type": "code",
   "execution_count": 10,
   "metadata": {
    "metadata": {}
   },
   "outputs": [],
   "source": [
    "df1 = df.copy()"
   ]
  },
  {
   "cell_type": "code",
   "execution_count": 24,
   "metadata": {
    "metadata": {}
   },
   "outputs": [],
   "source": [
    "# Convert 'Article_date' to datetime format\n",
    "df1['Article_date'] = pd.to_datetime(df1['Article_date'])"
   ]
  },
  {
   "cell_type": "code",
   "execution_count": 25,
   "metadata": {
    "metadata": {}
   },
   "outputs": [
    {
     "data": {
      "text/html": [
       "<div>\n",
       "<style scoped>\n",
       "    .dataframe tbody tr th:only-of-type {\n",
       "        vertical-align: middle;\n",
       "    }\n",
       "\n",
       "    .dataframe tbody tr th {\n",
       "        vertical-align: top;\n",
       "    }\n",
       "\n",
       "    .dataframe thead th {\n",
       "        text-align: right;\n",
       "    }\n",
       "</style>\n",
       "<table border=\"1\" class=\"dataframe\">\n",
       "  <thead>\n",
       "    <tr style=\"text-align: right;\">\n",
       "      <th></th>\n",
       "      <th>Article_name</th>\n",
       "      <th>Article_date</th>\n",
       "    </tr>\n",
       "  </thead>\n",
       "  <tbody>\n",
       "    <tr>\n",
       "      <th>0</th>\n",
       "      <td>Iran's Crackdown On Women Intensifies Under Co...</td>\n",
       "      <td>2024-04-15</td>\n",
       "    </tr>\n",
       "    <tr>\n",
       "      <th>1</th>\n",
       "      <td>Iran FM Warns Of Harsh Response If Israel Reta...</td>\n",
       "      <td>2024-04-15</td>\n",
       "    </tr>\n",
       "    <tr>\n",
       "      <th>2</th>\n",
       "      <td>Iran Ramps Up Oil Exports By Relying On Floati...</td>\n",
       "      <td>2024-04-15</td>\n",
       "    </tr>\n",
       "    <tr>\n",
       "      <th>3</th>\n",
       "      <td>US Tried To Stop Tehran Attacking Israel, Says...</td>\n",
       "      <td>2024-04-15</td>\n",
       "    </tr>\n",
       "    <tr>\n",
       "      <th>4</th>\n",
       "      <td>Iranians Wary Of War With Israel</td>\n",
       "      <td>2024-04-15</td>\n",
       "    </tr>\n",
       "  </tbody>\n",
       "</table>\n",
       "</div>"
      ],
      "text/plain": [
       "                                        Article_name Article_date\n",
       "0  Iran's Crackdown On Women Intensifies Under Co...   2024-04-15\n",
       "1  Iran FM Warns Of Harsh Response If Israel Reta...   2024-04-15\n",
       "2  Iran Ramps Up Oil Exports By Relying On Floati...   2024-04-15\n",
       "3  US Tried To Stop Tehran Attacking Israel, Says...   2024-04-15\n",
       "4                   Iranians Wary Of War With Israel   2024-04-15"
      ]
     },
     "execution_count": 25,
     "metadata": {},
     "output_type": "execute_result"
    }
   ],
   "source": [
    "df1.head()"
   ]
  },
  {
   "cell_type": "code",
   "execution_count": 26,
   "metadata": {
    "metadata": {}
   },
   "outputs": [
    {
     "name": "stdout",
     "output_type": "stream",
     "text": [
      "datetime64[ns]\n"
     ]
    }
   ],
   "source": [
    "print(df1['Article_date'].dtype)"
   ]
  },
  {
   "cell_type": "code",
   "execution_count": 27,
   "metadata": {
    "metadata": {}
   },
   "outputs": [],
   "source": [
    "df2 = df1.copy()\n",
    "df2['Months'] = df2['Article_date'].dt.month_name()"
   ]
  },
  {
   "cell_type": "code",
   "execution_count": 28,
   "metadata": {
    "metadata": {}
   },
   "outputs": [
    {
     "data": {
      "text/html": [
       "<div>\n",
       "<style scoped>\n",
       "    .dataframe tbody tr th:only-of-type {\n",
       "        vertical-align: middle;\n",
       "    }\n",
       "\n",
       "    .dataframe tbody tr th {\n",
       "        vertical-align: top;\n",
       "    }\n",
       "\n",
       "    .dataframe thead th {\n",
       "        text-align: right;\n",
       "    }\n",
       "</style>\n",
       "<table border=\"1\" class=\"dataframe\">\n",
       "  <thead>\n",
       "    <tr style=\"text-align: right;\">\n",
       "      <th></th>\n",
       "      <th>Article_name</th>\n",
       "      <th>Article_date</th>\n",
       "      <th>Months</th>\n",
       "    </tr>\n",
       "  </thead>\n",
       "  <tbody>\n",
       "    <tr>\n",
       "      <th>0</th>\n",
       "      <td>Iran's Crackdown On Women Intensifies Under Co...</td>\n",
       "      <td>2024-04-15</td>\n",
       "      <td>April</td>\n",
       "    </tr>\n",
       "    <tr>\n",
       "      <th>1</th>\n",
       "      <td>Iran FM Warns Of Harsh Response If Israel Reta...</td>\n",
       "      <td>2024-04-15</td>\n",
       "      <td>April</td>\n",
       "    </tr>\n",
       "    <tr>\n",
       "      <th>2</th>\n",
       "      <td>Iran Ramps Up Oil Exports By Relying On Floati...</td>\n",
       "      <td>2024-04-15</td>\n",
       "      <td>April</td>\n",
       "    </tr>\n",
       "    <tr>\n",
       "      <th>3</th>\n",
       "      <td>US Tried To Stop Tehran Attacking Israel, Says...</td>\n",
       "      <td>2024-04-15</td>\n",
       "      <td>April</td>\n",
       "    </tr>\n",
       "    <tr>\n",
       "      <th>4</th>\n",
       "      <td>Iranians Wary Of War With Israel</td>\n",
       "      <td>2024-04-15</td>\n",
       "      <td>April</td>\n",
       "    </tr>\n",
       "  </tbody>\n",
       "</table>\n",
       "</div>"
      ],
      "text/plain": [
       "                                        Article_name Article_date Months\n",
       "0  Iran's Crackdown On Women Intensifies Under Co...   2024-04-15  April\n",
       "1  Iran FM Warns Of Harsh Response If Israel Reta...   2024-04-15  April\n",
       "2  Iran Ramps Up Oil Exports By Relying On Floati...   2024-04-15  April\n",
       "3  US Tried To Stop Tehran Attacking Israel, Says...   2024-04-15  April\n",
       "4                   Iranians Wary Of War With Israel   2024-04-15  April"
      ]
     },
     "execution_count": 28,
     "metadata": {},
     "output_type": "execute_result"
    }
   ],
   "source": [
    "df2.head()"
   ]
  },
  {
   "cell_type": "code",
   "execution_count": 35,
   "metadata": {
    "metadata": {}
   },
   "outputs": [
    {
     "name": "stdout",
     "output_type": "stream",
     "text": [
      "      Months  Article_Count\n",
      "0      April            209\n",
      "1     August            232\n",
      "2   December            325\n",
      "3   February            333\n",
      "4    January            359\n",
      "5       July            230\n",
      "6      March            368\n",
      "7   November            328\n",
      "8    October            370\n",
      "9  September            246\n"
     ]
    }
   ],
   "source": [
    "article_counts_by_month = df2.groupby('Months').size().reset_index(name='Article_Count')\n",
    "print(article_counts_by_month)"
   ]
  }
 ],
 "metadata": {
  "kernelspec": {
   "display_name": "Python 3",
   "language": "python",
   "name": "python3"
  },
  "language_info": {
   "codemirror_mode": {
    "name": "ipython",
    "version": 3
   },
   "file_extension": ".py",
   "mimetype": "text/x-python",
   "name": "python",
   "nbconvert_exporter": "python",
   "pygments_lexer": "ipython3",
   "version": "3.12.1"
  }
 },
 "nbformat": 4,
 "nbformat_minor": 2
}
