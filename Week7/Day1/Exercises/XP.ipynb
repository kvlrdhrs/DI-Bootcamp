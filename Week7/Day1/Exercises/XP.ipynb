{
 "cells": [
  {
   "cell_type": "code",
   "execution_count": 1,
   "metadata": {
    "metadata": {}
   },
   "outputs": [],
   "source": [
    "import pandas as pd\n",
    "from bs4 import BeautifulSoup\n",
    "import requests\n",
    "import urllib3"
   ]
  },
  {
   "cell_type": "markdown",
   "metadata": {},
   "source": [
    "# Exercise 1 : Parsing HTML With BeautifulSoup"
   ]
  },
  {
   "cell_type": "code",
   "execution_count": 2,
   "metadata": {
    "metadata": {}
   },
   "outputs": [
    {
     "name": "stderr",
     "output_type": "stream",
     "text": [
      "c:\\Users\\kyana\\AppData\\Local\\Programs\\Python\\Python312\\Lib\\site-packages\\urllib3\\connectionpool.py:1103: InsecureRequestWarning: Unverified HTTPS request is being made to host 'octopus.developers.institute'. Adding certificate verification is strongly advised. See: https://urllib3.readthedocs.io/en/latest/advanced-usage.html#tls-warnings\n",
      "  warnings.warn(\n",
      "c:\\Users\\kyana\\AppData\\Local\\Programs\\Python\\Python312\\Lib\\site-packages\\urllib3\\connectionpool.py:1103: InsecureRequestWarning: Unverified HTTPS request is being made to host 'octopus.developers.institute'. Adding certificate verification is strongly advised. See: https://urllib3.readthedocs.io/en/latest/advanced-usage.html#tls-warnings\n",
      "  warnings.warn(\n"
     ]
    }
   ],
   "source": [
    "# Reading the HTML content of the page.\n",
    "\n",
    "url = 'https://octopus.developers.institute/courses/collection/93/course/416/section/1149/chapter/3432'\n",
    "page = requests.get(url, verify=False)"
   ]
  },
  {
   "cell_type": "code",
   "execution_count": 3,
   "metadata": {
    "metadata": {}
   },
   "outputs": [
    {
     "data": {
      "text/plain": [
       "'Developers Institute'"
      ]
     },
     "execution_count": 3,
     "metadata": {},
     "output_type": "execute_result"
    }
   ],
   "source": [
    "# Creatiing a BeautifulSoup object to parse this HTML.\n",
    "\n",
    "soup = BeautifulSoup(page.text, 'html')\n",
    "\n",
    "# Finding the title of the webpage (the content inside the <title> tag).\n",
    "soup.title.get_text()"
   ]
  },
  {
   "cell_type": "code",
   "execution_count": 4,
   "metadata": {
    "metadata": {}
   },
   "outputs": [
    {
     "data": {
      "text/plain": [
       "[<p class=\"my-2\">Login to access your courses</p>]"
      ]
     },
     "execution_count": 4,
     "metadata": {},
     "output_type": "execute_result"
    }
   ],
   "source": [
    "# Extracting all paragraphs (<p> tags) from the page.\n",
    "\n",
    "soup.find_all('p')"
   ]
  },
  {
   "cell_type": "code",
   "execution_count": 5,
   "metadata": {
    "metadata": {}
   },
   "outputs": [
    {
     "data": {
      "text/plain": [
       "[]"
      ]
     },
     "execution_count": 5,
     "metadata": {},
     "output_type": "execute_result"
    }
   ],
   "source": [
    "# Retrieving all links (URLs in <a href=\"\"> tags) on the page.\n",
    "\n",
    "soup.find_all('href')\n"
   ]
  },
  {
   "cell_type": "markdown",
   "metadata": {},
   "source": [
    "# Exercise 2 : Scraping Robots.Txt From Wikipedia"
   ]
  },
  {
   "cell_type": "code",
   "execution_count": 6,
   "metadata": {
    "metadata": {}
   },
   "outputs": [
    {
     "name": "stdout",
     "output_type": "stream",
     "text": [
      "<!DOCTYPE html>\n",
      "<html dir=\"ltr\" lang=\"en\">\n",
      "<head><meta charset=\"utf-8\"/>\n",
      "<title>Not Found</title>\n",
      "<link href=\"/favicon.ico\" rel=\"shortcut icon\"/>\n",
      "<style>\n",
      "* { margin: 0; padding: 0; }\n",
      "body { background: #fff; color: #202122; font: 0.938em/1.6 sans-serif; }\n",
      ".content { margin: 7% auto 0; padding: 2em 1em 1em; max-width: 640px; }\n",
      "img { float: left; margin: 0 2em 2em 0; }\n",
      "a img { border: 0; }\n",
      "h1 { margin-top: 1em; font-size: 1.2em; }\n",
      "p { margin: 0.7em 0 1em 0; }\n",
      "a { color: #36c; text-decoration: none; }\n",
      "a:hover { text-decoration: underline; }\n",
      "em { color: #72777d; font-style: normal; }\n",
      "</style>\n",
      "</head><body><div class=\"content\" role=\"main\">\n",
      "<a href=\"https://www.wikimedia.org\"><img alt=\"Wikimedia\" height=\"135\" src=\"https://www.wikimedia.org/static/images/wmf.png\" srcset=\"https://www.wikimedia.org/static/images/wmf-2x.png 2x\" width=\"135\"/></a>\n",
      "<h1>Page not found</h1>\n",
      "<p><em>/robot.txt</em></p>\n",
      "<p>We could not find the above page on our servers.</p>\n",
      "<p><b>Did you mean: <a href=\"/wiki/robot.txt\">/wiki/robot.txt</a></b></p>\n",
      "<p style=\"clear:both;\">Alternatively, you can visit the <a href=\"/\">Main Page</a> or read <a href=\"https://en.wikipedia.org/wiki/HTTP_404\" title=\"Wikipedia: HTTP 404\">more information</a> about this type of error.</p>\n",
      "</div>\n",
      "</body></html>\n"
     ]
    }
   ],
   "source": [
    "url2 = 'http://en.wikipedia.org/robot.txt'\n",
    "re2 = requests.get(url2)\n",
    "page2 = BeautifulSoup(re2.text, 'html')\n",
    "print(page2)"
   ]
  },
  {
   "cell_type": "markdown",
   "metadata": {},
   "source": [
    "# Exercise 3 : Extracting Headers From Wikipedia’s Main Page"
   ]
  },
  {
   "cell_type": "code",
   "execution_count": 7,
   "metadata": {
    "metadata": {}
   },
   "outputs": [],
   "source": [
    "url3 = 'https://en.wikipedia.org/wiki/Main_Page'\n",
    "re3 = requests.get(url3)\n",
    "page3 = BeautifulSoup(re3.text, 'html')"
   ]
  },
  {
   "cell_type": "code",
   "execution_count": 8,
   "metadata": {
    "metadata": {}
   },
   "outputs": [
    {
     "data": {
      "text/plain": [
       "<header class=\"vector-header mw-header\">\n",
       "<div class=\"vector-header-start\">\n",
       "<nav aria-label=\"Site\" class=\"vector-main-menu-landmark\" role=\"navigation\">\n",
       "<div class=\"vector-dropdown vector-main-menu-dropdown vector-button-flush-left vector-button-flush-right\" id=\"vector-main-menu-dropdown\">\n",
       "<input aria-haspopup=\"true\" aria-label=\"Main menu\" class=\"vector-dropdown-checkbox\" data-event-name=\"ui.dropdown-vector-main-menu-dropdown\" id=\"vector-main-menu-dropdown-checkbox\" role=\"button\" type=\"checkbox\"/>\n",
       "<label aria-hidden=\"true\" class=\"vector-dropdown-label cdx-button cdx-button--fake-button cdx-button--fake-button--enabled cdx-button--weight-quiet cdx-button--icon-only\" for=\"vector-main-menu-dropdown-checkbox\" id=\"vector-main-menu-dropdown-label\"><span class=\"vector-icon mw-ui-icon-menu mw-ui-icon-wikimedia-menu\"></span>\n",
       "<span class=\"vector-dropdown-label-text\">Main menu</span>\n",
       "</label>\n",
       "<div class=\"vector-dropdown-content\">\n",
       "<div class=\"vector-unpinned-container\" id=\"vector-main-menu-unpinned-container\">\n",
       "<div class=\"vector-main-menu vector-pinnable-element\" id=\"vector-main-menu\">\n",
       "<div class=\"vector-pinnable-header vector-main-menu-pinnable-header vector-pinnable-header-unpinned\" data-feature-name=\"main-menu-pinned\" data-pinnable-element-id=\"vector-main-menu\" data-pinned-container-id=\"vector-main-menu-pinned-container\" data-unpinned-container-id=\"vector-main-menu-unpinned-container\">\n",
       "<div class=\"vector-pinnable-header-label\">Main menu</div>\n",
       "<button class=\"vector-pinnable-header-toggle-button vector-pinnable-header-pin-button\" data-event-name=\"pinnable-header.vector-main-menu.pin\">move to sidebar</button>\n",
       "<button class=\"vector-pinnable-header-toggle-button vector-pinnable-header-unpin-button\" data-event-name=\"pinnable-header.vector-main-menu.unpin\">hide</button>\n",
       "</div>\n",
       "<div class=\"vector-menu mw-portlet mw-portlet-navigation\" id=\"p-navigation\">\n",
       "<div class=\"vector-menu-heading\">\n",
       "\t\tNavigation\n",
       "\t</div>\n",
       "<div class=\"vector-menu-content\">\n",
       "<ul class=\"vector-menu-content-list\">\n",
       "<li class=\"mw-list-item\" id=\"n-mainpage-description\"><a accesskey=\"z\" href=\"/wiki/Main_Page\" title=\"Visit the main page [z]\"><span>Main page</span></a></li><li class=\"mw-list-item\" id=\"n-contents\"><a href=\"/wiki/Wikipedia:Contents\" title=\"Guides to browsing Wikipedia\"><span>Contents</span></a></li><li class=\"mw-list-item\" id=\"n-currentevents\"><a href=\"/wiki/Portal:Current_events\" title=\"Articles related to current events\"><span>Current events</span></a></li><li class=\"mw-list-item\" id=\"n-randompage\"><a accesskey=\"x\" href=\"/wiki/Special:Random\" title=\"Visit a randomly selected article [x]\"><span>Random article</span></a></li><li class=\"mw-list-item\" id=\"n-aboutsite\"><a href=\"/wiki/Wikipedia:About\" title=\"Learn about Wikipedia and how it works\"><span>About Wikipedia</span></a></li><li class=\"mw-list-item\" id=\"n-contactpage\"><a href=\"//en.wikipedia.org/wiki/Wikipedia:Contact_us\" title=\"How to contact Wikipedia\"><span>Contact us</span></a></li><li class=\"mw-list-item\" id=\"n-sitesupport\"><a href=\"https://donate.wikimedia.org/wiki/Special:FundraiserRedirector?utm_source=donate&amp;utm_medium=sidebar&amp;utm_campaign=C13_en.wikipedia.org&amp;uselang=en\" title=\"Support us by donating to the Wikimedia Foundation\"><span>Donate</span></a></li>\n",
       "</ul>\n",
       "</div>\n",
       "</div>\n",
       "<div class=\"vector-menu mw-portlet mw-portlet-interaction\" id=\"p-interaction\">\n",
       "<div class=\"vector-menu-heading\">\n",
       "\t\tContribute\n",
       "\t</div>\n",
       "<div class=\"vector-menu-content\">\n",
       "<ul class=\"vector-menu-content-list\">\n",
       "<li class=\"mw-list-item\" id=\"n-help\"><a href=\"/wiki/Help:Contents\" title=\"Guidance on how to use and edit Wikipedia\"><span>Help</span></a></li><li class=\"mw-list-item\" id=\"n-introduction\"><a href=\"/wiki/Help:Introduction\" title=\"Learn how to edit Wikipedia\"><span>Learn to edit</span></a></li><li class=\"mw-list-item\" id=\"n-portal\"><a href=\"/wiki/Wikipedia:Community_portal\" title=\"The hub for editors\"><span>Community portal</span></a></li><li class=\"mw-list-item\" id=\"n-recentchanges\"><a accesskey=\"r\" href=\"/wiki/Special:RecentChanges\" title=\"A list of recent changes to Wikipedia [r]\"><span>Recent changes</span></a></li><li class=\"mw-list-item\" id=\"n-upload\"><a href=\"/wiki/Wikipedia:File_upload_wizard\" title=\"Add images or other media for use on Wikipedia\"><span>Upload file</span></a></li>\n",
       "</ul>\n",
       "</div>\n",
       "</div>\n",
       "</div>\n",
       "</div>\n",
       "</div>\n",
       "</div>\n",
       "</nav>\n",
       "<a class=\"mw-logo\" href=\"/wiki/Main_Page\">\n",
       "<img alt=\"\" aria-hidden=\"true\" class=\"mw-logo-icon\" height=\"50\" src=\"/static/images/icons/wikipedia.png\" width=\"50\"/>\n",
       "<span class=\"mw-logo-container\">\n",
       "<img alt=\"Wikipedia\" class=\"mw-logo-wordmark\" src=\"/static/images/mobile/copyright/wikipedia-wordmark-en.svg\" style=\"width: 7.5em; height: 1.125em;\"/>\n",
       "<img alt=\"The Free Encyclopedia\" class=\"mw-logo-tagline\" height=\"13\" src=\"/static/images/mobile/copyright/wikipedia-tagline-en.svg\" style=\"width: 7.3125em; height: 0.8125em;\" width=\"117\"/>\n",
       "</span>\n",
       "</a>\n",
       "</div>\n",
       "<div class=\"vector-header-end\">\n",
       "<div class=\"vector-search-box-vue vector-search-box-collapses vector-search-box-show-thumbnail vector-search-box-auto-expand-width vector-search-box\" id=\"p-search\" role=\"search\">\n",
       "<a accesskey=\"f\" class=\"cdx-button cdx-button--fake-button cdx-button--fake-button--enabled cdx-button--weight-quiet cdx-button--icon-only search-toggle\" href=\"/wiki/Special:Search\" id=\"\" title=\"Search Wikipedia [f]\"><span class=\"vector-icon mw-ui-icon-search mw-ui-icon-wikimedia-search\"></span>\n",
       "<span>Search</span>\n",
       "</a>\n",
       "<div class=\"vector-typeahead-search-container\">\n",
       "<div class=\"cdx-typeahead-search cdx-typeahead-search--show-thumbnail cdx-typeahead-search--auto-expand-width\">\n",
       "<form action=\"/w/index.php\" class=\"cdx-search-input cdx-search-input--has-end-button\" id=\"searchform\">\n",
       "<div class=\"cdx-search-input__input-wrapper\" data-search-loc=\"header-moved\" id=\"simpleSearch\">\n",
       "<div class=\"cdx-text-input cdx-text-input--has-start-icon\">\n",
       "<input accesskey=\"f\" aria-label=\"Search Wikipedia\" autocapitalize=\"sentences\" class=\"cdx-text-input__input\" id=\"searchInput\" name=\"search\" placeholder=\"Search Wikipedia\" title=\"Search Wikipedia [f]\" type=\"search\"/>\n",
       "<span class=\"cdx-text-input__icon cdx-text-input__start-icon\"></span>\n",
       "</div>\n",
       "<input name=\"title\" type=\"hidden\" value=\"Special:Search\"/>\n",
       "</div>\n",
       "<button class=\"cdx-button cdx-search-input__end-button\">Search</button>\n",
       "</form>\n",
       "</div>\n",
       "</div>\n",
       "</div>\n",
       "<nav aria-label=\"Personal tools\" class=\"vector-user-links vector-user-links-wide\" role=\"navigation\">\n",
       "<div class=\"vector-user-links-main\">\n",
       "<div class=\"vector-menu mw-portlet emptyPortlet\" id=\"p-vector-user-menu-preferences\">\n",
       "<div class=\"vector-menu-content\">\n",
       "<ul class=\"vector-menu-content-list\">\n",
       "</ul>\n",
       "</div>\n",
       "</div>\n",
       "<div class=\"vector-menu mw-portlet emptyPortlet\" id=\"p-vector-user-menu-userpage\">\n",
       "<div class=\"vector-menu-content\">\n",
       "<ul class=\"vector-menu-content-list\">\n",
       "</ul>\n",
       "</div>\n",
       "</div>\n",
       "<nav aria-label=\"Appearance\" class=\"vector-client-prefs-landmark\">\n",
       "</nav>\n",
       "<div class=\"vector-menu mw-portlet emptyPortlet\" id=\"p-vector-user-menu-notifications\">\n",
       "<div class=\"vector-menu-content\">\n",
       "<ul class=\"vector-menu-content-list\">\n",
       "</ul>\n",
       "</div>\n",
       "</div>\n",
       "<div class=\"vector-menu mw-portlet\" id=\"p-vector-user-menu-overflow\">\n",
       "<div class=\"vector-menu-content\">\n",
       "<ul class=\"vector-menu-content-list\">\n",
       "<li class=\"user-links-collapsible-item mw-list-item user-links-collapsible-item\" id=\"pt-createaccount-2\"><a class=\"\" data-mw=\"interface\" href=\"/w/index.php?title=Special:CreateAccount&amp;returnto=Main+Page\" title=\"You are encouraged to create an account and log in; however, it is not mandatory\"><span>Create account</span></a>\n",
       "</li>\n",
       "<li class=\"user-links-collapsible-item mw-list-item user-links-collapsible-item\" id=\"pt-login-2\"><a accesskey=\"o\" class=\"\" data-mw=\"interface\" href=\"/w/index.php?title=Special:UserLogin&amp;returnto=Main+Page\" title=\"You're encouraged to log in; however, it's not mandatory. [o]\"><span>Log in</span></a>\n",
       "</li>\n",
       "</ul>\n",
       "</div>\n",
       "</div>\n",
       "</div>\n",
       "<div class=\"vector-dropdown vector-user-menu vector-button-flush-right vector-user-menu-logged-out\" id=\"vector-user-links-dropdown\" title=\"Log in and more options\">\n",
       "<input aria-haspopup=\"true\" aria-label=\"Personal tools\" class=\"vector-dropdown-checkbox\" data-event-name=\"ui.dropdown-vector-user-links-dropdown\" id=\"vector-user-links-dropdown-checkbox\" role=\"button\" type=\"checkbox\"/>\n",
       "<label aria-hidden=\"true\" class=\"vector-dropdown-label cdx-button cdx-button--fake-button cdx-button--fake-button--enabled cdx-button--weight-quiet cdx-button--icon-only\" for=\"vector-user-links-dropdown-checkbox\" id=\"vector-user-links-dropdown-label\"><span class=\"vector-icon mw-ui-icon-ellipsis mw-ui-icon-wikimedia-ellipsis\"></span>\n",
       "<span class=\"vector-dropdown-label-text\">Personal tools</span>\n",
       "</label>\n",
       "<div class=\"vector-dropdown-content\">\n",
       "<div class=\"vector-menu mw-portlet mw-portlet-personal user-links-collapsible-item\" id=\"p-personal\" title=\"User menu\">\n",
       "<div class=\"vector-menu-content\">\n",
       "<ul class=\"vector-menu-content-list\">\n",
       "<li class=\"user-links-collapsible-item mw-list-item\" id=\"pt-createaccount\"><a href=\"/w/index.php?title=Special:CreateAccount&amp;returnto=Main+Page\" title=\"You are encouraged to create an account and log in; however, it is not mandatory\"><span class=\"vector-icon mw-ui-icon-userAdd mw-ui-icon-wikimedia-userAdd\"></span> <span>Create account</span></a></li><li class=\"user-links-collapsible-item mw-list-item\" id=\"pt-login\"><a accesskey=\"o\" href=\"/w/index.php?title=Special:UserLogin&amp;returnto=Main+Page\" title=\"You're encouraged to log in; however, it's not mandatory. [o]\"><span class=\"vector-icon mw-ui-icon-logIn mw-ui-icon-wikimedia-logIn\"></span> <span>Log in</span></a></li>\n",
       "</ul>\n",
       "</div>\n",
       "</div>\n",
       "<div class=\"vector-menu mw-portlet mw-portlet-user-menu-anon-editor\" id=\"p-user-menu-anon-editor\">\n",
       "<div class=\"vector-menu-heading\">\n",
       "\t\tPages for logged out editors <a aria-label=\"Learn more about editing\" href=\"/wiki/Help:Introduction\"><span>learn more</span></a>\n",
       "</div>\n",
       "<div class=\"vector-menu-content\">\n",
       "<ul class=\"vector-menu-content-list\">\n",
       "<li class=\"mw-list-item\" id=\"pt-anoncontribs\"><a accesskey=\"y\" href=\"/wiki/Special:MyContributions\" title=\"A list of edits made from this IP address [y]\"><span>Contributions</span></a></li><li class=\"mw-list-item\" id=\"pt-anontalk\"><a accesskey=\"n\" href=\"/wiki/Special:MyTalk\" title=\"Discussion about edits from this IP address [n]\"><span>Talk</span></a></li>\n",
       "</ul>\n",
       "</div>\n",
       "</div>\n",
       "</div>\n",
       "</div>\n",
       "</nav>\n",
       "</div>\n",
       "</header>"
      ]
     },
     "execution_count": 8,
     "metadata": {},
     "output_type": "execute_result"
    }
   ],
   "source": [
    "page3.find('header')"
   ]
  },
  {
   "cell_type": "markdown",
   "metadata": {},
   "source": [
    "# Exercise 4 : Checking For Page Title"
   ]
  },
  {
   "cell_type": "code",
   "execution_count": 9,
   "metadata": {
    "metadata": {}
   },
   "outputs": [],
   "source": [
    "# Writing a Python program to check whether a page contains a title or not.\n",
    "\n",
    "\n",
    "def checking_title(url):\n",
    "    re = requests.get(url)\n",
    "    page = BeautifulSoup(re.text, 'html')\n",
    "    if page.title != None:\n",
    "        return f\"The page {url} has a title: {page.title.text}\"\n",
    "    else:\n",
    "        return f\"The page {url} hasn't a title\""
   ]
  },
  {
   "cell_type": "code",
   "execution_count": 10,
   "metadata": {
    "metadata": {}
   },
   "outputs": [
    {
     "data": {
      "text/plain": [
       "'The page https://www.w3schools.com/python/python_sets_join.asp has a title: Python - Join Sets'"
      ]
     },
     "execution_count": 10,
     "metadata": {},
     "output_type": "execute_result"
    }
   ],
   "source": [
    "checking_title('https://www.w3schools.com/python/python_sets_join.asp')"
   ]
  },
  {
   "cell_type": "markdown",
   "metadata": {},
   "source": [
    "# Exercise 5 : Analyzing US-CERT Security Alerts"
   ]
  },
  {
   "cell_type": "code",
   "execution_count": null,
   "metadata": {
    "metadata": {}
   },
   "outputs": [],
   "source": []
  },
  {
   "cell_type": "markdown",
   "metadata": {},
   "source": [
    "# Exercise 6 : Scraping Movie Details"
   ]
  },
  {
   "cell_type": "code",
   "execution_count": 11,
   "metadata": {
    "metadata": {}
   },
   "outputs": [],
   "source": [
    "url6 = 'https://www.imdb.com/list/ls534888914/'\n",
    "responce = requests.get(url6)"
   ]
  },
  {
   "cell_type": "code",
   "execution_count": 12,
   "metadata": {
    "metadata": {}
   },
   "outputs": [
    {
     "data": {
      "text/plain": [
       "<Response [200]>"
      ]
     },
     "execution_count": 12,
     "metadata": {},
     "output_type": "execute_result"
    }
   ],
   "source": [
    "responce"
   ]
  },
  {
   "cell_type": "code",
   "execution_count": 13,
   "metadata": {
    "metadata": {}
   },
   "outputs": [],
   "source": [
    "page = BeautifulSoup(responce.text, 'html')"
   ]
  },
  {
   "cell_type": "code",
   "execution_count": 68,
   "metadata": {
    "metadata": {}
   },
   "outputs": [
    {
     "data": {
      "text/plain": [
       "[<h3 class=\"lister-item-header\">\n",
       " <span class=\"lister-item-index unbold text-primary\">1.</span>\n",
       " <a href=\"/title/tt0095765/\">Nuovo Cinema Paradiso</a>\n",
       " <span class=\"lister-item-year text-muted unbold\">(1988)</span>\n",
       " </h3>,\n",
       " <h3 class=\"lister-item-header\">\n",
       " <span class=\"lister-item-index unbold text-primary\">2.</span>\n",
       " <a href=\"/title/tt0109830/\">Forrest Gump</a>\n",
       " <span class=\"lister-item-year text-muted unbold\">(1994)</span>\n",
       " </h3>,\n",
       " <h3 class=\"lister-item-header\">\n",
       " <span class=\"lister-item-index unbold text-primary\">3.</span>\n",
       " <a href=\"/title/tt0064116/\">Once Upon a Time in the West</a>\n",
       " <span class=\"lister-item-year text-muted unbold\">(1968)</span>\n",
       " </h3>,\n",
       " <h3 class=\"lister-item-header\">\n",
       " <span class=\"lister-item-index unbold text-primary\">4.</span>\n",
       " <a href=\"/title/tt0038650/\">It's a Wonderful Life</a>\n",
       " <span class=\"lister-item-year text-muted unbold\">(1946)</span>\n",
       " </h3>,\n",
       " <h3 class=\"lister-item-header\">\n",
       " <span class=\"lister-item-index unbold text-primary\">5.</span>\n",
       " <a href=\"/title/tt0086879/\">Amadeus</a>\n",
       " <span class=\"lister-item-year text-muted unbold\">(1984)</span>\n",
       " </h3>,\n",
       " <h3 class=\"lister-item-header\">\n",
       " <span class=\"lister-item-index unbold text-primary\">6.</span>\n",
       " <a href=\"/title/tt0361748/\">Inglourious Basterds</a>\n",
       " <span class=\"lister-item-year text-muted unbold\">(2009)</span>\n",
       " </h3>,\n",
       " <h3 class=\"lister-item-header\">\n",
       " <span class=\"lister-item-index unbold text-primary\">7.</span>\n",
       " <a href=\"/title/tt0110912/\">Pulp Fiction</a>\n",
       " <span class=\"lister-item-year text-muted unbold\">(1994)</span>\n",
       " </h3>,\n",
       " <h3 class=\"lister-item-header\">\n",
       " <span class=\"lister-item-index unbold text-primary\">8.</span>\n",
       " <a href=\"/title/tt0253474/\">The Pianist</a>\n",
       " <span class=\"lister-item-year text-muted unbold\">(2002)</span>\n",
       " </h3>,\n",
       " <h3 class=\"lister-item-header\">\n",
       " <span class=\"lister-item-index unbold text-primary\">9.</span>\n",
       " <a href=\"/title/tt0051201/\">Witness for the Prosecution</a>\n",
       " <span class=\"lister-item-year text-muted unbold\">(1957)</span>\n",
       " </h3>,\n",
       " <h3 class=\"lister-item-header\">\n",
       " <span class=\"lister-item-index unbold text-primary\">10.</span>\n",
       " <a href=\"/title/tt0167260/\">The Lord of the Rings: The Return of the King</a>\n",
       " <span class=\"lister-item-year text-muted unbold\">(2003)</span>\n",
       " </h3>,\n",
       " <h3 class=\"lister-item-header\">\n",
       " <span class=\"lister-item-index unbold text-primary\">11.</span>\n",
       " <a href=\"/title/tt1375666/\">Inception</a>\n",
       " <span class=\"lister-item-year text-muted unbold\">(2010)</span>\n",
       " </h3>,\n",
       " <h3 class=\"lister-item-header\">\n",
       " <span class=\"lister-item-index unbold text-primary\">12.</span>\n",
       " <a href=\"/title/tt0082971/\">Raiders of the Lost Ark</a>\n",
       " <span class=\"lister-item-year text-muted unbold\">(1981)</span>\n",
       " </h3>,\n",
       " <h3 class=\"lister-item-header\">\n",
       " <span class=\"lister-item-index unbold text-primary\">13.</span>\n",
       " <a href=\"/title/tt0032553/\">The Great Dictator</a>\n",
       " <span class=\"lister-item-year text-muted unbold\">(1940)</span>\n",
       " </h3>,\n",
       " <h3 class=\"lister-item-header\">\n",
       " <span class=\"lister-item-index unbold text-primary\">14.</span>\n",
       " <a href=\"/title/tt0053125/\">North by Northwest</a>\n",
       " <span class=\"lister-item-year text-muted unbold\">(1959)</span>\n",
       " </h3>,\n",
       " <h3 class=\"lister-item-header\">\n",
       " <span class=\"lister-item-index unbold text-primary\">15.</span>\n",
       " <a href=\"/title/tt4633694/\">Spider-Man: Into the Spider-Verse</a>\n",
       " <span class=\"lister-item-year text-muted unbold\">(2018)</span>\n",
       " </h3>,\n",
       " <h3 class=\"lister-item-header\">\n",
       " <span class=\"lister-item-index unbold text-primary\">16.</span>\n",
       " <a href=\"/title/tt0133093/\">The Matrix</a>\n",
       " <span class=\"lister-item-year text-muted unbold\">(1999)</span>\n",
       " </h3>,\n",
       " <h3 class=\"lister-item-header\">\n",
       " <span class=\"lister-item-index unbold text-primary\">17.</span>\n",
       " <a href=\"/title/tt6751668/\">Gisaengchung</a>\n",
       " <span class=\"lister-item-year text-muted unbold\">(2019)</span>\n",
       " </h3>,\n",
       " <h3 class=\"lister-item-header\">\n",
       " <span class=\"lister-item-index unbold text-primary\">18.</span>\n",
       " <a href=\"/title/tt0044741/\">Ikiru</a>\n",
       " <span class=\"lister-item-year text-muted unbold\">(1952)</span>\n",
       " </h3>,\n",
       " <h3 class=\"lister-item-header\">\n",
       " <span class=\"lister-item-index unbold text-primary\">19.</span>\n",
       " <a href=\"/title/tt0090605/\">Aliens</a>\n",
       " <span class=\"lister-item-year text-muted unbold\">(1986)</span>\n",
       " </h3>,\n",
       " <h3 class=\"lister-item-header\">\n",
       " <span class=\"lister-item-index unbold text-primary\">20.</span>\n",
       " <a href=\"/title/tt0245429/\">Sen to Chihiro no kamikakushi</a>\n",
       " <span class=\"lister-item-year text-muted unbold\">(2001)</span>\n",
       " </h3>,\n",
       " <h3>List Activity</h3>,\n",
       " <h3>Tell Your Friends</h3>,\n",
       " <h3>\n",
       "                         Other Lists by theoneguyfromnowhere\n",
       "                 </h3>,\n",
       " <h3>Recently Viewed</h3>]"
      ]
     },
     "execution_count": 68,
     "metadata": {},
     "output_type": "execute_result"
    }
   ],
   "source": [
    "# lf film name and film year\n",
    "list = page.find_all('h3')\n",
    "list"
   ]
  },
  {
   "cell_type": "code",
   "execution_count": 18,
   "metadata": {
    "metadata": {}
   },
   "outputs": [
    {
     "name": "stdout",
     "output_type": "stream",
     "text": [
      "['1.\\nNuovo Cinema Paradiso\\n(1988)', '2.\\nForrest Gump\\n(1994)', '3.\\nOnce Upon a Time in the West\\n(1968)', \"4.\\nIt's a Wonderful Life\\n(1946)\", '5.\\nAmadeus\\n(1984)', '6.\\nInglourious Basterds\\n(2009)', '7.\\nPulp Fiction\\n(1994)', '8.\\nThe Pianist\\n(2002)', '9.\\nWitness for the Prosecution\\n(1957)', '10.\\nThe Lord of the Rings: The Return of the King\\n(2003)', '11.\\nInception\\n(2010)', '12.\\nRaiders of the Lost Ark\\n(1981)', '13.\\nThe Great Dictator\\n(1940)', '14.\\nNorth by Northwest\\n(1959)', '15.\\nSpider-Man: Into the Spider-Verse\\n(2018)', '16.\\nThe Matrix\\n(1999)', '17.\\nGisaengchung\\n(2019)', '18.\\nIkiru\\n(1952)', '19.\\nAliens\\n(1986)', '20.\\nSen to Chihiro no kamikakushi\\n(2001)', 'List Activity', 'Tell Your Friends', 'Other Lists by theoneguyfromnowhere', 'Recently Viewed']\n"
     ]
    }
   ],
   "source": [
    "list_names_years = [title.text.strip() for title in list]\n",
    "print(list_names_years)"
   ]
  },
  {
   "cell_type": "code",
   "execution_count": 37,
   "metadata": {
    "metadata": {}
   },
   "outputs": [
    {
     "name": "stdout",
     "output_type": "stream",
     "text": [
      "['1988', '1994', '1968', '1946', '1984', '2009', '1994', '2002', '1957', '2003', '2010', '1981', '1940', '1959', '2018', '1999', '2019', '1952', '1986', '2001']\n"
     ]
    }
   ],
   "source": [
    "film_year = [year[-5:-1] for year in list_names_years[:20]]\n",
    "print(film_year)"
   ]
  },
  {
   "cell_type": "code",
   "execution_count": 59,
   "metadata": {
    "metadata": {}
   },
   "outputs": [
    {
     "name": "stdout",
     "output_type": "stream",
     "text": [
      "['Nuovo Cinema Paradiso', 'Forrest Gump', 'Once Upon a Time in the West', \"It's a Wonderful Life\", 'Amadeus', 'Inglourious Basterds', 'Pulp Fiction', 'The Pianist', 'Witness for the Prosecution', 'The Lord of the Rings: The Return of the King', 'Inception', 'Raiders of the Lost Ark', 'The Great Dictator', 'North by Northwest', 'Spider-Man: Into the Spider-Verse', 'The Matrix', 'Gisaengchung', 'Ikiru', 'Aliens', 'Sen to Chihiro no kamikakushi']\n"
     ]
    }
   ],
   "source": [
    "film_name = [name.split('.')[1].strip()[0:-7] for name in list_names_years[:20]]\n",
    "print(film_name)"
   ]
  },
  {
   "cell_type": "code",
   "execution_count": 138,
   "metadata": {
    "metadata": {}
   },
   "outputs": [],
   "source": [
    "# lf for film summary\n",
    "list_summarys = page.find_all('p')\n",
    "film_summary = [summary.text.strip() for summary in list_summarys[2::4]]"
   ]
  },
  {
   "cell_type": "code",
   "execution_count": 139,
   "metadata": {
    "metadata": {}
   },
   "outputs": [
    {
     "name": "stdout",
     "output_type": "stream",
     "text": [
      "                                        film_name film_year  \\\n",
      "0                           Nuovo Cinema Paradiso      1988   \n",
      "1                                    Forrest Gump      1994   \n",
      "2                    Once Upon a Time in the West      1968   \n",
      "3                           It's a Wonderful Life      1946   \n",
      "4                                         Amadeus      1984   \n",
      "5                            Inglourious Basterds      2009   \n",
      "6                                    Pulp Fiction      1994   \n",
      "7                                     The Pianist      2002   \n",
      "8                     Witness for the Prosecution      1957   \n",
      "9   The Lord of the Rings: The Return of the King      2003   \n",
      "10                                      Inception      2010   \n",
      "11                        Raiders of the Lost Ark      1981   \n",
      "12                             The Great Dictator      1940   \n",
      "13                             North by Northwest      1959   \n",
      "14              Spider-Man: Into the Spider-Verse      2018   \n",
      "15                                     The Matrix      1999   \n",
      "16                                   Gisaengchung      2019   \n",
      "17                                          Ikiru      1952   \n",
      "18                                         Aliens      1986   \n",
      "19                  Sen to Chihiro no kamikakushi      2001   \n",
      "\n",
      "                                         film_summary  \n",
      "0   A filmmaker recalls his childhood when falling...  \n",
      "1   The history of the United States from the 1950...  \n",
      "2   A mysterious stranger with a harmonica joins f...  \n",
      "3   An angel is sent from Heaven to help a despera...  \n",
      "4   The life, success and troubles of Wolfgang Ama...  \n",
      "5   In Nazi-occupied France during World War II, a...  \n",
      "6   The lives of two mob hitmen, a boxer, a gangst...  \n",
      "7   During WWII, acclaimed Polish musician Wladysl...  \n",
      "8   A veteran British barrister must defend his cl...  \n",
      "9   Gandalf and Aragorn lead the World of Men agai...  \n",
      "10  A thief who steals corporate secrets through t...  \n",
      "11  In 1936, archaeologist and adventurer Indiana ...  \n",
      "12  Dictator Adenoid Hynkel tries to expand his em...  \n",
      "13  A New York City advertising executive goes on ...  \n",
      "14  Teen Miles Morales becomes the Spider-Man of h...  \n",
      "15  When a beautiful stranger leads computer hacke...  \n",
      "16  Greed and class discrimination threaten the ne...  \n",
      "17  A bureaucrat tries to find meaning in his life...  \n",
      "18  Decades after surviving the Nostromo incident,...  \n",
      "19  During her family's move to the suburbs, a sul...  \n"
     ]
    }
   ],
   "source": [
    "df_films = pd.DataFrame(columns=['film_name', 'film_year', 'film_summary'])\n",
    "df_films['film_name'] = film_name\n",
    "df_films['film_year'] = film_year\n",
    "df_films['film_summary'] = film_summary\n",
    "print(df_films)"
   ]
  },
  {
   "cell_type": "markdown",
   "metadata": {},
   "source": [
    "# "
   ]
  }
 ],
 "metadata": {
  "kernelspec": {
   "display_name": "Python 3",
   "language": "python",
   "name": "python3"
  },
  "language_info": {
   "codemirror_mode": {
    "name": "ipython",
    "version": 3
   },
   "file_extension": ".py",
   "mimetype": "text/x-python",
   "name": "python",
   "nbconvert_exporter": "python",
   "pygments_lexer": "ipython3",
   "version": "3.12.1"
  }
 },
 "nbformat": 4,
 "nbformat_minor": 2
}
