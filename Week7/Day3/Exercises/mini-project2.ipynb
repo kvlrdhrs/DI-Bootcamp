{
 "cells": [
  {
   "cell_type": "code",
   "execution_count": 10,
   "metadata": {
    "metadata": {}
   },
   "outputs": [],
   "source": [
    "from selenium import webdriver\n",
    "from selenium.webdriver.common.by import By\n",
    "# from selenium.common.exceptions import NoSuchElementException\n",
    "import time\n",
    "import pandas as pd\n",
    "from bs4 import BeautifulSoup"
   ]
  },
  {
   "cell_type": "code",
   "execution_count": 2,
   "metadata": {
    "metadata": {}
   },
   "outputs": [],
   "source": [
    "url = 'https://www.scrapethissite.com/pages/frames/'\n",
    "driver = webdriver.Chrome()\n",
    "driver.get(url)\n",
    "driver.implicitly_wait(4)"
   ]
  },
  {
   "cell_type": "code",
   "execution_count": 3,
   "metadata": {
    "metadata": {}
   },
   "outputs": [],
   "source": [
    "# Switch to the iframe\n",
    "\n",
    "# //*[@id=\"iframe\"] - path for iframe\n",
    "# /html/body/div[1]/div[1]/h3 - path for turtle_name\n",
    "\n",
    "driver.switch_to.default_content()\n",
    "iframe = driver.find_element(By.XPATH, '//*[@id=\"iframe\"]')\n",
    "driver.switch_to.frame(iframe)"
   ]
  },
  {
   "cell_type": "code",
   "execution_count": 14,
   "metadata": {
    "metadata": {}
   },
   "outputs": [
    {
     "name": "stdout",
     "output_type": "stream",
     "text": [
      "[]\n"
     ]
    }
   ],
   "source": [
    "soup = BeautifulSoup(driver.page_source, 'html')\n",
    "turtles = driver.find_elements(By.CLASS_NAME, 'col-md-4 turtle-family-card')\n",
    "\n"
   ]
  },
  {
   "cell_type": "code",
   "execution_count": 6,
   "metadata": {
    "metadata": {}
   },
   "outputs": [],
   "source": [
    "# for i in range(13):\n",
    "#     driver.switch_to.default_content()\n",
    "#     # Find the iframe by its ID or name (or other attributes like index)\n",
    "#     iframe = driver.find_element(By.ID, 'iframe')\n",
    "#     # Switch to the iframe\n",
    "#     driver.switch_to.frame(iframe)\n",
    "#     links = driver.find_elements(By.CLASS_NAME, 'btn.btn-default.btn-xs')\n",
    "#     print(links[i].text)\n",
    "#     links[i].click()\n",
    "#     time.sleep(5)\n",
    "#     backlink = driver.find_element(By.CLASS_NAME, 'btn.btn-default.btn-xs')\n",
    "#     backlink.click()\n",
    "#     time.sleep(5)"
   ]
  },
  {
   "cell_type": "code",
   "execution_count": 7,
   "metadata": {
    "metadata": {}
   },
   "outputs": [],
   "source": [
    "# driver.quit()"
   ]
  }
 ],
 "metadata": {
  "kernelspec": {
   "display_name": "Python 3",
   "language": "python",
   "name": "python3"
  },
  "language_info": {
   "codemirror_mode": {
    "name": "ipython",
    "version": 3
   },
   "file_extension": ".py",
   "mimetype": "text/x-python",
   "name": "python",
   "nbconvert_exporter": "python",
   "pygments_lexer": "ipython3",
   "version": "3.12.1"
  }
 },
 "nbformat": 4,
 "nbformat_minor": 2
}
