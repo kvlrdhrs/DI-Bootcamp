{
 "cells": [
  {
   "cell_type": "code",
   "execution_count": 1,
   "metadata": {
    "metadata": {}
   },
   "outputs": [],
   "source": [
    "from selenium import webdriver\n",
    "from selenium.webdriver.common.by import By\n",
    "# from selenium.common.exceptions import NoSuchElementException\n",
    "import time\n",
    "import pandas as pd\n",
    "from bs4 import BeautifulSoup"
   ]
  },
  {
   "cell_type": "code",
   "execution_count": 2,
   "metadata": {
    "metadata": {}
   },
   "outputs": [],
   "source": [
    "url = 'https://www.scrapethissite.com/pages/frames/'\n",
    "driver = webdriver.Chrome()\n",
    "driver.get(url)\n",
    "driver.implicitly_wait(4)"
   ]
  },
  {
   "cell_type": "code",
   "execution_count": 3,
   "metadata": {
    "metadata": {}
   },
   "outputs": [],
   "source": [
    "# Switch to the iframe\n",
    "\n",
    "# //*[@id=\"iframe\"] - path for iframe\n",
    "# /html/body/div[1]/div[1]/h3 - path for turtle_name\n",
    "\n",
    "driver.switch_to.default_content()\n",
    "iframe = driver.find_element(By.XPATH, '//*[@id=\"iframe\"]')\n",
    "driver.switch_to.frame(iframe)"
   ]
  },
  {
   "cell_type": "code",
   "execution_count": 4,
   "metadata": {
    "metadata": {}
   },
   "outputs": [],
   "source": [
    "soup = BeautifulSoup(driver.page_source, 'html')\n",
    "turtles = driver.find_elements(By.CLASS_NAME, 'col-md-4 turtle-family-card')\n",
    "\n"
   ]
  },
  {
   "cell_type": "code",
   "execution_count": 5,
   "metadata": {
    "metadata": {}
   },
   "outputs": [
    {
     "name": "stdout",
     "output_type": "stream",
     "text": [
      "Learn more →\n",
      "Learn more →\n",
      "Learn more →\n"
     ]
    },
    {
     "ename": "NoSuchWindowException",
     "evalue": "Message: no such window: target window already closed\nfrom unknown error: web view not found\n  (Session info: chrome=125.0.6422.142)\nStacktrace:\n\tGetHandleVerifier [0x00007FF67B441F52+60322]\n\t(No symbol) [0x00007FF67B3BCEC9]\n\t(No symbol) [0x00007FF67B277EBA]\n\t(No symbol) [0x00007FF67B24D5A5]\n\t(No symbol) [0x00007FF67B2F36B7]\n\t(No symbol) [0x00007FF67B30B331]\n\t(No symbol) [0x00007FF67B2EBFC3]\n\t(No symbol) [0x00007FF67B2B9617]\n\t(No symbol) [0x00007FF67B2BA211]\n\tGetHandleVerifier [0x00007FF67B7594AD+3301629]\n\tGetHandleVerifier [0x00007FF67B7A36D3+3605283]\n\tGetHandleVerifier [0x00007FF67B799450+3563680]\n\tGetHandleVerifier [0x00007FF67B4F4326+790390]\n\t(No symbol) [0x00007FF67B3C750F]\n\t(No symbol) [0x00007FF67B3C3404]\n\t(No symbol) [0x00007FF67B3C3592]\n\t(No symbol) [0x00007FF67B3B2F9F]\n\tBaseThreadInitThunk [0x00007FF82832257D+29]\n\tRtlUserThreadStart [0x00007FF829A0AA48+40]\n",
     "output_type": "error",
     "traceback": [
      "\u001b[1;31m---------------------------------------------------------------------------\u001b[0m",
      "\u001b[1;31mNoSuchWindowException\u001b[0m                     Traceback (most recent call last)",
      "Cell \u001b[1;32mIn[5], line 2\u001b[0m\n\u001b[0;32m      1\u001b[0m \u001b[38;5;28;01mfor\u001b[39;00m i \u001b[38;5;129;01min\u001b[39;00m \u001b[38;5;28mrange\u001b[39m(\u001b[38;5;241m13\u001b[39m):\n\u001b[1;32m----> 2\u001b[0m     \u001b[43mdriver\u001b[49m\u001b[38;5;241;43m.\u001b[39;49m\u001b[43mswitch_to\u001b[49m\u001b[38;5;241;43m.\u001b[39;49m\u001b[43mdefault_content\u001b[49m\u001b[43m(\u001b[49m\u001b[43m)\u001b[49m\n\u001b[0;32m      3\u001b[0m     \u001b[38;5;66;03m# Find the iframe by its ID or name (or other attributes like index)\u001b[39;00m\n\u001b[0;32m      4\u001b[0m     iframe \u001b[38;5;241m=\u001b[39m driver\u001b[38;5;241m.\u001b[39mfind_element(By\u001b[38;5;241m.\u001b[39mID, \u001b[38;5;124m'\u001b[39m\u001b[38;5;124miframe\u001b[39m\u001b[38;5;124m'\u001b[39m)\n",
      "File \u001b[1;32mc:\\Users\\kyana\\AppData\\Local\\Programs\\Python\\Python312\\Lib\\site-packages\\selenium\\webdriver\\remote\\switch_to.py:69\u001b[0m, in \u001b[0;36mSwitchTo.default_content\u001b[1;34m(self)\u001b[0m\n\u001b[0;32m     61\u001b[0m \u001b[38;5;28;01mdef\u001b[39;00m \u001b[38;5;21mdefault_content\u001b[39m(\u001b[38;5;28mself\u001b[39m) \u001b[38;5;241m-\u001b[39m\u001b[38;5;241m>\u001b[39m \u001b[38;5;28;01mNone\u001b[39;00m:\n\u001b[0;32m     62\u001b[0m \u001b[38;5;250m    \u001b[39m\u001b[38;5;124;03m\"\"\"Switch focus to the default frame.\u001b[39;00m\n\u001b[0;32m     63\u001b[0m \n\u001b[0;32m     64\u001b[0m \u001b[38;5;124;03m    :Usage:\u001b[39;00m\n\u001b[1;32m   (...)\u001b[0m\n\u001b[0;32m     67\u001b[0m \u001b[38;5;124;03m            driver.switch_to.default_content()\u001b[39;00m\n\u001b[0;32m     68\u001b[0m \u001b[38;5;124;03m    \"\"\"\u001b[39;00m\n\u001b[1;32m---> 69\u001b[0m     \u001b[38;5;28;43mself\u001b[39;49m\u001b[38;5;241;43m.\u001b[39;49m\u001b[43m_driver\u001b[49m\u001b[38;5;241;43m.\u001b[39;49m\u001b[43mexecute\u001b[49m\u001b[43m(\u001b[49m\u001b[43mCommand\u001b[49m\u001b[38;5;241;43m.\u001b[39;49m\u001b[43mSWITCH_TO_FRAME\u001b[49m\u001b[43m,\u001b[49m\u001b[43m \u001b[49m\u001b[43m{\u001b[49m\u001b[38;5;124;43m\"\u001b[39;49m\u001b[38;5;124;43mid\u001b[39;49m\u001b[38;5;124;43m\"\u001b[39;49m\u001b[43m:\u001b[49m\u001b[43m \u001b[49m\u001b[38;5;28;43;01mNone\u001b[39;49;00m\u001b[43m}\u001b[49m\u001b[43m)\u001b[49m\n",
      "File \u001b[1;32mc:\\Users\\kyana\\AppData\\Local\\Programs\\Python\\Python312\\Lib\\site-packages\\selenium\\webdriver\\remote\\webdriver.py:347\u001b[0m, in \u001b[0;36mWebDriver.execute\u001b[1;34m(self, driver_command, params)\u001b[0m\n\u001b[0;32m    345\u001b[0m response \u001b[38;5;241m=\u001b[39m \u001b[38;5;28mself\u001b[39m\u001b[38;5;241m.\u001b[39mcommand_executor\u001b[38;5;241m.\u001b[39mexecute(driver_command, params)\n\u001b[0;32m    346\u001b[0m \u001b[38;5;28;01mif\u001b[39;00m response:\n\u001b[1;32m--> 347\u001b[0m     \u001b[38;5;28;43mself\u001b[39;49m\u001b[38;5;241;43m.\u001b[39;49m\u001b[43merror_handler\u001b[49m\u001b[38;5;241;43m.\u001b[39;49m\u001b[43mcheck_response\u001b[49m\u001b[43m(\u001b[49m\u001b[43mresponse\u001b[49m\u001b[43m)\u001b[49m\n\u001b[0;32m    348\u001b[0m     response[\u001b[38;5;124m\"\u001b[39m\u001b[38;5;124mvalue\u001b[39m\u001b[38;5;124m\"\u001b[39m] \u001b[38;5;241m=\u001b[39m \u001b[38;5;28mself\u001b[39m\u001b[38;5;241m.\u001b[39m_unwrap_value(response\u001b[38;5;241m.\u001b[39mget(\u001b[38;5;124m\"\u001b[39m\u001b[38;5;124mvalue\u001b[39m\u001b[38;5;124m\"\u001b[39m, \u001b[38;5;28;01mNone\u001b[39;00m))\n\u001b[0;32m    349\u001b[0m     \u001b[38;5;28;01mreturn\u001b[39;00m response\n",
      "File \u001b[1;32mc:\\Users\\kyana\\AppData\\Local\\Programs\\Python\\Python312\\Lib\\site-packages\\selenium\\webdriver\\remote\\errorhandler.py:229\u001b[0m, in \u001b[0;36mErrorHandler.check_response\u001b[1;34m(self, response)\u001b[0m\n\u001b[0;32m    227\u001b[0m         alert_text \u001b[38;5;241m=\u001b[39m value[\u001b[38;5;124m\"\u001b[39m\u001b[38;5;124malert\u001b[39m\u001b[38;5;124m\"\u001b[39m]\u001b[38;5;241m.\u001b[39mget(\u001b[38;5;124m\"\u001b[39m\u001b[38;5;124mtext\u001b[39m\u001b[38;5;124m\"\u001b[39m)\n\u001b[0;32m    228\u001b[0m     \u001b[38;5;28;01mraise\u001b[39;00m exception_class(message, screen, stacktrace, alert_text)  \u001b[38;5;66;03m# type: ignore[call-arg]  # mypy is not smart enough here\u001b[39;00m\n\u001b[1;32m--> 229\u001b[0m \u001b[38;5;28;01mraise\u001b[39;00m exception_class(message, screen, stacktrace)\n",
      "\u001b[1;31mNoSuchWindowException\u001b[0m: Message: no such window: target window already closed\nfrom unknown error: web view not found\n  (Session info: chrome=125.0.6422.142)\nStacktrace:\n\tGetHandleVerifier [0x00007FF67B441F52+60322]\n\t(No symbol) [0x00007FF67B3BCEC9]\n\t(No symbol) [0x00007FF67B277EBA]\n\t(No symbol) [0x00007FF67B24D5A5]\n\t(No symbol) [0x00007FF67B2F36B7]\n\t(No symbol) [0x00007FF67B30B331]\n\t(No symbol) [0x00007FF67B2EBFC3]\n\t(No symbol) [0x00007FF67B2B9617]\n\t(No symbol) [0x00007FF67B2BA211]\n\tGetHandleVerifier [0x00007FF67B7594AD+3301629]\n\tGetHandleVerifier [0x00007FF67B7A36D3+3605283]\n\tGetHandleVerifier [0x00007FF67B799450+3563680]\n\tGetHandleVerifier [0x00007FF67B4F4326+790390]\n\t(No symbol) [0x00007FF67B3C750F]\n\t(No symbol) [0x00007FF67B3C3404]\n\t(No symbol) [0x00007FF67B3C3592]\n\t(No symbol) [0x00007FF67B3B2F9F]\n\tBaseThreadInitThunk [0x00007FF82832257D+29]\n\tRtlUserThreadStart [0x00007FF829A0AA48+40]\n"
     ]
    }
   ],
   "source": [
    "for i in range(13):\n",
    "    driver.switch_to.default_content()\n",
    "    # Find the iframe by its ID or name (or other attributes like index)\n",
    "    iframe = driver.find_element(By.ID, 'iframe')\n",
    "    # Switch to the iframe\n",
    "    driver.switch_to.frame(iframe)\n",
    "    links = driver.find_elements(By.CLASS_NAME, 'btn.btn-default.btn-xs')\n",
    "    print(links[i].text)\n",
    "    links[i].click()\n",
    "    time.sleep(5)\n",
    "    backlink = driver.find_element(By.CLASS_NAME, 'btn.btn-default.btn-xs')\n",
    "    backlink.click()\n",
    "    time.sleep(5)"
   ]
  },
  {
   "cell_type": "code",
   "execution_count": null,
   "metadata": {
    "metadata": {}
   },
   "outputs": [],
   "source": [
    "driver.quit()"
   ]
  }
 ],
 "metadata": {
  "kernelspec": {
   "display_name": "Python 3",
   "language": "python",
   "name": "python3"
  },
  "language_info": {
   "codemirror_mode": {
    "name": "ipython",
    "version": 3
   },
   "file_extension": ".py",
   "mimetype": "text/x-python",
   "name": "python",
   "nbconvert_exporter": "python",
   "pygments_lexer": "ipython3",
   "version": "3.12.1"
  }
 },
 "nbformat": 4,
 "nbformat_minor": 2
}
