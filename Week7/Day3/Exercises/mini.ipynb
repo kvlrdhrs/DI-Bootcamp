{
 "cells": [
  {
   "cell_type": "code",
   "execution_count": 1,
   "metadata": {
    "metadata": {}
   },
   "outputs": [],
   "source": [
    "from selenium import webdriver\n",
    "from selenium.webdriver.common.by import By\n",
    "from selenium.common.exceptions import NoSuchElementException\n",
    "\n",
    "import pandas as pd"
   ]
  },
  {
   "cell_type": "code",
   "execution_count": 2,
   "metadata": {
    "metadata": {}
   },
   "outputs": [],
   "source": [
    "url = 'https://www.inmotionhosting.com/'\n",
    "driver = webdriver.Chrome()\n",
    "driver.get(url)\n",
    "driver.implicitly_wait(4)"
   ]
  },
  {
   "cell_type": "code",
   "execution_count": 3,
   "metadata": {
    "metadata": {}
   },
   "outputs": [],
   "source": [
    "host_plans_details = driver.find_elements(By.CLASS_NAME, 'imh-rostrum-card')"
   ]
  },
  {
   "cell_type": "code",
   "execution_count": 16,
   "metadata": {
    "metadata": {}
   },
   "outputs": [
    {
     "ename": "NoSuchElementException",
     "evalue": "Message: no such element: Unable to locate element: {\"method\":\"xpath\",\"selector\":\".//div[2]/div[1]/div\"}\n  (Session info: chrome=123.0.6312.123); For documentation on this error, please visit: https://www.selenium.dev/documentation/webdriver/troubleshooting/errors#no-such-element-exception\nStacktrace:\n\tGetHandleVerifier [0x00007FF74F667032+63090]\n\t(No symbol) [0x00007FF74F5D2C82]\n\t(No symbol) [0x00007FF74F46EC65]\n\t(No symbol) [0x00007FF74F4B499D]\n\t(No symbol) [0x00007FF74F4B4ADC]\n\t(No symbol) [0x00007FF74F4AA0AC]\n\t(No symbol) [0x00007FF74F4D701F]\n\t(No symbol) [0x00007FF74F4AA00A]\n\t(No symbol) [0x00007FF74F4D71F0]\n\t(No symbol) [0x00007FF74F4F3412]\n\t(No symbol) [0x00007FF74F4D6D83]\n\t(No symbol) [0x00007FF74F4A83A8]\n\t(No symbol) [0x00007FF74F4A9441]\n\tGetHandleVerifier [0x00007FF74FA625AD+4238317]\n\tGetHandleVerifier [0x00007FF74FA9F70D+4488525]\n\tGetHandleVerifier [0x00007FF74FA979EF+4456495]\n\tGetHandleVerifier [0x00007FF74F740576+953270]\n\t(No symbol) [0x00007FF74F5DE54F]\n\t(No symbol) [0x00007FF74F5D9224]\n\t(No symbol) [0x00007FF74F5D935B]\n\t(No symbol) [0x00007FF74F5C9B94]\n\tBaseThreadInitThunk [0x00007FF972D6257D+29]\n\tRtlUserThreadStart [0x00007FF97434AA48+40]\n",
     "output_type": "error",
     "traceback": [
      "\u001b[1;31m---------------------------------------------------------------------------\u001b[0m",
      "\u001b[1;31mNoSuchElementException\u001b[0m                    Traceback (most recent call last)",
      "Cell \u001b[1;32mIn[16], line 5\u001b[0m\n\u001b[0;32m      3\u001b[0m plan_name \u001b[38;5;241m=\u001b[39m plan\u001b[38;5;241m.\u001b[39mfind_element(By\u001b[38;5;241m.\u001b[39mXPATH, \u001b[38;5;124m'\u001b[39m\u001b[38;5;124m.//h3\u001b[39m\u001b[38;5;124m'\u001b[39m)\u001b[38;5;241m.\u001b[39mtext\n\u001b[0;32m      4\u001b[0m plan_features \u001b[38;5;241m=\u001b[39m plan\u001b[38;5;241m.\u001b[39mfind_element(By\u001b[38;5;241m.\u001b[39mXPATH, \u001b[38;5;124m'\u001b[39m\u001b[38;5;124m.//div[1]\u001b[39m\u001b[38;5;124m'\u001b[39m)\u001b[38;5;241m.\u001b[39mtext\n\u001b[1;32m----> 5\u001b[0m plan_price \u001b[38;5;241m=\u001b[39m  \u001b[43mplan\u001b[49m\u001b[38;5;241;43m.\u001b[39;49m\u001b[43mfind_element\u001b[49m\u001b[43m(\u001b[49m\u001b[43mBy\u001b[49m\u001b[38;5;241;43m.\u001b[39;49m\u001b[43mXPATH\u001b[49m\u001b[43m,\u001b[49m\u001b[43m \u001b[49m\u001b[38;5;124;43m'\u001b[39;49m\u001b[38;5;124;43m.//div[2]/div[1]/div\u001b[39;49m\u001b[38;5;124;43m'\u001b[39;49m\u001b[43m)\u001b[49m\u001b[38;5;241m.\u001b[39mtext\n\u001b[0;32m      7\u001b[0m plan_item \u001b[38;5;241m=\u001b[39m {\n\u001b[0;32m      8\u001b[0m     \u001b[38;5;124m'\u001b[39m\u001b[38;5;124mName\u001b[39m\u001b[38;5;124m'\u001b[39m: plan_name,\n\u001b[0;32m      9\u001b[0m     \u001b[38;5;124m'\u001b[39m\u001b[38;5;124mFeature\u001b[39m\u001b[38;5;124m'\u001b[39m: plan_features,\n\u001b[0;32m     10\u001b[0m     \u001b[38;5;124m'\u001b[39m\u001b[38;5;124mPrice\u001b[39m\u001b[38;5;124m'\u001b[39m: plan_price\n\u001b[0;32m     11\u001b[0m }\n\u001b[0;32m     12\u001b[0m plan_list\u001b[38;5;241m.\u001b[39mappend(plan_item)\n",
      "File \u001b[1;32mc:\\Users\\kyana\\AppData\\Local\\Programs\\Python\\Python312\\Lib\\site-packages\\selenium\\webdriver\\remote\\webelement.py:417\u001b[0m, in \u001b[0;36mWebElement.find_element\u001b[1;34m(self, by, value)\u001b[0m\n\u001b[0;32m    414\u001b[0m     by \u001b[38;5;241m=\u001b[39m By\u001b[38;5;241m.\u001b[39mCSS_SELECTOR\n\u001b[0;32m    415\u001b[0m     value \u001b[38;5;241m=\u001b[39m \u001b[38;5;124mf\u001b[39m\u001b[38;5;124m'\u001b[39m\u001b[38;5;124m[name=\u001b[39m\u001b[38;5;124m\"\u001b[39m\u001b[38;5;132;01m{\u001b[39;00mvalue\u001b[38;5;132;01m}\u001b[39;00m\u001b[38;5;124m\"\u001b[39m\u001b[38;5;124m]\u001b[39m\u001b[38;5;124m'\u001b[39m\n\u001b[1;32m--> 417\u001b[0m \u001b[38;5;28;01mreturn\u001b[39;00m \u001b[38;5;28;43mself\u001b[39;49m\u001b[38;5;241;43m.\u001b[39;49m\u001b[43m_execute\u001b[49m\u001b[43m(\u001b[49m\u001b[43mCommand\u001b[49m\u001b[38;5;241;43m.\u001b[39;49m\u001b[43mFIND_CHILD_ELEMENT\u001b[49m\u001b[43m,\u001b[49m\u001b[43m \u001b[49m\u001b[43m{\u001b[49m\u001b[38;5;124;43m\"\u001b[39;49m\u001b[38;5;124;43musing\u001b[39;49m\u001b[38;5;124;43m\"\u001b[39;49m\u001b[43m:\u001b[49m\u001b[43m \u001b[49m\u001b[43mby\u001b[49m\u001b[43m,\u001b[49m\u001b[43m \u001b[49m\u001b[38;5;124;43m\"\u001b[39;49m\u001b[38;5;124;43mvalue\u001b[39;49m\u001b[38;5;124;43m\"\u001b[39;49m\u001b[43m:\u001b[49m\u001b[43m \u001b[49m\u001b[43mvalue\u001b[49m\u001b[43m}\u001b[49m\u001b[43m)\u001b[49m[\u001b[38;5;124m\"\u001b[39m\u001b[38;5;124mvalue\u001b[39m\u001b[38;5;124m\"\u001b[39m]\n",
      "File \u001b[1;32mc:\\Users\\kyana\\AppData\\Local\\Programs\\Python\\Python312\\Lib\\site-packages\\selenium\\webdriver\\remote\\webelement.py:395\u001b[0m, in \u001b[0;36mWebElement._execute\u001b[1;34m(self, command, params)\u001b[0m\n\u001b[0;32m    393\u001b[0m     params \u001b[38;5;241m=\u001b[39m {}\n\u001b[0;32m    394\u001b[0m params[\u001b[38;5;124m\"\u001b[39m\u001b[38;5;124mid\u001b[39m\u001b[38;5;124m\"\u001b[39m] \u001b[38;5;241m=\u001b[39m \u001b[38;5;28mself\u001b[39m\u001b[38;5;241m.\u001b[39m_id\n\u001b[1;32m--> 395\u001b[0m \u001b[38;5;28;01mreturn\u001b[39;00m \u001b[38;5;28;43mself\u001b[39;49m\u001b[38;5;241;43m.\u001b[39;49m\u001b[43m_parent\u001b[49m\u001b[38;5;241;43m.\u001b[39;49m\u001b[43mexecute\u001b[49m\u001b[43m(\u001b[49m\u001b[43mcommand\u001b[49m\u001b[43m,\u001b[49m\u001b[43m \u001b[49m\u001b[43mparams\u001b[49m\u001b[43m)\u001b[49m\n",
      "File \u001b[1;32mc:\\Users\\kyana\\AppData\\Local\\Programs\\Python\\Python312\\Lib\\site-packages\\selenium\\webdriver\\remote\\webdriver.py:347\u001b[0m, in \u001b[0;36mWebDriver.execute\u001b[1;34m(self, driver_command, params)\u001b[0m\n\u001b[0;32m    345\u001b[0m response \u001b[38;5;241m=\u001b[39m \u001b[38;5;28mself\u001b[39m\u001b[38;5;241m.\u001b[39mcommand_executor\u001b[38;5;241m.\u001b[39mexecute(driver_command, params)\n\u001b[0;32m    346\u001b[0m \u001b[38;5;28;01mif\u001b[39;00m response:\n\u001b[1;32m--> 347\u001b[0m     \u001b[38;5;28;43mself\u001b[39;49m\u001b[38;5;241;43m.\u001b[39;49m\u001b[43merror_handler\u001b[49m\u001b[38;5;241;43m.\u001b[39;49m\u001b[43mcheck_response\u001b[49m\u001b[43m(\u001b[49m\u001b[43mresponse\u001b[49m\u001b[43m)\u001b[49m\n\u001b[0;32m    348\u001b[0m     response[\u001b[38;5;124m\"\u001b[39m\u001b[38;5;124mvalue\u001b[39m\u001b[38;5;124m\"\u001b[39m] \u001b[38;5;241m=\u001b[39m \u001b[38;5;28mself\u001b[39m\u001b[38;5;241m.\u001b[39m_unwrap_value(response\u001b[38;5;241m.\u001b[39mget(\u001b[38;5;124m\"\u001b[39m\u001b[38;5;124mvalue\u001b[39m\u001b[38;5;124m\"\u001b[39m, \u001b[38;5;28;01mNone\u001b[39;00m))\n\u001b[0;32m    349\u001b[0m     \u001b[38;5;28;01mreturn\u001b[39;00m response\n",
      "File \u001b[1;32mc:\\Users\\kyana\\AppData\\Local\\Programs\\Python\\Python312\\Lib\\site-packages\\selenium\\webdriver\\remote\\errorhandler.py:229\u001b[0m, in \u001b[0;36mErrorHandler.check_response\u001b[1;34m(self, response)\u001b[0m\n\u001b[0;32m    227\u001b[0m         alert_text \u001b[38;5;241m=\u001b[39m value[\u001b[38;5;124m\"\u001b[39m\u001b[38;5;124malert\u001b[39m\u001b[38;5;124m\"\u001b[39m]\u001b[38;5;241m.\u001b[39mget(\u001b[38;5;124m\"\u001b[39m\u001b[38;5;124mtext\u001b[39m\u001b[38;5;124m\"\u001b[39m)\n\u001b[0;32m    228\u001b[0m     \u001b[38;5;28;01mraise\u001b[39;00m exception_class(message, screen, stacktrace, alert_text)  \u001b[38;5;66;03m# type: ignore[call-arg]  # mypy is not smart enough here\u001b[39;00m\n\u001b[1;32m--> 229\u001b[0m \u001b[38;5;28;01mraise\u001b[39;00m exception_class(message, screen, stacktrace)\n",
      "\u001b[1;31mNoSuchElementException\u001b[0m: Message: no such element: Unable to locate element: {\"method\":\"xpath\",\"selector\":\".//div[2]/div[1]/div\"}\n  (Session info: chrome=123.0.6312.123); For documentation on this error, please visit: https://www.selenium.dev/documentation/webdriver/troubleshooting/errors#no-such-element-exception\nStacktrace:\n\tGetHandleVerifier [0x00007FF74F667032+63090]\n\t(No symbol) [0x00007FF74F5D2C82]\n\t(No symbol) [0x00007FF74F46EC65]\n\t(No symbol) [0x00007FF74F4B499D]\n\t(No symbol) [0x00007FF74F4B4ADC]\n\t(No symbol) [0x00007FF74F4AA0AC]\n\t(No symbol) [0x00007FF74F4D701F]\n\t(No symbol) [0x00007FF74F4AA00A]\n\t(No symbol) [0x00007FF74F4D71F0]\n\t(No symbol) [0x00007FF74F4F3412]\n\t(No symbol) [0x00007FF74F4D6D83]\n\t(No symbol) [0x00007FF74F4A83A8]\n\t(No symbol) [0x00007FF74F4A9441]\n\tGetHandleVerifier [0x00007FF74FA625AD+4238317]\n\tGetHandleVerifier [0x00007FF74FA9F70D+4488525]\n\tGetHandleVerifier [0x00007FF74FA979EF+4456495]\n\tGetHandleVerifier [0x00007FF74F740576+953270]\n\t(No symbol) [0x00007FF74F5DE54F]\n\t(No symbol) [0x00007FF74F5D9224]\n\t(No symbol) [0x00007FF74F5D935B]\n\t(No symbol) [0x00007FF74F5C9B94]\n\tBaseThreadInitThunk [0x00007FF972D6257D+29]\n\tRtlUserThreadStart [0x00007FF97434AA48+40]\n"
     ]
    }
   ],
   "source": [
    "plan_list = []\n",
    "for plan in host_plans_details:\n",
    "    plan_name = plan.find_element(By.XPATH, './/h3').text\n",
    "    plan_features = plan.find_element(By.XPATH, './/div[1]').text\n",
    "    plan_price =  plan.find_element(By.XPATH, './/div[2]/div[1]/div').text\n",
    "\n",
    "    plan_item = {\n",
    "        'Name': plan_name,\n",
    "        'Feature': plan_features,\n",
    "        'Price': plan_price\n",
    "    }\n",
    "    plan_list.append(plan_item)"
   ]
  },
  {
   "cell_type": "code",
   "execution_count": 13,
   "metadata": {
    "metadata": {}
   },
   "outputs": [
    {
     "name": "stdout",
     "output_type": "stream",
     "text": [
      "[{'Name': 'Shared Hosting', 'Feature': 'Cost effective and fast for small businesses', 'Price': ''}, {'Name': 'VPS Hosting', 'Feature': 'For high traffic sites and larger businesses', 'Price': '$14.99/mo'}, {'Name': 'Dedicated Hosting', 'Feature': 'For the largest sites and custom deployments', 'Price': '$69.99/mo'}, {'Name': 'cPanel WordPress', 'Feature': 'Expertly tuned hosting with cPanel', 'Price': '$3.99/mo'}, {'Name': 'Platform i Cloud', 'Feature': 'Next generation managed WordPress', 'Price': '$9.00/mo'}, {'Name': 'Shared Hosting', 'Feature': 'Starting at\\n$2.99/mo\\n$9.49/mo\\nCompare Plans', 'Price': 'Not available'}, {'Name': 'WordPress Hosting', 'Feature': 'Starting at\\n$3.99/mo\\n$12.99/mo\\nCompare Plans', 'Price': 'Not available'}, {'Name': 'VPS Hosting', 'Feature': 'Starting at\\n$14.99/mo\\n$44.99/mo\\nCompare Plans', 'Price': 'Not available'}, {'Name': 'Dedicated Hosting', 'Feature': 'Starting at\\n$69.99/mo\\n$69.99/mo\\nCompare Plans', 'Price': 'Not available'}]\n"
     ]
    }
   ],
   "source": [
    "print(plan_list)"
   ]
  },
  {
   "cell_type": "code",
   "execution_count": 14,
   "metadata": {
    "metadata": {}
   },
   "outputs": [],
   "source": [
    "df = pd.DataFrame(plan_list)"
   ]
  },
  {
   "cell_type": "code",
   "execution_count": 15,
   "metadata": {
    "metadata": {}
   },
   "outputs": [
    {
     "data": {
      "text/html": [
       "<div>\n",
       "<style scoped>\n",
       "    .dataframe tbody tr th:only-of-type {\n",
       "        vertical-align: middle;\n",
       "    }\n",
       "\n",
       "    .dataframe tbody tr th {\n",
       "        vertical-align: top;\n",
       "    }\n",
       "\n",
       "    .dataframe thead th {\n",
       "        text-align: right;\n",
       "    }\n",
       "</style>\n",
       "<table border=\"1\" class=\"dataframe\">\n",
       "  <thead>\n",
       "    <tr style=\"text-align: right;\">\n",
       "      <th></th>\n",
       "      <th>Name</th>\n",
       "      <th>Feature</th>\n",
       "      <th>Price</th>\n",
       "    </tr>\n",
       "  </thead>\n",
       "  <tbody>\n",
       "    <tr>\n",
       "      <th>0</th>\n",
       "      <td>Shared Hosting</td>\n",
       "      <td>Cost effective and fast for small businesses</td>\n",
       "      <td></td>\n",
       "    </tr>\n",
       "    <tr>\n",
       "      <th>1</th>\n",
       "      <td>VPS Hosting</td>\n",
       "      <td>For high traffic sites and larger businesses</td>\n",
       "      <td>$14.99/mo</td>\n",
       "    </tr>\n",
       "    <tr>\n",
       "      <th>2</th>\n",
       "      <td>Dedicated Hosting</td>\n",
       "      <td>For the largest sites and custom deployments</td>\n",
       "      <td>$69.99/mo</td>\n",
       "    </tr>\n",
       "    <tr>\n",
       "      <th>3</th>\n",
       "      <td>cPanel WordPress</td>\n",
       "      <td>Expertly tuned hosting with cPanel</td>\n",
       "      <td>$3.99/mo</td>\n",
       "    </tr>\n",
       "    <tr>\n",
       "      <th>4</th>\n",
       "      <td>Platform i Cloud</td>\n",
       "      <td>Next generation managed WordPress</td>\n",
       "      <td>$9.00/mo</td>\n",
       "    </tr>\n",
       "    <tr>\n",
       "      <th>5</th>\n",
       "      <td>Shared Hosting</td>\n",
       "      <td>Starting at\\n$2.99/mo\\n$9.49/mo\\nCompare Plans</td>\n",
       "      <td>Not available</td>\n",
       "    </tr>\n",
       "    <tr>\n",
       "      <th>6</th>\n",
       "      <td>WordPress Hosting</td>\n",
       "      <td>Starting at\\n$3.99/mo\\n$12.99/mo\\nCompare Plans</td>\n",
       "      <td>Not available</td>\n",
       "    </tr>\n",
       "    <tr>\n",
       "      <th>7</th>\n",
       "      <td>VPS Hosting</td>\n",
       "      <td>Starting at\\n$14.99/mo\\n$44.99/mo\\nCompare Plans</td>\n",
       "      <td>Not available</td>\n",
       "    </tr>\n",
       "    <tr>\n",
       "      <th>8</th>\n",
       "      <td>Dedicated Hosting</td>\n",
       "      <td>Starting at\\n$69.99/mo\\n$69.99/mo\\nCompare Plans</td>\n",
       "      <td>Not available</td>\n",
       "    </tr>\n",
       "  </tbody>\n",
       "</table>\n",
       "</div>"
      ],
      "text/plain": [
       "                Name                                           Feature  \\\n",
       "0     Shared Hosting      Cost effective and fast for small businesses   \n",
       "1        VPS Hosting      For high traffic sites and larger businesses   \n",
       "2  Dedicated Hosting      For the largest sites and custom deployments   \n",
       "3   cPanel WordPress                Expertly tuned hosting with cPanel   \n",
       "4   Platform i Cloud                 Next generation managed WordPress   \n",
       "5     Shared Hosting    Starting at\\n$2.99/mo\\n$9.49/mo\\nCompare Plans   \n",
       "6  WordPress Hosting   Starting at\\n$3.99/mo\\n$12.99/mo\\nCompare Plans   \n",
       "7        VPS Hosting  Starting at\\n$14.99/mo\\n$44.99/mo\\nCompare Plans   \n",
       "8  Dedicated Hosting  Starting at\\n$69.99/mo\\n$69.99/mo\\nCompare Plans   \n",
       "\n",
       "           Price  \n",
       "0                 \n",
       "1      $14.99/mo  \n",
       "2      $69.99/mo  \n",
       "3       $3.99/mo  \n",
       "4       $9.00/mo  \n",
       "5  Not available  \n",
       "6  Not available  \n",
       "7  Not available  \n",
       "8  Not available  "
      ]
     },
     "execution_count": 15,
     "metadata": {},
     "output_type": "execute_result"
    }
   ],
   "source": [
    "df"
   ]
  },
  {
   "cell_type": "code",
   "execution_count": null,
   "metadata": {
    "metadata": {}
   },
   "outputs": [],
   "source": []
  }
 ],
 "metadata": {
  "kernelspec": {
   "display_name": "Python 3",
   "language": "python",
   "name": "python3"
  },
  "language_info": {
   "codemirror_mode": {
    "name": "ipython",
    "version": 3
   },
   "file_extension": ".py",
   "mimetype": "text/x-python",
   "name": "python",
   "nbconvert_exporter": "python",
   "pygments_lexer": "ipython3",
   "version": "3.12.1"
  }
 },
 "nbformat": 4,
 "nbformat_minor": 2
}
