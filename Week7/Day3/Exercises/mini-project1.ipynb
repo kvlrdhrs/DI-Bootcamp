{
 "cells": [
  {
   "cell_type": "code",
   "execution_count": 1,
   "metadata": {
    "metadata": {}
   },
   "outputs": [],
   "source": [
    "from selenium import webdriver\n",
    "from selenium.webdriver.common.by import By\n",
    "from selenium.common.exceptions import NoSuchElementException\n",
    "import pandas as pd"
   ]
  },
  {
   "cell_type": "code",
   "execution_count": 7,
   "metadata": {
    "metadata": {}
   },
   "outputs": [],
   "source": [
    "url = 'https://www.metacritic.com/browse/game/?releaseYearMin=1958&releaseYearMax=2024&page=1'\n",
    "driver = webdriver.Chrome()\n",
    "driver.get(url)\n",
    "driver.implicitly_wait(4)"
   ]
  },
  {
   "cell_type": "code",
   "execution_count": 3,
   "metadata": {
    "metadata": {}
   },
   "outputs": [],
   "source": [
    "host_plans_details = driver.find_elements(By.CLASS_NAME, 'imh-rostrum-card')\n",
    "\n",
    "plan_list = []\n",
    "is_first_row = True  # Flag to track if it's the first row\n",
    "\n",
    "for plan in host_plans_details:\n",
    "    plan_name = plan.find_element(By.XPATH, './/h3').text\n",
    "    plan_features = plan.find_element(By.XPATH, './/div[1]').text\n",
    "\n",
    "    try:\n",
    "        # Try the first price path for the first row only\n",
    "        if is_first_row:\n",
    "            plan_price = plan.find_element(By.XPATH, './/div[2]/div[2]/div').text\n",
    "            is_first_row = False  # Switch flag for subsequent rows\n",
    "        else:\n",
    "            # Use second price path for remaining rows\n",
    "            plan_price = plan.find_element(By.XPATH, './/div[2]/div[1]/div').text\n",
    "    except NoSuchElementException:\n",
    "        # Handle case where neither path works (log error or assign placeholder)\n",
    "        plan_price = \"Price Not Found\"\n",
    "\n",
    "    plan_item = {\n",
    "        'Name': plan_name,\n",
    "        'Feature': plan_features,\n",
    "        'Price': plan_price\n",
    "    }\n",
    "    plan_list.append(plan_item)"
   ]
  },
  {
   "cell_type": "code",
   "execution_count": 4,
   "metadata": {
    "metadata": {}
   },
   "outputs": [
    {
     "name": "stdout",
     "output_type": "stream",
     "text": [
      "                Name                                            Feature  \\\n",
      "0     Shared Hosting       Cost effective and fast for small businesses   \n",
      "1        VPS Hosting       For high traffic sites and larger businesses   \n",
      "2  Dedicated Hosting       For the largest sites and custom deployments   \n",
      "3   cPanel WordPress                 Expertly tuned hosting with cPanel   \n",
      "4  Platform InMotion                 High performance managed WordPress   \n",
      "5     Shared Hosting  Starting at\\n$2.99/mo\\nRenews at $10.99/mo\\nCo...   \n",
      "6  WordPress Hosting  Starting at\\n$3.49/mo\\nRenews at $11.49/mo\\nCo...   \n",
      "7        VPS Hosting  Starting at\\n$14.99/mo\\nRenews at $44.99/mo\\nC...   \n",
      "8  Dedicated Hosting  Starting at\\n$35.00/mo\\nRenews at $69.99/mo\\nC...   \n",
      "\n",
      "             Price  \n",
      "0         $2.99/mo  \n",
      "1                   \n",
      "2        $35.00/mo  \n",
      "3                   \n",
      "4                   \n",
      "5  Price Not Found  \n",
      "6  Price Not Found  \n",
      "7  Price Not Found  \n",
      "8  Price Not Found  \n"
     ]
    }
   ],
   "source": [
    "df = pd.DataFrame(plan_list)\n",
    "print(df)"
   ]
  },
  {
   "cell_type": "code",
   "execution_count": 5,
   "metadata": {
    "metadata": {}
   },
   "outputs": [
    {
     "name": "stdout",
     "output_type": "stream",
     "text": [
      "                Name                                       Feature      Price\n",
      "0     Shared Hosting  Cost effective and fast for small businesses   $2.99/mo\n",
      "1        VPS Hosting  For high traffic sites and larger businesses           \n",
      "2  Dedicated Hosting  For the largest sites and custom deployments  $35.00/mo\n",
      "3   cPanel WordPress            Expertly tuned hosting with cPanel           \n",
      "4  Platform InMotion            High performance managed WordPress           \n"
     ]
    }
   ],
   "source": [
    "df = df.drop(index=range(5, len(df)))\n",
    "df = df.reset_index(drop=True)\n",
    "print(df)"
   ]
  },
  {
   "cell_type": "code",
   "execution_count": 6,
   "metadata": {
    "metadata": {}
   },
   "outputs": [],
   "source": [
    "driver.quit()"
   ]
  }
 ],
 "metadata": {
  "kernelspec": {
   "display_name": "Python 3",
   "language": "python",
   "name": "python3"
  },
  "language_info": {
   "codemirror_mode": {
    "name": "ipython",
    "version": 3
   },
   "file_extension": ".py",
   "mimetype": "text/x-python",
   "name": "python",
   "nbconvert_exporter": "python",
   "pygments_lexer": "ipython3",
   "version": "3.12.1"
  }
 },
 "nbformat": 4,
 "nbformat_minor": 2
}
