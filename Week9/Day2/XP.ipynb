{
 "cells": [
  {
   "cell_type": "code",
   "execution_count": 15,
   "id": "cca83e4c",
   "metadata": {},
   "outputs": [
    {
     "name": "stderr",
     "output_type": "stream",
     "text": [
      "<>:4: SyntaxWarning: invalid escape sequence '\\!'\n",
      "<>:4: SyntaxWarning: invalid escape sequence '\\!'\n",
      "C:\\Users\\kyana\\AppData\\Local\\Temp\\ipykernel_16532\\3624717101.py:4: SyntaxWarning: invalid escape sequence '\\!'\n",
      "  file_path = 'C:\\!Projects\\DI-Bootcamp\\Week9\\Day2\\OnlineRetail.csv'\n"
     ]
    }
   ],
   "source": [
    "import pandas as pd\n",
    "\n",
    "# Load the dataset\n",
    "file_path = 'C:\\!Projects\\DI-Bootcamp\\Week9\\Day2\\OnlineRetail.csv'\n",
    "df = pd.read_csv(file_path, encoding='ISO-8859-1')"
   ]
  },
  {
   "cell_type": "code",
   "execution_count": 16,
   "id": "a06d1faf",
   "metadata": {},
   "outputs": [
    {
     "data": {
      "text/html": [
       "<div>\n",
       "<style scoped>\n",
       "    .dataframe tbody tr th:only-of-type {\n",
       "        vertical-align: middle;\n",
       "    }\n",
       "\n",
       "    .dataframe tbody tr th {\n",
       "        vertical-align: top;\n",
       "    }\n",
       "\n",
       "    .dataframe thead th {\n",
       "        text-align: right;\n",
       "    }\n",
       "</style>\n",
       "<table border=\"1\" class=\"dataframe\">\n",
       "  <thead>\n",
       "    <tr style=\"text-align: right;\">\n",
       "      <th></th>\n",
       "      <th>InvoiceNo</th>\n",
       "      <th>StockCode</th>\n",
       "      <th>Description</th>\n",
       "      <th>Quantity</th>\n",
       "      <th>InvoiceDate</th>\n",
       "      <th>UnitPrice</th>\n",
       "      <th>CustomerID</th>\n",
       "      <th>Country</th>\n",
       "    </tr>\n",
       "  </thead>\n",
       "  <tbody>\n",
       "    <tr>\n",
       "      <th>0</th>\n",
       "      <td>536365</td>\n",
       "      <td>85123A</td>\n",
       "      <td>WHITE HANGING HEART T-LIGHT HOLDER</td>\n",
       "      <td>6</td>\n",
       "      <td>2010-12-01 08:26:00</td>\n",
       "      <td>2.55</td>\n",
       "      <td>17850.0</td>\n",
       "      <td>United Kingdom</td>\n",
       "    </tr>\n",
       "    <tr>\n",
       "      <th>1</th>\n",
       "      <td>536365</td>\n",
       "      <td>71053</td>\n",
       "      <td>WHITE METAL LANTERN</td>\n",
       "      <td>6</td>\n",
       "      <td>2010-12-01 08:26:00</td>\n",
       "      <td>3.39</td>\n",
       "      <td>17850.0</td>\n",
       "      <td>United Kingdom</td>\n",
       "    </tr>\n",
       "    <tr>\n",
       "      <th>2</th>\n",
       "      <td>536365</td>\n",
       "      <td>84406B</td>\n",
       "      <td>CREAM CUPID HEARTS COAT HANGER</td>\n",
       "      <td>8</td>\n",
       "      <td>2010-12-01 08:26:00</td>\n",
       "      <td>2.75</td>\n",
       "      <td>17850.0</td>\n",
       "      <td>United Kingdom</td>\n",
       "    </tr>\n",
       "    <tr>\n",
       "      <th>3</th>\n",
       "      <td>536365</td>\n",
       "      <td>84029G</td>\n",
       "      <td>KNITTED UNION FLAG HOT WATER BOTTLE</td>\n",
       "      <td>6</td>\n",
       "      <td>2010-12-01 08:26:00</td>\n",
       "      <td>3.39</td>\n",
       "      <td>17850.0</td>\n",
       "      <td>United Kingdom</td>\n",
       "    </tr>\n",
       "    <tr>\n",
       "      <th>4</th>\n",
       "      <td>536365</td>\n",
       "      <td>84029E</td>\n",
       "      <td>RED WOOLLY HOTTIE WHITE HEART.</td>\n",
       "      <td>6</td>\n",
       "      <td>2010-12-01 08:26:00</td>\n",
       "      <td>3.39</td>\n",
       "      <td>17850.0</td>\n",
       "      <td>United Kingdom</td>\n",
       "    </tr>\n",
       "  </tbody>\n",
       "</table>\n",
       "</div>"
      ],
      "text/plain": [
       "  InvoiceNo StockCode                          Description  Quantity  \\\n",
       "0    536365    85123A   WHITE HANGING HEART T-LIGHT HOLDER         6   \n",
       "1    536365     71053                  WHITE METAL LANTERN         6   \n",
       "2    536365    84406B       CREAM CUPID HEARTS COAT HANGER         8   \n",
       "3    536365    84029G  KNITTED UNION FLAG HOT WATER BOTTLE         6   \n",
       "4    536365    84029E       RED WOOLLY HOTTIE WHITE HEART.         6   \n",
       "\n",
       "          InvoiceDate  UnitPrice  CustomerID         Country  \n",
       "0 2010-12-01 08:26:00       2.55     17850.0  United Kingdom  \n",
       "1 2010-12-01 08:26:00       3.39     17850.0  United Kingdom  \n",
       "2 2010-12-01 08:26:00       2.75     17850.0  United Kingdom  \n",
       "3 2010-12-01 08:26:00       3.39     17850.0  United Kingdom  \n",
       "4 2010-12-01 08:26:00       3.39     17850.0  United Kingdom  "
      ]
     },
     "execution_count": 16,
     "metadata": {},
     "output_type": "execute_result"
    }
   ],
   "source": [
    "# Convert 'InvoiceDate' to datetime format\n",
    "df['InvoiceDate'] = pd.to_datetime(df['InvoiceDate'])\n",
    "df.head()"
   ]
  },
  {
   "cell_type": "code",
   "execution_count": 17,
   "id": "87a43d1c",
   "metadata": {},
   "outputs": [],
   "source": [
    "# Using Gemini OpenAI\n",
    "import google.generativeai as genai\n",
    "import apikey\n",
    "\n",
    "key = apikey.load(\"game_api\")\n",
    "genai.configure(api_key=key)\n",
    "\n",
    "model = genai.GenerativeModel('gemini-1.5-flash')"
   ]
  },
  {
   "cell_type": "code",
   "execution_count": 18,
   "id": "0d81daa2",
   "metadata": {},
   "outputs": [],
   "source": [
    "# Latest date in the dataset\n",
    "latest_date = df['InvoiceDate'].max()\n",
    "\n",
    "# Recency calculation\n",
    "rfm_recency = df.groupby('CustomerID').agg({'InvoiceDate': lambda x: (latest_date - x.max()).days})\n",
    "rfm_recency.columns = ['Recency']\n",
    "rfm_recency.reset_index(inplace=True)"
   ]
  },
  {
   "cell_type": "code",
   "execution_count": 19,
   "id": "86399e21",
   "metadata": {},
   "outputs": [],
   "source": [
    "# Frequency calculation\n",
    "rfm_frequency = df.groupby('CustomerID').agg({'InvoiceNo': 'nunique'})\n",
    "rfm_frequency.columns = ['Frequency']\n",
    "rfm_frequency.reset_index(inplace=True)"
   ]
  },
  {
   "cell_type": "code",
   "execution_count": 20,
   "id": "1a8c3b90",
   "metadata": {},
   "outputs": [],
   "source": [
    "# Monetary calculation\n",
    "df['TotalPrice'] = df['Quantity'] * df['UnitPrice']\n",
    "rfm_monetary = df.groupby('CustomerID').agg({'TotalPrice': 'sum'})\n",
    "rfm_monetary.columns = ['Monetary']\n",
    "rfm_monetary.reset_index(inplace=True)"
   ]
  },
  {
   "cell_type": "code",
   "execution_count": 24,
   "id": "febb84d9",
   "metadata": {},
   "outputs": [
    {
     "data": {
      "text/html": [
       "<div>\n",
       "<style scoped>\n",
       "    .dataframe tbody tr th:only-of-type {\n",
       "        vertical-align: middle;\n",
       "    }\n",
       "\n",
       "    .dataframe tbody tr th {\n",
       "        vertical-align: top;\n",
       "    }\n",
       "\n",
       "    .dataframe thead th {\n",
       "        text-align: right;\n",
       "    }\n",
       "</style>\n",
       "<table border=\"1\" class=\"dataframe\">\n",
       "  <thead>\n",
       "    <tr style=\"text-align: right;\">\n",
       "      <th></th>\n",
       "      <th>CustomerID</th>\n",
       "      <th>Recency</th>\n",
       "      <th>Frequency</th>\n",
       "      <th>Monetary</th>\n",
       "    </tr>\n",
       "  </thead>\n",
       "  <tbody>\n",
       "    <tr>\n",
       "      <th>0</th>\n",
       "      <td>12346.0</td>\n",
       "      <td>325</td>\n",
       "      <td>2</td>\n",
       "      <td>0.00</td>\n",
       "    </tr>\n",
       "    <tr>\n",
       "      <th>1</th>\n",
       "      <td>12347.0</td>\n",
       "      <td>1</td>\n",
       "      <td>7</td>\n",
       "      <td>4310.00</td>\n",
       "    </tr>\n",
       "    <tr>\n",
       "      <th>2</th>\n",
       "      <td>12348.0</td>\n",
       "      <td>74</td>\n",
       "      <td>4</td>\n",
       "      <td>1797.24</td>\n",
       "    </tr>\n",
       "    <tr>\n",
       "      <th>3</th>\n",
       "      <td>12349.0</td>\n",
       "      <td>18</td>\n",
       "      <td>1</td>\n",
       "      <td>1757.55</td>\n",
       "    </tr>\n",
       "    <tr>\n",
       "      <th>4</th>\n",
       "      <td>12350.0</td>\n",
       "      <td>309</td>\n",
       "      <td>1</td>\n",
       "      <td>334.40</td>\n",
       "    </tr>\n",
       "    <tr>\n",
       "      <th>...</th>\n",
       "      <td>...</td>\n",
       "      <td>...</td>\n",
       "      <td>...</td>\n",
       "      <td>...</td>\n",
       "    </tr>\n",
       "    <tr>\n",
       "      <th>4367</th>\n",
       "      <td>18280.0</td>\n",
       "      <td>277</td>\n",
       "      <td>1</td>\n",
       "      <td>180.60</td>\n",
       "    </tr>\n",
       "    <tr>\n",
       "      <th>4368</th>\n",
       "      <td>18281.0</td>\n",
       "      <td>180</td>\n",
       "      <td>1</td>\n",
       "      <td>80.82</td>\n",
       "    </tr>\n",
       "    <tr>\n",
       "      <th>4369</th>\n",
       "      <td>18282.0</td>\n",
       "      <td>7</td>\n",
       "      <td>3</td>\n",
       "      <td>176.60</td>\n",
       "    </tr>\n",
       "    <tr>\n",
       "      <th>4370</th>\n",
       "      <td>18283.0</td>\n",
       "      <td>3</td>\n",
       "      <td>16</td>\n",
       "      <td>2094.88</td>\n",
       "    </tr>\n",
       "    <tr>\n",
       "      <th>4371</th>\n",
       "      <td>18287.0</td>\n",
       "      <td>42</td>\n",
       "      <td>3</td>\n",
       "      <td>1837.28</td>\n",
       "    </tr>\n",
       "  </tbody>\n",
       "</table>\n",
       "<p>4372 rows × 4 columns</p>\n",
       "</div>"
      ],
      "text/plain": [
       "      CustomerID  Recency  Frequency  Monetary\n",
       "0        12346.0      325          2      0.00\n",
       "1        12347.0        1          7   4310.00\n",
       "2        12348.0       74          4   1797.24\n",
       "3        12349.0       18          1   1757.55\n",
       "4        12350.0      309          1    334.40\n",
       "...          ...      ...        ...       ...\n",
       "4367     18280.0      277          1    180.60\n",
       "4368     18281.0      180          1     80.82\n",
       "4369     18282.0        7          3    176.60\n",
       "4370     18283.0        3         16   2094.88\n",
       "4371     18287.0       42          3   1837.28\n",
       "\n",
       "[4372 rows x 4 columns]"
      ]
     },
     "metadata": {},
     "output_type": "display_data"
    }
   ],
   "source": [
    "# Combine all three metrics\n",
    "rfm = pd.merge(rfm_recency, rfm_frequency, on='CustomerID')\n",
    "rfm = pd.merge(rfm, rfm_monetary, on='CustomerID')\n",
    "# Display the dataframe\n",
    "display(rfm)"
   ]
  },
  {
   "cell_type": "code",
   "execution_count": 25,
   "id": "9ac00539",
   "metadata": {},
   "outputs": [],
   "source": [
    "# Scoring the Recency, Frequency, and Monetary metrics\n",
    "rfm['R_Score'] = pd.qcut(rfm['Recency'], 4, labels=[4, 3, 2, 1])\n",
    "rfm['F_Score'] = pd.qcut(rfm['Frequency'].rank(method='first'), 4, labels=[1, 2, 3, 4])\n",
    "rfm['M_Score'] = pd.qcut(rfm['Monetary'], 4, labels=[1, 2, 3, 4])\n",
    "\n",
    "# Combine scores to create RFM score\n",
    "rfm['RFM_Score'] = rfm['R_Score'].astype(str) + rfm['F_Score'].astype(str) + rfm['M_Score'].astype(str)\n",
    "\n",
    "# Define segments\n",
    "rfm['Segment'] = 'Low-Value'\n",
    "rfm.loc[rfm['RFM_Score'].isin(['111', '112', '113', '121', '122']), 'Segment'] = 'High-Value'\n",
    "rfm.loc[rfm['RFM_Score'].isin(['211', '212', '213', '221', '222']), 'Segment'] = 'Loyal'\n",
    "rfm.loc[rfm['RFM_Score'].isin(['311', '312', '313', '321', '322']), 'Segment'] = 'New'\n"
   ]
  },
  {
   "cell_type": "code",
   "execution_count": 26,
   "id": "c428a137",
   "metadata": {},
   "outputs": [],
   "source": [
    "personal_columns = ['CustomerID', 'Country']"
   ]
  },
  {
   "cell_type": "code",
   "execution_count": 27,
   "id": "a95f592f",
   "metadata": {},
   "outputs": [],
   "source": [
    "import hashlib\n",
    "\n",
    "def anonymize_data(column):\n",
    "    return column.apply(lambda x: hashlib.sha256(str(x).encode()).hexdigest())\n",
    "\n",
    "# Apply anonymization\n",
    "df['CustomerID_Anonymized'] = anonymize_data(df['CustomerID'])\n",
    "df['Country_Anonymized'] = anonymize_data(df['Country'])"
   ]
  },
  {
   "cell_type": "code",
   "execution_count": 28,
   "id": "8f8478e3",
   "metadata": {},
   "outputs": [
    {
     "name": "stderr",
     "output_type": "stream",
     "text": [
      "C:\\Users\\kyana\\AppData\\Local\\Temp\\ipykernel_16532\\3982104767.py:6: FutureWarning: 'M' is deprecated and will be removed in a future version, please use 'ME' instead.\n",
      "  monthly_sales = df.resample('M').agg({'TotalPrice': 'sum', 'Quantity': 'sum'}).reset_index()\n"
     ]
    }
   ],
   "source": [
    "# Create 'TotalPrice' column\n",
    "df['TotalPrice'] = df['Quantity'] * df['UnitPrice']\n",
    "\n",
    "# Aggregate data on a monthly basis\n",
    "df.set_index('InvoiceDate', inplace=True)\n",
    "monthly_sales = df.resample('M').agg({'TotalPrice': 'sum', 'Quantity': 'sum'}).reset_index()"
   ]
  },
  {
   "cell_type": "code",
   "execution_count": 34,
   "id": "402df8a7",
   "metadata": {},
   "outputs": [
    {
     "name": "stdout",
     "output_type": "stream",
     "text": [
      "## Analyzing Monthly Sales Data\n",
      "\n",
      "The provided data shows monthly sales for a year. Let's analyze the trends and seasonality:\n",
      "\n",
      "**1.  Visualizing the Data:**\n",
      "\n",
      "* **Time Series Plot:** Create a line plot of TotalPrice against InvoiceDate. This will visually demonstrate the trend over time.\n",
      "\n",
      "* **Seasonal Decomposition:** Decompose the time series into trend, seasonality, and residual components. This can be done using libraries like statsmodels in Python.\n",
      "\n",
      "**2.  Identifying Trends:**\n",
      "\n",
      "* **Trend:** The plot shows a general upward trend in sales, with occasional fluctuations. The trend appears to be **non-linear** and may be exponential.\n",
      "\n",
      "* **Seasonality:** There appears to be a strong seasonal pattern, with higher sales in the **holiday season (November-December)** and a dip in sales in the **first quarter (January-March)**.\n",
      "\n",
      "**3.  Analyzing the Simple Moving Average (SMA):**\n",
      "\n",
      "* **SMA:** The SMA is a measure of the average sales over a specific period (likely 3 months in this case). It smooths out the fluctuations in the data and helps identify the overall trend.\n",
      "\n",
      "* **Interpretation:** The SMA shows a steady increase in sales until October-November, followed by a slight decrease in December. This suggests that while there is a strong seasonal peak in the last quarter, the overall trend was positive before the peak.\n",
      "\n",
      "**4.  Insights and Forecasting:**\n",
      "\n",
      "* **Sales Trends:** The data suggests a **positive long-term trend** with **strong seasonality**. The increase in sales is likely driven by factors like increased demand, market growth, or successful marketing strategies.\n",
      "\n",
      "* **Seasonality:** The significant seasonality indicates a **high demand during the holiday season**. This suggests that the business might need to adjust its inventory levels and marketing campaigns to account for the seasonal peaks and troughs.\n",
      "\n",
      "* **Forecasting:** Based on the current trend and seasonality, we can forecast sales for the next quarter (Q1 2012):\n",
      "\n",
      "    * **Q1 2012:**  The sales are expected to be lower than Q4 2011 due to the seasonality.\n",
      "    * **Forecast:** We can use methods like **ARIMA** (Autoregressive Integrated Moving Average) models to create a more accurate forecast based on the historical data and identified seasonality.\n",
      "\n",
      "**Additional Considerations:**\n",
      "\n",
      "* **External Factors:** Economic conditions, competitor activity, and changes in consumer behavior could also impact sales trends.\n",
      "* **Data Granularity:** Analyzing data at a finer granularity (weekly or daily) could provide more insights into the underlying drivers of sales.\n",
      "\n",
      "**Conclusion:**\n",
      "\n",
      "By analyzing the monthly sales data, we can identify positive trends and strong seasonality. This information can be utilized to forecast future sales, optimize inventory levels, and develop more effective marketing strategies. Further analysis and modeling using sophisticated forecasting methods can provide more precise predictions and actionable insights. \n",
      "\n"
     ]
    }
   ],
   "source": [
    "query = f\"Analyze monthly sales to this data: {monthly_sales} trends and identify any seasonality in the dataset. Provide insights into sales trends and forecast sales for the next quarter.\"\n",
    "\n",
    "response = model.generate_content(query)\n",
    "print(response.text)"
   ]
  },
  {
   "cell_type": "code",
   "execution_count": 30,
   "id": "03a53044",
   "metadata": {},
   "outputs": [],
   "source": [
    "# Calculate Simple Moving Average (SMA) for the next quarter\n",
    "monthly_sales['SMA'] = monthly_sales['TotalPrice'].rolling(window=3).mean()\n",
    "\n",
    "# Forecast for the next quarter\n",
    "next_quarter_forecast = monthly_sales['SMA'].iloc[-1]"
   ]
  },
  {
   "cell_type": "code",
   "execution_count": 31,
   "id": "d6d41198",
   "metadata": {},
   "outputs": [
    {
     "data": {
      "text/plain": [
       "988709.6433333332"
      ]
     },
     "execution_count": 31,
     "metadata": {},
     "output_type": "execute_result"
    }
   ],
   "source": [
    "next_quarter_forecast"
   ]
  }
 ],
 "metadata": {
  "kernelspec": {
   "display_name": "Python 3",
   "language": "python",
   "name": "python3"
  },
  "language_info": {
   "codemirror_mode": {
    "name": "ipython",
    "version": 3
   },
   "file_extension": ".py",
   "mimetype": "text/x-python",
   "name": "python",
   "nbconvert_exporter": "python",
   "pygments_lexer": "ipython3",
   "version": "3.12.1"
  }
 },
 "nbformat": 4,
 "nbformat_minor": 5
}
