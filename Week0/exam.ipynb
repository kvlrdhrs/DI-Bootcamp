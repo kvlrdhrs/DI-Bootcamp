{
 "cells": [
  {
   "cell_type": "code",
   "execution_count": 1,
   "metadata": {},
   "outputs": [],
   "source": [
    "from utils import unzip_with_7z"
   ]
  },
  {
   "cell_type": "code",
   "execution_count": 2,
   "metadata": {},
   "outputs": [],
   "source": [
    "zip_file_path = 'congrats.7z' # keep as is\n",
    "dest_path = '.' # keep as is\n",
    "\n",
    "find_me = '' # 2 letters are missing!\n",
    "secret_password_suffix = 'bcmpda'"
   ]
  },
  {
   "cell_type": "code",
   "execution_count": 3,
   "metadata": {},
   "outputs": [],
   "source": [
    "alph='abcdefghijklmnopqrstuvwxyz'"
   ]
  },
  {
   "cell_type": "code",
   "execution_count": 4,
   "metadata": {},
   "outputs": [
    {
     "name": "stdout",
     "output_type": "stream",
     "text": [
      "Successfully extracted all files to . with password dibcmpda\n",
      "successfully extracted with password: dibcmpda\n"
     ]
    }
   ],
   "source": [
    "for let1 in alph:\n",
    "    for let2 in alph:\n",
    "        secret_password = find_me + let1 + let2 + secret_password_suffix\n",
    "        if unzip_with_7z(zip_file_path, dest_path, secret_password):\n",
    "            print(f\"successfully extracted with password: {secret_password}\")\n",
    "            break  "
   ]
  }
 ],
 "metadata": {
  "kernelspec": {
   "display_name": "Python 3",
   "language": "python",
   "name": "python3"
  },
  "language_info": {
   "codemirror_mode": {
    "name": "ipython",
    "version": 3
   },
   "file_extension": ".py",
   "mimetype": "text/x-python",
   "name": "python",
   "nbconvert_exporter": "python",
   "pygments_lexer": "ipython3",
   "version": "3.12.1"
  }
 },
 "nbformat": 4,
 "nbformat_minor": 2
}
