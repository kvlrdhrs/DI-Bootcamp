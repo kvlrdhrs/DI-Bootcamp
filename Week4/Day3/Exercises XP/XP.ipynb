{
 "cells": [
  {
   "cell_type": "code",
   "execution_count": null,
   "metadata": {},
   "outputs": [],
   "source": [
    "import pandas as pd\n",
    "# import numpy as np\n",
    "# import matplotlib.pyplot as plt\n",
    "# import seaborn as sns\n",
    "import os\n",
    "import zipfile\n",
    "from kaggle.api.kaggle_api_extended import KaggleApi"
   ]
  },
  {
   "cell_type": "code",
   "execution_count": null,
   "metadata": {},
   "outputs": [],
   "source": [
    "# Exercise 1 : Import A File From Kaggle"
   ]
  },
  {
   "cell_type": "code",
   "execution_count": null,
   "metadata": {},
   "outputs": [],
   "source": [
    "!kaggle datasets list -s \"titanic\""
   ]
  },
  {
   "cell_type": "code",
   "execution_count": null,
   "metadata": {},
   "outputs": [],
   "source": [
    "# Initialize Kaggle API\n",
    "api = KaggleApi()\n",
    "api.authenticate()  # Make sure you have properly set up your Kaggle API credentials\n",
    "\n",
    "# Download the dataset\n",
    "api.dataset_download_files(\"brendan45774/test-file\", path=\".\", unzip=True)\n",
    "\n",
    "# List the files in the current directory\n",
    "files = os.listdir()\n",
    "\n",
    "# Now you can directly access the dataset files without saving them to a specific folder\n",
    "for file in files:\n",
    "    if file.endswith('.csv'):\n",
    "        print(f\"Found CSV file: {file}\")\n",
    "        # Here you can perform further operations with the CSV file\n"
   ]
  },
  {
   "cell_type": "code",
   "execution_count": null,
   "metadata": {},
   "outputs": [],
   "source": [
    "df_titanic = pd.read_csv(\"tested.csv\")\n",
    "print(df_titanic.head(4))"
   ]
  },
  {
   "cell_type": "code",
   "execution_count": null,
   "metadata": {},
   "outputs": [],
   "source": [
    "# Exercise 2: Importing A CSV File"
   ]
  },
  {
   "cell_type": "code",
   "execution_count": null,
   "metadata": {},
   "outputs": [],
   "source": [
    "df_iris = pd.read_csv('https://archive.ics.uci.edu/ml/machine-learning-databases/iris/iris.data')"
   ]
  },
  {
   "cell_type": "code",
   "execution_count": null,
   "metadata": {},
   "outputs": [],
   "source": [
    "df_iris.head()"
   ]
  },
  {
   "cell_type": "code",
   "execution_count": null,
   "metadata": {},
   "outputs": [],
   "source": [
    "# Exercise 3: Reading JSON Data"
   ]
  },
  {
   "cell_type": "code",
   "execution_count": null,
   "metadata": {},
   "outputs": [],
   "source": [
    "df_json = pd.read_json(\"https://jsonplaceholder.typicode.com/posts\")\n",
    "print(df_json.head())"
   ]
  },
  {
   "cell_type": "code",
   "execution_count": null,
   "metadata": {},
   "outputs": [],
   "source": [
    "# Exercise 4: Loading Data From An Excel File\n",
    "# df_excel = pd.read_excel('https://file-examples.com/wp-content/storage/2017/02/file_example_XLS_10.xls')\n",
    "# print(df_excel.head())\n"
   ]
  },
  {
   "cell_type": "code",
   "execution_count": 27,
   "metadata": {},
   "outputs": [],
   "source": [
    "# Exercise 5 : Export A Dataframe To Excel Format And JSON\n",
    "df = pd.DataFrame({\n",
    "    'Col1': ['data1', 'data2','data3'],\n",
    "    'Col2': [1, 2, 3],\n",
    "    'Col2': ['test1', 'tets2','test222']\n",
    "})\n",
    "\n",
    "df.to_json('ex5.json')\n",
    "df.to_excel('ex5.xlsx', sheet_name= 'ex5')"
   ]
  }
 ],
 "metadata": {
  "kernelspec": {
   "display_name": "Python 3",
   "language": "python",
   "name": "python3"
  },
  "language_info": {
   "codemirror_mode": {
    "name": "ipython",
    "version": 3
   },
   "file_extension": ".py",
   "mimetype": "text/x-python",
   "name": "python",
   "nbconvert_exporter": "python",
   "pygments_lexer": "ipython3",
   "version": "3.12.1"
  }
 },
 "nbformat": 4,
 "nbformat_minor": 2
}
