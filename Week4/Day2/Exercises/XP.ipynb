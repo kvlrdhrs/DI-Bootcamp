{
 "cells": [
  {
   "cell_type": "code",
   "execution_count": null,
   "metadata": {},
   "outputs": [],
   "source": [
    "import pandas as pd\n",
    "import numpy as np\n",
    "from faker import Faker"
   ]
  },
  {
   "cell_type": "code",
   "execution_count": null,
   "metadata": {},
   "outputs": [],
   "source": [
    "# Exercise 1 : Identifying Data Types"
   ]
  },
  {
   "cell_type": "markdown",
   "metadata": {},
   "source": [
    "- A company’s financial reports stored in an Excel file. - structured data\n",
    "- Photographs uploaded to a social media platform. - structured data\n",
    "- A collection of news articles on a website. - unstructured data\n",
    "- Inventory data in a relational database. - structured data\n",
    "- Recorded interviews from a market research study. unstructured data"
   ]
  },
  {
   "cell_type": "code",
   "execution_count": null,
   "metadata": {},
   "outputs": [],
   "source": [
    "# Exercise 2 : Transformation Exercise"
   ]
  },
  {
   "cell_type": "code",
   "execution_count": null,
   "metadata": {},
   "outputs": [],
   "source": [
    "# Exercise 3 : Application Scenario"
   ]
  },
  {
   "cell_type": "markdown",
   "metadata": {},
   "source": [
    "- transaction records structured data - structured data\n",
    "- customer feedback comments -unstructured data\n",
    "- social media posts about your brand - unstructured data\n",
    "- employee work schedules - structured data"
   ]
  },
  {
   "cell_type": "code",
   "execution_count": null,
   "metadata": {},
   "outputs": [],
   "source": [
    "# Exercise 4 : Synthetic Data Generation"
   ]
  },
  {
   "cell_type": "code",
   "execution_count": null,
   "metadata": {},
   "outputs": [],
   "source": [
    "fake = Faker()\n",
    "fake_list = [(fake.name(), fake.address(), fake.email(), np.random.randint(20, 60), np.random.randint(8000, 45000)) for _ in range (100)]"
   ]
  },
  {
   "cell_type": "code",
   "execution_count": null,
   "metadata": {},
   "outputs": [],
   "source": [
    "df = pd.DataFrame(fake_list, columns=['Name', 'Address', 'Email', 'Age', 'Sallary'])"
   ]
  },
  {
   "cell_type": "code",
   "execution_count": null,
   "metadata": {},
   "outputs": [],
   "source": [
    "df.head(10)"
   ]
  },
  {
   "cell_type": "code",
   "execution_count": null,
   "metadata": {},
   "outputs": [],
   "source": [
    "# Exercise 5 : Data Augmentation For Images"
   ]
  },
  {
   "cell_type": "code",
   "execution_count": null,
   "metadata": {},
   "outputs": [],
   "source": [
    "# from tensorflow.keras.preprocessing.image import ImageDataGenerator, array_to_img, img_to_array, load_img\n",
    "\n",
    "# # Define paths\n",
    "# original_dataset_dir = 'original_dataset_folder'\n",
    "# augmented_dataset_dir = 'augmented_dataset_folder'\n",
    "\n",
    "# # Create augmented dataset directory if it doesn't exist\n",
    "# if not os.path.exists(augmented_dataset_dir):\n",
    "#     os.makedirs(augmented_dataset_dir)\n",
    "\n",
    "# # Create an instance of the ImageDataGenerator\n",
    "# datagen = ImageDataGenerator(\n",
    "#     rotation_range=30,  # Rotate images by random angles up to 30 degrees\n",
    "#     width_shift_range=0.2,\n",
    "#     height_shift_range=0.2,\n",
    "#     shear_range=0.2,\n",
    "#     zoom_range=0.2,\n",
    "#     horizontal_flip=True,  # Flip images horizontally\n",
    "#     vertical_flip=True,  # Flip images vertically\n",
    "#     brightness_range=[0.5, 1.5]  # Vary brightness within the range [0.5, 1.5]\n",
    "# )\n",
    "\n",
    "# # Load images from the original dataset folder\n",
    "# for filename in os.listdir(original_dataset_dir):\n",
    "#     img = load_img(os.path.join(original_dataset_dir, filename))\n",
    "#     x = img_to_array(img)\n",
    "#     x = x.reshape((1,) + x.shape)  # Reshape to (1, height, width, channels)\n",
    "\n",
    "#     # Generate augmented images\n",
    "#     i = 0\n",
    "#     for batch in datagen.flow(x, batch_size=1, save_to_dir=augmented_dataset_dir, save_prefix='aug', save_format='jpeg'):\n",
    "#         i += 1\n",
    "#         if i >= 5:  # Generate 5 augmented images per original image\n",
    "#             break  # Stop augmentation loop\n",
    "\n",
    "# print(\"Augmentation complete.\")\n"
   ]
  },
  {
   "cell_type": "code",
   "execution_count": null,
   "metadata": {},
   "outputs": [],
   "source": [
    "# Exercise 6 : Simulation-Based Dataset Creation"
   ]
  },
  {
   "cell_type": "code",
   "execution_count": null,
   "metadata": {},
   "outputs": [],
   "source": [
    "# # Define parameters\n",
    "# city_layout = {...}  # Dictionary defining the city layout and road network\n",
    "# vehicle_types = {...}  # Dictionary defining characteristics of different vehicle types\n",
    "# time_periods = {...}  # Dictionary defining different time periods and traffic conditions\n",
    "\n",
    "# # Function to simulate traffic flow\n",
    "# def simulate_traffic(num_iterations, time_period):\n",
    "#     traffic_data = []\n",
    "#     for _ in range(num_iterations):\n",
    "#         # Simulate vehicles movement based on city layout and road network\n",
    "#         for road_segment in city_layout:\n",
    "#             # Simulate vehicles behavior on each road segment\n",
    "#             for vehicle_type in vehicle_types:\n",
    "#                 # Generate vehicle counts, speeds, etc. based on time period and road characteristics\n",
    "#                 vehicle_count = ...  # Simulate vehicle counts\n",
    "#                 average_speed = ...  # Simulate average speed\n",
    "#                 # Add additional data such as vehicle type, road type, etc.\n",
    "#                 traffic_data.append({\n",
    "#                     'Time_Period': time_period,\n",
    "#                     'Road_Segment': road_segment,\n",
    "#                     'Vehicle_Type': vehicle_type,\n",
    "#                     'Vehicle_Count': vehicle_count,\n",
    "#                     'Average_Speed': average_speed\n",
    "#                     # Add more fields as needed\n",
    "#                 })\n",
    "#     return traffic_data\n",
    "\n",
    "# # Simulate traffic data for different time periods\n",
    "# all_traffic_data = []\n",
    "# for time_period in time_periods:\n",
    "#     traffic_data = simulate_traffic(num_iterations=1000, time_period=time_period)\n",
    "#     all_traffic_data.extend(traffic_data)\n",
    "\n",
    "# # Convert simulated data to DataFrame\n",
    "# traffic_df = pd.DataFrame(all_traffic_data)\n",
    "\n",
    "# # Save simulated dataset to CSV file\n",
    "# traffic_df.to_csv('simulated_traffic_data.csv', index=False)\n"
   ]
  }
 ],
 "metadata": {
  "kernelspec": {
   "display_name": "Python 3",
   "language": "python",
   "name": "python3"
  },
  "language_info": {
   "codemirror_mode": {
    "name": "ipython",
    "version": 3
   },
   "file_extension": ".py",
   "mimetype": "text/x-python",
   "name": "python",
   "nbconvert_exporter": "python",
   "pygments_lexer": "ipython3",
   "version": "3.12.1"
  }
 },
 "nbformat": 4,
 "nbformat_minor": 2
}
