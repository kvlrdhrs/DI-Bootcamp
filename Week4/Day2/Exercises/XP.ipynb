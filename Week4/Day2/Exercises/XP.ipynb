{
 "cells": [
  {
   "cell_type": "code",
   "execution_count": 7,
   "metadata": {},
   "outputs": [],
   "source": [
    "import pandas as pd\n",
    "import numpy as np\n",
    "from faker import Faker"
   ]
  },
  {
   "cell_type": "code",
   "execution_count": 1,
   "metadata": {},
   "outputs": [],
   "source": [
    "# Exercise 1 : Identifying Data Types"
   ]
  },
  {
   "cell_type": "markdown",
   "metadata": {},
   "source": [
    "- A company’s financial reports stored in an Excel file. - structured data\n",
    "- Photographs uploaded to a social media platform. - structured data\n",
    "- A collection of news articles on a website. - unstructured data\n",
    "- Inventory data in a relational database. - structured data\n",
    "- Recorded interviews from a market research study. unstructured data"
   ]
  },
  {
   "cell_type": "code",
   "execution_count": null,
   "metadata": {},
   "outputs": [],
   "source": [
    "# Exercise 2 : Transformation Exercise"
   ]
  },
  {
   "cell_type": "code",
   "execution_count": 2,
   "metadata": {},
   "outputs": [],
   "source": [
    "# Exercise 3 : Application Scenario"
   ]
  },
  {
   "cell_type": "markdown",
   "metadata": {},
   "source": [
    "- transaction records structured data - structured data\n",
    "- customer feedback comments -unstructured data\n",
    "- social media posts about your brand - unstructured data\n",
    "- employee work schedules - structured data"
   ]
  },
  {
   "cell_type": "code",
   "execution_count": 3,
   "metadata": {},
   "outputs": [],
   "source": [
    "# Exercise 4 : Synthetic Data Generation"
   ]
  },
  {
   "cell_type": "code",
   "execution_count": 14,
   "metadata": {},
   "outputs": [],
   "source": [
    "fake = Faker()\n",
    "fake_list = [(fake.name(), fake.address(), fake.email(), np.random.randint(20, 60), np.random.randint(8000, 45000)) for _ in range (100)]"
   ]
  },
  {
   "cell_type": "code",
   "execution_count": 15,
   "metadata": {},
   "outputs": [],
   "source": [
    "df = pd.DataFrame(fake_list, columns=['Name', 'Address', 'Email', 'Age', 'Sallary'])"
   ]
  },
  {
   "cell_type": "code",
   "execution_count": 16,
   "metadata": {},
   "outputs": [
    {
     "data": {
      "text/html": [
       "<div>\n",
       "<style scoped>\n",
       "    .dataframe tbody tr th:only-of-type {\n",
       "        vertical-align: middle;\n",
       "    }\n",
       "\n",
       "    .dataframe tbody tr th {\n",
       "        vertical-align: top;\n",
       "    }\n",
       "\n",
       "    .dataframe thead th {\n",
       "        text-align: right;\n",
       "    }\n",
       "</style>\n",
       "<table border=\"1\" class=\"dataframe\">\n",
       "  <thead>\n",
       "    <tr style=\"text-align: right;\">\n",
       "      <th></th>\n",
       "      <th>Name</th>\n",
       "      <th>Address</th>\n",
       "      <th>Email</th>\n",
       "      <th>Age</th>\n",
       "      <th>Sallary</th>\n",
       "    </tr>\n",
       "  </thead>\n",
       "  <tbody>\n",
       "    <tr>\n",
       "      <th>0</th>\n",
       "      <td>Sheryl Jennings</td>\n",
       "      <td>1066 Carrie Point Apt. 172\\nWest Mitchell, MH ...</td>\n",
       "      <td>lisa07@example.net</td>\n",
       "      <td>36</td>\n",
       "      <td>39502</td>\n",
       "    </tr>\n",
       "    <tr>\n",
       "      <th>1</th>\n",
       "      <td>Beth Roberts</td>\n",
       "      <td>13830 Campbell Underpass\\nTiffanyton, WI 57805</td>\n",
       "      <td>rmaynard@example.net</td>\n",
       "      <td>43</td>\n",
       "      <td>41168</td>\n",
       "    </tr>\n",
       "    <tr>\n",
       "      <th>2</th>\n",
       "      <td>Nichole Ward</td>\n",
       "      <td>065 Blake Squares\\nSouth Anthony, KY 08026</td>\n",
       "      <td>thomaskayla@example.net</td>\n",
       "      <td>24</td>\n",
       "      <td>36462</td>\n",
       "    </tr>\n",
       "    <tr>\n",
       "      <th>3</th>\n",
       "      <td>David Burke</td>\n",
       "      <td>2432 Gregory Road\\nBrianville, MD 99108</td>\n",
       "      <td>jenniferrowe@example.org</td>\n",
       "      <td>34</td>\n",
       "      <td>27389</td>\n",
       "    </tr>\n",
       "    <tr>\n",
       "      <th>4</th>\n",
       "      <td>David Hansen</td>\n",
       "      <td>30475 Levine Plaza\\nRamirezborough, NV 73324</td>\n",
       "      <td>zgomez@example.net</td>\n",
       "      <td>40</td>\n",
       "      <td>36022</td>\n",
       "    </tr>\n",
       "    <tr>\n",
       "      <th>5</th>\n",
       "      <td>Patrick Davis</td>\n",
       "      <td>Unit 7105 Box 3144\\nDPO AE 55904</td>\n",
       "      <td>patricia66@example.org</td>\n",
       "      <td>41</td>\n",
       "      <td>32140</td>\n",
       "    </tr>\n",
       "    <tr>\n",
       "      <th>6</th>\n",
       "      <td>Thomas Rowe</td>\n",
       "      <td>11124 William Gardens\\nPort Kelly, NV 05527</td>\n",
       "      <td>acevedoryan@example.org</td>\n",
       "      <td>30</td>\n",
       "      <td>12764</td>\n",
       "    </tr>\n",
       "    <tr>\n",
       "      <th>7</th>\n",
       "      <td>Katherine Fields</td>\n",
       "      <td>0641 Robert Extensions Apt. 743\\nLeslieburgh, ...</td>\n",
       "      <td>ashleywilson@example.org</td>\n",
       "      <td>44</td>\n",
       "      <td>16504</td>\n",
       "    </tr>\n",
       "    <tr>\n",
       "      <th>8</th>\n",
       "      <td>Anne Hart</td>\n",
       "      <td>Unit 0604 Box 5675\\nDPO AE 21949</td>\n",
       "      <td>gallegosroy@example.org</td>\n",
       "      <td>20</td>\n",
       "      <td>33242</td>\n",
       "    </tr>\n",
       "    <tr>\n",
       "      <th>9</th>\n",
       "      <td>Matthew Armstrong</td>\n",
       "      <td>76677 Thornton Summit Suite 998\\nBurnettfort, ...</td>\n",
       "      <td>tammy92@example.com</td>\n",
       "      <td>53</td>\n",
       "      <td>22748</td>\n",
       "    </tr>\n",
       "  </tbody>\n",
       "</table>\n",
       "</div>"
      ],
      "text/plain": [
       "                Name                                            Address  \\\n",
       "0    Sheryl Jennings  1066 Carrie Point Apt. 172\\nWest Mitchell, MH ...   \n",
       "1       Beth Roberts     13830 Campbell Underpass\\nTiffanyton, WI 57805   \n",
       "2       Nichole Ward         065 Blake Squares\\nSouth Anthony, KY 08026   \n",
       "3        David Burke            2432 Gregory Road\\nBrianville, MD 99108   \n",
       "4       David Hansen       30475 Levine Plaza\\nRamirezborough, NV 73324   \n",
       "5      Patrick Davis                   Unit 7105 Box 3144\\nDPO AE 55904   \n",
       "6        Thomas Rowe        11124 William Gardens\\nPort Kelly, NV 05527   \n",
       "7   Katherine Fields  0641 Robert Extensions Apt. 743\\nLeslieburgh, ...   \n",
       "8          Anne Hart                   Unit 0604 Box 5675\\nDPO AE 21949   \n",
       "9  Matthew Armstrong  76677 Thornton Summit Suite 998\\nBurnettfort, ...   \n",
       "\n",
       "                      Email  Age  Sallary  \n",
       "0        lisa07@example.net   36    39502  \n",
       "1      rmaynard@example.net   43    41168  \n",
       "2   thomaskayla@example.net   24    36462  \n",
       "3  jenniferrowe@example.org   34    27389  \n",
       "4        zgomez@example.net   40    36022  \n",
       "5    patricia66@example.org   41    32140  \n",
       "6   acevedoryan@example.org   30    12764  \n",
       "7  ashleywilson@example.org   44    16504  \n",
       "8   gallegosroy@example.org   20    33242  \n",
       "9       tammy92@example.com   53    22748  "
      ]
     },
     "execution_count": 16,
     "metadata": {},
     "output_type": "execute_result"
    }
   ],
   "source": [
    "df.head(10)"
   ]
  },
  {
   "cell_type": "code",
   "execution_count": 4,
   "metadata": {},
   "outputs": [],
   "source": [
    "# Exercise 5 : Data Augmentation For Images"
   ]
  },
  {
   "cell_type": "code",
   "execution_count": 18,
   "metadata": {},
   "outputs": [],
   "source": [
    "# from tensorflow.keras.preprocessing.image import ImageDataGenerator, array_to_img, img_to_array, load_img\n",
    "\n",
    "# # Define paths\n",
    "# original_dataset_dir = 'original_dataset_folder'\n",
    "# augmented_dataset_dir = 'augmented_dataset_folder'\n",
    "\n",
    "# # Create augmented dataset directory if it doesn't exist\n",
    "# if not os.path.exists(augmented_dataset_dir):\n",
    "#     os.makedirs(augmented_dataset_dir)\n",
    "\n",
    "# # Create an instance of the ImageDataGenerator\n",
    "# datagen = ImageDataGenerator(\n",
    "#     rotation_range=30,  # Rotate images by random angles up to 30 degrees\n",
    "#     width_shift_range=0.2,\n",
    "#     height_shift_range=0.2,\n",
    "#     shear_range=0.2,\n",
    "#     zoom_range=0.2,\n",
    "#     horizontal_flip=True,  # Flip images horizontally\n",
    "#     vertical_flip=True,  # Flip images vertically\n",
    "#     brightness_range=[0.5, 1.5]  # Vary brightness within the range [0.5, 1.5]\n",
    "# )\n",
    "\n",
    "# # Load images from the original dataset folder\n",
    "# for filename in os.listdir(original_dataset_dir):\n",
    "#     img = load_img(os.path.join(original_dataset_dir, filename))\n",
    "#     x = img_to_array(img)\n",
    "#     x = x.reshape((1,) + x.shape)  # Reshape to (1, height, width, channels)\n",
    "\n",
    "#     # Generate augmented images\n",
    "#     i = 0\n",
    "#     for batch in datagen.flow(x, batch_size=1, save_to_dir=augmented_dataset_dir, save_prefix='aug', save_format='jpeg'):\n",
    "#         i += 1\n",
    "#         if i >= 5:  # Generate 5 augmented images per original image\n",
    "#             break  # Stop augmentation loop\n",
    "\n",
    "# print(\"Augmentation complete.\")\n"
   ]
  },
  {
   "cell_type": "code",
   "execution_count": 19,
   "metadata": {},
   "outputs": [],
   "source": [
    "# Exercise 6 : Simulation-Based Dataset Creation"
   ]
  },
  {
   "cell_type": "code",
   "execution_count": 17,
   "metadata": {},
   "outputs": [
    {
     "ename": "TypeError",
     "evalue": "range expected at least 1 argument, got 0",
     "output_type": "error",
     "traceback": [
      "\u001b[1;31m---------------------------------------------------------------------------\u001b[0m",
      "\u001b[1;31mTypeError\u001b[0m                                 Traceback (most recent call last)",
      "Cell \u001b[1;32mIn[17], line 2\u001b[0m\n\u001b[0;32m      1\u001b[0m data \u001b[38;5;241m=\u001b[39m []\n\u001b[1;32m----> 2\u001b[0m \u001b[38;5;28;01mfor\u001b[39;00m _ \u001b[38;5;129;01min\u001b[39;00m \u001b[38;5;28;43mrange\u001b[39;49m\u001b[43m \u001b[49m\u001b[43m(\u001b[49m\u001b[43m)\u001b[49m:\n\u001b[0;32m      3\u001b[0m     \u001b[38;5;28mid\u001b[39m\n\u001b[0;32m      7\u001b[0m     data\u001b[38;5;241m.\u001b[39mappend()\n",
      "\u001b[1;31mTypeError\u001b[0m: range expected at least 1 argument, got 0"
     ]
    }
   ],
   "source": [
    "# # Define parameters\n",
    "# city_layout = {...}  # Dictionary defining the city layout and road network\n",
    "# vehicle_types = {...}  # Dictionary defining characteristics of different vehicle types\n",
    "# time_periods = {...}  # Dictionary defining different time periods and traffic conditions\n",
    "\n",
    "# # Function to simulate traffic flow\n",
    "# def simulate_traffic(num_iterations, time_period):\n",
    "#     traffic_data = []\n",
    "#     for _ in range(num_iterations):\n",
    "#         # Simulate vehicles movement based on city layout and road network\n",
    "#         for road_segment in city_layout:\n",
    "#             # Simulate vehicles behavior on each road segment\n",
    "#             for vehicle_type in vehicle_types:\n",
    "#                 # Generate vehicle counts, speeds, etc. based on time period and road characteristics\n",
    "#                 vehicle_count = ...  # Simulate vehicle counts\n",
    "#                 average_speed = ...  # Simulate average speed\n",
    "#                 # Add additional data such as vehicle type, road type, etc.\n",
    "#                 traffic_data.append({\n",
    "#                     'Time_Period': time_period,\n",
    "#                     'Road_Segment': road_segment,\n",
    "#                     'Vehicle_Type': vehicle_type,\n",
    "#                     'Vehicle_Count': vehicle_count,\n",
    "#                     'Average_Speed': average_speed\n",
    "#                     # Add more fields as needed\n",
    "#                 })\n",
    "#     return traffic_data\n",
    "\n",
    "# # Simulate traffic data for different time periods\n",
    "# all_traffic_data = []\n",
    "# for time_period in time_periods:\n",
    "#     traffic_data = simulate_traffic(num_iterations=1000, time_period=time_period)\n",
    "#     all_traffic_data.extend(traffic_data)\n",
    "\n",
    "# # Convert simulated data to DataFrame\n",
    "# traffic_df = pd.DataFrame(all_traffic_data)\n",
    "\n",
    "# # Save simulated dataset to CSV file\n",
    "# traffic_df.to_csv('simulated_traffic_data.csv', index=False)\n"
   ]
  },
  {
   "cell_type": "code",
   "execution_count": null,
   "metadata": {},
   "outputs": [],
   "source": [
    "df['column_name'] = df['column_name'] * value"
   ]
  }
 ],
 "metadata": {
  "kernelspec": {
   "display_name": "Python 3",
   "language": "python",
   "name": "python3"
  },
  "language_info": {
   "codemirror_mode": {
    "name": "ipython",
    "version": 3
   },
   "file_extension": ".py",
   "mimetype": "text/x-python",
   "name": "python",
   "nbconvert_exporter": "python",
   "pygments_lexer": "ipython3",
   "version": "3.12.1"
  }
 },
 "nbformat": 4,
 "nbformat_minor": 2
}
