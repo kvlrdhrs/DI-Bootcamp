{
 "cells": [
  {
   "cell_type": "code",
   "execution_count": null,
   "metadata": {},
   "outputs": [],
   "source": [
    "import matplotlib.pyplot as plt\n",
    "from PIL import Image, ImageOps\n",
    "\n",
    "# Load an image from the dataset (replace 'path_to_image' with the actual path)\n",
    "original_image_path = 'PATH}'\n",
    "original_image = Image.open(original_image_path)\n",
    "\n",
    "# Rotate the image by 90 degrees\n",
    "rotated_image = original_image.rotate(90)\n",
    "\n",
    "# Flip the image horizontally and vertically\n",
    "flipped_image = ImageOps.flip(ImageOps.mirror(original_image))\n",
    "\n",
    "# Zoom in on the image (scale by 1.2x)\n",
    "zoomed_image = original_image.resize((int(original_image.width * 1.2), int(original_image.height * 1.2)))\n",
    "\n",
    "# Define a function to display original and augmented images side by side\n",
    "def show_images(original, augmented, title):\n",
    "    plt.figure(figsize=(12, 6))\n",
    "    \n",
    "    # Display original image\n",
    "    plt.subplot(1, 2, 1)\n",
    "    plt.imshow(original)\n",
    "    plt.title('Original Image')\n",
    "    plt.axis('off')\n",
    "\n",
    "    # Display augmented image\n",
    "    plt.subplot(1, 2, 2)\n",
    "    plt.imshow(augmented)\n",
    "    plt.title(title)\n",
    "    plt.axis('off')\n",
    "\n",
    "    plt.show()\n",
    "\n",
    "# Display the original and augmented images side by side\n",
    "show_images(original_image, rotated_image, 'Rotated Image (90 degrees)')\n",
    "show_images(original_image, flipped_image, 'Flipped Image (Horizontal & Vertical)')\n",
    "show_images(original_image, zoomed_image, 'Zoomed Image (1.2x)')"
   ]
  }
 ],
 "metadata": {
  "language_info": {
   "name": "python"
  }
 },
 "nbformat": 4,
 "nbformat_minor": 2
}
