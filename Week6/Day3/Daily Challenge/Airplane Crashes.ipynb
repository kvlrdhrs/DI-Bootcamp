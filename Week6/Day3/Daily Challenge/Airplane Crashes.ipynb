{
 "cells": [
  {
   "cell_type": "markdown",
   "metadata": {},
   "source": [
    "# Analysis Of Airplane Crashes|"
   ]
  },
  {
   "cell_type": "code",
   "execution_count": 1,
   "metadata": {},
   "outputs": [],
   "source": [
    "import pandas as pd\n",
    "import numpy as np"
   ]
  },
  {
   "cell_type": "code",
   "execution_count": 2,
   "metadata": {},
   "outputs": [
    {
     "data": {
      "text/html": [
       "<div>\n",
       "<style scoped>\n",
       "    .dataframe tbody tr th:only-of-type {\n",
       "        vertical-align: middle;\n",
       "    }\n",
       "\n",
       "    .dataframe tbody tr th {\n",
       "        vertical-align: top;\n",
       "    }\n",
       "\n",
       "    .dataframe thead th {\n",
       "        text-align: right;\n",
       "    }\n",
       "</style>\n",
       "<table border=\"1\" class=\"dataframe\">\n",
       "  <thead>\n",
       "    <tr style=\"text-align: right;\">\n",
       "      <th></th>\n",
       "      <th>Date</th>\n",
       "      <th>Time</th>\n",
       "      <th>Location</th>\n",
       "      <th>Operator</th>\n",
       "      <th>Flight #</th>\n",
       "      <th>Route</th>\n",
       "      <th>AC Type</th>\n",
       "      <th>Registration</th>\n",
       "      <th>cn/ln</th>\n",
       "      <th>Aboard</th>\n",
       "      <th>Aboard Passangers</th>\n",
       "      <th>Aboard Crew</th>\n",
       "      <th>Fatalities</th>\n",
       "      <th>Fatalities Passangers</th>\n",
       "      <th>Fatalities Crew</th>\n",
       "      <th>Ground</th>\n",
       "      <th>Summary</th>\n",
       "    </tr>\n",
       "  </thead>\n",
       "  <tbody>\n",
       "    <tr>\n",
       "      <th>0</th>\n",
       "      <td>9/17/1908</td>\n",
       "      <td>17:18</td>\n",
       "      <td>Fort Myer, Virginia</td>\n",
       "      <td>Military - U.S. Army</td>\n",
       "      <td>NaN</td>\n",
       "      <td>Demonstration</td>\n",
       "      <td>Wright Flyer III</td>\n",
       "      <td>NaN</td>\n",
       "      <td>1</td>\n",
       "      <td>2.0</td>\n",
       "      <td>1.0</td>\n",
       "      <td>1.0</td>\n",
       "      <td>1.0</td>\n",
       "      <td>1.0</td>\n",
       "      <td>0.0</td>\n",
       "      <td>0.0</td>\n",
       "      <td>During a demonstration flight, a U.S. Army fly...</td>\n",
       "    </tr>\n",
       "    <tr>\n",
       "      <th>1</th>\n",
       "      <td>9/7/1909</td>\n",
       "      <td>NaN</td>\n",
       "      <td>Juvisy-sur-Orge, France</td>\n",
       "      <td>NaN</td>\n",
       "      <td>NaN</td>\n",
       "      <td>Air show</td>\n",
       "      <td>Wright Byplane</td>\n",
       "      <td>SC1</td>\n",
       "      <td>NaN</td>\n",
       "      <td>1.0</td>\n",
       "      <td>0.0</td>\n",
       "      <td>1.0</td>\n",
       "      <td>1.0</td>\n",
       "      <td>0.0</td>\n",
       "      <td>0.0</td>\n",
       "      <td>0.0</td>\n",
       "      <td>Eugene Lefebvre was the first pilot to ever be...</td>\n",
       "    </tr>\n",
       "    <tr>\n",
       "      <th>2</th>\n",
       "      <td>7/12/1912</td>\n",
       "      <td>6:30</td>\n",
       "      <td>Atlantic City, New Jersey</td>\n",
       "      <td>Military - U.S. Navy</td>\n",
       "      <td>NaN</td>\n",
       "      <td>Test flight</td>\n",
       "      <td>Dirigible</td>\n",
       "      <td>NaN</td>\n",
       "      <td>NaN</td>\n",
       "      <td>5.0</td>\n",
       "      <td>0.0</td>\n",
       "      <td>5.0</td>\n",
       "      <td>5.0</td>\n",
       "      <td>0.0</td>\n",
       "      <td>5.0</td>\n",
       "      <td>0.0</td>\n",
       "      <td>First U.S. dirigible Akron exploded just offsh...</td>\n",
       "    </tr>\n",
       "    <tr>\n",
       "      <th>3</th>\n",
       "      <td>8/6/1913</td>\n",
       "      <td>NaN</td>\n",
       "      <td>Victoria, British Columbia, Canada</td>\n",
       "      <td>Private</td>\n",
       "      <td>NaN</td>\n",
       "      <td>NaN</td>\n",
       "      <td>Curtiss seaplane</td>\n",
       "      <td>NaN</td>\n",
       "      <td>NaN</td>\n",
       "      <td>1.0</td>\n",
       "      <td>0.0</td>\n",
       "      <td>1.0</td>\n",
       "      <td>1.0</td>\n",
       "      <td>0.0</td>\n",
       "      <td>1.0</td>\n",
       "      <td>0.0</td>\n",
       "      <td>The first fatal airplane accident in Canada oc...</td>\n",
       "    </tr>\n",
       "    <tr>\n",
       "      <th>4</th>\n",
       "      <td>9/9/1913</td>\n",
       "      <td>18:30</td>\n",
       "      <td>Over the North Sea</td>\n",
       "      <td>Military - German Navy</td>\n",
       "      <td>NaN</td>\n",
       "      <td>NaN</td>\n",
       "      <td>Zeppelin L-1 (airship)</td>\n",
       "      <td>NaN</td>\n",
       "      <td>NaN</td>\n",
       "      <td>20.0</td>\n",
       "      <td>NaN</td>\n",
       "      <td>NaN</td>\n",
       "      <td>14.0</td>\n",
       "      <td>NaN</td>\n",
       "      <td>NaN</td>\n",
       "      <td>0.0</td>\n",
       "      <td>The airship flew into a thunderstorm and encou...</td>\n",
       "    </tr>\n",
       "  </tbody>\n",
       "</table>\n",
       "</div>"
      ],
      "text/plain": [
       "        Date   Time                            Location  \\\n",
       "0  9/17/1908  17:18                 Fort Myer, Virginia   \n",
       "1   9/7/1909    NaN             Juvisy-sur-Orge, France   \n",
       "2  7/12/1912   6:30           Atlantic City, New Jersey   \n",
       "3   8/6/1913    NaN  Victoria, British Columbia, Canada   \n",
       "4   9/9/1913  18:30                  Over the North Sea   \n",
       "\n",
       "                 Operator Flight #          Route                 AC Type  \\\n",
       "0    Military - U.S. Army      NaN  Demonstration        Wright Flyer III   \n",
       "1                     NaN      NaN       Air show          Wright Byplane   \n",
       "2    Military - U.S. Navy      NaN    Test flight               Dirigible   \n",
       "3                 Private      NaN            NaN        Curtiss seaplane   \n",
       "4  Military - German Navy      NaN            NaN  Zeppelin L-1 (airship)   \n",
       "\n",
       "  Registration cn/ln  Aboard  Aboard Passangers  Aboard Crew  Fatalities  \\\n",
       "0          NaN     1     2.0                1.0          1.0         1.0   \n",
       "1          SC1   NaN     1.0                0.0          1.0         1.0   \n",
       "2          NaN   NaN     5.0                0.0          5.0         5.0   \n",
       "3          NaN   NaN     1.0                0.0          1.0         1.0   \n",
       "4          NaN   NaN    20.0                NaN          NaN        14.0   \n",
       "\n",
       "   Fatalities Passangers  Fatalities Crew  Ground  \\\n",
       "0                    1.0              0.0     0.0   \n",
       "1                    0.0              0.0     0.0   \n",
       "2                    0.0              5.0     0.0   \n",
       "3                    0.0              1.0     0.0   \n",
       "4                    NaN              NaN     0.0   \n",
       "\n",
       "                                             Summary  \n",
       "0  During a demonstration flight, a U.S. Army fly...  \n",
       "1  Eugene Lefebvre was the first pilot to ever be...  \n",
       "2  First U.S. dirigible Akron exploded just offsh...  \n",
       "3  The first fatal airplane accident in Canada oc...  \n",
       "4  The airship flew into a thunderstorm and encou...  "
      ]
     },
     "execution_count": 2,
     "metadata": {},
     "output_type": "execute_result"
    }
   ],
   "source": [
    "df_airplane = pd.read_csv('Airplane_Crashes_and_Fatalities_Since_1908_t0_2023.csv',encoding='latin-1')\n",
    "df = df_airplane.copy()\n",
    "df.head()"
   ]
  },
  {
   "cell_type": "code",
   "execution_count": 5,
   "metadata": {},
   "outputs": [
    {
     "name": "stdout",
     "output_type": "stream",
     "text": [
      "<class 'pandas.core.frame.DataFrame'>\n",
      "RangeIndex: 4998 entries, 0 to 4997\n",
      "Data columns (total 17 columns):\n",
      " #   Column                 Non-Null Count  Dtype  \n",
      "---  ------                 --------------  -----  \n",
      " 0   Date                   4998 non-null   object \n",
      " 1   Time                   3486 non-null   object \n",
      " 2   Location               4994 non-null   object \n",
      " 3   Operator               4988 non-null   object \n",
      " 4   Flight #               1329 non-null   object \n",
      " 5   Route                  4221 non-null   object \n",
      " 6   AC Type                4983 non-null   object \n",
      " 7   Registration           4724 non-null   object \n",
      " 8   cn/ln                  4330 non-null   object \n",
      " 9   Aboard                 4980 non-null   float64\n",
      " 10  Aboard Passangers      4769 non-null   float64\n",
      " 11  Aboard Crew            4772 non-null   float64\n",
      " 12  Fatalities             4990 non-null   float64\n",
      " 13  Fatalities Passangers  4756 non-null   float64\n",
      " 14  Fatalities Crew        4757 non-null   float64\n",
      " 15  Ground                 4956 non-null   float64\n",
      " 16  Summary                4934 non-null   object \n",
      "dtypes: float64(7), object(10)\n",
      "memory usage: 663.9+ KB\n"
     ]
    }
   ],
   "source": [
    "df.info()"
   ]
  },
  {
   "cell_type": "code",
   "execution_count": 6,
   "metadata": {},
   "outputs": [
    {
     "data": {
      "text/plain": [
       "(4998, 17)"
      ]
     },
     "execution_count": 6,
     "metadata": {},
     "output_type": "execute_result"
    }
   ],
   "source": [
    "df.shape"
   ]
  },
  {
   "cell_type": "markdown",
   "metadata": {},
   "source": [
    "# Data preprocessing"
   ]
  },
  {
   "cell_type": "code",
   "execution_count": 8,
   "metadata": {},
   "outputs": [
    {
     "data": {
      "text/plain": [
       "Date                        0\n",
       "Time                     1512\n",
       "Location                    4\n",
       "Operator                   10\n",
       "Flight #                 3669\n",
       "Route                     777\n",
       "AC Type                    15\n",
       "Registration              274\n",
       "cn/ln                     668\n",
       "Aboard                     18\n",
       "Aboard Passangers         229\n",
       "Aboard Crew               226\n",
       "Fatalities                  8\n",
       "Fatalities Passangers     242\n",
       "Fatalities Crew           241\n",
       "Ground                     42\n",
       "Summary                    64\n",
       "dtype: int64"
      ]
     },
     "execution_count": 8,
     "metadata": {},
     "output_type": "execute_result"
    }
   ],
   "source": [
    "# checking missings\n",
    "df.isnull().sum()"
   ]
  },
  {
   "cell_type": "code",
   "execution_count": 14,
   "metadata": {},
   "outputs": [
    {
     "data": {
      "text/plain": [
       "Date                      0.000000\n",
       "Time                     30.252101\n",
       "Location                  0.080032\n",
       "Operator                  0.200080\n",
       "Flight #                 73.409364\n",
       "Route                    15.546218\n",
       "AC Type                   0.300120\n",
       "Registration              5.482193\n",
       "cn/ln                    13.365346\n",
       "Aboard                    0.360144\n",
       "Aboard Passangers         4.581833\n",
       "Aboard Crew               4.521809\n",
       "Fatalities                0.160064\n",
       "Fatalities Passangers     4.841937\n",
       "Fatalities Crew           4.821929\n",
       "Ground                    0.840336\n",
       "Summary                   1.280512\n",
       "dtype: float64"
      ]
     },
     "execution_count": 14,
     "metadata": {},
     "output_type": "execute_result"
    }
   ],
   "source": [
    "df.isnull().mean()*100"
   ]
  },
  {
   "cell_type": "code",
   "execution_count": 12,
   "metadata": {},
   "outputs": [
    {
     "data": {
      "text/plain": [
       "Index(['Date', 'Time', 'Location', 'Operator', 'Flight #', 'Route', 'AC Type',\n",
       "       'Registration', 'cn/ln', 'Aboard', 'Aboard Passangers', 'Aboard Crew',\n",
       "       'Fatalities', 'Fatalities Passangers', 'Fatalities Crew', 'Ground',\n",
       "       'Summary'],\n",
       "      dtype='object')"
      ]
     },
     "execution_count": 12,
     "metadata": {},
     "output_type": "execute_result"
    }
   ],
   "source": [
    "EDA_columns = []"
   ]
  },
  {
   "cell_type": "code",
   "execution_count": null,
   "metadata": {},
   "outputs": [],
   "source": []
  },
  {
   "cell_type": "code",
   "execution_count": 11,
   "metadata": {},
   "outputs": [
    {
     "data": {
      "text/plain": [
       "0"
      ]
     },
     "execution_count": 11,
     "metadata": {},
     "output_type": "execute_result"
    }
   ],
   "source": [
    "# checking duplicated rows\n",
    "df.duplicated().sum()"
   ]
  },
  {
   "cell_type": "markdown",
   "metadata": {},
   "source": [
    "# EDA"
   ]
  },
  {
   "cell_type": "code",
   "execution_count": null,
   "metadata": {},
   "outputs": [],
   "source": [
    "#Use Pandas to explore basic statistics such as the number of crashes, fatalities, and survival rates"
   ]
  },
  {
   "cell_type": "markdown",
   "metadata": {},
   "source": [
    "# Statistical Analysis"
   ]
  },
  {
   "cell_type": "markdown",
   "metadata": {},
   "source": [
    "# Visualization"
   ]
  },
  {
   "cell_type": "markdown",
   "metadata": {},
   "source": [
    "# Insight and Report"
   ]
  },
  {
   "cell_type": "markdown",
   "metadata": {},
   "source": []
  }
 ],
 "metadata": {
  "kernelspec": {
   "display_name": "Python 3",
   "language": "python",
   "name": "python3"
  },
  "language_info": {
   "codemirror_mode": {
    "name": "ipython",
    "version": 3
   },
   "file_extension": ".py",
   "mimetype": "text/x-python",
   "name": "python",
   "nbconvert_exporter": "python",
   "pygments_lexer": "ipython3",
   "version": "3.12.1"
  }
 },
 "nbformat": 4,
 "nbformat_minor": 2
}
