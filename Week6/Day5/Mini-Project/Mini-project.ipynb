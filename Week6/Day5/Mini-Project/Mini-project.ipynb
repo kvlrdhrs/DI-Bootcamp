{
 "cells": [
  {
   "cell_type": "markdown",
   "metadata": {},
   "source": [
    "# Mini-Project: Advanced Statistical Analysis Of Apple Inc. Stock Data"
   ]
  },
  {
   "cell_type": "code",
   "execution_count": 2,
   "metadata": {},
   "outputs": [],
   "source": [
    "# importing\n",
    "import pandas as pd\n",
    "import numpy as np\n",
    "import matplotlib.pyplot as plt\n",
    "import seaborn as sns\n",
    "import scipy.stats as stats"
   ]
  },
  {
   "cell_type": "markdown",
   "metadata": {},
   "source": [
    "# 1. Data Loading and Exploration"
   ]
  },
  {
   "cell_type": "code",
   "execution_count": 3,
   "metadata": {},
   "outputs": [
    {
     "data": {
      "text/html": [
       "<div>\n",
       "<style scoped>\n",
       "    .dataframe tbody tr th:only-of-type {\n",
       "        vertical-align: middle;\n",
       "    }\n",
       "\n",
       "    .dataframe tbody tr th {\n",
       "        vertical-align: top;\n",
       "    }\n",
       "\n",
       "    .dataframe thead th {\n",
       "        text-align: right;\n",
       "    }\n",
       "</style>\n",
       "<table border=\"1\" class=\"dataframe\">\n",
       "  <thead>\n",
       "    <tr style=\"text-align: right;\">\n",
       "      <th></th>\n",
       "      <th>volume</th>\n",
       "      <th>vwap</th>\n",
       "      <th>open</th>\n",
       "      <th>close</th>\n",
       "      <th>high</th>\n",
       "      <th>low</th>\n",
       "      <th>time</th>\n",
       "      <th>transactions</th>\n",
       "    </tr>\n",
       "  </thead>\n",
       "  <tbody>\n",
       "    <tr>\n",
       "      <th>4154</th>\n",
       "      <td>45155523.0</td>\n",
       "      <td>190.8214</td>\n",
       "      <td>189.84</td>\n",
       "      <td>191.8100</td>\n",
       "      <td>192.02</td>\n",
       "      <td>189.200</td>\n",
       "      <td>1688616000</td>\n",
       "      <td>562755</td>\n",
       "    </tr>\n",
       "    <tr>\n",
       "      <th>4155</th>\n",
       "      <td>46757498.0</td>\n",
       "      <td>191.4218</td>\n",
       "      <td>191.41</td>\n",
       "      <td>190.6800</td>\n",
       "      <td>192.67</td>\n",
       "      <td>190.240</td>\n",
       "      <td>1688702400</td>\n",
       "      <td>538826</td>\n",
       "    </tr>\n",
       "    <tr>\n",
       "      <th>4156</th>\n",
       "      <td>59912163.0</td>\n",
       "      <td>188.3628</td>\n",
       "      <td>189.26</td>\n",
       "      <td>188.6100</td>\n",
       "      <td>189.99</td>\n",
       "      <td>187.035</td>\n",
       "      <td>1688961600</td>\n",
       "      <td>736912</td>\n",
       "    </tr>\n",
       "    <tr>\n",
       "      <th>4157</th>\n",
       "      <td>46638119.0</td>\n",
       "      <td>187.8219</td>\n",
       "      <td>189.16</td>\n",
       "      <td>188.0800</td>\n",
       "      <td>189.30</td>\n",
       "      <td>186.600</td>\n",
       "      <td>1689048000</td>\n",
       "      <td>577717</td>\n",
       "    </tr>\n",
       "    <tr>\n",
       "      <th>4158</th>\n",
       "      <td>36423657.0</td>\n",
       "      <td>190.0251</td>\n",
       "      <td>189.68</td>\n",
       "      <td>190.0099</td>\n",
       "      <td>191.70</td>\n",
       "      <td>188.470</td>\n",
       "      <td>1689134400</td>\n",
       "      <td>500776</td>\n",
       "    </tr>\n",
       "  </tbody>\n",
       "</table>\n",
       "</div>"
      ],
      "text/plain": [
       "          volume      vwap    open     close    high      low        time  \\\n",
       "4154  45155523.0  190.8214  189.84  191.8100  192.02  189.200  1688616000   \n",
       "4155  46757498.0  191.4218  191.41  190.6800  192.67  190.240  1688702400   \n",
       "4156  59912163.0  188.3628  189.26  188.6100  189.99  187.035  1688961600   \n",
       "4157  46638119.0  187.8219  189.16  188.0800  189.30  186.600  1689048000   \n",
       "4158  36423657.0  190.0251  189.68  190.0099  191.70  188.470  1689134400   \n",
       "\n",
       "      transactions  \n",
       "4154        562755  \n",
       "4155        538826  \n",
       "4156        736912  \n",
       "4157        577717  \n",
       "4158        500776  "
      ]
     },
     "execution_count": 3,
     "metadata": {},
     "output_type": "execute_result"
    }
   ],
   "source": [
    "df_Apple = pd.read_csv('https://raw.githubusercontent.com/devtlv/MiniProject-DataAnalysis-W6D5-Apple_Stock_Data/main/AAPL%2C%201D%2001012007-12072023.csv')\n",
    "df = df_Apple.copy()\n",
    "df.tail()"
   ]
  },
  {
   "cell_type": "code",
   "execution_count": 4,
   "metadata": {},
   "outputs": [
    {
     "name": "stdout",
     "output_type": "stream",
     "text": [
      "<class 'pandas.core.frame.DataFrame'>\n",
      "RangeIndex: 4159 entries, 0 to 4158\n",
      "Data columns (total 8 columns):\n",
      " #   Column        Non-Null Count  Dtype  \n",
      "---  ------        --------------  -----  \n",
      " 0   volume        4159 non-null   float64\n",
      " 1   vwap          4159 non-null   float64\n",
      " 2   open          4159 non-null   float64\n",
      " 3   close         4159 non-null   float64\n",
      " 4   high          4159 non-null   float64\n",
      " 5   low           4159 non-null   float64\n",
      " 6   time          4159 non-null   int64  \n",
      " 7   transactions  4159 non-null   int64  \n",
      "dtypes: float64(6), int64(2)\n",
      "memory usage: 260.1 KB\n"
     ]
    }
   ],
   "source": [
    "df.info()"
   ]
  },
  {
   "cell_type": "code",
   "execution_count": 5,
   "metadata": {},
   "outputs": [
    {
     "data": {
      "text/plain": [
       "volume          0\n",
       "vwap            0\n",
       "open            0\n",
       "close           0\n",
       "high            0\n",
       "low             0\n",
       "time            0\n",
       "transactions    0\n",
       "dtype: int64"
      ]
     },
     "execution_count": 5,
     "metadata": {},
     "output_type": "execute_result"
    }
   ],
   "source": [
    "# cheching missings\n",
    "df.isnull().sum()"
   ]
  },
  {
   "cell_type": "code",
   "execution_count": 6,
   "metadata": {},
   "outputs": [
    {
     "data": {
      "text/plain": [
       "array([1167800400, 1167886800, 1167973200, ..., 1688961600, 1689048000,\n",
       "       1689134400], dtype=int64)"
      ]
     },
     "execution_count": 6,
     "metadata": {},
     "output_type": "execute_result"
    }
   ],
   "source": [
    "# checking time series properties of the data\n",
    "df['time'].unique()"
   ]
  },
  {
   "cell_type": "code",
   "execution_count": 9,
   "metadata": {},
   "outputs": [],
   "source": [
    "df['time'] = pd.to_datetime(df['time'], unit='s')"
   ]
  },
  {
   "cell_type": "code",
   "execution_count": 12,
   "metadata": {},
   "outputs": [
    {
     "name": "stdout",
     "output_type": "stream",
     "text": [
      "2007-01-03 05:00:00\n",
      "2023-07-12 04:00:00\n",
      "4159\n"
     ]
    }
   ],
   "source": [
    "print(df['time'].min())\n",
    "print(df['time'].max())\n",
    "print(df['time'].count())"
   ]
  },
  {
   "cell_type": "code",
   "execution_count": 32,
   "metadata": {},
   "outputs": [
    {
     "name": "stdout",
     "output_type": "stream",
     "text": [
      "    time  Count Percentage\n",
      "0   2007    251         6%\n",
      "1   2008    253         6%\n",
      "2   2009    252         6%\n",
      "3   2010    252         6%\n",
      "4   2011    252         6%\n",
      "5   2012    250         6%\n",
      "6   2013    252         6%\n",
      "7   2014    252         6%\n",
      "8   2015    252         6%\n",
      "9   2016    252         6%\n",
      "10  2017    251         6%\n",
      "11  2018    251         6%\n",
      "12  2019    252         6%\n",
      "13  2020    253         6%\n",
      "14  2021    252         6%\n",
      "15  2022    251         6%\n",
      "16  2023    131         3%\n"
     ]
    }
   ],
   "source": [
    "# Calculate counts by year\n",
    "counts_by_year = df.groupby(df['time'].dt.year).size().reset_index(name='Count')\n",
    "\n",
    "# Calculate total count\n",
    "total_count = counts_by_year['Count'].sum()\n",
    "\n",
    "# Calculate percentage of total count\n",
    "counts_by_year['Percentage'] = (counts_by_year['Count'] / total_count * 100).map('{:.0f}%'.format)\n",
    "\n",
    "print(counts_by_year)"
   ]
  },
  {
   "cell_type": "markdown",
   "metadata": {},
   "source": [
    "# 2. Data Visualization\n"
   ]
  },
  {
   "cell_type": "code",
   "execution_count": 71,
   "metadata": {},
   "outputs": [
    {
     "data": {
      "image/png": "[encoded data removed]",
      "text/plain": [
       "<Figure size 800x575 with 4 Axes>"
      ]
     },
     "metadata": {},
     "output_type": "display_data"
    }
   ],
   "source": [
    "# creating a candlestick chart to depict prices and traded volume in 2023\n",
    "\n",
    "import mplfinance as mpf\n",
    "tdf = df.loc['2023-01-01 04:00:00':'2023-07-12 04:00:00', :]\n",
    "mpf.plot(tdf,type='candle',mav=(200),volume=True, datetime_format='%Y-%m')"
   ]
  },
  {
   "cell_type": "markdown",
   "metadata": {},
   "source": [
    "# 3. Statistical Analysis\n"
   ]
  },
  {
   "cell_type": "code",
   "execution_count": 67,
   "metadata": {},
   "outputs": [
    {
     "data": {
      "text/html": [
       "<div>\n",
       "<style scoped>\n",
       "    .dataframe tbody tr th:only-of-type {\n",
       "        vertical-align: middle;\n",
       "    }\n",
       "\n",
       "    .dataframe tbody tr th {\n",
       "        vertical-align: top;\n",
       "    }\n",
       "\n",
       "    .dataframe thead th {\n",
       "        text-align: right;\n",
       "    }\n",
       "</style>\n",
       "<table border=\"1\" class=\"dataframe\">\n",
       "  <thead>\n",
       "    <tr style=\"text-align: right;\">\n",
       "      <th></th>\n",
       "      <th>count</th>\n",
       "      <th>mean</th>\n",
       "      <th>std</th>\n",
       "      <th>min</th>\n",
       "      <th>25%</th>\n",
       "      <th>50%</th>\n",
       "      <th>75%</th>\n",
       "      <th>max</th>\n",
       "    </tr>\n",
       "  </thead>\n",
       "  <tbody>\n",
       "    <tr>\n",
       "      <th>volume</th>\n",
       "      <td>4159</td>\n",
       "      <td>366292450</td>\n",
       "      <td>372479281</td>\n",
       "      <td>24222338</td>\n",
       "      <td>106749696</td>\n",
       "      <td>213646276</td>\n",
       "      <td>496532070</td>\n",
       "      <td>3373042176</td>\n",
       "    </tr>\n",
       "    <tr>\n",
       "      <th>vwap</th>\n",
       "      <td>4159</td>\n",
       "      <td>46</td>\n",
       "      <td>50</td>\n",
       "      <td>3</td>\n",
       "      <td>12</td>\n",
       "      <td>26</td>\n",
       "      <td>52</td>\n",
       "      <td>193</td>\n",
       "    </tr>\n",
       "    <tr>\n",
       "      <th>open</th>\n",
       "      <td>4159</td>\n",
       "      <td>46</td>\n",
       "      <td>50</td>\n",
       "      <td>3</td>\n",
       "      <td>12</td>\n",
       "      <td>26</td>\n",
       "      <td>52</td>\n",
       "      <td>194</td>\n",
       "    </tr>\n",
       "    <tr>\n",
       "      <th>close</th>\n",
       "      <td>4159</td>\n",
       "      <td>46</td>\n",
       "      <td>50</td>\n",
       "      <td>3</td>\n",
       "      <td>12</td>\n",
       "      <td>26</td>\n",
       "      <td>52</td>\n",
       "      <td>194</td>\n",
       "    </tr>\n",
       "    <tr>\n",
       "      <th>high</th>\n",
       "      <td>4159</td>\n",
       "      <td>47</td>\n",
       "      <td>51</td>\n",
       "      <td>3</td>\n",
       "      <td>12</td>\n",
       "      <td>26</td>\n",
       "      <td>53</td>\n",
       "      <td>194</td>\n",
       "    </tr>\n",
       "    <tr>\n",
       "      <th>low</th>\n",
       "      <td>4159</td>\n",
       "      <td>46</td>\n",
       "      <td>50</td>\n",
       "      <td>3</td>\n",
       "      <td>12</td>\n",
       "      <td>26</td>\n",
       "      <td>52</td>\n",
       "      <td>192</td>\n",
       "    </tr>\n",
       "    <tr>\n",
       "      <th>transactions</th>\n",
       "      <td>4159</td>\n",
       "      <td>270932</td>\n",
       "      <td>251086</td>\n",
       "      <td>30487</td>\n",
       "      <td>112815</td>\n",
       "      <td>178246</td>\n",
       "      <td>325956</td>\n",
       "      <td>2966979</td>\n",
       "    </tr>\n",
       "  </tbody>\n",
       "</table>\n",
       "</div>"
      ],
      "text/plain": [
       "             count       mean        std       min        25%        50%  \\\n",
       "volume        4159  366292450  372479281  24222338  106749696  213646276   \n",
       "vwap          4159         46         50         3         12         26   \n",
       "open          4159         46         50         3         12         26   \n",
       "close         4159         46         50         3         12         26   \n",
       "high          4159         47         51         3         12         26   \n",
       "low           4159         46         50         3         12         26   \n",
       "transactions  4159     270932     251086     30487     112815     178246   \n",
       "\n",
       "                    75%         max  \n",
       "volume        496532070  3373042176  \n",
       "vwap                 52         193  \n",
       "open                 52         194  \n",
       "close                52         194  \n",
       "high                 53         194  \n",
       "low                  52         192  \n",
       "transactions     325956     2966979  "
      ]
     },
     "execution_count": 67,
     "metadata": {},
     "output_type": "execute_result"
    }
   ],
   "source": [
    "# computing summary statistics (mean, median, standard deviation) for key columns\n",
    "\n",
    "df.describe().T.map('{:.0f}'.format)"
   ]
  },
  {
   "cell_type": "code",
   "execution_count": 72,
   "metadata": {},
   "outputs": [
    {
     "data": {
      "image/png": "[encoded data removed]",
      "text/plain": [
       "<Figure size 800x575 with 4 Axes>"
      ]
     },
     "metadata": {},
     "output_type": "display_data"
    }
   ],
   "source": [
    "# Plotting the candlestick chart with a 50-day moving average\n",
    "tdf = df.loc['2023-01-01 04:00:00':'2023-07-12 04:00:00', :]\n",
    "mpf.plot(tdf,type='candle',mav=(50),volume=True, datetime_format='%Y-%m')"
   ]
  },
  {
   "cell_type": "markdown",
   "metadata": {},
   "source": [
    "# 4. Hypothesis Testing"
   ]
  },
  {
   "cell_type": "code",
   "execution_count": null,
   "metadata": {},
   "outputs": [],
   "source": [
    "# Executing a t-test to compare average closing prices across different years."
   ]
  },
  {
   "cell_type": "markdown",
   "metadata": {},
   "source": [
    "# 5. Advanced Statistical Techniques (Bonus)\n"
   ]
  },
  {
   "cell_type": "markdown",
   "metadata": {},
   "source": [
    "# 6. Summary and Insights"
   ]
  },
  {
   "cell_type": "markdown",
   "metadata": {},
   "source": [
    "# 7. Reflection"
   ]
  },
  {
   "cell_type": "markdown",
   "metadata": {},
   "source": []
  }
 ],
 "metadata": {
  "kernelspec": {
   "display_name": "Python 3",
   "language": "python",
   "name": "python3"
  },
  "language_info": {
   "codemirror_mode": {
    "name": "ipython",
    "version": 3
   },
   "file_extension": ".py",
   "mimetype": "text/x-python",
   "name": "python",
   "nbconvert_exporter": "python",
   "pygments_lexer": "ipython3",
   "version": "3.12.1"
  }
 },
 "nbformat": 4,
 "nbformat_minor": 2
}
