{
 "cells": [
  {
   "cell_type": "code",
   "execution_count": 2,
   "metadata": {},
   "outputs": [
    {
     "data": {
      "text/plain": [
       "array([0, 1, 2, 3, 4, 5, 6, 7, 8, 9])"
      ]
     },
     "execution_count": 2,
     "metadata": {},
     "output_type": "execute_result"
    }
   ],
   "source": [
    "import numpy as np\n",
    "# Exercise 1 : Array Creation And Manipulation\n",
    "\n",
    "array1 = np.array([0, 1, 2, 3, 4, 5, 6, 7, 8, 9])\n",
    "\n",
    "array1_1 = np.arange(0,10)\n",
    "array1_2 = np.linspace(0,9,10, dtype=int)\n",
    "# print(array1)\n",
    "# print(array1_1)\n",
    "array1_2"
   ]
  },
  {
   "cell_type": "code",
   "execution_count": 3,
   "metadata": {},
   "outputs": [
    {
     "data": {
      "text/plain": [
       "array([3, 2, 0, 1, 2])"
      ]
     },
     "execution_count": 3,
     "metadata": {},
     "output_type": "execute_result"
    }
   ],
   "source": [
    "# Exercise 2 : Type Conversion And Array Operations\n",
    "list2 = [3.14, 2.17, 0, 1, 2]\n",
    "array2 = np.array(list2).astype(int)\n",
    "array2"
   ]
  },
  {
   "cell_type": "code",
   "execution_count": 4,
   "metadata": {},
   "outputs": [
    {
     "data": {
      "text/plain": [
       "array([[1, 2, 3],\n",
       "       [4, 5, 6],\n",
       "       [7, 8, 9]])"
      ]
     },
     "execution_count": 4,
     "metadata": {},
     "output_type": "execute_result"
    }
   ],
   "source": [
    "# Exercise 3 : Working With Multi-Dimensional Arrays\n",
    "array3 = np.arange(1,10).reshape(3,3)\n",
    "# array3\n",
    "array3_3 = np.linspace(1,9,9, dtype=int).reshape(3,3)\n",
    "array3_3"
   ]
  },
  {
   "cell_type": "code",
   "execution_count": 5,
   "metadata": {},
   "outputs": [
    {
     "data": {
      "text/plain": [
       "array([[0.31, 0.88, 0.48, 0.77, 0.61],\n",
       "       [0.98, 0.58, 0.35, 0.55, 0.13],\n",
       "       [0.39, 0.29, 0.58, 0.46, 0.71],\n",
       "       [0.81, 0.13, 0.94, 0.12, 0.44]])"
      ]
     },
     "execution_count": 5,
     "metadata": {},
     "output_type": "execute_result"
    }
   ],
   "source": [
    "# Exercise 4 : Creating Multi-Dimensional Array With Random\n",
    "array4 = np.random.rand(4,5)\n",
    "np.set_printoptions(precision=2)\n",
    "array4"
   ]
  },
  {
   "cell_type": "code",
   "execution_count": 6,
   "metadata": {},
   "outputs": [
    {
     "data": {
      "text/plain": [
       "array([[20, 21, 22, 23, 24]])"
      ]
     },
     "execution_count": 6,
     "metadata": {},
     "output_type": "execute_result"
    }
   ],
   "source": [
    "# Exercise 5 : Indexing Arrays\n",
    "array5 = np.arange(15,25,1).reshape(2,5)\n",
    "array5[1:]"
   ]
  },
  {
   "cell_type": "code",
   "execution_count": 32,
   "metadata": {},
   "outputs": [
    {
     "data": {
      "text/plain": [
       "array([9, 8, 7, 6, 5, 4, 3, 2, 1, 0])"
      ]
     },
     "execution_count": 32,
     "metadata": {},
     "output_type": "execute_result"
    }
   ],
   "source": [
    "# Exercise 6 : Reversing Elements\n",
    "array6 = np.linspace(0,9,10, dtype=int)\n",
    "array6[::-1]"
   ]
  },
  {
   "cell_type": "code",
   "execution_count": 39,
   "metadata": {},
   "outputs": [
    {
     "data": {
      "text/plain": [
       "array([[1., 1., 0., 1.],\n",
       "       [0., 0., 0., 1.],\n",
       "       [1., 0., 0., 1.],\n",
       "       [0., 1., 1., 0.]])"
      ]
     },
     "execution_count": 39,
     "metadata": {},
     "output_type": "execute_result"
    }
   ],
   "source": [
    "# Exercise 7 : Identity Matrix\n",
    "array7 = np.random.rand(4,4)\n",
    "np.set_printoptions(precision=0)\n",
    "array7"
   ]
  },
  {
   "cell_type": "code",
   "execution_count": 48,
   "metadata": {},
   "outputs": [
    {
     "name": "stdout",
     "output_type": "stream",
     "text": [
      "Sum: 45, Average: 4.5\n"
     ]
    }
   ],
   "source": [
    "# Exercise 8 : Simple Aggregate Funcs\n",
    "array8 = np.arange(0,10,1)\n",
    "print(f\"Sum: {np.sum(array8)}, Average: {np.mean(array8)}\")"
   ]
  }
 ],
 "metadata": {
  "kernelspec": {
   "display_name": "Python 3",
   "language": "python",
   "name": "python3"
  },
  "language_info": {
   "codemirror_mode": {
    "name": "ipython",
    "version": 3
   },
   "file_extension": ".py",
   "mimetype": "text/x-python",
   "name": "python",
   "nbconvert_exporter": "python",
   "pygments_lexer": "ipython3",
   "version": "3.12.1"
  }
 },
 "nbformat": 4,
 "nbformat_minor": 2
}
