{
 "cells": [
  {
   "cell_type": "code",
   "execution_count": 14,
   "metadata": {},
   "outputs": [
    {
     "data": {
      "text/plain": [
       "array([0, 1, 2, 3, 4, 5, 6, 7, 8, 9])"
      ]
     },
     "execution_count": 14,
     "metadata": {},
     "output_type": "execute_result"
    }
   ],
   "source": [
    "import numpy as np\n",
    "# Exercise 1 : Array Creation And Manipulation\n",
    "\n",
    "array1 = np.array([0, 1, 2, 3, 4, 5, 6, 7, 8, 9])\n",
    "\n",
    "array1_1 = np.arange(0,10)\n",
    "array1_2 = np.linspace(0,9,10, dtype=int)\n",
    "# print(array1)\n",
    "# print(array1_1)\n",
    "array1_2"
   ]
  },
  {
   "cell_type": "code",
   "execution_count": 15,
   "metadata": {},
   "outputs": [
    {
     "data": {
      "text/plain": [
       "array([3, 2, 0, 1, 2])"
      ]
     },
     "execution_count": 15,
     "metadata": {},
     "output_type": "execute_result"
    }
   ],
   "source": [
    "# Exercise 2 : Type Conversion And Array Operations\n",
    "list2 = [3.14, 2.17, 0, 1, 2]\n",
    "array2 = np.array(list2).astype(int)\n",
    "array2"
   ]
  },
  {
   "cell_type": "code",
   "execution_count": 16,
   "metadata": {},
   "outputs": [
    {
     "data": {
      "text/plain": [
       "array([[1, 2, 3],\n",
       "       [4, 5, 6],\n",
       "       [7, 8, 9]])"
      ]
     },
     "execution_count": 16,
     "metadata": {},
     "output_type": "execute_result"
    }
   ],
   "source": [
    "# Exercise 3 : Working With Multi-Dimensional Arrays\n",
    "array3 = np.arange(1,10).reshape(3,3)\n",
    "# array3\n",
    "array3_3 = np.linspace(1,9,9, dtype=int).reshape(3,3)\n",
    "array3_3"
   ]
  },
  {
   "cell_type": "code",
   "execution_count": 20,
   "metadata": {},
   "outputs": [
    {
     "data": {
      "text/plain": [
       "array([[0.68, 0.16, 0.52, 0.23, 0.05],\n",
       "       [0.06, 0.85, 0.59, 0.94, 0.56],\n",
       "       [0.28, 0.67, 0.83, 0.91, 0.85],\n",
       "       [0.86, 0.38, 0.03, 0.83, 0.23]])"
      ]
     },
     "execution_count": 20,
     "metadata": {},
     "output_type": "execute_result"
    }
   ],
   "source": [
    "# Exercise 4 : Creating Multi-Dimensional Array With Random\n",
    "array4 = np.random.rand(4,5)\n",
    "np.set_printoptions(precision=2)\n",
    "array4"
   ]
  },
  {
   "cell_type": "code",
   "execution_count": null,
   "metadata": {},
   "outputs": [],
   "source": []
  }
 ],
 "metadata": {
  "kernelspec": {
   "display_name": "Python 3",
   "language": "python",
   "name": "python3"
  },
  "language_info": {
   "codemirror_mode": {
    "name": "ipython",
    "version": 3
   },
   "file_extension": ".py",
   "mimetype": "text/x-python",
   "name": "python",
   "nbconvert_exporter": "python",
   "pygments_lexer": "ipython3",
   "version": "3.12.1"
  }
 },
 "nbformat": 4,
 "nbformat_minor": 2
}
