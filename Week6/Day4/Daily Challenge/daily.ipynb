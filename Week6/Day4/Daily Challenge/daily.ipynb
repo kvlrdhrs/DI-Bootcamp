{
 "cells": [
  {
   "cell_type": "markdown",
   "metadata": {},
   "source": [
    "# Daily Challenge : Advanced Data Analysis And Problem Solving With SciPy And NumPy"
   ]
  },
  {
   "cell_type": "markdown",
   "metadata": {},
   "source": [
    "# Dataset creation"
   ]
  },
  {
   "cell_type": "code",
   "execution_count": 1,
   "metadata": {},
   "outputs": [],
   "source": [
    "import numpy as np\n",
    "import pandas as pd\n",
    "\n",
    "# Seed for reproducibility\n",
    "np.random.seed(0)\n",
    "\n",
    "# Number of entries\n",
    "n_entries = 1000\n",
    "\n",
    "# Simulating dataset\n",
    "time = np.linspace(0, 100, n_entries)  # Time variable\n",
    "temperature = 20 + 5 * np.sin(np.pi * time / 50) + np.random.normal(0, 0.5, n_entries)  # Temperature (with some noise)\n",
    "pressure = 1013 + 20 * np.cos(np.pi * time / 25) + np.random.normal(0, 1, n_entries)  # Pressure (with some noise)\n",
    "chemical_concentration = 5 + 2 * np.sin(np.pi * time / 10) + np.random.normal(0, 0.2, n_entries)  # Chemical concentration\n",
    "\n",
    "# Creating DataFrame\n",
    "ninja_data = pd.DataFrame({\n",
    "    'Time': time,\n",
    "    'Temperature': temperature,\n",
    "    'Pressure': pressure,\n",
    "    'Chemical Concentration': chemical_concentration\n",
    "})"
   ]
  },
  {
   "cell_type": "code",
   "execution_count": 2,
   "metadata": {},
   "outputs": [
    {
     "data": {
      "text/html": [
       "<div>\n",
       "<style scoped>\n",
       "    .dataframe tbody tr th:only-of-type {\n",
       "        vertical-align: middle;\n",
       "    }\n",
       "\n",
       "    .dataframe tbody tr th {\n",
       "        vertical-align: top;\n",
       "    }\n",
       "\n",
       "    .dataframe thead th {\n",
       "        text-align: right;\n",
       "    }\n",
       "</style>\n",
       "<table border=\"1\" class=\"dataframe\">\n",
       "  <thead>\n",
       "    <tr style=\"text-align: right;\">\n",
       "      <th></th>\n",
       "      <th>Time</th>\n",
       "      <th>Temperature</th>\n",
       "      <th>Pressure</th>\n",
       "      <th>Chemical Concentration</th>\n",
       "    </tr>\n",
       "  </thead>\n",
       "  <tbody>\n",
       "    <tr>\n",
       "      <th>0</th>\n",
       "      <td>0.0000</td>\n",
       "      <td>20.882026</td>\n",
       "      <td>1033.555963</td>\n",
       "      <td>4.693416</td>\n",
       "    </tr>\n",
       "    <tr>\n",
       "      <th>1</th>\n",
       "      <td>0.1001</td>\n",
       "      <td>20.231526</td>\n",
       "      <td>1033.890892</td>\n",
       "      <td>4.720490</td>\n",
       "    </tr>\n",
       "    <tr>\n",
       "      <th>2</th>\n",
       "      <td>0.2002</td>\n",
       "      <td>20.552262</td>\n",
       "      <td>1032.571356</td>\n",
       "      <td>5.134934</td>\n",
       "    </tr>\n",
       "    <tr>\n",
       "      <th>3</th>\n",
       "      <td>0.3003</td>\n",
       "      <td>21.214783</td>\n",
       "      <td>1033.090475</td>\n",
       "      <td>4.996730</td>\n",
       "    </tr>\n",
       "    <tr>\n",
       "      <th>4</th>\n",
       "      <td>0.4004</td>\n",
       "      <td>21.059555</td>\n",
       "      <td>1033.202742</td>\n",
       "      <td>5.234754</td>\n",
       "    </tr>\n",
       "  </tbody>\n",
       "</table>\n",
       "</div>"
      ],
      "text/plain": [
       "     Time  Temperature     Pressure  Chemical Concentration\n",
       "0  0.0000    20.882026  1033.555963                4.693416\n",
       "1  0.1001    20.231526  1033.890892                4.720490\n",
       "2  0.2002    20.552262  1032.571356                5.134934\n",
       "3  0.3003    21.214783  1033.090475                4.996730\n",
       "4  0.4004    21.059555  1033.202742                5.234754"
      ]
     },
     "execution_count": 2,
     "metadata": {},
     "output_type": "execute_result"
    }
   ],
   "source": [
    "df = ninja_data.copy()\n",
    "df.head()"
   ]
  },
  {
   "cell_type": "code",
   "execution_count": 4,
   "metadata": {},
   "outputs": [
    {
     "name": "stdout",
     "output_type": "stream",
     "text": [
      "<class 'pandas.core.frame.DataFrame'>\n",
      "RangeIndex: 1000 entries, 0 to 999\n",
      "Data columns (total 4 columns):\n",
      " #   Column                  Non-Null Count  Dtype  \n",
      "---  ------                  --------------  -----  \n",
      " 0   Time                    1000 non-null   float64\n",
      " 1   Temperature             1000 non-null   float64\n",
      " 2   Pressure                1000 non-null   float64\n",
      " 3   Chemical Concentration  1000 non-null   float64\n",
      "dtypes: float64(4)\n",
      "memory usage: 31.4 KB\n"
     ]
    }
   ],
   "source": [
    "df.info()"
   ]
  },
  {
   "cell_type": "markdown",
   "metadata": {},
   "source": [
    " # 1. Data Transformation:"
   ]
  },
  {
   "cell_type": "code",
   "execution_count": 26,
   "metadata": {},
   "outputs": [],
   "source": [
    "# normalization\n",
    "means = df.mean()\n",
    "stds = df.std()\n",
    "\n",
    "df_normal = (df-means)/stds"
   ]
  },
  {
   "cell_type": "code",
   "execution_count": 27,
   "metadata": {},
   "outputs": [
    {
     "data": {
      "text/html": [
       "<div>\n",
       "<style scoped>\n",
       "    .dataframe tbody tr th:only-of-type {\n",
       "        vertical-align: middle;\n",
       "    }\n",
       "\n",
       "    .dataframe tbody tr th {\n",
       "        vertical-align: top;\n",
       "    }\n",
       "\n",
       "    .dataframe thead th {\n",
       "        text-align: right;\n",
       "    }\n",
       "</style>\n",
       "<table border=\"1\" class=\"dataframe\">\n",
       "  <thead>\n",
       "    <tr style=\"text-align: right;\">\n",
       "      <th></th>\n",
       "      <th>Time</th>\n",
       "      <th>Temperature</th>\n",
       "      <th>Pressure</th>\n",
       "      <th>Chemical Concentration</th>\n",
       "    </tr>\n",
       "  </thead>\n",
       "  <tbody>\n",
       "    <tr>\n",
       "      <th>0</th>\n",
       "      <td>-1.729454</td>\n",
       "      <td>0.253054</td>\n",
       "      <td>1.444895</td>\n",
       "      <td>-0.206291</td>\n",
       "    </tr>\n",
       "    <tr>\n",
       "      <th>1</th>\n",
       "      <td>-1.725992</td>\n",
       "      <td>0.071093</td>\n",
       "      <td>1.468476</td>\n",
       "      <td>-0.187444</td>\n",
       "    </tr>\n",
       "    <tr>\n",
       "      <th>2</th>\n",
       "      <td>-1.722530</td>\n",
       "      <td>0.160811</td>\n",
       "      <td>1.375573</td>\n",
       "      <td>0.101064</td>\n",
       "    </tr>\n",
       "    <tr>\n",
       "      <th>3</th>\n",
       "      <td>-1.719067</td>\n",
       "      <td>0.346135</td>\n",
       "      <td>1.412122</td>\n",
       "      <td>0.004856</td>\n",
       "    </tr>\n",
       "    <tr>\n",
       "      <th>4</th>\n",
       "      <td>-1.715605</td>\n",
       "      <td>0.302714</td>\n",
       "      <td>1.420026</td>\n",
       "      <td>0.170552</td>\n",
       "    </tr>\n",
       "    <tr>\n",
       "      <th>...</th>\n",
       "      <td>...</td>\n",
       "      <td>...</td>\n",
       "      <td>...</td>\n",
       "      <td>...</td>\n",
       "    </tr>\n",
       "    <tr>\n",
       "      <th>995</th>\n",
       "      <td>1.715605</td>\n",
       "      <td>0.028892</td>\n",
       "      <td>1.410852</td>\n",
       "      <td>0.121938</td>\n",
       "    </tr>\n",
       "    <tr>\n",
       "      <th>996</th>\n",
       "      <td>1.719067</td>\n",
       "      <td>-0.047807</td>\n",
       "      <td>1.503425</td>\n",
       "      <td>-0.250366</td>\n",
       "    </tr>\n",
       "    <tr>\n",
       "      <th>997</th>\n",
       "      <td>1.722530</td>\n",
       "      <td>0.001911</td>\n",
       "      <td>1.416461</td>\n",
       "      <td>-0.107164</td>\n",
       "    </tr>\n",
       "    <tr>\n",
       "      <th>998</th>\n",
       "      <td>1.725992</td>\n",
       "      <td>-0.162974</td>\n",
       "      <td>1.325244</td>\n",
       "      <td>-0.205458</td>\n",
       "    </tr>\n",
       "    <tr>\n",
       "      <th>999</th>\n",
       "      <td>1.729454</td>\n",
       "      <td>-0.043757</td>\n",
       "      <td>1.313452</td>\n",
       "      <td>-0.004089</td>\n",
       "    </tr>\n",
       "  </tbody>\n",
       "</table>\n",
       "<p>1000 rows × 4 columns</p>\n",
       "</div>"
      ],
      "text/plain": [
       "         Time  Temperature  Pressure  Chemical Concentration\n",
       "0   -1.729454     0.253054  1.444895               -0.206291\n",
       "1   -1.725992     0.071093  1.468476               -0.187444\n",
       "2   -1.722530     0.160811  1.375573                0.101064\n",
       "3   -1.719067     0.346135  1.412122                0.004856\n",
       "4   -1.715605     0.302714  1.420026                0.170552\n",
       "..        ...          ...       ...                     ...\n",
       "995  1.715605     0.028892  1.410852                0.121938\n",
       "996  1.719067    -0.047807  1.503425               -0.250366\n",
       "997  1.722530     0.001911  1.416461               -0.107164\n",
       "998  1.725992    -0.162974  1.325244               -0.205458\n",
       "999  1.729454    -0.043757  1.313452               -0.004089\n",
       "\n",
       "[1000 rows x 4 columns]"
      ]
     },
     "execution_count": 27,
     "metadata": {},
     "output_type": "execute_result"
    }
   ],
   "source": [
    "df_normal"
   ]
  },
  {
   "cell_type": "code",
   "execution_count": 30,
   "metadata": {},
   "outputs": [
    {
     "name": "stdout",
     "output_type": "stream",
     "text": [
      "-3.907985046680551e-17\n",
      "Time                      0.9995\n",
      "Temperature               0.9995\n",
      "Pressure                  0.9995\n",
      "Chemical Concentration    0.9995\n",
      "dtype: float64\n"
     ]
    },
    {
     "name": "stderr",
     "output_type": "stream",
     "text": [
      "c:\\Users\\kyana\\AppData\\Local\\Programs\\Python\\Python312\\Lib\\site-packages\\numpy\\core\\fromnumeric.py:3643: FutureWarning: The behavior of DataFrame.std with axis=None is deprecated, in a future version this will reduce over both axes and return a scalar. To retain the old behavior, pass axis=0 (or do not pass axis)\n",
      "  return std(axis=axis, dtype=dtype, out=out, ddof=ddof, **kwargs)\n"
     ]
    }
   ],
   "source": [
    "print(np.mean(df_normal))\n",
    "print(np.std(df_normal))"
   ]
  },
  {
   "cell_type": "code",
   "execution_count": 32,
   "metadata": {},
   "outputs": [
    {
     "data": {
      "text/plain": [
       "Time                      1.0\n",
       "Temperature               1.0\n",
       "Pressure                  1.0\n",
       "Chemical Concentration    1.0\n",
       "dtype: float64"
      ]
     },
     "execution_count": 32,
     "metadata": {},
     "output_type": "execute_result"
    }
   ],
   "source": [
    "# Logarithmic Scaling \n",
    "df_normal.var()"
   ]
  },
  {
   "cell_type": "code",
   "execution_count": 33,
   "metadata": {},
   "outputs": [
    {
     "data": {
      "text/plain": [
       "Time                      835.837506\n",
       "Temperature                12.780219\n",
       "Pressure                  201.735150\n",
       "Chemical Concentration      2.063546\n",
       "dtype: float64"
      ]
     },
     "execution_count": 33,
     "metadata": {},
     "output_type": "execute_result"
    }
   ],
   "source": [
    "df.var()"
   ]
  },
  {
   "cell_type": "code",
   "execution_count": 34,
   "metadata": {},
   "outputs": [
    {
     "data": {
      "text/plain": [
       "Time                      835.837506\n",
       "Temperature                12.780219\n",
       "Pressure                    0.000197\n",
       "Chemical Concentration      2.063546\n",
       "dtype: float64"
      ]
     },
     "execution_count": 34,
     "metadata": {},
     "output_type": "execute_result"
    }
   ],
   "source": [
    "df['Pressure'] = np.log(df['Pressure'])\n",
    "df.var()"
   ]
  },
  {
   "cell_type": "code",
   "execution_count": null,
   "metadata": {},
   "outputs": [],
   "source": []
  }
 ],
 "metadata": {
  "kernelspec": {
   "display_name": "Python 3",
   "language": "python",
   "name": "python3"
  },
  "language_info": {
   "codemirror_mode": {
    "name": "ipython",
    "version": 3
   },
   "file_extension": ".py",
   "mimetype": "text/x-python",
   "name": "python",
   "nbconvert_exporter": "python",
   "pygments_lexer": "ipython3",
   "version": "3.12.1"
  }
 },
 "nbformat": 4,
 "nbformat_minor": 2
}
