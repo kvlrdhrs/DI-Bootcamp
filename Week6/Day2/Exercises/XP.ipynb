{
 "cells": [
  {
   "cell_type": "code",
   "execution_count": 15,
   "metadata": {},
   "outputs": [],
   "source": [
    "import pandas as pd\n",
    "import numpy as np\n",
    "import matplotlib.pyplot as plt\n",
    "from scipy import stats"
   ]
  },
  {
   "cell_type": "markdown",
   "metadata": {},
   "source": [
    "# Exercise 1 : Matrix Operations"
   ]
  },
  {
   "cell_type": "code",
   "execution_count": 4,
   "metadata": {},
   "outputs": [
    {
     "name": "stdout",
     "output_type": "stream",
     "text": [
      "Determinant: 0.0\n"
     ]
    }
   ],
   "source": [
    "# Create a 3x3 matrix\n",
    "matrix = np.array([[1, 2, 3], [4, 5, 6], [7, 8, 9]])\n",
    "\n",
    "# Calculate the determinant\n",
    "det = np.linalg.det(matrix)\n",
    "print(\"Determinant:\", det)"
   ]
  },
  {
   "cell_type": "code",
   "execution_count": 5,
   "metadata": {},
   "outputs": [
    {
     "name": "stdout",
     "output_type": "stream",
     "text": [
      "The matrix does not have an inverse because its determinant is zero.\n"
     ]
    }
   ],
   "source": [
    "# Find the inverse of the matrix.\n",
    "if det != 0:\n",
    "    inverse_matrix = np.linalg.inv(matrix)\n",
    "    print(\"Inverse Matrix:\")\n",
    "    print(inverse_matrix)\n",
    "else:\n",
    "    print(\"The matrix does not have an inverse because its determinant is zero.\")"
   ]
  },
  {
   "cell_type": "markdown",
   "metadata": {},
   "source": [
    "# Exercise 2 : Statistical Analysis"
   ]
  },
  {
   "cell_type": "code",
   "execution_count": 6,
   "metadata": {},
   "outputs": [
    {
     "name": "stdout",
     "output_type": "stream",
     "text": [
      "Mean: 0.440860147631979\n",
      "Median: 0.3870054185157284\n",
      "Standard Deviation: 0.25564235206510816\n"
     ]
    }
   ],
   "source": [
    "# Step 1: Generate an array of 50 random numbers\n",
    "data = np.random.rand(50)  # Generates 50 random numbers between 0 and 1\n",
    "\n",
    "# Step 2: Calculate the mean\n",
    "mean_value = np.mean(data)\n",
    "print(f\"Mean: {mean_value}\")\n",
    "\n",
    "# Step 3: Calculate the median\n",
    "median_value = np.median(data)\n",
    "print(f\"Median: {median_value}\")\n",
    "\n",
    "# Step 4: Calculate the standard deviation\n",
    "std_deviation = np.std(data)\n",
    "print(f\"Standard Deviation: {std_deviation}\")"
   ]
  },
  {
   "cell_type": "markdown",
   "metadata": {},
   "source": [
    "# Exercise 3 : Date Manipulation"
   ]
  },
  {
   "cell_type": "code",
   "execution_count": 7,
   "metadata": {},
   "outputs": [
    {
     "name": "stdout",
     "output_type": "stream",
     "text": [
      "Formatted Dates (YYYY/MM/DD):\n",
      "['2023/01/01' '2023/01/02' '2023/01/03' '2023/01/04' '2023/01/05'\n",
      " '2023/01/06' '2023/01/07' '2023/01/08' '2023/01/09' '2023/01/10'\n",
      " '2023/01/11' '2023/01/12' '2023/01/13' '2023/01/14' '2023/01/15'\n",
      " '2023/01/16' '2023/01/17' '2023/01/18' '2023/01/19' '2023/01/20'\n",
      " '2023/01/21' '2023/01/22' '2023/01/23' '2023/01/24' '2023/01/25'\n",
      " '2023/01/26' '2023/01/27' '2023/01/28' '2023/01/29' '2023/01/30'\n",
      " '2023/01/31']\n"
     ]
    }
   ],
   "source": [
    "# Step 1: Create a NumPy array of dates for January 2023\n",
    "start_date = np.datetime64('2023-01-01')\n",
    "end_date = np.datetime64('2023-02-01')  # End date is exclusive, so it includes up to January 31\n",
    "dates = np.arange(start_date, end_date)\n",
    "\n",
    "# Step 2: Convert the dates to the format YYYY/MM/DD\n",
    "formatted_dates = np.datetime_as_string(dates, unit='D')\n",
    "formatted_dates = np.array([date.replace('-', '/') for date in formatted_dates])\n",
    "\n",
    "# Print the formatted dates\n",
    "print(\"Formatted Dates (YYYY/MM/DD):\")\n",
    "print(formatted_dates)"
   ]
  },
  {
   "cell_type": "markdown",
   "metadata": {},
   "source": [
    "# Exercise 4 : Data Manipulation With NumPy And Pandas\n"
   ]
  },
  {
   "cell_type": "code",
   "execution_count": 8,
   "metadata": {},
   "outputs": [
    {
     "name": "stdout",
     "output_type": "stream",
     "text": [
      "DataFrame with Random Numbers:\n",
      "          A         B         C         D         E\n",
      "0  0.548814  0.715189  0.602763  0.544883  0.423655\n",
      "1  0.645894  0.437587  0.891773  0.963663  0.383442\n",
      "2  0.791725  0.528895  0.568045  0.925597  0.071036\n",
      "3  0.087129  0.020218  0.832620  0.778157  0.870012\n",
      "4  0.978618  0.799159  0.461479  0.780529  0.118274\n",
      "5  0.639921  0.143353  0.944669  0.521848  0.414662\n",
      "6  0.264556  0.774234  0.456150  0.568434  0.018790\n",
      "7  0.617635  0.612096  0.616934  0.943748  0.681820\n",
      "8  0.359508  0.437032  0.697631  0.060225  0.666767\n",
      "9  0.670638  0.210383  0.128926  0.315428  0.363711\n"
     ]
    }
   ],
   "source": [
    "# Step 1: Create a DataFrame with random numbers\n",
    "np.random.seed(0)  # For reproducibility\n",
    "data = np.random.rand(10, 5)  # 10 rows and 5 columns of random numbers\n",
    "df = pd.DataFrame(data, columns=['A', 'B', 'C', 'D', 'E'])\n",
    "\n",
    "# Print the DataFrame\n",
    "print(\"DataFrame with Random Numbers:\")\n",
    "print(df)"
   ]
  },
  {
   "cell_type": "code",
   "execution_count": 11,
   "metadata": {},
   "outputs": [
    {
     "name": "stdout",
     "output_type": "stream",
     "text": [
      "\n",
      "Rows where column 'A' values are greater than 0.5:\n",
      "          A         B         C         D         E\n",
      "0  0.548814  0.715189  0.602763  0.544883  0.423655\n",
      "1  0.645894  0.437587  0.891773  0.963663  0.383442\n",
      "2  0.791725  0.528895  0.568045  0.925597  0.071036\n",
      "4  0.978618  0.799159  0.461479  0.780529  0.118274\n",
      "5  0.639921  0.143353  0.944669  0.521848  0.414662\n",
      "7  0.617635  0.612096  0.616934  0.943748  0.681820\n",
      "9  0.670638  0.210383  0.128926  0.315428  0.363711\n"
     ]
    }
   ],
   "source": [
    "# Step 2: Conditional Selection of Data\n",
    "# Select rows where column 'A' values are greater than 0.5\n",
    "condition = df['A'] > 0.5\n",
    "selected_data = df[condition]\n",
    "\n",
    "# Print the selected data\n",
    "print(\"\\nRows where column 'A' values are greater than 0.5:\")\n",
    "print(selected_data)"
   ]
  },
  {
   "cell_type": "code",
   "execution_count": 10,
   "metadata": {},
   "outputs": [
    {
     "name": "stdout",
     "output_type": "stream",
     "text": [
      "\n",
      "Sum of all values in the DataFrame:\n",
      "A    5.604438\n",
      "B    4.678146\n",
      "C    6.200991\n",
      "D    6.402513\n",
      "E    4.012168\n",
      "dtype: float64\n",
      "\n",
      "Average of all values in the DataFrame:\n",
      "A    0.560444\n",
      "B    0.467815\n",
      "C    0.620099\n",
      "D    0.640251\n",
      "E    0.401217\n",
      "dtype: float64\n"
     ]
    }
   ],
   "source": [
    "# Step 3: Aggregation Functions\n",
    "# Sum of all values in the DataFrame\n",
    "total_sum = df.sum()\n",
    "\n",
    "# Average (mean) of all values in the DataFrame\n",
    "average = df.mean()\n",
    "\n",
    "# Print the aggregation results\n",
    "print(\"\\nSum of all values in the DataFrame:\")\n",
    "print(total_sum)\n",
    "\n",
    "print(\"\\nAverage of all values in the DataFrame:\")\n",
    "print(average)"
   ]
  },
  {
   "cell_type": "markdown",
   "metadata": {},
   "source": [
    "# Exercise 5 : Image Representation"
   ]
  },
  {
   "cell_type": "code",
   "execution_count": 13,
   "metadata": {},
   "outputs": [
    {
     "name": "stdout",
     "output_type": "stream",
     "text": [
      "Grayscale Image Array:\n",
      "[[  0  50 100 150 200]\n",
      " [ 25  75 125 175 225]\n",
      " [ 50 100 150 200 250]\n",
      " [ 75 125 175 225 255]\n",
      " [100 150 200 250 255]]\n"
     ]
    },
    {
     "data": {
      "image/png": "[encoded data removed]",
      "text/plain": [
       "<Figure size 640x480 with 2 Axes>"
      ]
     },
     "metadata": {},
     "output_type": "display_data"
    }
   ],
   "source": [
    "# Step 1: Create a 5x5 grayscale image\n",
    "# Each value in the array represents a pixel intensity (0-255)\n",
    "grayscale_image = np.array([[  0,  50, 100, 150, 200],\n",
    "                            [ 25,  75, 125, 175, 225],\n",
    "                            [ 50, 100, 150, 200, 250],\n",
    "                            [ 75, 125, 175, 225, 255],\n",
    "                            [100, 150, 200, 250, 255]], dtype=np.uint8)\n",
    "\n",
    "# Print the grayscale image array\n",
    "print(\"Grayscale Image Array:\")\n",
    "print(grayscale_image)\n",
    "\n",
    "# Step 2: Display the grayscale image\n",
    "plt.imshow(grayscale_image, cmap='gray', vmin=0, vmax=255)\n",
    "plt.colorbar()  # Add a colorbar to see the intensity scale\n",
    "plt.title(\"5x5 Grayscale Image\")\n",
    "plt.show()"
   ]
  },
  {
   "cell_type": "markdown",
   "metadata": {},
   "source": [
    "# Exercise 6 : Basic Hypothesis Testing\n"
   ]
  },
  {
   "cell_type": "code",
   "execution_count": 14,
   "metadata": {},
   "outputs": [
    {
     "name": "stdout",
     "output_type": "stream",
     "text": [
      "Productivity Before Training:\n",
      "[67.64052346 54.00157208 59.78737984 72.40893199 68.6755799  40.2272212\n",
      " 59.50088418 48.48642792 48.96781148 54.10598502 51.44043571 64.54273507\n",
      " 57.61037725 51.21675016 54.43863233 53.33674327 64.94079073 47.94841736\n",
      " 53.13067702 41.45904261 24.47010184 56.53618595 58.64436199 42.5783498\n",
      " 72.69754624 35.45634325 50.45758517 48.1281615  65.32779214 64.6935877 ]\n",
      "\n",
      "Productivity After Training:\n",
      "[73.10536574 60.13605964 62.1240226  71.46654259 72.63184345 45.69626811\n",
      " 68.19175622 57.09356746 52.80583103 58.19907677 53.29477682 65.28268126\n",
      " 57.49156668 62.06907635 57.90967578 57.02252037 66.18240465 55.28088843\n",
      " 53.28898347 45.82082177 26.78370216 62.69689345 62.11194658 44.03645324\n",
      " 77.61299955 41.74133887 55.65713684 54.03557719 68.42482586 68.6053642 ]\n"
     ]
    }
   ],
   "source": [
    "# Step 1: Generate the sample data\n",
    "np.random.seed(0)  # For reproducibility\n",
    "\n",
    "# Productivity scores of employees before the training program\n",
    "productivity_before = np.random.normal(loc=50, scale=10, size=30)\n",
    "\n",
    "# Productivity scores of the same employees after the training program\n",
    "productivity_after = productivity_before + np.random.normal(loc=5, scale=3, size=30)\n",
    "\n",
    "# Print the sample data\n",
    "print(\"Productivity Before Training:\")\n",
    "print(productivity_before)\n",
    "print(\"\\nProductivity After Training:\")\n",
    "print(productivity_after)"
   ]
  },
  {
   "cell_type": "code",
   "execution_count": 16,
   "metadata": {},
   "outputs": [
    {
     "name": "stdout",
     "output_type": "stream",
     "text": [
      "\n",
      "Paired t-test Results:\n",
      "T-statistic: -8.25050870844368\n",
      "P-value: 4.268281116176562e-09\n"
     ]
    }
   ],
   "source": [
    "# Step 2: Perform a paired t-test\n",
    "t_statistic, p_value = stats.ttest_rel(productivity_before, productivity_after)\n",
    "\n",
    "# Print the results of the t-test\n",
    "print(\"\\nPaired t-test Results:\")\n",
    "print(f\"T-statistic: {t_statistic}\")\n",
    "print(f\"P-value: {p_value}\")"
   ]
  },
  {
   "cell_type": "code",
   "execution_count": 17,
   "metadata": {},
   "outputs": [
    {
     "name": "stdout",
     "output_type": "stream",
     "text": [
      "\n",
      "Reject the null hypothesis (H0).\n",
      "There is sufficient evidence to suggest that the training program has a positive effect on employee productivity.\n"
     ]
    }
   ],
   "source": [
    "# Step 3: Interpret the results\n",
    "alpha = 0.05  # Significance level\n",
    "if p_value < alpha:\n",
    "    print(\"\\nReject the null hypothesis (H0).\")\n",
    "    print(\"There is sufficient evidence to suggest that the training program has a positive effect on employee productivity.\")\n",
    "else:\n",
    "    print(\"\\nFail to reject the null hypothesis (H0).\")\n",
    "    print(\"There is not enough evidence to suggest that the training program has a positive effect on employee productivity.\")"
   ]
  },
  {
   "cell_type": "markdown",
   "metadata": {},
   "source": [
    "# Exercise 7 : Complex Array Comparison\n"
   ]
  },
  {
   "cell_type": "code",
   "execution_count": 19,
   "metadata": {},
   "outputs": [
    {
     "name": "stdout",
     "output_type": "stream",
     "text": [
      "Array 1:\n",
      "[44 47 64 67 67  9 83 21 36 87]\n",
      "Array 2:\n",
      "[70 88 88 12 58 65 39 87 46 88]\n",
      "Element-wise Comparison (Array 1 > Array 2):\n",
      "[False False False  True  True False  True False False False]\n"
     ]
    }
   ],
   "source": [
    "# Step 1: Create two arrays\n",
    "np.random.seed(0)  # For reproducibility\n",
    "array1 = np.random.randint(0, 100, size=10)\n",
    "array2 = np.random.randint(0, 100, size=10)\n",
    "\n",
    "# Print the arrays\n",
    "print(\"Array 1:\")\n",
    "print(array1)\n",
    "print(\"Array 2:\")\n",
    "print(array2)\n",
    "\n",
    "# Step 2: Perform element-wise comparison\n",
    "comparison_result = array1 > array2\n",
    "\n",
    "print(\"Element-wise Comparison (Array 1 > Array 2):\")\n",
    "print(comparison_result)"
   ]
  },
  {
   "cell_type": "markdown",
   "metadata": {},
   "source": [
    "# Exercise 8 : Time Series Data Manipulation"
   ]
  },
  {
   "cell_type": "code",
   "execution_count": 20,
   "metadata": {},
   "outputs": [
    {
     "name": "stdout",
     "output_type": "stream",
     "text": [
      "Time Series Data for 2023:\n",
      "2023-01-01    1.125314\n",
      "2023-01-02   -0.358996\n",
      "2023-01-03    1.220608\n",
      "2023-01-04   -1.339496\n",
      "2023-01-05    0.428373\n",
      "Freq: D, dtype: float64\n"
     ]
    }
   ],
   "source": [
    "# Step 1: Generate time series data for the year 2023\n",
    "date_range = pd.date_range(start='2023-01-01', end='2023-12-31', freq='D')\n",
    "time_series_data = pd.Series(np.random.randn(len(date_range)), index=date_range)\n",
    "\n",
    "# Print the generated time series data\n",
    "print(\"Time Series Data for 2023:\")\n",
    "print(time_series_data.head())"
   ]
  },
  {
   "cell_type": "code",
   "execution_count": 21,
   "metadata": {},
   "outputs": [
    {
     "name": "stdout",
     "output_type": "stream",
     "text": [
      "\n",
      "January to March:\n",
      "2023-01-01    1.125314\n",
      "2023-01-02   -0.358996\n",
      "2023-01-03    1.220608\n",
      "2023-01-04   -1.339496\n",
      "2023-01-05    0.428373\n",
      "                ...   \n",
      "2023-03-27   -0.425280\n",
      "2023-03-28    1.727639\n",
      "2023-03-29   -0.868353\n",
      "2023-03-30   -0.820978\n",
      "2023-03-31   -1.099742\n",
      "Freq: D, Length: 90, dtype: float64\n",
      "\n",
      "April to June:\n",
      "2023-04-01    0.086730\n",
      "2023-04-02    0.456287\n",
      "2023-04-03    0.431033\n",
      "2023-04-04    2.072574\n",
      "2023-04-05   -0.537785\n",
      "                ...   \n",
      "2023-06-26    0.427697\n",
      "2023-06-27   -0.304280\n",
      "2023-06-28    0.204625\n",
      "2023-06-29   -0.083338\n",
      "2023-06-30    1.828931\n",
      "Freq: D, Length: 91, dtype: float64\n",
      "\n",
      "July to September:\n",
      "2023-07-01   -0.244179\n",
      "2023-07-02    0.475261\n",
      "2023-07-03   -0.714216\n",
      "2023-07-04   -1.186936\n",
      "2023-07-05    0.608891\n",
      "                ...   \n",
      "2023-09-26    0.198095\n",
      "2023-09-27    0.391408\n",
      "2023-09-28   -3.177860\n",
      "2023-09-29   -0.956575\n",
      "2023-09-30   -0.031275\n",
      "Freq: D, Length: 92, dtype: float64\n",
      "\n",
      "October to December:\n",
      "2023-10-01    1.032724\n",
      "2023-10-02   -1.215619\n",
      "2023-10-03   -0.318678\n",
      "2023-10-04    1.495129\n",
      "2023-10-05   -0.130251\n",
      "                ...   \n",
      "2023-12-27   -0.291405\n",
      "2023-12-28    0.804072\n",
      "2023-12-29    0.735827\n",
      "2023-12-30   -0.202640\n",
      "2023-12-31    0.290247\n",
      "Freq: D, Length: 92, dtype: float64\n"
     ]
    }
   ],
   "source": [
    "# Step 2: Slice the data for different intervals\n",
    "\n",
    "# January to March\n",
    "jan_to_mar = time_series_data['2023-01-01':'2023-03-31']\n",
    "print(\"\\nJanuary to March:\")\n",
    "print(jan_to_mar)\n",
    "\n",
    "# April to June\n",
    "apr_to_jun = time_series_data['2023-04-01':'2023-06-30']\n",
    "print(\"\\nApril to June:\")\n",
    "print(apr_to_jun)\n",
    "\n",
    "# July to September\n",
    "jul_to_sep = time_series_data['2023-07-01':'2023-09-30']\n",
    "print(\"\\nJuly to September:\")\n",
    "print(jul_to_sep)\n",
    "\n",
    "# October to December\n",
    "oct_to_dec = time_series_data['2023-10-01':'2023-12-31']\n",
    "print(\"\\nOctober to December:\")\n",
    "print(oct_to_dec)"
   ]
  },
  {
   "cell_type": "markdown",
   "metadata": {},
   "source": [
    "# Exercise 9 : Data Conversion"
   ]
  },
  {
   "cell_type": "code",
   "execution_count": 22,
   "metadata": {},
   "outputs": [
    {
     "name": "stdout",
     "output_type": "stream",
     "text": [
      "NumPy Array converted to Pandas DataFrame:\n",
      "   A  B  C\n",
      "0  1  2  3\n",
      "1  4  5  6\n",
      "2  7  8  9\n",
      "\n",
      "Pandas DataFrame converted back to NumPy Array:\n",
      "[[1 2 3]\n",
      " [4 5 6]\n",
      " [7 8 9]]\n"
     ]
    }
   ],
   "source": [
    "# Create a NumPy array\n",
    "np_array = np.array([[1, 2, 3], [4, 5, 6], [7, 8, 9]])\n",
    "\n",
    "# Convert the NumPy array to a Pandas DataFrame\n",
    "df = pd.DataFrame(np_array, columns=['A', 'B', 'C'])\n",
    "print(\"NumPy Array converted to Pandas DataFrame:\")\n",
    "print(df)\n",
    "\n",
    "# Convert the Pandas DataFrame back to a NumPy array\n",
    "np_array_converted_back = df.to_numpy()\n",
    "print(\"\\nPandas DataFrame converted back to NumPy Array:\")\n",
    "print(np_array_converted_back)"
   ]
  },
  {
   "cell_type": "markdown",
   "metadata": {},
   "source": [
    "# Exercise 10 : Basic Visualization"
   ]
  },
  {
   "cell_type": "code",
   "execution_count": 23,
   "metadata": {},
   "outputs": [
    {
     "data": {
      "image/png": "[encoded data removed]",
      "text/plain": [
       "<Figure size 1000x600 with 1 Axes>"
      ]
     },
     "metadata": {},
     "output_type": "display_data"
    }
   ],
   "source": [
    "# Create a simple dataset with NumPy\n",
    "np.random.seed(0)  # For reproducibility\n",
    "x = np.arange(0, 10, 1)\n",
    "y = np.random.rand(10)\n",
    "\n",
    "# Plot the data using Matplotlib\n",
    "plt.figure(figsize=(10, 6))\n",
    "plt.plot(x, y, marker='o', linestyle='-', color='b', label='Random Data')\n",
    "plt.title('Line Graph of Random Numbers')\n",
    "plt.xlabel('X-axis')\n",
    "plt.ylabel('Y-axis')\n",
    "plt.legend()\n",
    "plt.grid(True)\n",
    "plt.show()"
   ]
  }
 ],
 "metadata": {
  "kernelspec": {
   "display_name": "Python 3",
   "language": "python",
   "name": "python3"
  },
  "language_info": {
   "codemirror_mode": {
    "name": "ipython",
    "version": 3
   },
   "file_extension": ".py",
   "mimetype": "text/x-python",
   "name": "python",
   "nbconvert_exporter": "python",
   "pygments_lexer": "ipython3",
   "version": "3.12.1"
  }
 },
 "nbformat": 4,
 "nbformat_minor": 2
}
