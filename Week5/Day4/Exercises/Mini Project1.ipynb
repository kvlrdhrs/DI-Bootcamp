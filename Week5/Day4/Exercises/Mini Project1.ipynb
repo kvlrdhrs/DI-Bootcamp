{
 "cells": [
  {
   "cell_type": "code",
   "execution_count": null,
   "metadata": {},
   "outputs": [],
   "source": [
    "# Importing necessary libraries\n",
    "import pandas as pd\n",
    "import seaborn as sns\n",
    "import matplotlib.pyplot as plt\n",
    "import plotly.express as px\n",
    "import plotly.graph_objects as go\n",
    "pd.set_option('display.max_rows', None)\n",
    "pd.set_option('display.max_columns', None)\n",
    "pd.set_option('display.width', None)"
   ]
  },
  {
   "cell_type": "code",
   "execution_count": null,
   "metadata": {},
   "outputs": [],
   "source": [
    "# Load the dataset\n",
    "url = 'https://raw.githubusercontent.com/allisonhorst/palmerpenguins/master/inst/extdata/penguins.csv'\n",
    "penguins = pd.read_csv(url)\n",
    "df = penguins.copy()"
   ]
  },
  {
   "cell_type": "markdown",
   "metadata": {},
   "source": [
    "- Data Cleaning and Exploratory Analysis"
   ]
  },
  {
   "cell_type": "code",
   "execution_count": null,
   "metadata": {},
   "outputs": [],
   "source": [
    "# we have 344 rows, 8 columns. we have missings. Maybe i'll change year type to datetime\n",
    "df.info()"
   ]
  },
  {
   "cell_type": "code",
   "execution_count": null,
   "metadata": {},
   "outputs": [],
   "source": [
    "df['year'] = pd.to_datetime(df['year'], format='%Y').dt.year"
   ]
  },
  {
   "cell_type": "code",
   "execution_count": null,
   "metadata": {},
   "outputs": [],
   "source": [
    "df.info()"
   ]
  },
  {
   "cell_type": "code",
   "execution_count": null,
   "metadata": {},
   "outputs": [],
   "source": [
    "df.head(20) "
   ]
  },
  {
   "cell_type": "code",
   "execution_count": null,
   "metadata": {},
   "outputs": [],
   "source": [
    "df.hist(figsize=(15,15), bins=20)\n",
    "plt.show()"
   ]
  },
  {
   "cell_type": "code",
   "execution_count": null,
   "metadata": {},
   "outputs": [],
   "source": [
    "df.isnull().sum()"
   ]
  },
  {
   "cell_type": "code",
   "execution_count": null,
   "metadata": {},
   "outputs": [],
   "source": [
    "rows_with_missing = df[df.isnull().any(axis=1)]\n",
    "print(rows_with_missing)"
   ]
  },
  {
   "cell_type": "code",
   "execution_count": null,
   "metadata": {},
   "outputs": [],
   "source": [
    "# i'll drop rows with index 3 and 271\n",
    "df = df.drop([3,271])\n",
    "print(df.isnull().sum())"
   ]
  },
  {
   "cell_type": "code",
   "execution_count": null,
   "metadata": {},
   "outputs": [],
   "source": [
    "# i'll drop rows 9 rows with missings\n",
    "df = df.dropna()\n",
    "df.isnull().sum()"
   ]
  },
  {
   "cell_type": "code",
   "execution_count": null,
   "metadata": {},
   "outputs": [],
   "source": [
    "# ## Plot\n",
    "\n",
    "# sns.distplot(df3.rate)\n",
    "# plt.axvline(UC, color='r')\n",
    "# plt.axvline(LC, color ='r')\n",
    "# plt.axvline(Q1, color='g')\n",
    "# plt.axvline(Q3, color='g')\n",
    "# plt.show()"
   ]
  },
  {
   "cell_type": "markdown",
   "metadata": {},
   "source": [
    " - Visualization"
   ]
  },
  {
   "cell_type": "code",
   "execution_count": null,
   "metadata": {},
   "outputs": [],
   "source": [
    "# The number of Adelie penguins prevails over other specie. Almost equal numbers male/female penguins. \n",
    "species_distribution = sns.countplot(\n",
    "    data = df, x = 'species', hue = 'sex')\n",
    "species_distribution.set_title('Species distribution by sex')\n",
    "plt.show()"
   ]
  },
  {
   "cell_type": "code",
   "execution_count": null,
   "metadata": {},
   "outputs": [],
   "source": [
    "# i see correlation between flipper length and body mass. Gentoo penguins is biggest species. \n",
    "flipper_length = sns.scatterplot(\n",
    "data = df, x='flipper_length_mm', y='body_mass_g', hue='species'\n",
    ")\n",
    "flipper_length.set_title('Flipper Length vs.Body Mass by species')\n",
    "plt.show()"
   ]
  },
  {
   "cell_type": "code",
   "execution_count": null,
   "metadata": {},
   "outputs": [],
   "source": [
    "# most of penguines live in Biscoe and Dream islands. \n",
    "\n",
    "\n",
    "# Calculate count of penguins on each island\n",
    "penguins_per_island = df['island'].value_counts()\n",
    "\n",
    "# Create a pie chart\n",
    "plt.figure(figsize=(8, 6))\n",
    "plt.pie(penguins_per_island, labels=penguins_per_island.index, autopct='%1.1f%%', startangle=140)\n",
    "plt.title('Distribution of Penguins on Each Island')\n",
    "plt.axis('equal')  # Equal aspect ratio ensures that pie is drawn as a circle\n",
    "plt.show()"
   ]
  },
  {
   "cell_type": "code",
   "execution_count": null,
   "metadata": {},
   "outputs": [],
   "source": [
    "# i сofirmed correlation between flipper length and body mass. I think we can see correlation between bill length and flipper length. \n",
    "\n",
    "# Exclude non-numeric columns from correlation calculation\n",
    "numeric_columns = df.select_dtypes(include=['float64', 'int64'])\n",
    "\n",
    "# Calculate correlation matrix\n",
    "correlation_matrix = numeric_columns.corr()\n",
    "sns.set_theme()\n",
    "cor_df = sns.heatmap(correlation_matrix, annot=True, linewidths=.5, cmap='Blues')\n",
    "cor_df.set_title('Heatmap of Correlations')\n",
    "plt.show()"
   ]
  },
  {
   "cell_type": "code",
   "execution_count": null,
   "metadata": {},
   "outputs": [],
   "source": [
    "# we have outliers in our dataset\n",
    "for col in numeric_columns:\n",
    "    box_col = sns.boxplot(data = df, x=col, hue='species')\n",
    "    box_col.set_title('checking for outliers in ' + col)\n",
    "    plt.show()"
   ]
  },
  {
   "cell_type": "code",
   "execution_count": null,
   "metadata": {},
   "outputs": [],
   "source": [
    "# in numeric columns we dont have a normal destribution\n",
    "for col in numeric_columns:\n",
    "    hist_plot = sns.histplot(data = df, x=col, kde=True)\n",
    "    hist_plot.set_title('test ' + col)\n",
    "    plt.show()"
   ]
  },
  {
   "cell_type": "code",
   "execution_count": null,
   "metadata": {},
   "outputs": [],
   "source": [
    "# its good option to visualize pairwise relationships in the dataset\n",
    "sns.set_theme(style=\"ticks\")\n",
    "sns.pairplot(df, hue=\"species\")\n",
    "plt.show()"
   ]
  },
  {
   "cell_type": "markdown",
   "metadata": {},
   "source": [
    "# Conclusion"
   ]
  },
  {
   "cell_type": "markdown",
   "metadata": {},
   "source": [
    "Dataset Overview: The dataset comprises 344 rows and 8 columns.\n",
    "\n",
    "1. Data Preparation:\n",
    "- Missing Values: The dataset contains missing values which need to be addressed.\n",
    "- Data Type Adjustment: Consider converting the 'year' column to datetime format for easier manipulation.\n",
    "- Data Cleaning: Rows with index 3 and 271, as well as 9 rows with missing values, will be dropped.\n",
    "\n",
    "2. Species Distribution:\n",
    "- Adelie penguins are the predominant species in the dataset, with a nearly equal distribution between male and female individuals.\n",
    "- Gentoo penguins are identified as the largest species.\n",
    "\n",
    "3. Island Distribution:\n",
    "- Biscoe and Dream islands harbor the majority of penguins, indicating these locations are the most populated habitats.\n",
    "\n",
    "4. Correlation Analysis:\n",
    "- A positive correlation is observed between flipper length and body mass.\n",
    "- Potential correlations between bill length and flipper length are suggested for further exploration.\n",
    "\n",
    "5. Outlier Detection:\n",
    "- Outliers are noted within the dataset, warranting further investigation."
   ]
  }
 ],
 "metadata": {
  "kernelspec": {
   "display_name": "Python 3",
   "language": "python",
   "name": "python3"
  },
  "language_info": {
   "codemirror_mode": {
    "name": "ipython",
    "version": 3
   },
   "file_extension": ".py",
   "mimetype": "text/x-python",
   "name": "python",
   "nbconvert_exporter": "python",
   "pygments_lexer": "ipython3",
   "version": "3.12.1"
  }
 },
 "nbformat": 4,
 "nbformat_minor": 2
}
