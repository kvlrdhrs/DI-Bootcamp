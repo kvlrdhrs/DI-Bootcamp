{
 "cells": [
  {
   "cell_type": "markdown",
   "id": "b73e33d5",
   "metadata": {},
   "source": [
    "<font color='DarkBlue' size=+2><b>Комментарий ревьюера</b></font><br>\n",
    "<font color='DarkBlue'>Привет, Кянан! <br>Меня зовут Олег Мазуренко, и я буду проверять этот проект. Спасибо за проделанную работу! <br>Ко мне можно обращаться на «ты». Как мне обращаться, напиши.</font><br>\n",
    "<font color='DarkBlue'>Я буду использовать различные цвета, чтобы было удобнее воспринимать мои комментарии:</font><br>\n",
    "<font color='DarkBlue'>Синий текст &mdash; просто текст комментария.</font><br>\n",
    "<font color='DarkGreen'>👌 Зеленый текст &mdash; все отлично.</font><br>\n",
    "<font color='DarkMagenta'>👉 Фиолетовый текст &mdash; сделано все правильно, однако есть рекомендации, на что стоит обратить внимание. Реализованные рекомендации позволят нам наработать опыт решения задачи разными способами или посмотреть на задачу под иным углом.</font><br>\n",
    "<font color='Red'>🛠 Красный текст &mdash; есть недочеты, они иногда бывают. </font><br><font color='DarkBlue'>Любая ошибка это возможность посмотреть на задачу с другой стороны и освоить новые знания, по этому не надо расстраиваться, если они есть.</font><br>\n",
    "<font color='DarkBlue'>Обращаю внимание, что комментарии ревьюера после проверки удалять нельзя они помогают отследить логику исправления или изменения проекта. Это дополнительный навык при обучении. Свой исправляемый код лучше тоже не удалять, а ремить #, это позволит акцентировать изменения в ходе подготовки окончательного варианта проекта.<br>\n",
    "Ответы на мои комментарии лучше тоже помечать. \n",
    "Например: </font><font color='Blue'><b>Комментарий студента</b></font><br>\n",
    "<font color='DarkBlue'><b>Теперь посмотрим, что у нас получилось!</b></font>"
   ]
  },
  {
   "cell_type": "markdown",
   "id": "ee856833",
   "metadata": {},
   "source": [
    "</font><font color='Blue'><b>Комментарий студента</b></font><br>\n",
    "<font color='DarkMagenta'>Привет, Олег!<br> Ко мне можно обращаться на \"ты\".<br>В последнее время крайне не продуктивен (тяжелая иммиграция в Израиль), прошу прощения, что поздно ответил на твои замечания. </font>"
   ]
  },
  {
   "cell_type": "markdown",
   "id": "58309d50",
   "metadata": {},
   "source": [
    "<font color='DarkBlue'><b>Комментарий ревьюера 2</b></font><br>\n",
    "<font color='DarkGreen'>👌 Привет! Хорошо, пошел смотреть обновленный проект.</font>"
   ]
  },
  {
   "cell_type": "markdown",
   "id": "386f2ae7",
   "metadata": {
    "deletable": false,
    "editable": false,
    "id": "386f2ae7"
   },
   "source": [
    "# Исследование надежности заемщиков\n"
   ]
  },
  {
   "cell_type": "markdown",
   "id": "5c7e7245",
   "metadata": {},
   "source": [
    "<font color='DarkBlue'><b>Комментарий ревьюера</b></font><br>\n",
    "<font color='DarkMagenta'>👉 Хочу обратить внимание, что во всех следующих проектах необходимо будет делать описание проекта. Где отразить какая цель исследования, какой контекст (особенности отрасли и данных), что планируем делать (план исследования). <br>В реальном проекте не будет инструкции и задач, которые необходимо выполнить, по этому будем учиться делать описание проекта самостоятельно.</font>"
   ]
  },
  {
   "cell_type": "markdown",
   "id": "ec40ab7c",
   "metadata": {},
   "source": [
    "</font><font color='Blue'><b>Комментарий студента</b></font><br>\n",
    "<font color='DarkMagenta'>Ок</font>"
   ]
  },
  {
   "cell_type": "markdown",
   "id": "983af4fa",
   "metadata": {},
   "source": [
    "<font color='DarkBlue'><b>Комментарий ревьюера 2</b></font><br>\n",
    "<font color='DarkGreen'>👌 Все проекты, это как часть реального исследования, за которое деньги заплатят или не заплатят. <br>А отчет читают: сначала описание, о чем идет речь и что делаем, потом выводы: что в итоге получили. А когда у заказчика в голове все сложилось, то смотрят как это делалось. То есть, в описании необходимо отразить какая цель исследования, какой контекст (особенности отрасли и данных), что мы планируем делать (план исследования). <br>И в реальном проекте не будет инструкции и задач, которые необходимо выполнить, по этому следует научиться делать описание проекта самостоятельно.</font>"
   ]
  },
  {
   "cell_type": "markdown",
   "id": "ffe86f65",
   "metadata": {
    "deletable": false,
    "editable": false,
    "id": "ffe86f65"
   },
   "source": [
    "Во второй части проекта вы выполните шаги 3 и 4. Их вручную проверит ревьюер.\n",
    "Чтобы вам не пришлось писать код заново для шагов 1 и 2, мы добавили авторские решения в ячейки с кодом. \n",
    "\n"
   ]
  },
  {
   "cell_type": "markdown",
   "id": "26613308",
   "metadata": {
    "deletable": false,
    "editable": false,
    "id": "26613308"
   },
   "source": [
    "## Откройте таблицу и изучите общую информацию о данных"
   ]
  },
  {
   "cell_type": "markdown",
   "id": "3c9f838e",
   "metadata": {
    "deletable": false,
    "editable": false,
    "id": "3c9f838e"
   },
   "source": [
    "**Задание 1. Импортируйте библиотеку pandas. Считайте данные из csv-файла в датафрейм и сохраните в переменную `data`. Путь к файлу:**\n",
    "\n",
    "`/datasets/data.csv`"
   ]
  },
  {
   "cell_type": "code",
   "execution_count": 1,
   "id": "77a68a90",
   "metadata": {
    "deletable": false,
    "id": "77a68a90"
   },
   "outputs": [],
   "source": [
    "import pandas as pd\n",
    "\n",
    "try:\n",
    "    data = pd.read_csv('/datasets/data.csv')\n",
    "except:\n",
    "    data = pd.read_csv('https://code.s3.yandex.net/datasets/data.csv')"
   ]
  },
  {
   "cell_type": "markdown",
   "id": "45365635",
   "metadata": {
    "deletable": false,
    "editable": false,
    "id": "45365635"
   },
   "source": [
    "**Задание 2. Выведите первые 20 строчек датафрейма `data` на экран.**"
   ]
  },
  {
   "cell_type": "code",
   "execution_count": 2,
   "id": "b0451a9a",
   "metadata": {
    "deletable": false,
    "id": "b0451a9a",
    "outputId": "1a8f3ef2-d323-4ec2-ddf7-89670b5944c4"
   },
   "outputs": [
    {
     "data": {
      "text/html": [
       "<div>\n",
       "<style scoped>\n",
       "    .dataframe tbody tr th:only-of-type {\n",
       "        vertical-align: middle;\n",
       "    }\n",
       "\n",
       "    .dataframe tbody tr th {\n",
       "        vertical-align: top;\n",
       "    }\n",
       "\n",
       "    .dataframe thead th {\n",
       "        text-align: right;\n",
       "    }\n",
       "</style>\n",
       "<table border=\"1\" class=\"dataframe\">\n",
       "  <thead>\n",
       "    <tr style=\"text-align: right;\">\n",
       "      <th></th>\n",
       "      <th>children</th>\n",
       "      <th>days_employed</th>\n",
       "      <th>dob_years</th>\n",
       "      <th>education</th>\n",
       "      <th>education_id</th>\n",
       "      <th>family_status</th>\n",
       "      <th>family_status_id</th>\n",
       "      <th>gender</th>\n",
       "      <th>income_type</th>\n",
       "      <th>debt</th>\n",
       "      <th>total_income</th>\n",
       "      <th>purpose</th>\n",
       "    </tr>\n",
       "  </thead>\n",
       "  <tbody>\n",
       "    <tr>\n",
       "      <th>0</th>\n",
       "      <td>1</td>\n",
       "      <td>-8437.673028</td>\n",
       "      <td>42</td>\n",
       "      <td>высшее</td>\n",
       "      <td>0</td>\n",
       "      <td>женат / замужем</td>\n",
       "      <td>0</td>\n",
       "      <td>F</td>\n",
       "      <td>сотрудник</td>\n",
       "      <td>0</td>\n",
       "      <td>253875.639453</td>\n",
       "      <td>покупка жилья</td>\n",
       "    </tr>\n",
       "    <tr>\n",
       "      <th>1</th>\n",
       "      <td>1</td>\n",
       "      <td>-4024.803754</td>\n",
       "      <td>36</td>\n",
       "      <td>среднее</td>\n",
       "      <td>1</td>\n",
       "      <td>женат / замужем</td>\n",
       "      <td>0</td>\n",
       "      <td>F</td>\n",
       "      <td>сотрудник</td>\n",
       "      <td>0</td>\n",
       "      <td>112080.014102</td>\n",
       "      <td>приобретение автомобиля</td>\n",
       "    </tr>\n",
       "    <tr>\n",
       "      <th>2</th>\n",
       "      <td>0</td>\n",
       "      <td>-5623.422610</td>\n",
       "      <td>33</td>\n",
       "      <td>Среднее</td>\n",
       "      <td>1</td>\n",
       "      <td>женат / замужем</td>\n",
       "      <td>0</td>\n",
       "      <td>M</td>\n",
       "      <td>сотрудник</td>\n",
       "      <td>0</td>\n",
       "      <td>145885.952297</td>\n",
       "      <td>покупка жилья</td>\n",
       "    </tr>\n",
       "    <tr>\n",
       "      <th>3</th>\n",
       "      <td>3</td>\n",
       "      <td>-4124.747207</td>\n",
       "      <td>32</td>\n",
       "      <td>среднее</td>\n",
       "      <td>1</td>\n",
       "      <td>женат / замужем</td>\n",
       "      <td>0</td>\n",
       "      <td>M</td>\n",
       "      <td>сотрудник</td>\n",
       "      <td>0</td>\n",
       "      <td>267628.550329</td>\n",
       "      <td>дополнительное образование</td>\n",
       "    </tr>\n",
       "    <tr>\n",
       "      <th>4</th>\n",
       "      <td>0</td>\n",
       "      <td>340266.072047</td>\n",
       "      <td>53</td>\n",
       "      <td>среднее</td>\n",
       "      <td>1</td>\n",
       "      <td>гражданский брак</td>\n",
       "      <td>1</td>\n",
       "      <td>F</td>\n",
       "      <td>пенсионер</td>\n",
       "      <td>0</td>\n",
       "      <td>158616.077870</td>\n",
       "      <td>сыграть свадьбу</td>\n",
       "    </tr>\n",
       "    <tr>\n",
       "      <th>5</th>\n",
       "      <td>0</td>\n",
       "      <td>-926.185831</td>\n",
       "      <td>27</td>\n",
       "      <td>высшее</td>\n",
       "      <td>0</td>\n",
       "      <td>гражданский брак</td>\n",
       "      <td>1</td>\n",
       "      <td>M</td>\n",
       "      <td>компаньон</td>\n",
       "      <td>0</td>\n",
       "      <td>255763.565419</td>\n",
       "      <td>покупка жилья</td>\n",
       "    </tr>\n",
       "    <tr>\n",
       "      <th>6</th>\n",
       "      <td>0</td>\n",
       "      <td>-2879.202052</td>\n",
       "      <td>43</td>\n",
       "      <td>высшее</td>\n",
       "      <td>0</td>\n",
       "      <td>женат / замужем</td>\n",
       "      <td>0</td>\n",
       "      <td>F</td>\n",
       "      <td>компаньон</td>\n",
       "      <td>0</td>\n",
       "      <td>240525.971920</td>\n",
       "      <td>операции с жильем</td>\n",
       "    </tr>\n",
       "    <tr>\n",
       "      <th>7</th>\n",
       "      <td>0</td>\n",
       "      <td>-152.779569</td>\n",
       "      <td>50</td>\n",
       "      <td>СРЕДНЕЕ</td>\n",
       "      <td>1</td>\n",
       "      <td>женат / замужем</td>\n",
       "      <td>0</td>\n",
       "      <td>M</td>\n",
       "      <td>сотрудник</td>\n",
       "      <td>0</td>\n",
       "      <td>135823.934197</td>\n",
       "      <td>образование</td>\n",
       "    </tr>\n",
       "    <tr>\n",
       "      <th>8</th>\n",
       "      <td>2</td>\n",
       "      <td>-6929.865299</td>\n",
       "      <td>35</td>\n",
       "      <td>ВЫСШЕЕ</td>\n",
       "      <td>0</td>\n",
       "      <td>гражданский брак</td>\n",
       "      <td>1</td>\n",
       "      <td>F</td>\n",
       "      <td>сотрудник</td>\n",
       "      <td>0</td>\n",
       "      <td>95856.832424</td>\n",
       "      <td>на проведение свадьбы</td>\n",
       "    </tr>\n",
       "    <tr>\n",
       "      <th>9</th>\n",
       "      <td>0</td>\n",
       "      <td>-2188.756445</td>\n",
       "      <td>41</td>\n",
       "      <td>среднее</td>\n",
       "      <td>1</td>\n",
       "      <td>женат / замужем</td>\n",
       "      <td>0</td>\n",
       "      <td>M</td>\n",
       "      <td>сотрудник</td>\n",
       "      <td>0</td>\n",
       "      <td>144425.938277</td>\n",
       "      <td>покупка жилья для семьи</td>\n",
       "    </tr>\n",
       "    <tr>\n",
       "      <th>10</th>\n",
       "      <td>2</td>\n",
       "      <td>-4171.483647</td>\n",
       "      <td>36</td>\n",
       "      <td>высшее</td>\n",
       "      <td>0</td>\n",
       "      <td>женат / замужем</td>\n",
       "      <td>0</td>\n",
       "      <td>M</td>\n",
       "      <td>компаньон</td>\n",
       "      <td>0</td>\n",
       "      <td>113943.491460</td>\n",
       "      <td>покупка недвижимости</td>\n",
       "    </tr>\n",
       "    <tr>\n",
       "      <th>11</th>\n",
       "      <td>0</td>\n",
       "      <td>-792.701887</td>\n",
       "      <td>40</td>\n",
       "      <td>среднее</td>\n",
       "      <td>1</td>\n",
       "      <td>женат / замужем</td>\n",
       "      <td>0</td>\n",
       "      <td>F</td>\n",
       "      <td>сотрудник</td>\n",
       "      <td>0</td>\n",
       "      <td>77069.234271</td>\n",
       "      <td>покупка коммерческой недвижимости</td>\n",
       "    </tr>\n",
       "    <tr>\n",
       "      <th>12</th>\n",
       "      <td>0</td>\n",
       "      <td>NaN</td>\n",
       "      <td>65</td>\n",
       "      <td>среднее</td>\n",
       "      <td>1</td>\n",
       "      <td>гражданский брак</td>\n",
       "      <td>1</td>\n",
       "      <td>M</td>\n",
       "      <td>пенсионер</td>\n",
       "      <td>0</td>\n",
       "      <td>NaN</td>\n",
       "      <td>сыграть свадьбу</td>\n",
       "    </tr>\n",
       "    <tr>\n",
       "      <th>13</th>\n",
       "      <td>0</td>\n",
       "      <td>-1846.641941</td>\n",
       "      <td>54</td>\n",
       "      <td>неоконченное высшее</td>\n",
       "      <td>2</td>\n",
       "      <td>женат / замужем</td>\n",
       "      <td>0</td>\n",
       "      <td>F</td>\n",
       "      <td>сотрудник</td>\n",
       "      <td>0</td>\n",
       "      <td>130458.228857</td>\n",
       "      <td>приобретение автомобиля</td>\n",
       "    </tr>\n",
       "    <tr>\n",
       "      <th>14</th>\n",
       "      <td>0</td>\n",
       "      <td>-1844.956182</td>\n",
       "      <td>56</td>\n",
       "      <td>высшее</td>\n",
       "      <td>0</td>\n",
       "      <td>гражданский брак</td>\n",
       "      <td>1</td>\n",
       "      <td>F</td>\n",
       "      <td>компаньон</td>\n",
       "      <td>1</td>\n",
       "      <td>165127.911772</td>\n",
       "      <td>покупка жилой недвижимости</td>\n",
       "    </tr>\n",
       "    <tr>\n",
       "      <th>15</th>\n",
       "      <td>1</td>\n",
       "      <td>-972.364419</td>\n",
       "      <td>26</td>\n",
       "      <td>среднее</td>\n",
       "      <td>1</td>\n",
       "      <td>женат / замужем</td>\n",
       "      <td>0</td>\n",
       "      <td>F</td>\n",
       "      <td>сотрудник</td>\n",
       "      <td>0</td>\n",
       "      <td>116820.904450</td>\n",
       "      <td>строительство собственной недвижимости</td>\n",
       "    </tr>\n",
       "    <tr>\n",
       "      <th>16</th>\n",
       "      <td>0</td>\n",
       "      <td>-1719.934226</td>\n",
       "      <td>35</td>\n",
       "      <td>среднее</td>\n",
       "      <td>1</td>\n",
       "      <td>женат / замужем</td>\n",
       "      <td>0</td>\n",
       "      <td>F</td>\n",
       "      <td>сотрудник</td>\n",
       "      <td>0</td>\n",
       "      <td>289202.704229</td>\n",
       "      <td>недвижимость</td>\n",
       "    </tr>\n",
       "    <tr>\n",
       "      <th>17</th>\n",
       "      <td>0</td>\n",
       "      <td>-2369.999720</td>\n",
       "      <td>33</td>\n",
       "      <td>высшее</td>\n",
       "      <td>0</td>\n",
       "      <td>гражданский брак</td>\n",
       "      <td>1</td>\n",
       "      <td>M</td>\n",
       "      <td>сотрудник</td>\n",
       "      <td>0</td>\n",
       "      <td>90410.586745</td>\n",
       "      <td>строительство недвижимости</td>\n",
       "    </tr>\n",
       "    <tr>\n",
       "      <th>18</th>\n",
       "      <td>0</td>\n",
       "      <td>400281.136913</td>\n",
       "      <td>53</td>\n",
       "      <td>среднее</td>\n",
       "      <td>1</td>\n",
       "      <td>вдовец / вдова</td>\n",
       "      <td>2</td>\n",
       "      <td>F</td>\n",
       "      <td>пенсионер</td>\n",
       "      <td>0</td>\n",
       "      <td>56823.777243</td>\n",
       "      <td>на покупку подержанного автомобиля</td>\n",
       "    </tr>\n",
       "    <tr>\n",
       "      <th>19</th>\n",
       "      <td>0</td>\n",
       "      <td>-10038.818549</td>\n",
       "      <td>48</td>\n",
       "      <td>СРЕДНЕЕ</td>\n",
       "      <td>1</td>\n",
       "      <td>в разводе</td>\n",
       "      <td>3</td>\n",
       "      <td>F</td>\n",
       "      <td>сотрудник</td>\n",
       "      <td>0</td>\n",
       "      <td>242831.107982</td>\n",
       "      <td>на покупку своего автомобиля</td>\n",
       "    </tr>\n",
       "  </tbody>\n",
       "</table>\n",
       "</div>"
      ],
      "text/plain": [
       "    children  days_employed  dob_years            education  education_id  \\\n",
       "0          1   -8437.673028         42               высшее             0   \n",
       "1          1   -4024.803754         36              среднее             1   \n",
       "2          0   -5623.422610         33              Среднее             1   \n",
       "3          3   -4124.747207         32              среднее             1   \n",
       "4          0  340266.072047         53              среднее             1   \n",
       "5          0    -926.185831         27               высшее             0   \n",
       "6          0   -2879.202052         43               высшее             0   \n",
       "7          0    -152.779569         50              СРЕДНЕЕ             1   \n",
       "8          2   -6929.865299         35               ВЫСШЕЕ             0   \n",
       "9          0   -2188.756445         41              среднее             1   \n",
       "10         2   -4171.483647         36               высшее             0   \n",
       "11         0    -792.701887         40              среднее             1   \n",
       "12         0            NaN         65              среднее             1   \n",
       "13         0   -1846.641941         54  неоконченное высшее             2   \n",
       "14         0   -1844.956182         56               высшее             0   \n",
       "15         1    -972.364419         26              среднее             1   \n",
       "16         0   -1719.934226         35              среднее             1   \n",
       "17         0   -2369.999720         33               высшее             0   \n",
       "18         0  400281.136913         53              среднее             1   \n",
       "19         0  -10038.818549         48              СРЕДНЕЕ             1   \n",
       "\n",
       "       family_status  family_status_id gender income_type  debt  \\\n",
       "0    женат / замужем                 0      F   сотрудник     0   \n",
       "1    женат / замужем                 0      F   сотрудник     0   \n",
       "2    женат / замужем                 0      M   сотрудник     0   \n",
       "3    женат / замужем                 0      M   сотрудник     0   \n",
       "4   гражданский брак                 1      F   пенсионер     0   \n",
       "5   гражданский брак                 1      M   компаньон     0   \n",
       "6    женат / замужем                 0      F   компаньон     0   \n",
       "7    женат / замужем                 0      M   сотрудник     0   \n",
       "8   гражданский брак                 1      F   сотрудник     0   \n",
       "9    женат / замужем                 0      M   сотрудник     0   \n",
       "10   женат / замужем                 0      M   компаньон     0   \n",
       "11   женат / замужем                 0      F   сотрудник     0   \n",
       "12  гражданский брак                 1      M   пенсионер     0   \n",
       "13   женат / замужем                 0      F   сотрудник     0   \n",
       "14  гражданский брак                 1      F   компаньон     1   \n",
       "15   женат / замужем                 0      F   сотрудник     0   \n",
       "16   женат / замужем                 0      F   сотрудник     0   \n",
       "17  гражданский брак                 1      M   сотрудник     0   \n",
       "18    вдовец / вдова                 2      F   пенсионер     0   \n",
       "19         в разводе                 3      F   сотрудник     0   \n",
       "\n",
       "     total_income                                 purpose  \n",
       "0   253875.639453                           покупка жилья  \n",
       "1   112080.014102                 приобретение автомобиля  \n",
       "2   145885.952297                           покупка жилья  \n",
       "3   267628.550329              дополнительное образование  \n",
       "4   158616.077870                         сыграть свадьбу  \n",
       "5   255763.565419                           покупка жилья  \n",
       "6   240525.971920                       операции с жильем  \n",
       "7   135823.934197                             образование  \n",
       "8    95856.832424                   на проведение свадьбы  \n",
       "9   144425.938277                 покупка жилья для семьи  \n",
       "10  113943.491460                    покупка недвижимости  \n",
       "11   77069.234271       покупка коммерческой недвижимости  \n",
       "12            NaN                         сыграть свадьбу  \n",
       "13  130458.228857                 приобретение автомобиля  \n",
       "14  165127.911772              покупка жилой недвижимости  \n",
       "15  116820.904450  строительство собственной недвижимости  \n",
       "16  289202.704229                            недвижимость  \n",
       "17   90410.586745              строительство недвижимости  \n",
       "18   56823.777243      на покупку подержанного автомобиля  \n",
       "19  242831.107982            на покупку своего автомобиля  "
      ]
     },
     "execution_count": 2,
     "metadata": {},
     "output_type": "execute_result"
    }
   ],
   "source": [
    "data.head(20)"
   ]
  },
  {
   "cell_type": "markdown",
   "id": "0ed8f27f",
   "metadata": {
    "deletable": false,
    "editable": false,
    "id": "0ed8f27f"
   },
   "source": [
    "**Задание 3. Выведите основную информацию о датафрейме с помощью метода `info()`.**"
   ]
  },
  {
   "cell_type": "code",
   "execution_count": 3,
   "id": "ab3f863b",
   "metadata": {
    "deletable": false,
    "id": "ab3f863b",
    "outputId": "15376089-8dad-46c9-b520-c05248d43158"
   },
   "outputs": [
    {
     "name": "stdout",
     "output_type": "stream",
     "text": [
      "<class 'pandas.core.frame.DataFrame'>\n",
      "RangeIndex: 21525 entries, 0 to 21524\n",
      "Data columns (total 12 columns):\n",
      " #   Column            Non-Null Count  Dtype  \n",
      "---  ------            --------------  -----  \n",
      " 0   children          21525 non-null  int64  \n",
      " 1   days_employed     19351 non-null  float64\n",
      " 2   dob_years         21525 non-null  int64  \n",
      " 3   education         21525 non-null  object \n",
      " 4   education_id      21525 non-null  int64  \n",
      " 5   family_status     21525 non-null  object \n",
      " 6   family_status_id  21525 non-null  int64  \n",
      " 7   gender            21525 non-null  object \n",
      " 8   income_type       21525 non-null  object \n",
      " 9   debt              21525 non-null  int64  \n",
      " 10  total_income      19351 non-null  float64\n",
      " 11  purpose           21525 non-null  object \n",
      "dtypes: float64(2), int64(5), object(5)\n",
      "memory usage: 2.0+ MB\n"
     ]
    }
   ],
   "source": [
    "data.info()"
   ]
  },
  {
   "cell_type": "markdown",
   "id": "60e3e22d",
   "metadata": {
    "deletable": false,
    "editable": false,
    "id": "60e3e22d"
   },
   "source": [
    "## Предобработка данных"
   ]
  },
  {
   "cell_type": "markdown",
   "id": "03dc170c",
   "metadata": {
    "deletable": false,
    "editable": false,
    "id": "03dc170c"
   },
   "source": [
    "### Удаление пропусков"
   ]
  },
  {
   "cell_type": "markdown",
   "id": "a4f54eef",
   "metadata": {
    "deletable": false,
    "editable": false,
    "id": "a4f54eef"
   },
   "source": [
    "**Задание 4. Выведите количество пропущенных значений для каждого столбца. Используйте комбинацию двух методов.**"
   ]
  },
  {
   "cell_type": "code",
   "execution_count": 4,
   "id": "2dc372b2",
   "metadata": {
    "deletable": false,
    "id": "2dc372b2",
    "outputId": "81f4d817-781c-465c-ed15-91ce4446810d"
   },
   "outputs": [
    {
     "data": {
      "text/plain": [
       "children               0\n",
       "days_employed       2174\n",
       "dob_years              0\n",
       "education              0\n",
       "education_id           0\n",
       "family_status          0\n",
       "family_status_id       0\n",
       "gender                 0\n",
       "income_type            0\n",
       "debt                   0\n",
       "total_income        2174\n",
       "purpose                0\n",
       "dtype: int64"
      ]
     },
     "execution_count": 4,
     "metadata": {},
     "output_type": "execute_result"
    }
   ],
   "source": [
    "data.isna().sum()"
   ]
  },
  {
   "cell_type": "markdown",
   "id": "14f011b1",
   "metadata": {
    "deletable": false,
    "editable": false,
    "id": "14f011b1"
   },
   "source": [
    "**Задание 5. В двух столбцах есть пропущенные значения. Один из них — `days_employed`. Пропуски в этом столбце вы обработаете на следующем этапе. Другой столбец с пропущенными значениями — `total_income` — хранит данные о доходах. На сумму дохода сильнее всего влияет тип занятости, поэтому заполнить пропуски в этом столбце нужно медианным значением по каждому типу из столбца `income_type`. Например, у человека с типом занятости `сотрудник` пропуск в столбце `total_income` должен быть заполнен медианным доходом среди всех записей с тем же типом.**"
   ]
  },
  {
   "cell_type": "code",
   "execution_count": 5,
   "id": "bdabfb6e",
   "metadata": {
    "deletable": false,
    "id": "bdabfb6e"
   },
   "outputs": [],
   "source": [
    "for t in data['income_type'].unique():\n",
    "    data.loc[(data['income_type'] == t) & (data['total_income'].isna()), 'total_income'] = \\\n",
    "    data.loc[(data['income_type'] == t), 'total_income'].median()"
   ]
  },
  {
   "cell_type": "markdown",
   "id": "5be34059",
   "metadata": {
    "deletable": false,
    "editable": false,
    "id": "5be34059"
   },
   "source": [
    "### Обработка аномальных значений"
   ]
  },
  {
   "cell_type": "markdown",
   "id": "a87606cb",
   "metadata": {
    "deletable": false,
    "editable": false,
    "id": "a87606cb"
   },
   "source": [
    "**Задание 6. В данных могут встречаться артефакты (аномалии) — значения, которые не отражают действительность и появились по какой-то ошибке. таким артефактом будет отрицательное количество дней трудового стажа в столбце `days_employed`. Для реальных данных это нормально. Обработайте значения в этом столбце: замените все отрицательные значения положительными с помощью метода `abs()`.**"
   ]
  },
  {
   "cell_type": "code",
   "execution_count": 6,
   "id": "020c46cc",
   "metadata": {
    "deletable": false,
    "id": "020c46cc"
   },
   "outputs": [],
   "source": [
    "data['days_employed'] = data['days_employed'].abs()"
   ]
  },
  {
   "cell_type": "markdown",
   "id": "45538a3a",
   "metadata": {
    "deletable": false,
    "editable": false,
    "id": "45538a3a"
   },
   "source": [
    "**Задание 7. Для каждого типа занятости выведите медианное значение трудового стажа `days_employed` в днях.**"
   ]
  },
  {
   "cell_type": "code",
   "execution_count": 7,
   "id": "cd3e6328",
   "metadata": {
    "deletable": false,
    "id": "cd3e6328",
    "outputId": "801ef80e-522b-4668-f34e-565af7432bcf"
   },
   "outputs": [
    {
     "data": {
      "text/plain": [
       "income_type\n",
       "безработный        366413.652744\n",
       "в декрете            3296.759962\n",
       "госслужащий          2689.368353\n",
       "компаньон            1547.382223\n",
       "пенсионер          365213.306266\n",
       "предприниматель       520.848083\n",
       "сотрудник            1574.202821\n",
       "студент               578.751554\n",
       "Name: days_employed, dtype: float64"
      ]
     },
     "execution_count": 7,
     "metadata": {},
     "output_type": "execute_result"
    }
   ],
   "source": [
    "data.groupby('income_type')['days_employed'].agg('median')"
   ]
  },
  {
   "cell_type": "markdown",
   "id": "90c5f058",
   "metadata": {
    "deletable": false,
    "editable": false,
    "id": "90c5f058"
   },
   "source": [
    "У двух типов (безработные и пенсионеры) получатся аномально большие значения. Исправить такие значения сложно, поэтому оставьте их как есть."
   ]
  },
  {
   "cell_type": "markdown",
   "id": "9652e50d",
   "metadata": {
    "deletable": false,
    "editable": false,
    "id": "9652e50d"
   },
   "source": [
    "**Задание 8. Выведите перечень уникальных значений столбца `children`.**"
   ]
  },
  {
   "cell_type": "code",
   "execution_count": 8,
   "id": "dbb37b8e",
   "metadata": {
    "deletable": false,
    "id": "dbb37b8e",
    "outputId": "6975b15c-7f95-4697-d16d-a0c79b657b03"
   },
   "outputs": [
    {
     "data": {
      "text/plain": [
       "array([ 1,  0,  3,  2, -1,  4, 20,  5])"
      ]
     },
     "execution_count": 8,
     "metadata": {},
     "output_type": "execute_result"
    }
   ],
   "source": [
    "data['children'].unique()"
   ]
  },
  {
   "cell_type": "markdown",
   "id": "2b8b0715",
   "metadata": {
    "deletable": false,
    "editable": false,
    "id": "2b8b0715"
   },
   "source": [
    "**Задание 9. В столбце `children` есть два аномальных значения. Удалите строки, в которых встречаются такие аномальные значения из датафрейма `data`.**"
   ]
  },
  {
   "cell_type": "code",
   "execution_count": 9,
   "id": "20009df8",
   "metadata": {
    "deletable": false,
    "id": "20009df8"
   },
   "outputs": [],
   "source": [
    "data = data[(data['children'] != -1) & (data['children'] != 20)]"
   ]
  },
  {
   "cell_type": "markdown",
   "id": "8c6ac9f1",
   "metadata": {
    "deletable": false,
    "editable": false,
    "id": "8c6ac9f1"
   },
   "source": [
    "**Задание 10. Ещё раз выведите перечень уникальных значений столбца `children`, чтобы убедиться, что артефакты удалены.**"
   ]
  },
  {
   "cell_type": "code",
   "execution_count": 10,
   "id": "07337b81",
   "metadata": {
    "deletable": false,
    "id": "07337b81",
    "outputId": "b2097101-d49d-44d9-901b-32a65c9463d1"
   },
   "outputs": [
    {
     "data": {
      "text/plain": [
       "array([1, 0, 3, 2, 4, 5])"
      ]
     },
     "execution_count": 10,
     "metadata": {},
     "output_type": "execute_result"
    }
   ],
   "source": [
    "data['children'].unique()"
   ]
  },
  {
   "cell_type": "markdown",
   "id": "ee3f52d4",
   "metadata": {
    "deletable": false,
    "editable": false,
    "id": "ee3f52d4"
   },
   "source": [
    "### Удаление пропусков (продолжение)"
   ]
  },
  {
   "cell_type": "markdown",
   "id": "a700b0e4",
   "metadata": {
    "deletable": false,
    "editable": false,
    "id": "a700b0e4"
   },
   "source": [
    "**Задание 11. Заполните пропуски в столбце `days_employed` медианными значениями по каждого типа занятости `income_type`.**"
   ]
  },
  {
   "cell_type": "code",
   "execution_count": 11,
   "id": "61946b83",
   "metadata": {
    "deletable": false,
    "id": "61946b83"
   },
   "outputs": [],
   "source": [
    "for t in data['income_type'].unique():\n",
    "    data.loc[(data['income_type'] == t) & (data['days_employed'].isna()), 'days_employed'] = \\\n",
    "    data.loc[(data['income_type'] == t), 'days_employed'].median()"
   ]
  },
  {
   "cell_type": "markdown",
   "id": "550dcd9b",
   "metadata": {
    "deletable": false,
    "editable": false,
    "id": "550dcd9b"
   },
   "source": [
    "**Задание 12. Убедитесь, что все пропуски заполнены. Проверьте себя и ещё раз выведите количество пропущенных значений для каждого столбца с помощью двух методов.**"
   ]
  },
  {
   "cell_type": "code",
   "execution_count": 12,
   "id": "937c7014",
   "metadata": {
    "deletable": false,
    "id": "937c7014",
    "outputId": "8da1e4e1-358e-4e87-98c9-f261bce0a7b2"
   },
   "outputs": [
    {
     "data": {
      "text/plain": [
       "children            0\n",
       "days_employed       0\n",
       "dob_years           0\n",
       "education           0\n",
       "education_id        0\n",
       "family_status       0\n",
       "family_status_id    0\n",
       "gender              0\n",
       "income_type         0\n",
       "debt                0\n",
       "total_income        0\n",
       "purpose             0\n",
       "dtype: int64"
      ]
     },
     "execution_count": 12,
     "metadata": {},
     "output_type": "execute_result"
    }
   ],
   "source": [
    "data.isna().sum()"
   ]
  },
  {
   "cell_type": "markdown",
   "id": "d522e295",
   "metadata": {
    "deletable": false,
    "editable": false,
    "id": "d522e295"
   },
   "source": [
    "### Изменение типов данных"
   ]
  },
  {
   "cell_type": "markdown",
   "id": "c229c581",
   "metadata": {
    "deletable": false,
    "editable": false,
    "id": "c229c581"
   },
   "source": [
    "**Задание 13. Замените вещественный тип данных в столбце `total_income` на целочисленный с помощью метода `astype()`.**"
   ]
  },
  {
   "cell_type": "code",
   "execution_count": 13,
   "id": "31036462",
   "metadata": {
    "deletable": false,
    "id": "31036462"
   },
   "outputs": [],
   "source": [
    "data['total_income'] = data['total_income'].astype(int)"
   ]
  },
  {
   "cell_type": "markdown",
   "id": "b8e3d1d9",
   "metadata": {
    "deletable": false,
    "editable": false,
    "id": "b8e3d1d9"
   },
   "source": [
    "### Обработка дубликатов"
   ]
  },
  {
   "cell_type": "markdown",
   "id": "9be53c49",
   "metadata": {
    "deletable": false,
    "editable": false,
    "id": "9be53c49"
   },
   "source": [
    "**Задание 14. Обработайте неявные дубликаты в столбце `education`. В этом столбце есть одни и те же значения, но записанные по-разному: с использованием заглавных и строчных букв. Приведите их к нижнему регистру.**"
   ]
  },
  {
   "cell_type": "code",
   "execution_count": 14,
   "id": "d89e73e1",
   "metadata": {
    "deletable": false,
    "id": "d89e73e1"
   },
   "outputs": [],
   "source": [
    "data['education'] = data['education'].str.lower()"
   ]
  },
  {
   "cell_type": "markdown",
   "id": "01d4500e",
   "metadata": {
    "deletable": false,
    "editable": false,
    "id": "01d4500e"
   },
   "source": [
    "**Задание 15. Выведите на экран количество строк-дубликатов в данных. Если такие строки присутствуют, удалите их.**"
   ]
  },
  {
   "cell_type": "code",
   "execution_count": 15,
   "id": "e10efb23",
   "metadata": {
    "deletable": false,
    "id": "e10efb23",
    "outputId": "9684deba-1934-42d1-99e1-cda61740f822"
   },
   "outputs": [
    {
     "data": {
      "text/plain": [
       "71"
      ]
     },
     "execution_count": 15,
     "metadata": {},
     "output_type": "execute_result"
    }
   ],
   "source": [
    "data.duplicated().sum()"
   ]
  },
  {
   "cell_type": "code",
   "execution_count": 16,
   "id": "df853f20",
   "metadata": {
    "deletable": false,
    "id": "df853f20"
   },
   "outputs": [],
   "source": [
    "data = data.drop_duplicates()"
   ]
  },
  {
   "cell_type": "markdown",
   "id": "627be38f",
   "metadata": {
    "deletable": false,
    "editable": false,
    "id": "627be38f"
   },
   "source": [
    "### Категоризация данных"
   ]
  },
  {
   "cell_type": "markdown",
   "id": "4684c3e0",
   "metadata": {
    "deletable": false,
    "editable": false,
    "id": "4684c3e0"
   },
   "source": [
    "**Задание 16. На основании диапазонов, указанных ниже, создайте в датафрейме `data` столбец `total_income_category` с категориями:**\n",
    "\n",
    "- 0–30000 — `'E'`;\n",
    "- 30001–50000 — `'D'`;\n",
    "- 50001–200000 — `'C'`;\n",
    "- 200001–1000000 — `'B'`;\n",
    "- 1000001 и выше — `'A'`.\n",
    "\n",
    "\n",
    "**Например, кредитополучателю с доходом 25000 нужно назначить категорию `'E'`, а клиенту, получающему 235000, — `'B'`. Используйте собственную функцию с именем `categorize_income()` и метод `apply()`.**"
   ]
  },
  {
   "cell_type": "code",
   "execution_count": 17,
   "id": "78965238",
   "metadata": {
    "deletable": false,
    "id": "78965238"
   },
   "outputs": [],
   "source": [
    "def categorize_income(income):\n",
    "    try:\n",
    "        if 0 <= income <= 30000:\n",
    "            return 'E'\n",
    "        elif 30001 <= income <= 50000:\n",
    "            return 'D'\n",
    "        elif 50001 <= income <= 200000:\n",
    "            return 'C'\n",
    "        elif 200001 <= income <= 1000000:\n",
    "            return 'B'\n",
    "        elif income >= 1000001:\n",
    "            return 'A'\n",
    "    except:\n",
    "        pass"
   ]
  },
  {
   "cell_type": "code",
   "execution_count": 18,
   "id": "0980ada1",
   "metadata": {
    "deletable": false,
    "id": "0980ada1"
   },
   "outputs": [],
   "source": [
    "data['total_income_category'] = data['total_income'].apply(categorize_income)"
   ]
  },
  {
   "cell_type": "markdown",
   "id": "9917bba0",
   "metadata": {
    "deletable": false,
    "editable": false,
    "id": "9917bba0"
   },
   "source": [
    "**Задание 17. Выведите на экран перечень уникальных целей взятия кредита из столбца `purpose`.**"
   ]
  },
  {
   "cell_type": "code",
   "execution_count": 19,
   "id": "ee07b65e",
   "metadata": {
    "deletable": false,
    "id": "ee07b65e",
    "outputId": "673c12d9-7d7e-4ae0-9812-c622c89dd244"
   },
   "outputs": [
    {
     "data": {
      "text/plain": [
       "array(['покупка жилья', 'приобретение автомобиля',\n",
       "       'дополнительное образование', 'сыграть свадьбу',\n",
       "       'операции с жильем', 'образование', 'на проведение свадьбы',\n",
       "       'покупка жилья для семьи', 'покупка недвижимости',\n",
       "       'покупка коммерческой недвижимости', 'покупка жилой недвижимости',\n",
       "       'строительство собственной недвижимости', 'недвижимость',\n",
       "       'строительство недвижимости', 'на покупку подержанного автомобиля',\n",
       "       'на покупку своего автомобиля',\n",
       "       'операции с коммерческой недвижимостью',\n",
       "       'строительство жилой недвижимости', 'жилье',\n",
       "       'операции со своей недвижимостью', 'автомобили',\n",
       "       'заняться образованием', 'сделка с подержанным автомобилем',\n",
       "       'получение образования', 'автомобиль', 'свадьба',\n",
       "       'получение дополнительного образования', 'покупка своего жилья',\n",
       "       'операции с недвижимостью', 'получение высшего образования',\n",
       "       'свой автомобиль', 'сделка с автомобилем',\n",
       "       'профильное образование', 'высшее образование',\n",
       "       'покупка жилья для сдачи', 'на покупку автомобиля', 'ремонт жилью',\n",
       "       'заняться высшим образованием'], dtype=object)"
      ]
     },
     "execution_count": 19,
     "metadata": {},
     "output_type": "execute_result"
    }
   ],
   "source": [
    "data['purpose'].unique()"
   ]
  },
  {
   "cell_type": "markdown",
   "id": "52b79d56",
   "metadata": {
    "deletable": false,
    "editable": false,
    "id": "52b79d56"
   },
   "source": [
    "**Задание 18. Создайте функцию, которая на основании данных из столбца `purpose` сформирует новый столбец `purpose_category`, в который войдут следующие категории:**\n",
    "\n",
    "- `'операции с автомобилем'`,\n",
    "- `'операции с недвижимостью'`,\n",
    "- `'проведение свадьбы'`,\n",
    "- `'получение образования'`.\n",
    "\n",
    "**Например, если в столбце `purpose` находится подстрока `'на покупку автомобиля'`, то в столбце `purpose_category` должна появиться строка `'операции с автомобилем'`.**\n",
    "\n",
    "**Используйте собственную функцию с именем `categorize_purpose()` и метод `apply()`. Изучите данные в столбце `purpose` и определите, какие подстроки помогут вам правильно определить категорию.**"
   ]
  },
  {
   "cell_type": "code",
   "execution_count": 20,
   "id": "be41da5d",
   "metadata": {
    "deletable": false,
    "id": "be41da5d"
   },
   "outputs": [],
   "source": [
    "def categorize_purpose(row):\n",
    "    try:\n",
    "        if 'автом' in row:\n",
    "            return 'операции с автомобилем'\n",
    "        elif 'жил' in row or 'недвиж' in row:\n",
    "            return 'операции с недвижимостью'\n",
    "        elif 'свад' in row:\n",
    "            return 'проведение свадьбы'\n",
    "        elif 'образов' in row:\n",
    "            return 'получение образования'\n",
    "    except:\n",
    "        return 'нет категории'"
   ]
  },
  {
   "cell_type": "code",
   "execution_count": 21,
   "id": "94c4a19a",
   "metadata": {
    "deletable": false,
    "id": "94c4a19a"
   },
   "outputs": [],
   "source": [
    "data['purpose_category'] = data['purpose'].apply(categorize_purpose)"
   ]
  },
  {
   "cell_type": "markdown",
   "id": "3d596c34",
   "metadata": {
    "deletable": false,
    "editable": false,
    "id": "3d596c34"
   },
   "source": [
    "### Шаг 3. Исследуйте данные и ответьте на вопросы"
   ]
  },
  {
   "cell_type": "markdown",
   "id": "648db036",
   "metadata": {
    "deletable": false,
    "editable": false,
    "id": "648db036"
   },
   "source": [
    "#### 3.1 Есть ли зависимость между количеством детей и возвратом кредита в срок?"
   ]
  },
  {
   "cell_type": "markdown",
   "id": "200f7a19",
   "metadata": {},
   "source": [
    "<font color='Blue'><b>Комментарий студента</b></font><br>\n",
    "<font color='DarkMagenta'><b>Напишу код с учетом твоих замечаний, а также буду использовать функцию для практики</font>\n"
   ]
  },
  {
   "cell_type": "code",
   "execution_count": 22,
   "id": "5225906e",
   "metadata": {},
   "outputs": [
    {
     "data": {
      "text/html": [
       "<style  type=\"text/css\" >\n",
       "</style><table id=\"T_4696d_\" ><thead>    <tr>        <th class=\"blank level0\" ></th>        <th class=\"col_heading level0 col0\" >Всего кредитополучателей</th>        <th class=\"col_heading level0 col1\" >Всего должников</th>        <th class=\"col_heading level0 col2\" >Доля должников</th>    </tr>    <tr>        <th class=\"index_name level0\" >children</th>        <th class=\"blank\" ></th>        <th class=\"blank\" ></th>        <th class=\"blank\" ></th>    </tr></thead><tbody>\n",
       "                <tr>\n",
       "                        <th id=\"T_4696d_level0_row0\" class=\"row_heading level0 row0\" >0</th>\n",
       "                        <td id=\"T_4696d_row0_col0\" class=\"data row0 col0\" >14091.000</td>\n",
       "                        <td id=\"T_4696d_row0_col1\" class=\"data row0 col1\" >1063.000</td>\n",
       "                        <td id=\"T_4696d_row0_col2\" class=\"data row0 col2\" >0.075</td>\n",
       "            </tr>\n",
       "            <tr>\n",
       "                        <th id=\"T_4696d_level0_row1\" class=\"row_heading level0 row1\" >1</th>\n",
       "                        <td id=\"T_4696d_row1_col0\" class=\"data row1 col0\" >4808.000</td>\n",
       "                        <td id=\"T_4696d_row1_col1\" class=\"data row1 col1\" >444.000</td>\n",
       "                        <td id=\"T_4696d_row1_col2\" class=\"data row1 col2\" >0.092</td>\n",
       "            </tr>\n",
       "            <tr>\n",
       "                        <th id=\"T_4696d_level0_row2\" class=\"row_heading level0 row2\" >2</th>\n",
       "                        <td id=\"T_4696d_row2_col0\" class=\"data row2 col0\" >2052.000</td>\n",
       "                        <td id=\"T_4696d_row2_col1\" class=\"data row2 col1\" >194.000</td>\n",
       "                        <td id=\"T_4696d_row2_col2\" class=\"data row2 col2\" >0.095</td>\n",
       "            </tr>\n",
       "            <tr>\n",
       "                        <th id=\"T_4696d_level0_row3\" class=\"row_heading level0 row3\" >3</th>\n",
       "                        <td id=\"T_4696d_row3_col0\" class=\"data row3 col0\" >330.000</td>\n",
       "                        <td id=\"T_4696d_row3_col1\" class=\"data row3 col1\" >27.000</td>\n",
       "                        <td id=\"T_4696d_row3_col2\" class=\"data row3 col2\" >0.082</td>\n",
       "            </tr>\n",
       "            <tr>\n",
       "                        <th id=\"T_4696d_level0_row4\" class=\"row_heading level0 row4\" >4</th>\n",
       "                        <td id=\"T_4696d_row4_col0\" class=\"data row4 col0\" >41.000</td>\n",
       "                        <td id=\"T_4696d_row4_col1\" class=\"data row4 col1\" >4.000</td>\n",
       "                        <td id=\"T_4696d_row4_col2\" class=\"data row4 col2\" >0.098</td>\n",
       "            </tr>\n",
       "            <tr>\n",
       "                        <th id=\"T_4696d_level0_row5\" class=\"row_heading level0 row5\" >5</th>\n",
       "                        <td id=\"T_4696d_row5_col0\" class=\"data row5 col0\" >9.000</td>\n",
       "                        <td id=\"T_4696d_row5_col1\" class=\"data row5 col1\" >0.000</td>\n",
       "                        <td id=\"T_4696d_row5_col2\" class=\"data row5 col2\" >0.000</td>\n",
       "            </tr>\n",
       "    </tbody></table>"
      ],
      "text/plain": [
       "<pandas.io.formats.style.Styler at 0x7fb05564bd90>"
      ]
     },
     "metadata": {},
     "output_type": "display_data"
    }
   ],
   "source": [
    "#Комментарий студента\n",
    "#Напишу код с учетом твоих замечаний, а также буду использовать функцию для практики\n",
    "temp2=data.copy()\n",
    "def que2(category):\n",
    "    data_temp2=temp2.pivot_table(index=category, values='debt', aggfunc=['count', 'sum', 'mean'])\n",
    "    data_temp2.columns=['Всего кредитополучателей', 'Всего должников', 'Доля должников']\n",
    "    display(data_temp2.style.format(\"{:.3f}\"))\n",
    "\n",
    "que2('children')"
   ]
  },
  {
   "cell_type": "markdown",
   "id": "6a5691ac",
   "metadata": {},
   "source": [
    "<font color='Blue'><b>Комментарий студента</b></font><br>\n",
    "<font color='DarkMagenta'><b>Переписываю выводы</font>"
   ]
  },
  {
   "cell_type": "markdown",
   "id": "989ea0c9",
   "metadata": {},
   "source": [
    "**Вывод:**  \n",
    " Наличие детей в семье кредитополучателя влияет на вероятность задолженности по кредиту. Семьи с большим количеством детей имеют более высокий процент должников, в то время как семьи без детей имеют более низкий процент должников."
   ]
  },
  {
   "cell_type": "markdown",
   "id": "09a7ba56",
   "metadata": {},
   "source": [
    "<font color='DarkBlue'><b>Комментарий ревьюера 2</b></font><br>\n",
    "<font color='DarkGreen'>👌 Действительно семьи без детей не несут дополнительных расходов и своевременно обслуживают свой кредит. У клиентов с детьми более высокая расходная часть семейного бюджета, поэтому и возникают сложности со своевременной выплатой по кредитным обязательствам.</font><br>\n",
    "<font color='DarkMagenta'>👉 Следовало обратить внимание на несбалансированность выборок для каждой категории, при малой выборке нельзя делать обоснованные выводы.</font>"
   ]
  },
  {
   "cell_type": "code",
   "execution_count": 23,
   "id": "7fcff25e",
   "metadata": {
    "deletable": false,
    "id": "7fcff25e"
   },
   "outputs": [],
   "source": [
    " # создаем PT, меняем порядок представления столбцов и их название.\n",
    "debt_child=data.pivot_table(index='children', values='debt', aggfunc=['mean', 'count', 'sum'])\n",
    "new_columns_order=['count','sum', 'mean']\n",
    "debt_child=debt_child[new_columns_order]\n",
    "new_columns_name={'mean':'средний_процент_должников', 'count':'количество_заемщиков', 'sum':'количество_должников'}\n",
    "debt_child=debt_child.rename(columns=new_columns_name)\n"
   ]
  },
  {
   "cell_type": "code",
   "execution_count": 24,
   "id": "8702d3ea",
   "metadata": {
    "scrolled": true
   },
   "outputs": [
    {
     "data": {
      "text/html": [
       "<div>\n",
       "<style scoped>\n",
       "    .dataframe tbody tr th:only-of-type {\n",
       "        vertical-align: middle;\n",
       "    }\n",
       "\n",
       "    .dataframe tbody tr th {\n",
       "        vertical-align: top;\n",
       "    }\n",
       "\n",
       "    .dataframe thead tr th {\n",
       "        text-align: left;\n",
       "    }\n",
       "\n",
       "    .dataframe thead tr:last-of-type th {\n",
       "        text-align: right;\n",
       "    }\n",
       "</style>\n",
       "<table border=\"1\" class=\"dataframe\">\n",
       "  <thead>\n",
       "    <tr>\n",
       "      <th></th>\n",
       "      <th>количество_заемщиков</th>\n",
       "      <th>количество_должников</th>\n",
       "      <th>средний_процент_должников</th>\n",
       "    </tr>\n",
       "    <tr>\n",
       "      <th></th>\n",
       "      <th>debt</th>\n",
       "      <th>debt</th>\n",
       "      <th>debt</th>\n",
       "    </tr>\n",
       "    <tr>\n",
       "      <th>children</th>\n",
       "      <th></th>\n",
       "      <th></th>\n",
       "      <th></th>\n",
       "    </tr>\n",
       "  </thead>\n",
       "  <tbody>\n",
       "    <tr>\n",
       "      <th>0</th>\n",
       "      <td>14091</td>\n",
       "      <td>1063</td>\n",
       "      <td>0.075438</td>\n",
       "    </tr>\n",
       "    <tr>\n",
       "      <th>1</th>\n",
       "      <td>4808</td>\n",
       "      <td>444</td>\n",
       "      <td>0.092346</td>\n",
       "    </tr>\n",
       "    <tr>\n",
       "      <th>2</th>\n",
       "      <td>2052</td>\n",
       "      <td>194</td>\n",
       "      <td>0.094542</td>\n",
       "    </tr>\n",
       "    <tr>\n",
       "      <th>3</th>\n",
       "      <td>330</td>\n",
       "      <td>27</td>\n",
       "      <td>0.081818</td>\n",
       "    </tr>\n",
       "    <tr>\n",
       "      <th>4</th>\n",
       "      <td>41</td>\n",
       "      <td>4</td>\n",
       "      <td>0.097561</td>\n",
       "    </tr>\n",
       "    <tr>\n",
       "      <th>5</th>\n",
       "      <td>9</td>\n",
       "      <td>0</td>\n",
       "      <td>0.000000</td>\n",
       "    </tr>\n",
       "  </tbody>\n",
       "</table>\n",
       "</div>"
      ],
      "text/plain": [
       "         количество_заемщиков количество_должников средний_процент_должников\n",
       "                         debt                 debt                      debt\n",
       "children                                                                    \n",
       "0                       14091                 1063                  0.075438\n",
       "1                        4808                  444                  0.092346\n",
       "2                        2052                  194                  0.094542\n",
       "3                         330                   27                  0.081818\n",
       "4                          41                    4                  0.097561\n",
       "5                           9                    0                  0.000000"
      ]
     },
     "execution_count": 24,
     "metadata": {},
     "output_type": "execute_result"
    }
   ],
   "source": [
    "debt_child"
   ]
  },
  {
   "cell_type": "markdown",
   "id": "aadd5895",
   "metadata": {},
   "source": [
    "<font color='DarkBlue'><b>Комментарий ревьюера</b></font><br>\n",
    "<font color='DarkMagenta'>👉 Можно сделать вот так, через функцию.</font>"
   ]
  },
  {
   "cell_type": "code",
   "execution_count": 25,
   "id": "d4393d30",
   "metadata": {},
   "outputs": [
    {
     "data": {
      "text/html": [
       "<style  type=\"text/css\" >\n",
       "#T_00e84_row0_col0,#T_00e84_row0_col1,#T_00e84_row4_col2{\n",
       "            background-color:  #08306b;\n",
       "            color:  #f1f1f1;\n",
       "        }#T_00e84_row0_col2{\n",
       "            background-color:  #1c6bb0;\n",
       "            color:  #f1f1f1;\n",
       "        }#T_00e84_row1_col0{\n",
       "            background-color:  #a9cfe5;\n",
       "            color:  #000000;\n",
       "        }#T_00e84_row1_col1{\n",
       "            background-color:  #8dc1dd;\n",
       "            color:  #000000;\n",
       "        }#T_00e84_row1_col2{\n",
       "            background-color:  #083d7f;\n",
       "            color:  #f1f1f1;\n",
       "        }#T_00e84_row2_col0{\n",
       "            background-color:  #dae8f6;\n",
       "            color:  #000000;\n",
       "        }#T_00e84_row2_col1{\n",
       "            background-color:  #d3e4f3;\n",
       "            color:  #000000;\n",
       "        }#T_00e84_row2_col2{\n",
       "            background-color:  #083776;\n",
       "            color:  #f1f1f1;\n",
       "        }#T_00e84_row3_col0{\n",
       "            background-color:  #f3f8fe;\n",
       "            color:  #000000;\n",
       "        }#T_00e84_row3_col1{\n",
       "            background-color:  #f2f8fd;\n",
       "            color:  #000000;\n",
       "        }#T_00e84_row3_col2{\n",
       "            background-color:  #0f5aa3;\n",
       "            color:  #f1f1f1;\n",
       "        }#T_00e84_row4_col0,#T_00e84_row4_col1,#T_00e84_row5_col0,#T_00e84_row5_col1,#T_00e84_row5_col2{\n",
       "            background-color:  #f7fbff;\n",
       "            color:  #000000;\n",
       "        }</style><table id=\"T_00e84_\" ><thead>    <tr>        <th class=\"blank level0\" ></th>        <th class=\"col_heading level0 col0\" >Всего кредитополучателей</th>        <th class=\"col_heading level0 col1\" >Всего должников</th>        <th class=\"col_heading level0 col2\" >Доля должников</th>    </tr>    <tr>        <th class=\"index_name level0\" >children</th>        <th class=\"blank\" ></th>        <th class=\"blank\" ></th>        <th class=\"blank\" ></th>    </tr></thead><tbody>\n",
       "                <tr>\n",
       "                        <th id=\"T_00e84_level0_row0\" class=\"row_heading level0 row0\" >0</th>\n",
       "                        <td id=\"T_00e84_row0_col0\" class=\"data row0 col0\" >14091.000</td>\n",
       "                        <td id=\"T_00e84_row0_col1\" class=\"data row0 col1\" >1063.000</td>\n",
       "                        <td id=\"T_00e84_row0_col2\" class=\"data row0 col2\" >0.075</td>\n",
       "            </tr>\n",
       "            <tr>\n",
       "                        <th id=\"T_00e84_level0_row1\" class=\"row_heading level0 row1\" >1</th>\n",
       "                        <td id=\"T_00e84_row1_col0\" class=\"data row1 col0\" >4808.000</td>\n",
       "                        <td id=\"T_00e84_row1_col1\" class=\"data row1 col1\" >444.000</td>\n",
       "                        <td id=\"T_00e84_row1_col2\" class=\"data row1 col2\" >0.092</td>\n",
       "            </tr>\n",
       "            <tr>\n",
       "                        <th id=\"T_00e84_level0_row2\" class=\"row_heading level0 row2\" >2</th>\n",
       "                        <td id=\"T_00e84_row2_col0\" class=\"data row2 col0\" >2052.000</td>\n",
       "                        <td id=\"T_00e84_row2_col1\" class=\"data row2 col1\" >194.000</td>\n",
       "                        <td id=\"T_00e84_row2_col2\" class=\"data row2 col2\" >0.095</td>\n",
       "            </tr>\n",
       "            <tr>\n",
       "                        <th id=\"T_00e84_level0_row3\" class=\"row_heading level0 row3\" >3</th>\n",
       "                        <td id=\"T_00e84_row3_col0\" class=\"data row3 col0\" >330.000</td>\n",
       "                        <td id=\"T_00e84_row3_col1\" class=\"data row3 col1\" >27.000</td>\n",
       "                        <td id=\"T_00e84_row3_col2\" class=\"data row3 col2\" >0.082</td>\n",
       "            </tr>\n",
       "            <tr>\n",
       "                        <th id=\"T_00e84_level0_row4\" class=\"row_heading level0 row4\" >4</th>\n",
       "                        <td id=\"T_00e84_row4_col0\" class=\"data row4 col0\" >41.000</td>\n",
       "                        <td id=\"T_00e84_row4_col1\" class=\"data row4 col1\" >4.000</td>\n",
       "                        <td id=\"T_00e84_row4_col2\" class=\"data row4 col2\" >0.098</td>\n",
       "            </tr>\n",
       "            <tr>\n",
       "                        <th id=\"T_00e84_level0_row5\" class=\"row_heading level0 row5\" >5</th>\n",
       "                        <td id=\"T_00e84_row5_col0\" class=\"data row5 col0\" >9.000</td>\n",
       "                        <td id=\"T_00e84_row5_col1\" class=\"data row5 col1\" >0.000</td>\n",
       "                        <td id=\"T_00e84_row5_col2\" class=\"data row5 col2\" >0.000</td>\n",
       "            </tr>\n",
       "    </tbody></table>"
      ],
      "text/plain": [
       "<pandas.io.formats.style.Styler at 0x7fafe8e29640>"
      ]
     },
     "metadata": {},
     "output_type": "display_data"
    }
   ],
   "source": [
    "# Комментарий ревьюера\n",
    "# Создаем копию датасета, что бы не работать с исходным\n",
    "temp = data.copy()\n",
    "# Напишем функцию, так как все задачи аналогичны\n",
    "def que(category):\n",
    "    data_temp = temp.pivot_table(index=category, values='debt', aggfunc=['count', 'sum', 'mean'])\n",
    "    data_temp.columns = ['Всего кредитополучателей', 'Всего должников', 'Доля должников']\n",
    "    # Оформим таблицу цветным градиентом, но можно ее вывести и просто display(data_temp)\n",
    "    display(data_temp.style.format(\"{:.3f}\").background_gradient(cmap='Blues', axis=0))\n",
    "    \n",
    "que('children')"
   ]
  },
  {
   "cell_type": "code",
   "execution_count": 26,
   "id": "f6a4774c",
   "metadata": {},
   "outputs": [
    {
     "data": {
      "text/plain": [
       "0.02464341543959104"
      ]
     },
     "execution_count": 26,
     "metadata": {},
     "output_type": "execute_result"
    }
   ],
   "source": [
    "debt_child_corr=data['debt'].corr(data['children'])\n",
    "debt_child_corr"
   ]
  },
  {
   "cell_type": "markdown",
   "id": "d5af6825",
   "metadata": {},
   "source": [
    "<font color='DarkBlue'><b>Комментарий ревьюера</b></font><br>\n",
    "<font color='Red'>🛠 А разве корреляцию Пирсона считают по категориальным данным? Разве бывают семьи с 1,5 ребенком?</font>"
   ]
  },
  {
   "cell_type": "markdown",
   "id": "2eb9088e",
   "metadata": {
    "deletable": false,
    "id": "2eb9088e"
   },
   "source": [
    "**Вывод:** \n",
    "1. Статистическая значимость выборки для группы заемщиков от 3 детей низкая.\n",
    "2. Количество детей имеет некоторое влияние на возврат кредита в срок, но это влияние не слишком сильное:  \n",
    "    a) на примере выборки заемщиков от 0 до 3 детей, наблюдаем снижение количества должников на 1,7%;  \n",
    "    b) коэффициент линейной корреляции двух интересующих нас показателей низкий.  \n",
    "3. Другие факторы или совокупность факторов, такие как ежемесячный доход, образование, семейное положение и т.д., могут оказывать большее влияние на способность заемщика возвращать кредит в срок, чем количество детей."
   ]
  },
  {
   "cell_type": "markdown",
   "id": "419187a6",
   "metadata": {},
   "source": [
    "<font color='DarkBlue'><b>Комментарий ревьюера</b></font><br>\n",
    "<font color='Red'>🛠 Не правильный вывод. <br>При сравнении долей (а здесь не равные выборки), необходимо учитывать не разницу в долях, а процент, когда максимальная доля принимается за 100%. В данном случае разница между крайними значениями долей должников (не учитывая категорию с 5-тью детьми) составляет более 22%.</font>"
   ]
  },
  {
   "cell_type": "markdown",
   "id": "74c9b3a7",
   "metadata": {
    "deletable": false,
    "editable": false,
    "id": "74c9b3a7"
   },
   "source": [
    "#### 3.2 Есть ли зависимость между семейным положением и возвратом кредита в срок?"
   ]
  },
  {
   "cell_type": "markdown",
   "id": "4af5ccf3",
   "metadata": {},
   "source": [
    "<font color='Blue'><b>Комментарий студента</b></font><br>\n",
    "<font color='DarkMagenta'><b>Использую функцию для практики. Вывод корректировать не буду, так как нет замечаний</font>"
   ]
  },
  {
   "cell_type": "code",
   "execution_count": 27,
   "id": "d3464cc9",
   "metadata": {},
   "outputs": [
    {
     "data": {
      "text/html": [
       "<style  type=\"text/css\" >\n",
       "</style><table id=\"T_8ef81_\" ><thead>    <tr>        <th class=\"blank level0\" ></th>        <th class=\"col_heading level0 col0\" >Всего кредитополучателей</th>        <th class=\"col_heading level0 col1\" >Всего должников</th>        <th class=\"col_heading level0 col2\" >Доля должников</th>    </tr>    <tr>        <th class=\"index_name level0\" >family_status</th>        <th class=\"blank\" ></th>        <th class=\"blank\" ></th>        <th class=\"blank\" ></th>    </tr></thead><tbody>\n",
       "                <tr>\n",
       "                        <th id=\"T_8ef81_level0_row0\" class=\"row_heading level0 row0\" >Не женат / не замужем</th>\n",
       "                        <td id=\"T_8ef81_row0_col0\" class=\"data row0 col0\" >2796.000</td>\n",
       "                        <td id=\"T_8ef81_row0_col1\" class=\"data row0 col1\" >273.000</td>\n",
       "                        <td id=\"T_8ef81_row0_col2\" class=\"data row0 col2\" >0.098</td>\n",
       "            </tr>\n",
       "            <tr>\n",
       "                        <th id=\"T_8ef81_level0_row1\" class=\"row_heading level0 row1\" >в разводе</th>\n",
       "                        <td id=\"T_8ef81_row1_col0\" class=\"data row1 col0\" >1189.000</td>\n",
       "                        <td id=\"T_8ef81_row1_col1\" class=\"data row1 col1\" >84.000</td>\n",
       "                        <td id=\"T_8ef81_row1_col2\" class=\"data row1 col2\" >0.071</td>\n",
       "            </tr>\n",
       "            <tr>\n",
       "                        <th id=\"T_8ef81_level0_row2\" class=\"row_heading level0 row2\" >вдовец / вдова</th>\n",
       "                        <td id=\"T_8ef81_row2_col0\" class=\"data row2 col0\" >951.000</td>\n",
       "                        <td id=\"T_8ef81_row2_col1\" class=\"data row2 col1\" >63.000</td>\n",
       "                        <td id=\"T_8ef81_row2_col2\" class=\"data row2 col2\" >0.066</td>\n",
       "            </tr>\n",
       "            <tr>\n",
       "                        <th id=\"T_8ef81_level0_row3\" class=\"row_heading level0 row3\" >гражданский брак</th>\n",
       "                        <td id=\"T_8ef81_row3_col0\" class=\"data row3 col0\" >4134.000</td>\n",
       "                        <td id=\"T_8ef81_row3_col1\" class=\"data row3 col1\" >385.000</td>\n",
       "                        <td id=\"T_8ef81_row3_col2\" class=\"data row3 col2\" >0.093</td>\n",
       "            </tr>\n",
       "            <tr>\n",
       "                        <th id=\"T_8ef81_level0_row4\" class=\"row_heading level0 row4\" >женат / замужем</th>\n",
       "                        <td id=\"T_8ef81_row4_col0\" class=\"data row4 col0\" >12261.000</td>\n",
       "                        <td id=\"T_8ef81_row4_col1\" class=\"data row4 col1\" >927.000</td>\n",
       "                        <td id=\"T_8ef81_row4_col2\" class=\"data row4 col2\" >0.076</td>\n",
       "            </tr>\n",
       "    </tbody></table>"
      ],
      "text/plain": [
       "<pandas.io.formats.style.Styler at 0x7fafe8dc2e80>"
      ]
     },
     "metadata": {},
     "output_type": "display_data"
    }
   ],
   "source": [
    "que2('family_status')"
   ]
  },
  {
   "cell_type": "code",
   "execution_count": 28,
   "id": "8098ab3b",
   "metadata": {
    "deletable": false,
    "id": "8098ab3b"
   },
   "outputs": [],
   "source": [
    " # создаем PT, меняем порядок представления столбцов и их название.\n",
    "debt_famstat=data.pivot_table(index='family_status', values='debt', aggfunc=['mean', 'count', 'sum'])\n",
    "new_columns_order=['count','sum', 'mean']\n",
    "debt_famstat=debt_famstat[new_columns_order]\n",
    "new_columns_name={'mean':'средний_процент_должников', 'count':'количество_заемщиков', 'sum':'количество_должников'}\n",
    "debt_famstat=debt_famstat.rename(columns=new_columns_name)"
   ]
  },
  {
   "cell_type": "code",
   "execution_count": 29,
   "id": "74fba3c5",
   "metadata": {},
   "outputs": [
    {
     "data": {
      "text/html": [
       "<div>\n",
       "<style scoped>\n",
       "    .dataframe tbody tr th:only-of-type {\n",
       "        vertical-align: middle;\n",
       "    }\n",
       "\n",
       "    .dataframe tbody tr th {\n",
       "        vertical-align: top;\n",
       "    }\n",
       "\n",
       "    .dataframe thead tr th {\n",
       "        text-align: left;\n",
       "    }\n",
       "\n",
       "    .dataframe thead tr:last-of-type th {\n",
       "        text-align: right;\n",
       "    }\n",
       "</style>\n",
       "<table border=\"1\" class=\"dataframe\">\n",
       "  <thead>\n",
       "    <tr>\n",
       "      <th></th>\n",
       "      <th>количество_заемщиков</th>\n",
       "      <th>количество_должников</th>\n",
       "      <th>средний_процент_должников</th>\n",
       "    </tr>\n",
       "    <tr>\n",
       "      <th></th>\n",
       "      <th>debt</th>\n",
       "      <th>debt</th>\n",
       "      <th>debt</th>\n",
       "    </tr>\n",
       "    <tr>\n",
       "      <th>family_status</th>\n",
       "      <th></th>\n",
       "      <th></th>\n",
       "      <th></th>\n",
       "    </tr>\n",
       "  </thead>\n",
       "  <tbody>\n",
       "    <tr>\n",
       "      <th>Не женат / не замужем</th>\n",
       "      <td>2796</td>\n",
       "      <td>273</td>\n",
       "      <td>0.097639</td>\n",
       "    </tr>\n",
       "    <tr>\n",
       "      <th>гражданский брак</th>\n",
       "      <td>4134</td>\n",
       "      <td>385</td>\n",
       "      <td>0.093130</td>\n",
       "    </tr>\n",
       "    <tr>\n",
       "      <th>женат / замужем</th>\n",
       "      <td>12261</td>\n",
       "      <td>927</td>\n",
       "      <td>0.075606</td>\n",
       "    </tr>\n",
       "    <tr>\n",
       "      <th>в разводе</th>\n",
       "      <td>1189</td>\n",
       "      <td>84</td>\n",
       "      <td>0.070648</td>\n",
       "    </tr>\n",
       "    <tr>\n",
       "      <th>вдовец / вдова</th>\n",
       "      <td>951</td>\n",
       "      <td>63</td>\n",
       "      <td>0.066246</td>\n",
       "    </tr>\n",
       "  </tbody>\n",
       "</table>\n",
       "</div>"
      ],
      "text/plain": [
       "                      количество_заемщиков количество_должников  \\\n",
       "                                      debt                 debt   \n",
       "family_status                                                     \n",
       "Не женат / не замужем                 2796                  273   \n",
       "гражданский брак                      4134                  385   \n",
       "женат / замужем                      12261                  927   \n",
       "в разводе                             1189                   84   \n",
       "вдовец / вдова                         951                   63   \n",
       "\n",
       "                      средний_процент_должников  \n",
       "                                           debt  \n",
       "family_status                                    \n",
       "Не женат / не замужем                  0.097639  \n",
       "гражданский брак                       0.093130  \n",
       "женат / замужем                        0.075606  \n",
       "в разводе                              0.070648  \n",
       "вдовец / вдова                         0.066246  "
      ]
     },
     "execution_count": 29,
     "metadata": {},
     "output_type": "execute_result"
    }
   ],
   "source": [
    "debt_famstat.sort_values(by=('средний_процент_должников', 'debt'), ascending=False)"
   ]
  },
  {
   "cell_type": "markdown",
   "id": "c389ca63",
   "metadata": {
    "deletable": false,
    "id": "c389ca63"
   },
   "source": [
    "**Вывод:**\n",
    "Семейное положение должника имеет некоторое влияние на возврат кредита в срок: заемщики, не состоящие в браке, чаще других групп не возвращают кредит в срок.  "
   ]
  },
  {
   "cell_type": "markdown",
   "id": "7b1dcaca",
   "metadata": {},
   "source": [
    "<font color='DarkBlue'><b>Комментарий ревьюера</b></font><br>\n",
    "<font color='DarkGreen'>👌 Оформленные семейные отношения или их прошлый опыт налагают определенную ответственность и приучают к финансовой дисциплине.</font>"
   ]
  },
  {
   "cell_type": "markdown",
   "id": "9529de68",
   "metadata": {
    "deletable": false,
    "editable": false,
    "id": "9529de68"
   },
   "source": [
    "#### 3.3 Есть ли зависимость между уровнем дохода и возвратом кредита в срок?"
   ]
  },
  {
   "cell_type": "markdown",
   "id": "9657ed92",
   "metadata": {},
   "source": [
    "<font color='Blue'><b>Комментарий студента</b></font><br>\n",
    "<font color='DarkMagenta'><b>Исправленный код</font>"
   ]
  },
  {
   "cell_type": "code",
   "execution_count": 30,
   "id": "dab1b686",
   "metadata": {},
   "outputs": [],
   "source": [
    "# используя qcut делим кредитополучателей на 5 равных групп (квантилей) в зависимости от размера доходов ('total_income)"
   ]
  },
  {
   "cell_type": "code",
   "execution_count": 31,
   "id": "4c25de39",
   "metadata": {},
   "outputs": [],
   "source": [
    "bin_label=['Bronze', 'Silver', 'Gold', 'Platinum', 'Diamond']\n",
    "temp2['income_group'], bin_edges=pd.qcut(\n",
    "    temp2['total_income'],\n",
    "    q=[0,.2, .4, .6, .8, 1],\n",
    "    labels=bin_label,\n",
    "    retbins=True\n",
    ")"
   ]
  },
  {
   "cell_type": "code",
   "execution_count": 32,
   "id": "3f030fe8",
   "metadata": {},
   "outputs": [
    {
     "data": {
      "text/plain": [
       "Bronze      4267\n",
       "Silver      4266\n",
       "Gold        4266\n",
       "Platinum    4266\n",
       "Diamond     4266\n",
       "Name: income_group, dtype: int64"
      ]
     },
     "execution_count": 32,
     "metadata": {},
     "output_type": "execute_result"
    }
   ],
   "source": [
    "# проверяю полученные данные\n",
    "temp2['income_group'].value_counts()"
   ]
  },
  {
   "cell_type": "code",
   "execution_count": 33,
   "id": "e7ada192",
   "metadata": {},
   "outputs": [
    {
     "data": {
      "text/plain": [
       "array([  20667.,   98514.,  132113.,  161380.,  214604., 2265604.])"
      ]
     },
     "execution_count": 33,
     "metadata": {},
     "output_type": "execute_result"
    }
   ],
   "source": [
    "# узнаю интервалы групп\n",
    "bin_edges"
   ]
  },
  {
   "cell_type": "code",
   "execution_count": 34,
   "id": "78feb6d7",
   "metadata": {},
   "outputs": [
    {
     "data": {
      "text/html": [
       "<style  type=\"text/css\" >\n",
       "</style><table id=\"T_086fa_\" ><thead>    <tr>        <th class=\"blank level0\" ></th>        <th class=\"col_heading level0 col0\" >Всего кредитополучателей</th>        <th class=\"col_heading level0 col1\" >Всего должников</th>        <th class=\"col_heading level0 col2\" >Доля должников</th>    </tr>    <tr>        <th class=\"index_name level0\" >income_group</th>        <th class=\"blank\" ></th>        <th class=\"blank\" ></th>        <th class=\"blank\" ></th>    </tr></thead><tbody>\n",
       "                <tr>\n",
       "                        <th id=\"T_086fa_level0_row0\" class=\"row_heading level0 row0\" >Bronze</th>\n",
       "                        <td id=\"T_086fa_row0_col0\" class=\"data row0 col0\" >4267.000</td>\n",
       "                        <td id=\"T_086fa_row0_col1\" class=\"data row0 col1\" >344.000</td>\n",
       "                        <td id=\"T_086fa_row0_col2\" class=\"data row0 col2\" >0.081</td>\n",
       "            </tr>\n",
       "            <tr>\n",
       "                        <th id=\"T_086fa_level0_row1\" class=\"row_heading level0 row1\" >Silver</th>\n",
       "                        <td id=\"T_086fa_row1_col0\" class=\"data row1 col0\" >4266.000</td>\n",
       "                        <td id=\"T_086fa_row1_col1\" class=\"data row1 col1\" >358.000</td>\n",
       "                        <td id=\"T_086fa_row1_col2\" class=\"data row1 col2\" >0.084</td>\n",
       "            </tr>\n",
       "            <tr>\n",
       "                        <th id=\"T_086fa_level0_row2\" class=\"row_heading level0 row2\" >Gold</th>\n",
       "                        <td id=\"T_086fa_row2_col0\" class=\"data row2 col0\" >4266.000</td>\n",
       "                        <td id=\"T_086fa_row2_col1\" class=\"data row2 col1\" >373.000</td>\n",
       "                        <td id=\"T_086fa_row2_col2\" class=\"data row2 col2\" >0.087</td>\n",
       "            </tr>\n",
       "            <tr>\n",
       "                        <th id=\"T_086fa_level0_row3\" class=\"row_heading level0 row3\" >Platinum</th>\n",
       "                        <td id=\"T_086fa_row3_col0\" class=\"data row3 col0\" >4266.000</td>\n",
       "                        <td id=\"T_086fa_row3_col1\" class=\"data row3 col1\" >358.000</td>\n",
       "                        <td id=\"T_086fa_row3_col2\" class=\"data row3 col2\" >0.084</td>\n",
       "            </tr>\n",
       "            <tr>\n",
       "                        <th id=\"T_086fa_level0_row4\" class=\"row_heading level0 row4\" >Diamond</th>\n",
       "                        <td id=\"T_086fa_row4_col0\" class=\"data row4 col0\" >4266.000</td>\n",
       "                        <td id=\"T_086fa_row4_col1\" class=\"data row4 col1\" >299.000</td>\n",
       "                        <td id=\"T_086fa_row4_col2\" class=\"data row4 col2\" >0.070</td>\n",
       "            </tr>\n",
       "    </tbody></table>"
      ],
      "text/plain": [
       "<pandas.io.formats.style.Styler at 0x7fafe8e29670>"
      ]
     },
     "metadata": {},
     "output_type": "display_data"
    }
   ],
   "source": [
    "que2('income_group')"
   ]
  },
  {
   "cell_type": "markdown",
   "id": "93ff0b55",
   "metadata": {},
   "source": [
    "<font color='Blue'><b>Комментарий студента</b></font><br>\n",
    "<font color='DarkMagenta'><b>Переписываю выводы</font>"
   ]
  },
  {
   "cell_type": "markdown",
   "id": "659f8b93",
   "metadata": {},
   "source": [
    "**Вывод:**  \n",
    " Уровень дохода кредитополучателя не влияет на вероятность задолженности по кредиту."
   ]
  },
  {
   "cell_type": "code",
   "execution_count": 35,
   "id": "71df546d",
   "metadata": {},
   "outputs": [],
   "source": [
    "# Создаем новую категорию заемщиков в зависимости от уровня дохода\n",
    "def categorize_income(income):\n",
    "    try:\n",
    "        if 0 <= income <= 30000:\n",
    "            return 'До 30 тыс. руб.'\n",
    "        elif 30001 <= income <= 50000:\n",
    "            return '30-50 тыс. руб.'\n",
    "        elif 50001 <= income <= 200000:\n",
    "            return '50-200 тыс. руб.'\n",
    "        elif 200001 <= income <= 1000000:\n",
    "            return '200 - 1000 тыс. руб.'\n",
    "        elif income >= 1000001:\n",
    "            return 'Свыше 1000 тыс. руб.'\n",
    "    except:\n",
    "        pass"
   ]
  },
  {
   "cell_type": "code",
   "execution_count": 36,
   "id": "c5fa47b1",
   "metadata": {},
   "outputs": [],
   "source": [
    "data['total_income_category2'] = data['total_income'].apply(categorize_income)"
   ]
  },
  {
   "cell_type": "code",
   "execution_count": 37,
   "id": "8787f44a",
   "metadata": {
    "deletable": false,
    "id": "8787f44a"
   },
   "outputs": [],
   "source": [
    " # создаем PT, меняем порядок представления столбцов и их название.\n",
    "debt_totinc=data.pivot_table(index='total_income_category2', values='debt', aggfunc=['mean', 'count', 'sum'])\n",
    "new_columns_order=['count','sum', 'mean']\n",
    "debt_totinc=debt_totinc[new_columns_order]\n",
    "new_columns_name={'mean':'средний_процент_должников', 'count':'количество_заемщиков', 'sum':'количество_должников'}\n",
    "debt_totinc=debt_totinc.rename(columns=new_columns_name)"
   ]
  },
  {
   "cell_type": "code",
   "execution_count": 38,
   "id": "bf7556db",
   "metadata": {},
   "outputs": [
    {
     "data": {
      "text/html": [
       "<div>\n",
       "<style scoped>\n",
       "    .dataframe tbody tr th:only-of-type {\n",
       "        vertical-align: middle;\n",
       "    }\n",
       "\n",
       "    .dataframe tbody tr th {\n",
       "        vertical-align: top;\n",
       "    }\n",
       "\n",
       "    .dataframe thead tr th {\n",
       "        text-align: left;\n",
       "    }\n",
       "\n",
       "    .dataframe thead tr:last-of-type th {\n",
       "        text-align: right;\n",
       "    }\n",
       "</style>\n",
       "<table border=\"1\" class=\"dataframe\">\n",
       "  <thead>\n",
       "    <tr>\n",
       "      <th></th>\n",
       "      <th>количество_заемщиков</th>\n",
       "      <th>количество_должников</th>\n",
       "      <th>средний_процент_должников</th>\n",
       "    </tr>\n",
       "    <tr>\n",
       "      <th></th>\n",
       "      <th>debt</th>\n",
       "      <th>debt</th>\n",
       "      <th>debt</th>\n",
       "    </tr>\n",
       "    <tr>\n",
       "      <th>total_income_category2</th>\n",
       "      <th></th>\n",
       "      <th></th>\n",
       "      <th></th>\n",
       "    </tr>\n",
       "  </thead>\n",
       "  <tbody>\n",
       "    <tr>\n",
       "      <th>До 30 тыс. руб.</th>\n",
       "      <td>22</td>\n",
       "      <td>2</td>\n",
       "      <td>0.090909</td>\n",
       "    </tr>\n",
       "    <tr>\n",
       "      <th>50-200 тыс. руб.</th>\n",
       "      <td>15921</td>\n",
       "      <td>1353</td>\n",
       "      <td>0.084982</td>\n",
       "    </tr>\n",
       "    <tr>\n",
       "      <th>Свыше 1000 тыс. руб.</th>\n",
       "      <td>25</td>\n",
       "      <td>2</td>\n",
       "      <td>0.080000</td>\n",
       "    </tr>\n",
       "    <tr>\n",
       "      <th>200 - 1000 тыс. руб.</th>\n",
       "      <td>5014</td>\n",
       "      <td>354</td>\n",
       "      <td>0.070602</td>\n",
       "    </tr>\n",
       "    <tr>\n",
       "      <th>30-50 тыс. руб.</th>\n",
       "      <td>349</td>\n",
       "      <td>21</td>\n",
       "      <td>0.060172</td>\n",
       "    </tr>\n",
       "  </tbody>\n",
       "</table>\n",
       "</div>"
      ],
      "text/plain": [
       "                       количество_заемщиков количество_должников  \\\n",
       "                                       debt                 debt   \n",
       "total_income_category2                                             \n",
       "До 30 тыс. руб.                          22                    2   \n",
       "50-200 тыс. руб.                      15921                 1353   \n",
       "Свыше 1000 тыс. руб.                     25                    2   \n",
       "200 - 1000 тыс. руб.                   5014                  354   \n",
       "30-50 тыс. руб.                         349                   21   \n",
       "\n",
       "                       средний_процент_должников  \n",
       "                                            debt  \n",
       "total_income_category2                            \n",
       "До 30 тыс. руб.                         0.090909  \n",
       "50-200 тыс. руб.                        0.084982  \n",
       "Свыше 1000 тыс. руб.                    0.080000  \n",
       "200 - 1000 тыс. руб.                    0.070602  \n",
       "30-50 тыс. руб.                         0.060172  "
      ]
     },
     "execution_count": 38,
     "metadata": {},
     "output_type": "execute_result"
    }
   ],
   "source": [
    "debt_totinc.sort_values(by=('средний_процент_должников', 'debt'), ascending=False)"
   ]
  },
  {
   "cell_type": "code",
   "execution_count": 39,
   "id": "7ded6e55",
   "metadata": {},
   "outputs": [
    {
     "data": {
      "text/plain": [
       "-0.012671098818189928"
      ]
     },
     "execution_count": 39,
     "metadata": {},
     "output_type": "execute_result"
    }
   ],
   "source": [
    "debt_totinc_corr=data['debt'].corr(data['total_income'])\n",
    "debt_totinc_corr"
   ]
  },
  {
   "cell_type": "markdown",
   "id": "9095c8a6",
   "metadata": {},
   "source": [
    "<font color='DarkBlue'><b>Комментарий ревьюера</b></font><br>\n",
    "<font color='Red'>🛠 Тут аналогичная ошибка. </font>"
   ]
  },
  {
   "cell_type": "markdown",
   "id": "6dd14b57",
   "metadata": {
    "deletable": false,
    "id": "6dd14b57"
   },
   "source": [
    "**Вывод:**\n",
    "1. Статистическая значимость выборки для групп: \"До 30 тыс. руб.\", \"30-50 тыс. руб.\", \"Свыше 1000 тыс. руб.\" - низкая.\n",
    "2. Ежемесячный доход имеет некоторое влияние на возврат кредита в срок, но это влияние не слишком сильное:  \n",
    "    a) на примере выборки заемщиков с зарплатой от 50-200 тыс. и от 200-1000 тыс. руб. наблюдаем снижение количества должников от увеличения уровня ежемесячного дохода заемщика на 1,4%;  \n",
    "    b) коэффициент линейной корреляции двух интересующих нас показателей низкий.  "
   ]
  },
  {
   "cell_type": "markdown",
   "id": "097088b9",
   "metadata": {},
   "source": [
    "<font color='DarkBlue'><b>Комментарий ревьюера</b></font><br>\n",
    "<font color='Red'>🛠 Здесь вывод делается без анализа самих выборок клиентов по доходу.</font><br>\n",
    "<font color='DarkMagenta'>👉 В задачах, где требуется анализировать несбалансированные выборки можно, делать дополнительный анализ, разбив данные на равные выборки методом `.qcut`. Подробнее можно прочитать тут: <br>https://dfedorov.spb.ru/pandas/Разделение%20данных%20в%20Pandas%20с%20помощью%20qcut%20и%20cut.html.</font>"
   ]
  },
  {
   "cell_type": "markdown",
   "id": "e7b21dfc",
   "metadata": {},
   "source": [
    "<font color='DarkBlue'><b>Комментарий ревьюера 2</b></font><br>\n",
    "<font color='DarkMagenta'>👉 Можно сделать цикл с перебором количества категорий.</font>"
   ]
  },
  {
   "cell_type": "code",
   "execution_count": 44,
   "id": "86400659",
   "metadata": {},
   "outputs": [
    {
     "data": {
      "text/html": [
       "<style  type=\"text/css\" >\n",
       "#T_5bc38_row0_col0{\n",
       "            background-color:  #69add5;\n",
       "            color:  #000000;\n",
       "        }#T_5bc38_row0_col1{\n",
       "            background-color:  #5da5d1;\n",
       "            color:  #000000;\n",
       "        }#T_5bc38_row0_col2{\n",
       "            background-color:  #58a1cf;\n",
       "            color:  #000000;\n",
       "        }#T_5bc38_row1_col0,#T_5bc38_row1_col1,#T_5bc38_row1_col2{\n",
       "            background-color:  #08306b;\n",
       "            color:  #f1f1f1;\n",
       "        }#T_5bc38_row2_col0,#T_5bc38_row2_col1,#T_5bc38_row2_col2{\n",
       "            background-color:  #f7fbff;\n",
       "            color:  #000000;\n",
       "        }</style><table id=\"T_5bc38_\" ><thead>    <tr>        <th class=\"blank level0\" ></th>        <th class=\"col_heading level0 col0\" >Всего кредитополучателей</th>        <th class=\"col_heading level0 col1\" >Всего должников</th>        <th class=\"col_heading level0 col2\" >Доля должников</th>    </tr>    <tr>        <th class=\"index_name level0\" >new_category</th>        <th class=\"blank\" ></th>        <th class=\"blank\" ></th>        <th class=\"blank\" ></th>    </tr></thead><tbody>\n",
       "                <tr>\n",
       "                        <th id=\"T_5bc38_level0_row0\" class=\"row_heading level0 row0\" >(20666.0, 119218.0]</th>\n",
       "                        <td id=\"T_5bc38_row0_col0\" class=\"data row0 col0\" >7111.000</td>\n",
       "                        <td id=\"T_5bc38_row0_col1\" class=\"data row0 col1\" >580.000</td>\n",
       "                        <td id=\"T_5bc38_row0_col2\" class=\"data row0 col2\" >0.082</td>\n",
       "            </tr>\n",
       "            <tr>\n",
       "                        <th id=\"T_5bc38_level0_row1\" class=\"row_heading level0 row1\" >(119218.0, 172357.0]</th>\n",
       "                        <td id=\"T_5bc38_row1_col0\" class=\"data row1 col0\" >7238.000</td>\n",
       "                        <td id=\"T_5bc38_row1_col1\" class=\"data row1 col1\" >627.000</td>\n",
       "                        <td id=\"T_5bc38_row1_col2\" class=\"data row1 col2\" >0.087</td>\n",
       "            </tr>\n",
       "            <tr>\n",
       "                        <th id=\"T_5bc38_level0_row2\" class=\"row_heading level0 row2\" >(172357.0, 2265604.0]</th>\n",
       "                        <td id=\"T_5bc38_row2_col0\" class=\"data row2 col0\" >6982.000</td>\n",
       "                        <td id=\"T_5bc38_row2_col1\" class=\"data row2 col1\" >525.000</td>\n",
       "                        <td id=\"T_5bc38_row2_col2\" class=\"data row2 col2\" >0.075</td>\n",
       "            </tr>\n",
       "    </tbody></table>"
      ],
      "text/plain": [
       "<pandas.io.formats.style.Styler at 0x7fb0548ef310>"
      ]
     },
     "metadata": {},
     "output_type": "display_data"
    },
    {
     "data": {
      "text/html": [
       "<style  type=\"text/css\" >\n",
       "#T_90fc5_row0_col0{\n",
       "            background-color:  #6aaed6;\n",
       "            color:  #000000;\n",
       "        }#T_90fc5_row0_col1{\n",
       "            background-color:  #7ab6d9;\n",
       "            color:  #000000;\n",
       "        }#T_90fc5_row0_col2{\n",
       "            background-color:  #65aad4;\n",
       "            color:  #000000;\n",
       "        }#T_90fc5_row1_col0,#T_90fc5_row1_col1,#T_90fc5_row1_col2{\n",
       "            background-color:  #08306b;\n",
       "            color:  #f1f1f1;\n",
       "        }#T_90fc5_row2_col0,#T_90fc5_row3_col1,#T_90fc5_row3_col2{\n",
       "            background-color:  #f7fbff;\n",
       "            color:  #000000;\n",
       "        }#T_90fc5_row2_col1{\n",
       "            background-color:  #3f8fc5;\n",
       "            color:  #000000;\n",
       "        }#T_90fc5_row2_col2{\n",
       "            background-color:  #125ea6;\n",
       "            color:  #f1f1f1;\n",
       "        }#T_90fc5_row3_col0{\n",
       "            background-color:  #6dafd7;\n",
       "            color:  #000000;\n",
       "        }</style><table id=\"T_90fc5_\" ><thead>    <tr>        <th class=\"blank level0\" ></th>        <th class=\"col_heading level0 col0\" >Всего кредитополучателей</th>        <th class=\"col_heading level0 col1\" >Всего должников</th>        <th class=\"col_heading level0 col2\" >Доля должников</th>    </tr>    <tr>        <th class=\"index_name level0\" >new_category</th>        <th class=\"blank\" ></th>        <th class=\"blank\" ></th>        <th class=\"blank\" ></th>    </tr></thead><tbody>\n",
       "                <tr>\n",
       "                        <th id=\"T_90fc5_level0_row0\" class=\"row_heading level0 row0\" >(20666.0, 107507.0]</th>\n",
       "                        <td id=\"T_90fc5_row0_col0\" class=\"data row0 col0\" >5333.000</td>\n",
       "                        <td id=\"T_90fc5_row0_col1\" class=\"data row0 col1\" >427.000</td>\n",
       "                        <td id=\"T_90fc5_row0_col2\" class=\"data row0 col2\" >0.080</td>\n",
       "            </tr>\n",
       "            <tr>\n",
       "                        <th id=\"T_90fc5_level0_row1\" class=\"row_heading level0 row1\" >(107507.0, 142594.0]</th>\n",
       "                        <td id=\"T_90fc5_row1_col0\" class=\"data row1 col0\" >5450.000</td>\n",
       "                        <td id=\"T_90fc5_row1_col1\" class=\"data row1 col1\" >480.000</td>\n",
       "                        <td id=\"T_90fc5_row1_col2\" class=\"data row1 col2\" >0.088</td>\n",
       "            </tr>\n",
       "            <tr>\n",
       "                        <th id=\"T_90fc5_level0_row2\" class=\"row_heading level0 row2\" >(142594.0, 195842.0]</th>\n",
       "                        <td id=\"T_90fc5_row2_col0\" class=\"data row2 col0\" >5216.000</td>\n",
       "                        <td id=\"T_90fc5_row2_col1\" class=\"data row2 col1\" >444.000</td>\n",
       "                        <td id=\"T_90fc5_row2_col2\" class=\"data row2 col2\" >0.085</td>\n",
       "            </tr>\n",
       "            <tr>\n",
       "                        <th id=\"T_90fc5_level0_row3\" class=\"row_heading level0 row3\" >(195842.0, 2265604.0]</th>\n",
       "                        <td id=\"T_90fc5_row3_col0\" class=\"data row3 col0\" >5332.000</td>\n",
       "                        <td id=\"T_90fc5_row3_col1\" class=\"data row3 col1\" >381.000</td>\n",
       "                        <td id=\"T_90fc5_row3_col2\" class=\"data row3 col2\" >0.071</td>\n",
       "            </tr>\n",
       "    </tbody></table>"
      ],
      "text/plain": [
       "<pandas.io.formats.style.Styler at 0x7fafeab02c70>"
      ]
     },
     "metadata": {},
     "output_type": "display_data"
    },
    {
     "data": {
      "text/html": [
       "<style  type=\"text/css\" >\n",
       "#T_90720_row0_col0,#T_90720_row2_col1,#T_90720_row2_col2{\n",
       "            background-color:  #08306b;\n",
       "            color:  #f1f1f1;\n",
       "        }#T_90720_row0_col1,#T_90720_row0_col2{\n",
       "            background-color:  #4896c8;\n",
       "            color:  #000000;\n",
       "        }#T_90720_row1_col0,#T_90720_row2_col0,#T_90720_row3_col0,#T_90720_row4_col0,#T_90720_row4_col1,#T_90720_row4_col2{\n",
       "            background-color:  #f7fbff;\n",
       "            color:  #000000;\n",
       "        }#T_90720_row1_col1,#T_90720_row1_col2,#T_90720_row3_col1,#T_90720_row3_col2{\n",
       "            background-color:  #1764ab;\n",
       "            color:  #f1f1f1;\n",
       "        }</style><table id=\"T_90720_\" ><thead>    <tr>        <th class=\"blank level0\" ></th>        <th class=\"col_heading level0 col0\" >Всего кредитополучателей</th>        <th class=\"col_heading level0 col1\" >Всего должников</th>        <th class=\"col_heading level0 col2\" >Доля должников</th>    </tr>    <tr>        <th class=\"index_name level0\" >new_category</th>        <th class=\"blank\" ></th>        <th class=\"blank\" ></th>        <th class=\"blank\" ></th>    </tr></thead><tbody>\n",
       "                <tr>\n",
       "                        <th id=\"T_90720_level0_row0\" class=\"row_heading level0 row0\" >(20666.0, 98514.0]</th>\n",
       "                        <td id=\"T_90720_row0_col0\" class=\"data row0 col0\" >4267.000</td>\n",
       "                        <td id=\"T_90720_row0_col1\" class=\"data row0 col1\" >344.000</td>\n",
       "                        <td id=\"T_90720_row0_col2\" class=\"data row0 col2\" >0.081</td>\n",
       "            </tr>\n",
       "            <tr>\n",
       "                        <th id=\"T_90720_level0_row1\" class=\"row_heading level0 row1\" >(98514.0, 132113.0]</th>\n",
       "                        <td id=\"T_90720_row1_col0\" class=\"data row1 col0\" >4266.000</td>\n",
       "                        <td id=\"T_90720_row1_col1\" class=\"data row1 col1\" >358.000</td>\n",
       "                        <td id=\"T_90720_row1_col2\" class=\"data row1 col2\" >0.084</td>\n",
       "            </tr>\n",
       "            <tr>\n",
       "                        <th id=\"T_90720_level0_row2\" class=\"row_heading level0 row2\" >(132113.0, 161380.0]</th>\n",
       "                        <td id=\"T_90720_row2_col0\" class=\"data row2 col0\" >4266.000</td>\n",
       "                        <td id=\"T_90720_row2_col1\" class=\"data row2 col1\" >373.000</td>\n",
       "                        <td id=\"T_90720_row2_col2\" class=\"data row2 col2\" >0.087</td>\n",
       "            </tr>\n",
       "            <tr>\n",
       "                        <th id=\"T_90720_level0_row3\" class=\"row_heading level0 row3\" >(161380.0, 214604.0]</th>\n",
       "                        <td id=\"T_90720_row3_col0\" class=\"data row3 col0\" >4266.000</td>\n",
       "                        <td id=\"T_90720_row3_col1\" class=\"data row3 col1\" >358.000</td>\n",
       "                        <td id=\"T_90720_row3_col2\" class=\"data row3 col2\" >0.084</td>\n",
       "            </tr>\n",
       "            <tr>\n",
       "                        <th id=\"T_90720_level0_row4\" class=\"row_heading level0 row4\" >(214604.0, 2265604.0]</th>\n",
       "                        <td id=\"T_90720_row4_col0\" class=\"data row4 col0\" >4266.000</td>\n",
       "                        <td id=\"T_90720_row4_col1\" class=\"data row4 col1\" >299.000</td>\n",
       "                        <td id=\"T_90720_row4_col2\" class=\"data row4 col2\" >0.070</td>\n",
       "            </tr>\n",
       "    </tbody></table>"
      ],
      "text/plain": [
       "<pandas.io.formats.style.Styler at 0x7fb05562b280>"
      ]
     },
     "metadata": {},
     "output_type": "display_data"
    },
    {
     "data": {
      "text/html": [
       "<style  type=\"text/css\" >\n",
       "#T_4e8af_row0_col0{\n",
       "            background-color:  #63a8d3;\n",
       "            color:  #000000;\n",
       "        }#T_4e8af_row0_col1{\n",
       "            background-color:  #7ab6d9;\n",
       "            color:  #000000;\n",
       "        }#T_4e8af_row0_col2{\n",
       "            background-color:  #60a7d2;\n",
       "            color:  #000000;\n",
       "        }#T_4e8af_row1_col0,#T_4e8af_row5_col0{\n",
       "            background-color:  #64a9d3;\n",
       "            color:  #000000;\n",
       "        }#T_4e8af_row1_col1{\n",
       "            background-color:  #4e9acb;\n",
       "            color:  #000000;\n",
       "        }#T_4e8af_row1_col2{\n",
       "            background-color:  #3383be;\n",
       "            color:  #000000;\n",
       "        }#T_4e8af_row2_col0,#T_4e8af_row2_col1,#T_4e8af_row2_col2{\n",
       "            background-color:  #08306b;\n",
       "            color:  #f1f1f1;\n",
       "        }#T_4e8af_row3_col0{\n",
       "            background-color:  #549fcd;\n",
       "            color:  #000000;\n",
       "        }#T_4e8af_row3_col1{\n",
       "            background-color:  #3a8ac2;\n",
       "            color:  #000000;\n",
       "        }#T_4e8af_row3_col2{\n",
       "            background-color:  #2373b6;\n",
       "            color:  #f1f1f1;\n",
       "        }#T_4e8af_row4_col0,#T_4e8af_row5_col1,#T_4e8af_row5_col2{\n",
       "            background-color:  #f7fbff;\n",
       "            color:  #000000;\n",
       "        }#T_4e8af_row4_col1{\n",
       "            background-color:  #a8cee4;\n",
       "            color:  #000000;\n",
       "        }#T_4e8af_row4_col2{\n",
       "            background-color:  #5aa2cf;\n",
       "            color:  #000000;\n",
       "        }</style><table id=\"T_4e8af_\" ><thead>    <tr>        <th class=\"blank level0\" ></th>        <th class=\"col_heading level0 col0\" >Всего кредитополучателей</th>        <th class=\"col_heading level0 col1\" >Всего должников</th>        <th class=\"col_heading level0 col2\" >Доля должников</th>    </tr>    <tr>        <th class=\"index_name level0\" >new_category</th>        <th class=\"blank\" ></th>        <th class=\"blank\" ></th>        <th class=\"blank\" ></th>    </tr></thead><tbody>\n",
       "                <tr>\n",
       "                        <th id=\"T_4e8af_level0_row0\" class=\"row_heading level0 row0\" >(20666.0, 92092.0]</th>\n",
       "                        <td id=\"T_4e8af_row0_col0\" class=\"data row0 col0\" >3556.000</td>\n",
       "                        <td id=\"T_4e8af_row0_col1\" class=\"data row0 col1\" >285.000</td>\n",
       "                        <td id=\"T_4e8af_row0_col2\" class=\"data row0 col2\" >0.080</td>\n",
       "            </tr>\n",
       "            <tr>\n",
       "                        <th id=\"T_4e8af_level0_row1\" class=\"row_heading level0 row1\" >(92092.0, 119218.0]</th>\n",
       "                        <td id=\"T_4e8af_row1_col0\" class=\"data row1 col0\" >3555.000</td>\n",
       "                        <td id=\"T_4e8af_row1_col1\" class=\"data row1 col1\" >295.000</td>\n",
       "                        <td id=\"T_4e8af_row1_col2\" class=\"data row1 col2\" >0.083</td>\n",
       "            </tr>\n",
       "            <tr>\n",
       "                        <th id=\"T_4e8af_level0_row2\" class=\"row_heading level0 row2\" >(119218.0, 142594.0]</th>\n",
       "                        <td id=\"T_4e8af_row2_col0\" class=\"data row2 col0\" >3672.000</td>\n",
       "                        <td id=\"T_4e8af_row2_col1\" class=\"data row2 col1\" >327.000</td>\n",
       "                        <td id=\"T_4e8af_row2_col2\" class=\"data row2 col2\" >0.089</td>\n",
       "            </tr>\n",
       "            <tr>\n",
       "                        <th id=\"T_4e8af_level0_row3\" class=\"row_heading level0 row3\" >(142594.0, 172357.0]</th>\n",
       "                        <td id=\"T_4e8af_row3_col0\" class=\"data row3 col0\" >3566.000</td>\n",
       "                        <td id=\"T_4e8af_row3_col1\" class=\"data row3 col1\" >300.000</td>\n",
       "                        <td id=\"T_4e8af_row3_col2\" class=\"data row3 col2\" >0.084</td>\n",
       "            </tr>\n",
       "            <tr>\n",
       "                        <th id=\"T_4e8af_level0_row4\" class=\"row_heading level0 row4\" >(172357.0, 228893.0]</th>\n",
       "                        <td id=\"T_4e8af_row4_col0\" class=\"data row4 col0\" >3427.000</td>\n",
       "                        <td id=\"T_4e8af_row4_col1\" class=\"data row4 col1\" >276.000</td>\n",
       "                        <td id=\"T_4e8af_row4_col2\" class=\"data row4 col2\" >0.081</td>\n",
       "            </tr>\n",
       "            <tr>\n",
       "                        <th id=\"T_4e8af_level0_row5\" class=\"row_heading level0 row5\" >(228893.0, 2265604.0]</th>\n",
       "                        <td id=\"T_4e8af_row5_col0\" class=\"data row5 col0\" >3555.000</td>\n",
       "                        <td id=\"T_4e8af_row5_col1\" class=\"data row5 col1\" >249.000</td>\n",
       "                        <td id=\"T_4e8af_row5_col2\" class=\"data row5 col2\" >0.070</td>\n",
       "            </tr>\n",
       "    </tbody></table>"
      ],
      "text/plain": [
       "<pandas.io.formats.style.Styler at 0x7fafe90af730>"
      ]
     },
     "metadata": {},
     "output_type": "display_data"
    },
    {
     "data": {
      "text/html": [
       "<style  type=\"text/css\" >\n",
       "#T_6215d_row0_col0,#T_6215d_row3_col1,#T_6215d_row3_col2,#T_6215d_row6_col0{\n",
       "            background-color:  #08306b;\n",
       "            color:  #f1f1f1;\n",
       "        }#T_6215d_row0_col1,#T_6215d_row0_col2{\n",
       "            background-color:  #8dc1dd;\n",
       "            color:  #000000;\n",
       "        }#T_6215d_row1_col0,#T_6215d_row2_col0,#T_6215d_row3_col0,#T_6215d_row4_col0,#T_6215d_row5_col0,#T_6215d_row6_col1,#T_6215d_row6_col2{\n",
       "            background-color:  #f7fbff;\n",
       "            color:  #000000;\n",
       "        }#T_6215d_row1_col1,#T_6215d_row1_col2{\n",
       "            background-color:  #083979;\n",
       "            color:  #f1f1f1;\n",
       "        }#T_6215d_row2_col1,#T_6215d_row2_col2{\n",
       "            background-color:  #083471;\n",
       "            color:  #f1f1f1;\n",
       "        }#T_6215d_row4_col1,#T_6215d_row4_col2{\n",
       "            background-color:  #09529d;\n",
       "            color:  #f1f1f1;\n",
       "        }#T_6215d_row5_col1,#T_6215d_row5_col2{\n",
       "            background-color:  #4f9bcb;\n",
       "            color:  #000000;\n",
       "        }</style><table id=\"T_6215d_\" ><thead>    <tr>        <th class=\"blank level0\" ></th>        <th class=\"col_heading level0 col0\" >Всего кредитополучателей</th>        <th class=\"col_heading level0 col1\" >Всего должников</th>        <th class=\"col_heading level0 col2\" >Доля должников</th>    </tr>    <tr>        <th class=\"index_name level0\" >new_category</th>        <th class=\"blank\" ></th>        <th class=\"blank\" ></th>        <th class=\"blank\" ></th>    </tr></thead><tbody>\n",
       "                <tr>\n",
       "                        <th id=\"T_6215d_level0_row0\" class=\"row_heading level0 row0\" >(20666.0, 87287.0]</th>\n",
       "                        <td id=\"T_6215d_row0_col0\" class=\"data row0 col0\" >3048.000</td>\n",
       "                        <td id=\"T_6215d_row0_col1\" class=\"data row0 col1\" >233.000</td>\n",
       "                        <td id=\"T_6215d_row0_col2\" class=\"data row0 col2\" >0.076</td>\n",
       "            </tr>\n",
       "            <tr>\n",
       "                        <th id=\"T_6215d_level0_row1\" class=\"row_heading level0 row1\" >(87287.0, 113563.0]</th>\n",
       "                        <td id=\"T_6215d_row1_col0\" class=\"data row1 col0\" >3047.000</td>\n",
       "                        <td id=\"T_6215d_row1_col1\" class=\"data row1 col1\" >262.000</td>\n",
       "                        <td id=\"T_6215d_row1_col2\" class=\"data row1 col2\" >0.086</td>\n",
       "            </tr>\n",
       "            <tr>\n",
       "                        <th id=\"T_6215d_level0_row2\" class=\"row_heading level0 row2\" >(113563.0, 137465.0]</th>\n",
       "                        <td id=\"T_6215d_row2_col0\" class=\"data row2 col0\" >3047.000</td>\n",
       "                        <td id=\"T_6215d_row2_col1\" class=\"data row2 col1\" >263.000</td>\n",
       "                        <td id=\"T_6215d_row2_col2\" class=\"data row2 col2\" >0.086</td>\n",
       "            </tr>\n",
       "            <tr>\n",
       "                        <th id=\"T_6215d_level0_row3\" class=\"row_heading level0 row3\" >(137465.0, 155314.0]</th>\n",
       "                        <td id=\"T_6215d_row3_col0\" class=\"data row3 col0\" >3047.000</td>\n",
       "                        <td id=\"T_6215d_row3_col1\" class=\"data row3 col1\" >264.000</td>\n",
       "                        <td id=\"T_6215d_row3_col2\" class=\"data row3 col2\" >0.087</td>\n",
       "            </tr>\n",
       "            <tr>\n",
       "                        <th id=\"T_6215d_level0_row4\" class=\"row_heading level0 row4\" >(155314.0, 184554.0]</th>\n",
       "                        <td id=\"T_6215d_row4_col0\" class=\"data row4 col0\" >3047.000</td>\n",
       "                        <td id=\"T_6215d_row4_col1\" class=\"data row4 col1\" >257.000</td>\n",
       "                        <td id=\"T_6215d_row4_col2\" class=\"data row4 col2\" >0.084</td>\n",
       "            </tr>\n",
       "            <tr>\n",
       "                        <th id=\"T_6215d_level0_row5\" class=\"row_heading level0 row5\" >(184554.0, 242009.0]</th>\n",
       "                        <td id=\"T_6215d_row5_col0\" class=\"data row5 col0\" >3047.000</td>\n",
       "                        <td id=\"T_6215d_row5_col1\" class=\"data row5 col1\" >242.000</td>\n",
       "                        <td id=\"T_6215d_row5_col2\" class=\"data row5 col2\" >0.079</td>\n",
       "            </tr>\n",
       "            <tr>\n",
       "                        <th id=\"T_6215d_level0_row6\" class=\"row_heading level0 row6\" >(242009.0, 2265604.0]</th>\n",
       "                        <td id=\"T_6215d_row6_col0\" class=\"data row6 col0\" >3048.000</td>\n",
       "                        <td id=\"T_6215d_row6_col1\" class=\"data row6 col1\" >211.000</td>\n",
       "                        <td id=\"T_6215d_row6_col2\" class=\"data row6 col2\" >0.069</td>\n",
       "            </tr>\n",
       "    </tbody></table>"
      ],
      "text/plain": [
       "<pandas.io.formats.style.Styler at 0x7fb0548efa90>"
      ]
     },
     "metadata": {},
     "output_type": "display_data"
    },
    {
     "data": {
      "text/html": [
       "<style  type=\"text/css\" >\n",
       "#T_d4b07_row0_col0,#T_d4b07_row5_col0,#T_d4b07_row7_col0{\n",
       "            background-color:  #6aaed6;\n",
       "            color:  #000000;\n",
       "        }#T_d4b07_row0_col1{\n",
       "            background-color:  #aacfe5;\n",
       "            color:  #000000;\n",
       "        }#T_d4b07_row0_col2{\n",
       "            background-color:  #91c3de;\n",
       "            color:  #000000;\n",
       "        }#T_d4b07_row1_col0,#T_d4b07_row2_col0{\n",
       "            background-color:  #6caed6;\n",
       "            color:  #000000;\n",
       "        }#T_d4b07_row1_col1,#T_d4b07_row5_col1{\n",
       "            background-color:  #519ccc;\n",
       "            color:  #000000;\n",
       "        }#T_d4b07_row1_col2,#T_d4b07_row5_col2{\n",
       "            background-color:  #2f7fbc;\n",
       "            color:  #000000;\n",
       "        }#T_d4b07_row2_col1{\n",
       "            background-color:  #1c6ab0;\n",
       "            color:  #f1f1f1;\n",
       "        }#T_d4b07_row2_col2{\n",
       "            background-color:  #084285;\n",
       "            color:  #f1f1f1;\n",
       "        }#T_d4b07_row3_col0,#T_d4b07_row3_col1,#T_d4b07_row3_col2{\n",
       "            background-color:  #08306b;\n",
       "            color:  #f1f1f1;\n",
       "        }#T_d4b07_row4_col0,#T_d4b07_row7_col1,#T_d4b07_row7_col2{\n",
       "            background-color:  #f7fbff;\n",
       "            color:  #000000;\n",
       "        }#T_d4b07_row4_col1{\n",
       "            background-color:  #4695c8;\n",
       "            color:  #000000;\n",
       "        }#T_d4b07_row4_col2{\n",
       "            background-color:  #084184;\n",
       "            color:  #f1f1f1;\n",
       "        }#T_d4b07_row6_col0{\n",
       "            background-color:  #6dafd7;\n",
       "            color:  #000000;\n",
       "        }#T_d4b07_row6_col1{\n",
       "            background-color:  #d4e4f4;\n",
       "            color:  #000000;\n",
       "        }#T_d4b07_row6_col2{\n",
       "            background-color:  #cddff1;\n",
       "            color:  #000000;\n",
       "        }</style><table id=\"T_d4b07_\" ><thead>    <tr>        <th class=\"blank level0\" ></th>        <th class=\"col_heading level0 col0\" >Всего кредитополучателей</th>        <th class=\"col_heading level0 col1\" >Всего должников</th>        <th class=\"col_heading level0 col2\" >Доля должников</th>    </tr>    <tr>        <th class=\"index_name level0\" >new_category</th>        <th class=\"blank\" ></th>        <th class=\"blank\" ></th>        <th class=\"blank\" ></th>    </tr></thead><tbody>\n",
       "                <tr>\n",
       "                        <th id=\"T_d4b07_level0_row0\" class=\"row_heading level0 row0\" >(20666.0, 83837.0]</th>\n",
       "                        <td id=\"T_d4b07_row0_col0\" class=\"data row0 col0\" >2667.000</td>\n",
       "                        <td id=\"T_d4b07_row0_col1\" class=\"data row0 col1\" >206.000</td>\n",
       "                        <td id=\"T_d4b07_row0_col2\" class=\"data row0 col2\" >0.077</td>\n",
       "            </tr>\n",
       "            <tr>\n",
       "                        <th id=\"T_d4b07_level0_row1\" class=\"row_heading level0 row1\" >(83837.0, 107507.0]</th>\n",
       "                        <td id=\"T_d4b07_row1_col0\" class=\"data row1 col0\" >2666.000</td>\n",
       "                        <td id=\"T_d4b07_row1_col1\" class=\"data row1 col1\" >221.000</td>\n",
       "                        <td id=\"T_d4b07_row1_col2\" class=\"data row1 col2\" >0.083</td>\n",
       "            </tr>\n",
       "            <tr>\n",
       "                        <th id=\"T_d4b07_level0_row2\" class=\"row_heading level0 row2\" >(107507.0, 127546.0]</th>\n",
       "                        <td id=\"T_d4b07_row2_col0\" class=\"data row2 col0\" >2666.000</td>\n",
       "                        <td id=\"T_d4b07_row2_col1\" class=\"data row2 col1\" >233.000</td>\n",
       "                        <td id=\"T_d4b07_row2_col2\" class=\"data row2 col2\" >0.087</td>\n",
       "            </tr>\n",
       "            <tr>\n",
       "                        <th id=\"T_d4b07_level0_row3\" class=\"row_heading level0 row3\" >(127546.0, 142594.0]</th>\n",
       "                        <td id=\"T_d4b07_row3_col0\" class=\"data row3 col0\" >2784.000</td>\n",
       "                        <td id=\"T_d4b07_row3_col1\" class=\"data row3 col1\" >247.000</td>\n",
       "                        <td id=\"T_d4b07_row3_col2\" class=\"data row3 col2\" >0.089</td>\n",
       "            </tr>\n",
       "            <tr>\n",
       "                        <th id=\"T_d4b07_level0_row4\" class=\"row_heading level0 row4\" >(142594.0, 166525.0]</th>\n",
       "                        <td id=\"T_d4b07_row4_col0\" class=\"data row4 col0\" >2549.000</td>\n",
       "                        <td id=\"T_d4b07_row4_col1\" class=\"data row4 col1\" >223.000</td>\n",
       "                        <td id=\"T_d4b07_row4_col2\" class=\"data row4 col2\" >0.087</td>\n",
       "            </tr>\n",
       "            <tr>\n",
       "                        <th id=\"T_d4b07_level0_row5\" class=\"row_heading level0 row5\" >(166525.0, 195842.0]</th>\n",
       "                        <td id=\"T_d4b07_row5_col0\" class=\"data row5 col0\" >2667.000</td>\n",
       "                        <td id=\"T_d4b07_row5_col1\" class=\"data row5 col1\" >221.000</td>\n",
       "                        <td id=\"T_d4b07_row5_col2\" class=\"data row5 col2\" >0.083</td>\n",
       "            </tr>\n",
       "            <tr>\n",
       "                        <th id=\"T_d4b07_level0_row6\" class=\"row_heading level0 row6\" >(195842.0, 254250.0]</th>\n",
       "                        <td id=\"T_d4b07_row6_col0\" class=\"data row6 col0\" >2665.000</td>\n",
       "                        <td id=\"T_d4b07_row6_col1\" class=\"data row6 col1\" >196.000</td>\n",
       "                        <td id=\"T_d4b07_row6_col2\" class=\"data row6 col2\" >0.074</td>\n",
       "            </tr>\n",
       "            <tr>\n",
       "                        <th id=\"T_d4b07_level0_row7\" class=\"row_heading level0 row7\" >(254250.0, 2265604.0]</th>\n",
       "                        <td id=\"T_d4b07_row7_col0\" class=\"data row7 col0\" >2667.000</td>\n",
       "                        <td id=\"T_d4b07_row7_col1\" class=\"data row7 col1\" >185.000</td>\n",
       "                        <td id=\"T_d4b07_row7_col2\" class=\"data row7 col2\" >0.069</td>\n",
       "            </tr>\n",
       "    </tbody></table>"
      ],
      "text/plain": [
       "<pandas.io.formats.style.Styler at 0x7fb0548e9760>"
      ]
     },
     "metadata": {},
     "output_type": "display_data"
    }
   ],
   "source": [
    "# Комментарий ревьюера 2\n",
    "temp = data.copy()\n",
    "start, stop = 3, 8 # начальное и конечное количество категорий\n",
    "while start <= stop:\n",
    "    temp['new_category'] = pd.qcut(temp['total_income'], q=start, precision=0)\n",
    "    que('new_category')\n",
    "    start += 1"
   ]
  },
  {
   "cell_type": "markdown",
   "id": "0c0c6ee3",
   "metadata": {},
   "source": [
    "<font color='DarkBlue'><b>Комментарий ревьюера 2</b></font><br>\n",
    "<font color='DarkMagenta'>👉 Вот, нашлась самая кредито-опасная категория дохода заемщиков, повод для более глубокого анализа.</font>"
   ]
  },
  {
   "cell_type": "markdown",
   "id": "1dcc9b12",
   "metadata": {
    "deletable": false,
    "editable": false,
    "id": "1dcc9b12"
   },
   "source": [
    "#### 3.4 Как разные цели кредита влияют на его возврат в срок?"
   ]
  },
  {
   "cell_type": "markdown",
   "id": "ceb22628",
   "metadata": {},
   "source": [
    "<font color='Blue'><b>Комментарий студента</b></font><br>\n",
    "<font color='DarkMagenta'><b>Использую функцию для практики.</font>"
   ]
  },
  {
   "cell_type": "code",
   "execution_count": 40,
   "id": "5c0c544b",
   "metadata": {},
   "outputs": [
    {
     "data": {
      "text/html": [
       "<style  type=\"text/css\" >\n",
       "</style><table id=\"T_14bf9_\" ><thead>    <tr>        <th class=\"blank level0\" ></th>        <th class=\"col_heading level0 col0\" >Всего кредитополучателей</th>        <th class=\"col_heading level0 col1\" >Всего должников</th>        <th class=\"col_heading level0 col2\" >Доля должников</th>    </tr>    <tr>        <th class=\"index_name level0\" >purpose_category</th>        <th class=\"blank\" ></th>        <th class=\"blank\" ></th>        <th class=\"blank\" ></th>    </tr></thead><tbody>\n",
       "                <tr>\n",
       "                        <th id=\"T_14bf9_level0_row0\" class=\"row_heading level0 row0\" >операции с автомобилем</th>\n",
       "                        <td id=\"T_14bf9_row0_col0\" class=\"data row0 col0\" >4279.000</td>\n",
       "                        <td id=\"T_14bf9_row0_col1\" class=\"data row0 col1\" >400.000</td>\n",
       "                        <td id=\"T_14bf9_row0_col2\" class=\"data row0 col2\" >0.093</td>\n",
       "            </tr>\n",
       "            <tr>\n",
       "                        <th id=\"T_14bf9_level0_row1\" class=\"row_heading level0 row1\" >операции с недвижимостью</th>\n",
       "                        <td id=\"T_14bf9_row1_col0\" class=\"data row1 col0\" >10751.000</td>\n",
       "                        <td id=\"T_14bf9_row1_col1\" class=\"data row1 col1\" >780.000</td>\n",
       "                        <td id=\"T_14bf9_row1_col2\" class=\"data row1 col2\" >0.073</td>\n",
       "            </tr>\n",
       "            <tr>\n",
       "                        <th id=\"T_14bf9_level0_row2\" class=\"row_heading level0 row2\" >получение образования</th>\n",
       "                        <td id=\"T_14bf9_row2_col0\" class=\"data row2 col0\" >3988.000</td>\n",
       "                        <td id=\"T_14bf9_row2_col1\" class=\"data row2 col1\" >369.000</td>\n",
       "                        <td id=\"T_14bf9_row2_col2\" class=\"data row2 col2\" >0.093</td>\n",
       "            </tr>\n",
       "            <tr>\n",
       "                        <th id=\"T_14bf9_level0_row3\" class=\"row_heading level0 row3\" >проведение свадьбы</th>\n",
       "                        <td id=\"T_14bf9_row3_col0\" class=\"data row3 col0\" >2313.000</td>\n",
       "                        <td id=\"T_14bf9_row3_col1\" class=\"data row3 col1\" >183.000</td>\n",
       "                        <td id=\"T_14bf9_row3_col2\" class=\"data row3 col2\" >0.079</td>\n",
       "            </tr>\n",
       "    </tbody></table>"
      ],
      "text/plain": [
       "<pandas.io.formats.style.Styler at 0x7fafe8dc2160>"
      ]
     },
     "metadata": {},
     "output_type": "display_data"
    }
   ],
   "source": [
    "que2('purpose_category')"
   ]
  },
  {
   "cell_type": "markdown",
   "id": "12da72ed",
   "metadata": {},
   "source": [
    "<font color='Blue'><b>Комментарий студента</b></font><br>\n",
    "<font color='DarkMagenta'><b>Переписываю выводы</font>"
   ]
  },
  {
   "cell_type": "markdown",
   "id": "1f618b91",
   "metadata": {},
   "source": [
    "**Вывод:**\n",
    "Цель кредита имеет влияние на возврат кредита в срок: заемщики, которые берут кредит для покупки автомобиля и оплаты обучения чаще других групп не возвращают кредит в срок."
   ]
  },
  {
   "cell_type": "code",
   "execution_count": 41,
   "id": "c602bc8b",
   "metadata": {
    "deletable": false,
    "id": "c602bc8b"
   },
   "outputs": [],
   "source": [
    " # создаем PT, меняем порядок представления столбцов и их название.\n",
    "debt_purpose=data.pivot_table(index='purpose_category', values='debt', aggfunc=['mean', 'count', 'sum'])\n",
    "new_columns_order=['count','sum', 'mean']\n",
    "debt_purpose=debt_purpose[new_columns_order]\n",
    "new_columns_name={'mean':'средний_процент_должников', 'count':'количество_заемщиков', 'sum':'количество_должников'}\n",
    "debt_purpose=debt_purpose.rename(columns=new_columns_name)"
   ]
  },
  {
   "cell_type": "code",
   "execution_count": 42,
   "id": "bb6e3bdb",
   "metadata": {},
   "outputs": [
    {
     "data": {
      "text/html": [
       "<div>\n",
       "<style scoped>\n",
       "    .dataframe tbody tr th:only-of-type {\n",
       "        vertical-align: middle;\n",
       "    }\n",
       "\n",
       "    .dataframe tbody tr th {\n",
       "        vertical-align: top;\n",
       "    }\n",
       "\n",
       "    .dataframe thead tr th {\n",
       "        text-align: left;\n",
       "    }\n",
       "\n",
       "    .dataframe thead tr:last-of-type th {\n",
       "        text-align: right;\n",
       "    }\n",
       "</style>\n",
       "<table border=\"1\" class=\"dataframe\">\n",
       "  <thead>\n",
       "    <tr>\n",
       "      <th></th>\n",
       "      <th>количество_заемщиков</th>\n",
       "      <th>количество_должников</th>\n",
       "      <th>средний_процент_должников</th>\n",
       "    </tr>\n",
       "    <tr>\n",
       "      <th></th>\n",
       "      <th>debt</th>\n",
       "      <th>debt</th>\n",
       "      <th>debt</th>\n",
       "    </tr>\n",
       "    <tr>\n",
       "      <th>purpose_category</th>\n",
       "      <th></th>\n",
       "      <th></th>\n",
       "      <th></th>\n",
       "    </tr>\n",
       "  </thead>\n",
       "  <tbody>\n",
       "    <tr>\n",
       "      <th>операции с автомобилем</th>\n",
       "      <td>4279</td>\n",
       "      <td>400</td>\n",
       "      <td>0.093480</td>\n",
       "    </tr>\n",
       "    <tr>\n",
       "      <th>получение образования</th>\n",
       "      <td>3988</td>\n",
       "      <td>369</td>\n",
       "      <td>0.092528</td>\n",
       "    </tr>\n",
       "    <tr>\n",
       "      <th>проведение свадьбы</th>\n",
       "      <td>2313</td>\n",
       "      <td>183</td>\n",
       "      <td>0.079118</td>\n",
       "    </tr>\n",
       "    <tr>\n",
       "      <th>операции с недвижимостью</th>\n",
       "      <td>10751</td>\n",
       "      <td>780</td>\n",
       "      <td>0.072551</td>\n",
       "    </tr>\n",
       "  </tbody>\n",
       "</table>\n",
       "</div>"
      ],
      "text/plain": [
       "                         количество_заемщиков количество_должников  \\\n",
       "                                         debt                 debt   \n",
       "purpose_category                                                     \n",
       "операции с автомобилем                   4279                  400   \n",
       "получение образования                    3988                  369   \n",
       "проведение свадьбы                       2313                  183   \n",
       "операции с недвижимостью                10751                  780   \n",
       "\n",
       "                         средний_процент_должников  \n",
       "                                              debt  \n",
       "purpose_category                                    \n",
       "операции с автомобилем                    0.093480  \n",
       "получение образования                     0.092528  \n",
       "проведение свадьбы                        0.079118  \n",
       "операции с недвижимостью                  0.072551  "
      ]
     },
     "execution_count": 42,
     "metadata": {},
     "output_type": "execute_result"
    }
   ],
   "source": [
    "debt_purpose.sort_values(by=('средний_процент_должников', 'debt'), ascending=False)"
   ]
  },
  {
   "cell_type": "markdown",
   "id": "cf05ed63",
   "metadata": {
    "deletable": false,
    "id": "cf05ed63"
   },
   "source": [
    "**Вывод:**\n",
    "Цель кредита имеет некоторое влияние на возврат кредита в срок: заемщики, которые берут кредит для покупки автомобиля, чаще других групп не возвращают кредит в срок.  "
   ]
  },
  {
   "cell_type": "markdown",
   "id": "3cd0772e",
   "metadata": {},
   "source": [
    "<font color='DarkBlue'><b>Комментарий ревьюера</b></font><br>\n",
    "<font color='DarkMagenta'>👉 Не совсем корректный вывод, кредит на образование так же несет высокие риски не возврата, что, видимо, связанно с проблемами трудоустройства после обучения.</font>"
   ]
  },
  {
   "cell_type": "markdown",
   "id": "46c1f10b",
   "metadata": {
    "deletable": false,
    "editable": false,
    "id": "46c1f10b"
   },
   "source": [
    "#### 3.5 Приведите возможные причины появления пропусков в исходных данных."
   ]
  },
  {
   "cell_type": "markdown",
   "id": "3697d2a9",
   "metadata": {
    "deletable": false,
    "id": "3697d2a9"
   },
   "source": [
    "*Ответ:* \n",
    "1. Неслучайные (появление пропуска зависит как от значений собственного столбца, так и других значений)\n",
    "2. Случайные (появление пропуска зависит от других значений в наборе данных)\n",
    "3. Полностью случайные (появление пропуска не зависит ни от какие-либо значений)"
   ]
  },
  {
   "cell_type": "markdown",
   "id": "a6c6a612",
   "metadata": {},
   "source": [
    "<font color='DarkBlue'><b>Комментарий ревьюера</b></font><br>\n",
    "<font color='Red'>🛠 Представленная классификация не относится к причинам пропусков, а относится к вероятности появления пропусков. Управлять вероятностями мы не можем, а вот причинами можем.<br>\n",
    "Необходимо обобщить причины пропусков. Рекомендую обратиться к информации какие вообще бывают причины пропусков вне зависимости конкретного датасета. Если будут трудности, следует обратиться за помощью к преподавателю.</font>"
   ]
  },
  {
   "cell_type": "markdown",
   "id": "01fc84ce",
   "metadata": {},
   "source": [
    "<font color='Blue'><b>Комментарий студента</b></font><br>\n",
    "<font color='DarkMagenta'><b>Переписываю ответ</font>"
   ]
  },
  {
   "cell_type": "markdown",
   "id": "b32008e1",
   "metadata": {},
   "source": [
    "**Ответ:** \n",
    "1. Ошибки ввода и человеческий фактор\n",
    "2. Конфиденциальность и приватность данных\n",
    "3. Технические проблемы и сбои при записи/получении данных\n",
    "4. Неполное заполнение форм данных, в т.ч. сокрытие информации"
   ]
  },
  {
   "cell_type": "markdown",
   "id": "03b6e1e3",
   "metadata": {},
   "source": [
    "<font color='DarkBlue'><b>Комментарий ревьюера 2</b></font><br>\n",
    "<font color='DarkGreen'>👌 Хорошо, теперь правильно. 👍</font>"
   ]
  },
  {
   "cell_type": "markdown",
   "id": "3137d257",
   "metadata": {
    "deletable": false,
    "editable": false,
    "id": "3137d257"
   },
   "source": [
    "#### 3.6 Объясните, почему заполнить пропуски медианным значением — лучшее решение для количественных переменных."
   ]
  },
  {
   "cell_type": "markdown",
   "id": "cf40012a",
   "metadata": {
    "deletable": false,
    "id": "cf40012a"
   },
   "source": [
    "*Ответ:* \n",
    "Если в данных присутствуют выбросы, то медиана лучший выбор, чтобы не исказить результаты и сохранить общую тенденцию. "
   ]
  },
  {
   "cell_type": "markdown",
   "id": "27a7a4e2",
   "metadata": {},
   "source": [
    "<font color='DarkBlue'><b>Комментарий ревьюера</b></font><br>\n",
    "<font color='DarkGreen'>👌 Правильно, у средних более высокая чувствительность к выбросам, чем у медиан.<br>Можно попробовать посчитать и сравнить среднюю и медиану для колонки с выбросами, например `days_employed`.</font>"
   ]
  },
  {
   "cell_type": "markdown",
   "id": "ed85a17c",
   "metadata": {},
   "source": [
    "<font color='Blue'><b>Комментарий студента</b></font><br>\n",
    "<font color='DarkMagenta'><b>Продемонстрирую на примере:</font>"
   ]
  },
  {
   "cell_type": "code",
   "execution_count": 43,
   "id": "fe55a4de",
   "metadata": {},
   "outputs": [
    {
     "data": {
      "text/plain": [
       "count     21331.000000\n",
       "mean      67148.972133\n",
       "std      139281.142318\n",
       "min          24.141633\n",
       "25%        1024.525170\n",
       "50%        1996.732855\n",
       "75%        5337.759969\n",
       "max      401755.400475\n",
       "Name: days_employed, dtype: float64"
      ]
     },
     "execution_count": 43,
     "metadata": {},
     "output_type": "execute_result"
    }
   ],
   "source": [
    "# выведу информацию по столбцу ['days_employed']: в столбце находятся количественные переменные.\n",
    "#средняя = 67149, а медиана = 1997. \n",
    "data['days_employed'].describe()"
   ]
  },
  {
   "cell_type": "markdown",
   "id": "5c7713db",
   "metadata": {},
   "source": [
    "<font color='DarkBlue'><b>Комментарий ревьюера 2</b></font><br>\n",
    "<font color='DarkMagenta'>👉 А расчет медианы где?</font>"
   ]
  },
  {
   "cell_type": "code",
   "execution_count": 45,
   "id": "84e7f163",
   "metadata": {},
   "outputs": [
    {
     "name": "stdout",
     "output_type": "stream",
     "text": [
      "Среднее 67148.97213258488\n",
      "Медиана 1996.732855437927\n",
      "Во сколько раз среднее превышает медиану 34\n"
     ]
    }
   ],
   "source": [
    "# Комментарий ревьюера 2\n",
    "a, b, = data.days_employed.mean(), data.days_employed.median()\n",
    "print('Среднее', a)\n",
    "print('Медиана', b)\n",
    "print('Во сколько раз среднее превышает медиану', round(a/b))"
   ]
  },
  {
   "cell_type": "markdown",
   "id": "57bc304e",
   "metadata": {
    "deletable": false,
    "editable": false,
    "id": "57bc304e"
   },
   "source": [
    "### Шаг 4: общий вывод."
   ]
  },
  {
   "cell_type": "markdown",
   "id": "1ab75d1c",
   "metadata": {
    "deletable": false,
    "id": "1ab75d1c"
   },
   "source": [
    "В ходе анализа установлено, что факторы характеризующие заемщика (количество детей, ежемесячный доход, образование, семейное положение и т.д.), по отдельности имеют некоторое влияние на факт погашения кредита в срок.\n",
    "Для оценки способности потенциального заемщика вернуть кредит банку нужно учитывать совокупность факторов."
   ]
  },
  {
   "cell_type": "markdown",
   "id": "1b6411eb",
   "metadata": {},
   "source": [
    "<font color='DarkBlue'><b>Комментарий ревьюера</b></font><br>\n",
    "<font color='Red'>🛠 Общий вывод относится ко всему проекту, а не только к исследовательскому анализу.<br>Он должен содержать развернутое резюме по всем разделам проекта: описание данных, порядок обработки аномалий, пропусков и дубликатов, предобработка данных для анализа и проведенный анализ.<br>В реальных проектах сначала читают цель исследования, затем полученные выводы, затем уже сам анализ.</font>\n",
    "<br>\n",
    "<font color='DarkMagenta'>👉 В общем выводе можно дать рекомендации по улучшению сбора данных на основе обнаруженных ошибок. А так же  составить портрет добросовестного заемщика.</font>"
   ]
  },
  {
   "cell_type": "markdown",
   "id": "76ab8f84",
   "metadata": {},
   "source": [
    "<font color='Blue'><b>Комментарий студента</b></font><br>\n",
    "<font color='DarkMagenta'><b>Исправленный общий вывод:</font>"
   ]
  },
  {
   "cell_type": "markdown",
   "id": "31323f27",
   "metadata": {},
   "source": [
    "Проект, проведенный в рамках исследовательского анализа данных для кредитного отдела банка, имеет решающее значение для построения надежной модели кредитного скоринга. В данном выводе представлены основные этапы работы над данными (датафреймом) и полученные результаты.\n",
    "\n",
    "На первом этапе произведена предобработка данных в датафрейме (далее - df):\n",
    "1. В столбце 'days_employed' df были обнаружены артефакты - отрицательные значения количества дней трудового стажа, которые были заменены на положительные значения методом abs();\n",
    "2. Применив метод unique() к столбцу 'children' df обнаружены аномальные значения (-1 и 20), которые были удалены из df;\n",
    "3. В столбце 'income_type' df при расчете медианы для каждого типа занятости обнаружены аномальные значения у двух типов ('безработные' и 'пенсионеры'). Исправить такие значениия сложно, поэтому было принято решение оставить их как есть. Рекомендуется обратить на это внимание и улучшить сбор данных;\n",
    "4. Были выявлены и обработаны пропущенные значения в столбцах 'days_employed' и 'total_income'. В столбце 'days_employed' и 'total_income'находились количественные переменные. Пропуски в этих столбцах были заменены медианными значениями по каждому типу столбца 'income_type' (тип занятости) для того, чтобы не исказить данные и сохранить общую тендецию;\n",
    "5. Был заменен вещественный тип данных в столбце 'total_income' df на целочисленный для удобства анализа с помощью метода astype();\n",
    "6. Были обработаны неявные дубликаты в столбце 'education' df методом lower();\n",
    "7. Из df были удалены явные строки-дубликаты (71 строка) методом drop_duplicates().\n",
    "\n",
    "На следующем этапе созданы два новых датафрейма с \"словарями\" для удобного обращения к соответствующим идентификаторам. Для анализа доходов клиентов была создана категоризация 'total_income_category' с пятью уровнями доходов. Также была создана функция для категоризации целей кредитования в столбце 'purpose', что даст более наглядное представление о влиянии целей на возврат кредита.\n",
    "\n",
    "На третьем этапе даны ответы на ключевые вопросы исследования. Выводы сделаны на основе анализа зависимостей между различными параметрами и фактом возврата кредита в срок:\n",
    "1. Наличие детей в семье клиента оказывает влияние на вероятность возврата кредита в срок. Семьи с большим количеством детей имеют более высокий процент задолженностей, в то время как семьи без детей имеют более низкий процент задолженностей;\n",
    "2. Семейное положение также имеет значение для возврата кредита. Заемщики, не состоящие в браке, чаще нарушают сроки возврата;\n",
    "3. Уровень дохода клиента не оказывает существенного влияния на вероятность задолженности по кредиту. Цель кредита имеет значительное влияние на возврат кредита. Заемщики, берущие кредит для покупки автомобиля и образования, чаще нарушают сроки возврата.\n",
    "\n",
    "Итак, проведенный анализ позволяет заключить, что для построения эффективной модели кредитного скоринга необходимо учитывать семейное положение, наличие детей и цель кредита. Эти параметры сильно влияют на вероятность возврата кредита в срок и должны быть учтены при оценке платежеспособности потенциальных заёмщиков."
   ]
  },
  {
   "cell_type": "markdown",
   "id": "6fd45b5d",
   "metadata": {},
   "source": [
    "<font color='DarkBlue'><b>Комментарий ревьюера 2</b></font><br>\n",
    "<font color='DarkGreen'>👌 Хорошо, исправили.</font>"
   ]
  },
  {
   "cell_type": "markdown",
   "id": "3bdd6de8",
   "metadata": {},
   "source": [
    "<font color='DarkBlue'><b>Заключительный комментарий ревьюера</b></font><br><br>\n",
    "<font color='DarkGreen'>👌 Кянан, проект проработан.<br>Так держать и дальше!<br></font>\n",
    "<font color='Red'>🛠 Что нужно, что бы сделать проект лучше:</font><br>\n",
    "<font color='Red'>🛠 Переделать анализ зависимости между количеством детей и возвратом кредита в срок. Переделать анализ зависимости между доходом клиентов и возвратом кредита в срок. Переделать задание по причинам пропусков в данных. Сделать развернутый общий вывод проекта.<br>\n",
    "<font color='DarkMagenta'>👉 При исправлении ошибок и недочетов будут приобретены дополнительный опыт и навыки!</font><br>\n",
    "<font color='DarkGreen'>👌 Жду окончательный вариант! Успехов.</font>"
   ]
  },
  {
   "attachments": {
    "image.png": {
     "image/png": "[encoded data removed]"
    }
   },
   "cell_type": "markdown",
   "id": "e5cf3e53",
   "metadata": {},
   "source": [
    "<font color='DarkBlue'><b>Заключительный комментарий ревьюера 2</b></font><br><br>\n",
    "<font color='DarkGreen'>👌 Кянан! Справились со всеми заданиями в проекте. Молодец!<br>\n",
    "Входе выполнения проекта научились анализировать первичные данные и проводить обработку датасета. Провели самостоятельный исследовательский анализ.<br></font>\n",
    "<font color='DarkGreen'>👌 Теперь, вперед за новыми знаниями и навыками! Удачи! 😉</font>\n",
    "![image.png](attachment:image.png)"
   ]
  }
 ],
 "metadata": {
  "ExecuteTimeLog": [
   {
    "duration": 518,
    "start_time": "2023-08-17T18:20:57.334Z"
   },
   {
    "duration": 22,
    "start_time": "2023-08-17T18:20:57.855Z"
   },
   {
    "duration": 18,
    "start_time": "2023-08-17T18:20:57.878Z"
   },
   {
    "duration": 11,
    "start_time": "2023-08-17T18:20:57.898Z"
   },
   {
    "duration": 62,
    "start_time": "2023-08-17T18:20:57.911Z"
   },
   {
    "duration": 4,
    "start_time": "2023-08-17T18:20:57.975Z"
   },
   {
    "duration": 14,
    "start_time": "2023-08-17T18:20:57.981Z"
   },
   {
    "duration": 5,
    "start_time": "2023-08-17T18:20:57.997Z"
   },
   {
    "duration": 12,
    "start_time": "2023-08-17T18:20:58.004Z"
   },
   {
    "duration": 5,
    "start_time": "2023-08-17T18:20:58.019Z"
   },
   {
    "duration": 60,
    "start_time": "2023-08-17T18:20:58.025Z"
   },
   {
    "duration": 11,
    "start_time": "2023-08-17T18:20:58.087Z"
   },
   {
    "duration": 31,
    "start_time": "2023-08-17T18:20:58.100Z"
   },
   {
    "duration": 24,
    "start_time": "2023-08-17T18:20:58.133Z"
   },
   {
    "duration": 39,
    "start_time": "2023-08-17T18:20:58.158Z"
   },
   {
    "duration": 31,
    "start_time": "2023-08-17T18:20:58.199Z"
   },
   {
    "duration": 5,
    "start_time": "2023-08-17T18:20:58.232Z"
   },
   {
    "duration": 22,
    "start_time": "2023-08-17T18:20:58.239Z"
   },
   {
    "duration": 10,
    "start_time": "2023-08-17T18:20:58.263Z"
   },
   {
    "duration": 14,
    "start_time": "2023-08-17T18:20:58.275Z"
   },
   {
    "duration": 27,
    "start_time": "2023-08-17T18:20:58.292Z"
   },
   {
    "duration": 49,
    "start_time": "2023-08-17T18:20:58.322Z"
   },
   {
    "duration": 12,
    "start_time": "2023-08-17T18:20:58.374Z"
   },
   {
    "duration": 9,
    "start_time": "2023-08-17T18:20:58.388Z"
   },
   {
    "duration": 65,
    "start_time": "2023-08-17T18:20:58.399Z"
   },
   {
    "duration": 12,
    "start_time": "2023-08-17T18:20:58.466Z"
   },
   {
    "duration": 4,
    "start_time": "2023-08-17T18:20:58.481Z"
   },
   {
    "duration": 15,
    "start_time": "2023-08-17T18:20:58.488Z"
   },
   {
    "duration": 59,
    "start_time": "2023-08-17T18:20:58.505Z"
   },
   {
    "duration": 12,
    "start_time": "2023-08-17T18:20:58.566Z"
   },
   {
    "duration": 34,
    "start_time": "2023-08-17T18:20:58.580Z"
   },
   {
    "duration": 42,
    "start_time": "2023-08-17T18:20:58.616Z"
   },
   {
    "duration": 10,
    "start_time": "2023-08-17T18:20:58.659Z"
   },
   {
    "duration": 466,
    "start_time": "2023-08-17T18:23:29.474Z"
   },
   {
    "duration": 22,
    "start_time": "2023-08-17T18:23:29.942Z"
   },
   {
    "duration": 16,
    "start_time": "2023-08-17T18:23:29.965Z"
   },
   {
    "duration": 11,
    "start_time": "2023-08-17T18:23:29.982Z"
   },
   {
    "duration": 61,
    "start_time": "2023-08-17T18:23:29.996Z"
   },
   {
    "duration": 4,
    "start_time": "2023-08-17T18:23:30.059Z"
   },
   {
    "duration": 42,
    "start_time": "2023-08-17T18:23:30.065Z"
   },
   {
    "duration": 41,
    "start_time": "2023-08-17T18:23:30.109Z"
   },
   {
    "duration": 44,
    "start_time": "2023-08-17T18:23:30.151Z"
   },
   {
    "duration": 74,
    "start_time": "2023-08-17T18:23:30.197Z"
   },
   {
    "duration": 98,
    "start_time": "2023-08-17T18:23:30.273Z"
   },
   {
    "duration": 48,
    "start_time": "2023-08-17T18:23:30.372Z"
   },
   {
    "duration": 49,
    "start_time": "2023-08-17T18:23:30.421Z"
   },
   {
    "duration": 53,
    "start_time": "2023-08-17T18:23:30.473Z"
   },
   {
    "duration": 113,
    "start_time": "2023-08-17T18:23:30.528Z"
   },
   {
    "duration": 45,
    "start_time": "2023-08-17T18:23:30.644Z"
   },
   {
    "duration": 29,
    "start_time": "2023-08-17T18:23:30.692Z"
   },
   {
    "duration": 65,
    "start_time": "2023-08-17T18:23:30.724Z"
   },
   {
    "duration": 50,
    "start_time": "2023-08-17T18:23:30.792Z"
   },
   {
    "duration": 48,
    "start_time": "2023-08-17T18:23:30.844Z"
   },
   {
    "duration": 33,
    "start_time": "2023-08-17T18:23:30.895Z"
   },
   {
    "duration": 59,
    "start_time": "2023-08-17T18:23:30.930Z"
   },
   {
    "duration": 16,
    "start_time": "2023-08-17T18:23:30.991Z"
   },
   {
    "duration": 40,
    "start_time": "2023-08-17T18:23:31.008Z"
   },
   {
    "duration": 68,
    "start_time": "2023-08-17T18:23:31.050Z"
   },
   {
    "duration": 22,
    "start_time": "2023-08-17T18:23:31.121Z"
   },
   {
    "duration": 41,
    "start_time": "2023-08-17T18:23:31.145Z"
   },
   {
    "duration": 41,
    "start_time": "2023-08-17T18:23:31.188Z"
   },
   {
    "duration": 86,
    "start_time": "2023-08-17T18:23:31.231Z"
   },
   {
    "duration": 74,
    "start_time": "2023-08-17T18:23:31.319Z"
   },
   {
    "duration": 49,
    "start_time": "2023-08-17T18:23:31.395Z"
   },
   {
    "duration": 59,
    "start_time": "2023-08-17T18:23:31.445Z"
   },
   {
    "duration": 16,
    "start_time": "2023-08-17T18:23:31.506Z"
   },
   {
    "duration": 297,
    "start_time": "2023-08-17T18:27:27.145Z"
   },
   {
    "duration": 481,
    "start_time": "2023-08-28T20:13:38.338Z"
   },
   {
    "duration": 29,
    "start_time": "2023-08-28T20:13:38.821Z"
   },
   {
    "duration": 16,
    "start_time": "2023-08-28T20:13:38.851Z"
   },
   {
    "duration": 9,
    "start_time": "2023-08-28T20:13:38.869Z"
   },
   {
    "duration": 63,
    "start_time": "2023-08-28T20:13:38.879Z"
   },
   {
    "duration": 4,
    "start_time": "2023-08-28T20:13:38.943Z"
   },
   {
    "duration": 9,
    "start_time": "2023-08-28T20:13:38.948Z"
   },
   {
    "duration": 4,
    "start_time": "2023-08-28T20:13:38.959Z"
   },
   {
    "duration": 8,
    "start_time": "2023-08-28T20:13:38.965Z"
   },
   {
    "duration": 6,
    "start_time": "2023-08-28T20:13:38.975Z"
   },
   {
    "duration": 69,
    "start_time": "2023-08-28T20:13:38.983Z"
   },
   {
    "duration": 10,
    "start_time": "2023-08-28T20:13:39.053Z"
   },
   {
    "duration": 4,
    "start_time": "2023-08-28T20:13:39.065Z"
   },
   {
    "duration": 12,
    "start_time": "2023-08-28T20:13:39.070Z"
   },
   {
    "duration": 19,
    "start_time": "2023-08-28T20:13:39.083Z"
   },
   {
    "duration": 21,
    "start_time": "2023-08-28T20:13:39.125Z"
   },
   {
    "duration": 4,
    "start_time": "2023-08-28T20:13:39.148Z"
   },
   {
    "duration": 14,
    "start_time": "2023-08-28T20:13:39.154Z"
   },
   {
    "duration": 6,
    "start_time": "2023-08-28T20:13:39.170Z"
   },
   {
    "duration": 4,
    "start_time": "2023-08-28T20:13:39.177Z"
   },
   {
    "duration": 8,
    "start_time": "2023-08-28T20:13:39.183Z"
   },
   {
    "duration": 346,
    "start_time": "2023-08-28T20:13:39.193Z"
   },
   {
    "duration": 25,
    "start_time": "2023-08-28T20:13:39.541Z"
   },
   {
    "duration": 8,
    "start_time": "2023-08-28T20:13:39.568Z"
   },
   {
    "duration": 61,
    "start_time": "2023-08-28T20:13:39.578Z"
   },
   {
    "duration": 7,
    "start_time": "2023-08-28T20:13:39.641Z"
   },
   {
    "duration": 31,
    "start_time": "2023-08-28T20:13:39.649Z"
   },
   {
    "duration": 50,
    "start_time": "2023-08-28T20:13:39.684Z"
   },
   {
    "duration": 10,
    "start_time": "2023-08-28T20:13:39.736Z"
   },
   {
    "duration": 5,
    "start_time": "2023-08-28T20:13:39.748Z"
   },
   {
    "duration": 7,
    "start_time": "2023-08-28T20:13:39.755Z"
   },
   {
    "duration": 6,
    "start_time": "2023-08-28T20:13:39.764Z"
   },
   {
    "duration": 5,
    "start_time": "2023-08-28T20:13:39.771Z"
   },
   {
    "duration": 57,
    "start_time": "2023-08-28T20:13:39.777Z"
   },
   {
    "duration": 6,
    "start_time": "2023-08-28T20:13:39.836Z"
   },
   {
    "duration": 11,
    "start_time": "2023-08-28T20:13:39.844Z"
   },
   {
    "duration": 31,
    "start_time": "2023-08-28T20:13:39.856Z"
   },
   {
    "duration": 8,
    "start_time": "2023-08-28T20:13:39.889Z"
   },
   {
    "duration": 38,
    "start_time": "2023-08-28T20:13:39.899Z"
   },
   {
    "duration": 26,
    "start_time": "2023-08-28T20:13:39.939Z"
   },
   {
    "duration": 27,
    "start_time": "2023-08-28T20:13:39.966Z"
   },
   {
    "duration": 9,
    "start_time": "2023-08-28T20:13:39.995Z"
   },
   {
    "duration": 15,
    "start_time": "2023-08-28T20:13:40.025Z"
   },
   {
    "duration": 262,
    "start_time": "2023-08-28T20:19:21.253Z"
   },
   {
    "duration": 7,
    "start_time": "2023-08-28T20:20:51.940Z"
   }
  ],
  "colab": {
   "provenance": []
  },
  "kernelspec": {
   "display_name": "Python 3 (ipykernel)",
   "language": "python",
   "name": "python3"
  },
  "language_info": {
   "codemirror_mode": {
    "name": "ipython",
    "version": 3
   },
   "file_extension": ".py",
   "mimetype": "text/x-python",
   "name": "python",
   "nbconvert_exporter": "python",
   "pygments_lexer": "ipython3",
   "version": "3.10.9"
  },
  "toc": {
   "base_numbering": 1,
   "nav_menu": {},
   "number_sections": true,
   "sideBar": true,
   "skip_h1_title": true,
   "title_cell": "Table of Contents",
   "title_sidebar": "Contents",
   "toc_cell": false,
   "toc_position": {
    "height": "calc(100% - 180px)",
    "left": "10px",
    "top": "150px",
    "width": "165px"
   },
   "toc_section_display": true,
   "toc_window_display": true
  }
 },
 "nbformat": 4,
 "nbformat_minor": 5
}
