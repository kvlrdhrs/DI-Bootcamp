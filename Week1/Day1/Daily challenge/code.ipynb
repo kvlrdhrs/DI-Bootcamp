{
 "cells": [
  {
   "cell_type": "code",
   "execution_count": 2,
   "metadata": {},
   "outputs": [
    {
     "name": "stdout",
     "output_type": "stream",
     "text": [
      "string not long enough\n"
     ]
    }
   ],
   "source": [
    "#Build Up A String, ex1\n",
    "string =(input(\"write a string\"))\n",
    "out_str = ''\n",
    "if len(string) < 10:\n",
    "    out_str += \"string not long enough\"\n",
    "elif len(string) > 10:\n",
    "    out_str += \"string too long\"\n",
    "elif len(string) == 10:\n",
    "    out_str += \"perfect string\"\n",
    "print(out_str)"
   ]
  },
  {
   "cell_type": "code",
   "execution_count": 3,
   "metadata": {},
   "outputs": [
    {
     "name": "stdout",
     "output_type": "stream",
     "text": [
      "q\n",
      "y\n"
     ]
    }
   ],
   "source": [
    "#Build Up A String, ex2\n",
    "print(string[0])\n",
    "print(string[-1])"
   ]
  },
  {
   "cell_type": "code",
   "execution_count": 10,
   "metadata": {},
   "outputs": [
    {
     "name": "stdout",
     "output_type": "stream",
     "text": [
      "q\n",
      "qw\n",
      "qwe\n",
      "qwer\n",
      "qwert\n",
      "qwerty\n"
     ]
    }
   ],
   "source": [
    "#Build Up A String, ex3\n",
    "out_str = ''\n",
    "for i in range(len(string)):\n",
    "    out_str += string[i]\n",
    "    print(out_str)"
   ]
  },
  {
   "cell_type": "code",
   "execution_count": 14,
   "metadata": {},
   "outputs": [
    {
     "name": "stdout",
     "output_type": "stream",
     "text": [
      "yrtqwe\n"
     ]
    }
   ],
   "source": [
    "#Build Up A String, ex4\n",
    "import random\n",
    "list = list(string)\n",
    "random.shuffle(list)\n",
    "shuffled_string = ''.join(list)\n",
    "print(shuffled_string)"
   ]
  }
 ],
 "metadata": {
  "kernelspec": {
   "display_name": "Python 3",
   "language": "python",
   "name": "python3"
  },
  "language_info": {
   "codemirror_mode": {
    "name": "ipython",
    "version": 3
   },
   "file_extension": ".py",
   "mimetype": "text/x-python",
   "name": "python",
   "nbconvert_exporter": "python",
   "pygments_lexer": "ipython3",
   "version": "3.12.1"
  }
 },
 "nbformat": 4,
 "nbformat_minor": 2
}
