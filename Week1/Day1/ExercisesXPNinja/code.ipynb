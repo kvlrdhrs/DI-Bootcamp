{
 "cells": [
  {
   "cell_type": "code",
   "execution_count": null,
   "metadata": {},
   "outputs": [],
   "source": [
    "#Exercise 3 : Outputs\n",
    "\n",
    "# >>> 3 <= 3 < 9    True\n",
    "#     >>> 3 == 3 == 3   True\n",
    "#     >>> bool(0)   True\n",
    "#     >>> bool(5 == \"5\")    False\n",
    "#     >>> bool(4 == 4) == bool(\"4\" == \"4\")  True\n",
    "#     >>> bool(bool(None))  False\n",
    "\n",
    "#     x = (1 == True)   \n",
    "#     y = (1 == False)\n",
    "#     a = True + 4\n",
    "#     b = False + 10\n",
    "#     print(\"x is\", x)  x is true\n",
    "#     print(\"y is\", y)  y is false\n",
    "#     print(\"a:\", a)    a: 5\n",
    "#     print(\"b:\", b)    b: 10"
   ]
  },
  {
   "cell_type": "code",
   "execution_count": null,
   "metadata": {},
   "outputs": [],
   "source": [
    "#Exercise 4 : How Many Characters In A Sentence ?\n",
    "my_text = \"Lorem ipsum dolor sit amet, consectetur adipiscing elit, \\nsed do eiusmod tempor incididunt ut labore et dolore magna aliqua. \\nUt enim ad minim veniam, quis nostrud exercitation ullamco \\nlaboris nisi ut aliquip ex ea commodo consequat.\\nDuis aute irure dolor in reprehenderit in voluptate velit\\nesse cillum dolore eu fugiat nulla pariatur.\\nExcepteur sint occaecat cupidatat non proident, \\nsunt in culpa qui officia deserunt mollit anim id est laborum.\"\n",
    "print(my_text)\n",
    "print(len(my_text))"
   ]
  },
  {
   "cell_type": "code",
   "execution_count": 3,
   "metadata": {},
   "outputs": [
    {
     "name": "stdout",
     "output_type": "stream",
     "text": [
      "GJ, u have a longest sentence\n"
     ]
    }
   ],
   "source": [
    "longest_sentence = \"\"\n",
    "user_input = input(\"write the longest sentence without the character 'A'\")\n",
    "if 'A' not in user_input and len(user_input) > len(longest_sentence):\n",
    "    longest_sentence = user_input\n",
    "    print('GJ, u have a longest sentence')\n",
    "else: \n",
    "    print('GJ, u had a mistake')"
   ]
  },
  {
   "cell_type": "code",
   "execution_count": null,
   "metadata": {},
   "outputs": [],
   "source": []
  }
 ],
 "metadata": {
  "kernelspec": {
   "display_name": "Python 3",
   "language": "python",
   "name": "python3"
  },
  "language_info": {
   "codemirror_mode": {
    "name": "ipython",
    "version": 3
   },
   "file_extension": ".py",
   "mimetype": "text/x-python",
   "name": "python",
   "nbconvert_exporter": "python",
   "pygments_lexer": "ipython3",
   "version": "3.12.1"
  }
 },
 "nbformat": 4,
 "nbformat_minor": 2
}
