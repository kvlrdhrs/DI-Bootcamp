{
 "cells": [
  {
   "cell_type": "code",
   "execution_count": 7,
   "metadata": {},
   "outputs": [
    {
     "name": "stdout",
     "output_type": "stream",
     "text": [
      "Hello world\n",
      "Hello world\n",
      "Hello world\n",
      "Hello world\n",
      "I love python\n",
      "I love python\n",
      "I love python\n",
      "I love python\n"
     ]
    }
   ],
   "source": [
    "#Exercise 1 : Hello World-I Love Python\n",
    "for i in range(4):\n",
    "    print(\"Hello world\")\n",
    "for k in range(4):\n",
    "    print(\"I love python\") "
   ]
  },
  {
   "cell_type": "code",
   "execution_count": 20,
   "metadata": {},
   "outputs": [
    {
     "name": "stdout",
     "output_type": "stream",
     "text": [
      "Winter\n"
     ]
    }
   ],
   "source": [
    "#Exercise 2 : What Is The Season ?\n",
    "month = int(input(\"input a month (1 to 12)\"))\n",
    "if 2 < month <=5:\n",
    "    print('Spring'),\n",
    "elif 6 <= month <= 8:\n",
    "    print('Summer'),\n",
    "elif 9 <= month <= 11:\n",
    "    print('Autumn'),\n",
    "elif month in [1,2,12]:\n",
    "    print('Winter')"
   ]
  }
 ],
 "metadata": {
  "kernelspec": {
   "display_name": "Python 3",
   "language": "python",
   "name": "python3"
  },
  "language_info": {
   "codemirror_mode": {
    "name": "ipython",
    "version": 3
   },
   "file_extension": ".py",
   "mimetype": "text/x-python",
   "name": "python",
   "nbconvert_exporter": "python",
   "pygments_lexer": "ipython3",
   "version": "3.12.1"
  }
 },
 "nbformat": 4,
 "nbformat_minor": 2
}
