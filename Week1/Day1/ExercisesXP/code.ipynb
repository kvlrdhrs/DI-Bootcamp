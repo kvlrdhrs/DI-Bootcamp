{
 "cells": [
  {
   "cell_type": "code",
   "execution_count": 7,
   "metadata": {},
   "outputs": [
    {
     "name": "stdout",
     "output_type": "stream",
     "text": [
      "Hello world\n",
      "Hello world\n",
      "Hello world\n",
      "Hello world\n",
      "Hello world\n"
     ]
    }
   ],
   "source": [
    "#Exercise1:Hello World\n",
    "for a in range (5):\n",
    "    print(\"Hello world\")"
   ]
  },
  {
   "cell_type": "code",
   "execution_count": 23,
   "metadata": {},
   "outputs": [
    {
     "data": {
      "text/plain": [
       "7762392"
      ]
     },
     "execution_count": 23,
     "metadata": {},
     "output_type": "execute_result"
    }
   ],
   "source": [
    "#Exercise 2 : Some Math\n",
    "ex2=(99**3)*8\n",
    "ex2"
   ]
  },
  {
   "cell_type": "code",
   "execution_count": 9,
   "metadata": {},
   "outputs": [
    {
     "name": "stdout",
     "output_type": "stream",
     "text": [
      "8\n",
      "True\n",
      "False\n",
      "Error\n",
      "False\n"
     ]
    }
   ],
   "source": [
    "#Exercise 3 : What Is The Output ?\n",
    "print(8)\n",
    "print(True)\n",
    "print(False)\n",
    "print('Error')\n",
    "print(False)"
   ]
  },
  {
   "cell_type": "code",
   "execution_count": 11,
   "metadata": {},
   "outputs": [
    {
     "name": "stdout",
     "output_type": "stream",
     "text": [
      "I have a Lenovo computer\n"
     ]
    }
   ],
   "source": [
    "#Exercise 4 : Your Computer Brand\n",
    "computer_brand='Lenovo'\n",
    "print(f\"I have a {computer_brand} computer\")"
   ]
  },
  {
   "cell_type": "code",
   "execution_count": 13,
   "metadata": {},
   "outputs": [
    {
     "data": {
      "text/plain": [
       "'Hi, my name is Kanan, im 28 old, my shoe size is 7.5 US'"
      ]
     },
     "execution_count": 13,
     "metadata": {},
     "output_type": "execute_result"
    }
   ],
   "source": [
    "#Exercise 5 : Your Information\n",
    "name = 'Kanan'\n",
    "age = '28'\n",
    "shoe_size = '7.5 US'\n",
    "info = f\"Hi, my name is {name}, im {age} old, my shoe size is {shoe_size}\"\n",
    "info"
   ]
  },
  {
   "cell_type": "code",
   "execution_count": 14,
   "metadata": {},
   "outputs": [],
   "source": [
    "#Exercise 6 : A & B\n",
    "a = 10\n",
    "b = 23\n",
    "if a > b:\n",
    "    print('Hello world')"
   ]
  },
  {
   "cell_type": "code",
   "execution_count": 17,
   "metadata": {},
   "outputs": [
    {
     "name": "stdout",
     "output_type": "stream",
     "text": [
      "number is even\n"
     ]
    }
   ],
   "source": [
    "#Exercise 7 : Odd Or Even\n",
    "num = int(input(\"write a number\"))\n",
    "if num % 2 == 0:\n",
    "    print(\"number is even\")\n",
    "else:\n",
    "    print(\"number is odd\")"
   ]
  },
  {
   "cell_type": "code",
   "execution_count": 20,
   "metadata": {},
   "outputs": [
    {
     "name": "stdout",
     "output_type": "stream",
     "text": [
      "bad luck\n"
     ]
    }
   ],
   "source": [
    "#Exercise 8 : What’s Your Name ?\n",
    "name = str(input(\"write your name\"))\n",
    "out_str = ''\n",
    "if name == 'Kanan':\n",
    "    out_str += 'good job'\n",
    "else:\n",
    "    out_str += 'bad luck'\n",
    "print(out_str)"
   ]
  },
  {
   "cell_type": "code",
   "execution_count": 22,
   "metadata": {},
   "outputs": [
    {
     "name": "stdout",
     "output_type": "stream",
     "text": [
      "U r tall enough to ride\n"
     ]
    }
   ],
   "source": [
    "#Exercise 9 : Tall Enough To Ride A Roller Coaster\n",
    "height = int(input(\"write your height\"))\n",
    "out_str = ''\n",
    "if height > 145:\n",
    "    out_str += \"U r tall enough to ride\"\n",
    "else:\n",
    "    out_str += \"U r need to grow some more to ride\"\n",
    "print(out_str)"
   ]
  },
  {
   "cell_type": "code",
   "execution_count": null,
   "metadata": {},
   "outputs": [],
   "source": []
  }
 ],
 "metadata": {
  "kernelspec": {
   "display_name": "Python 3",
   "language": "python",
   "name": "python3"
  },
  "language_info": {
   "codemirror_mode": {
    "name": "ipython",
    "version": 3
   },
   "file_extension": ".py",
   "mimetype": "text/x-python",
   "name": "python",
   "nbconvert_exporter": "python",
   "pygments_lexer": "ipython3",
   "version": "3.12.1"
  }
 },
 "nbformat": 4,
 "nbformat_minor": 2
}
