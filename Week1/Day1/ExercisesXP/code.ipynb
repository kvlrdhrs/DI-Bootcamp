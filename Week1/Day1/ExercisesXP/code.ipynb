{
 "cells": [
  {
   "cell_type": "code",
   "execution_count": null,
   "metadata": {},
   "outputs": [],
   "source": [
    "#Exercise1:Hello World\n",
    "for a in range (5):\n",
    "    print(\"Hello world\")"
   ]
  },
  {
   "cell_type": "code",
   "execution_count": null,
   "metadata": {},
   "outputs": [],
   "source": [
    "#Exercise 2 : Some Math\n",
    "ex2=(99**3)*8\n",
    "ex2"
   ]
  },
  {
   "cell_type": "code",
   "execution_count": 27,
   "metadata": {},
   "outputs": [],
   "source": [
    "#Exercise 3 : What Is The Output ?\n",
    "#print(5 < 3) #False\n",
    "#print(3 == 3) #True\n",
    "#print(3 == \"3\") #False\n",
    "#print(\"3\" > 3) #Error\n",
    "#print(\"Hello\" == \"hello\") #False"
   ]
  },
  {
   "cell_type": "code",
   "execution_count": null,
   "metadata": {},
   "outputs": [],
   "source": [
    "#Exercise 4 : Your Computer Brand\n",
    "computer_brand='Lenovo'\n",
    "print(f\"I have a {computer_brand} computer\")"
   ]
  },
  {
   "cell_type": "code",
   "execution_count": null,
   "metadata": {},
   "outputs": [],
   "source": [
    "#Exercise 5 : Your Information\n",
    "name = 'Kanan'\n",
    "age = '28'\n",
    "shoe_size = '7.5 US'\n",
    "info = f\"Hi, my name is {name}, im {age} old, my shoe size is {shoe_size}\"\n",
    "info"
   ]
  },
  {
   "cell_type": "code",
   "execution_count": null,
   "metadata": {},
   "outputs": [],
   "source": [
    "#Exercise 6 : A & B\n",
    "a = 10\n",
    "b = 23\n",
    "if a > b:\n",
    "    print('Hello world')"
   ]
  },
  {
   "cell_type": "code",
   "execution_count": 28,
   "metadata": {},
   "outputs": [
    {
     "name": "stdout",
     "output_type": "stream",
     "text": [
      "number is even\n"
     ]
    }
   ],
   "source": [
    "#Exercise 7 : Odd Or Even\n",
    "num = int(input(\"write a number\"))\n",
    "if num % 2 == 0:\n",
    "    print(\"number is even\")\n",
    "else:\n",
    "    print(\"number is odd\")"
   ]
  },
  {
   "cell_type": "code",
   "execution_count": null,
   "metadata": {},
   "outputs": [],
   "source": [
    "#Exercise 8 : What’s Your Name ?\n",
    "name = str(input(\"write your name\"))\n",
    "out_str = ''\n",
    "if name == 'Kanan':\n",
    "    out_str += 'good job'\n",
    "else:\n",
    "    out_str += 'bad luck'\n",
    "print(out_str)"
   ]
  },
  {
   "cell_type": "code",
   "execution_count": null,
   "metadata": {},
   "outputs": [],
   "source": [
    "#Exercise 9 : Tall Enough To Ride A Roller Coaster\n",
    "height = int(input(\"write your height\"))\n",
    "out_str = ''\n",
    "if height > 145:\n",
    "    out_str += \"U r tall enough to ride\"\n",
    "else:\n",
    "    out_str += \"U r need to grow some more to ride\"\n",
    "print(out_str)"
   ]
  },
  {
   "cell_type": "code",
   "execution_count": null,
   "metadata": {},
   "outputs": [],
   "source": []
  }
 ],
 "metadata": {
  "kernelspec": {
   "display_name": "Python 3",
   "language": "python",
   "name": "python3"
  },
  "language_info": {
   "codemirror_mode": {
    "name": "ipython",
    "version": 3
   },
   "file_extension": ".py",
   "mimetype": "text/x-python",
   "name": "python",
   "nbconvert_exporter": "python",
   "pygments_lexer": "ipython3",
   "version": "3.12.1"
  }
 },
 "nbformat": 4,
 "nbformat_minor": 2
}
