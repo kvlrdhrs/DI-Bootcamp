{
 "cells": [
  {
   "cell_type": "code",
   "execution_count": 1,
   "metadata": {},
   "outputs": [
    {
     "name": "stdout",
     "output_type": "stream",
     "text": [
      "[5, 10, 15, 20, 25, 30, 35, 40, 45, 50]\n"
     ]
    }
   ],
   "source": [
    "#Challenge1\n",
    "\n",
    "def generate_multiples(number, length):\n",
    "    multiples_list = [number * i for i in range(1, length + 1)]\n",
    "    return multiples_list\n",
    "\n",
    "# Get user input\n",
    "user_number = int(input(\"Enter a number: \"))\n",
    "user_length = int(input(\"Enter the desired length: \"))\n",
    "\n",
    "# Generate and print the list of multiples\n",
    "result_list = generate_multiples(user_number, user_length)\n",
    "print(result_list)\n"
   ]
  },
  {
   "cell_type": "code",
   "execution_count": null,
   "metadata": {},
   "outputs": [],
   "source": [
    "#Challenge2\n",
    "\n",
    "def remove_consecutive_duplicates(input_string):\n",
    "    result_string = \"\"\n",
    "    for char in input_string:\n",
    "        if not result_string or char != result_string[-1]:\n",
    "            result_string += char\n",
    "    return result_string\n",
    "\n",
    "# Get user input\n",
    "user_word = input(\"Enter a word: \")\n",
    "\n",
    "# Remove consecutive duplicates and display the final string\n",
    "final_string = remove_consecutive_duplicates(user_word)\n",
    "print(\"Final string:\", final_string)"
   ]
  }
 ],
 "metadata": {
  "kernelspec": {
   "display_name": "Python 3",
   "language": "python",
   "name": "python3"
  },
  "language_info": {
   "codemirror_mode": {
    "name": "ipython",
    "version": 3
   },
   "file_extension": ".py",
   "mimetype": "text/x-python",
   "name": "python",
   "nbconvert_exporter": "python",
   "pygments_lexer": "ipython3",
   "version": "3.12.1"
  }
 },
 "nbformat": 4,
 "nbformat_minor": 2
}
