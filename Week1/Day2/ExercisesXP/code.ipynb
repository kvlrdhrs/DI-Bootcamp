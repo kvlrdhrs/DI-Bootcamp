{
 "cells": [
  {
   "cell_type": "code",
   "execution_count": 20,
   "metadata": {},
   "outputs": [
    {
     "data": {
      "text/plain": [
       "{23, 100, 200, 300, 666}"
      ]
     },
     "execution_count": 20,
     "metadata": {},
     "output_type": "execute_result"
    }
   ],
   "source": [
    "#Exercise 1 : Set\n",
    "\n",
    "my_fav_numbers = {23} # create a set\n",
    "my_fav_numbers.add(666) # add smthng in a set\n",
    "my_fav_numbers #we cant remove the last nunber in the set\n",
    "\n",
    "friend_fav_numbers = [100,200,300,100,200,300,100,200,300,100,200,300,100,200,300,100,200,300,100,200,300] # create a list with duplicates\n",
    "friend_fav_numbers = set(friend_fav_numbers)\n",
    "friend_fav_numbers\n",
    "\n",
    "our_fav_numbers = my_fav_numbers.union(friend_fav_numbers)\n",
    "our_fav_numbers\n"
   ]
  },
  {
   "cell_type": "code",
   "execution_count": null,
   "metadata": {},
   "outputs": [],
   "source": [
    "#Exercise 2: Tuple\n",
    "\n",
    "# nope, they r immutable"
   ]
  },
  {
   "cell_type": "code",
   "execution_count": 39,
   "metadata": {},
   "outputs": [
    {
     "name": "stdout",
     "output_type": "stream",
     "text": [
      "['Apples', 'Oranges']\n",
      "['Apples', 'Oranges', 'Kiwi']\n",
      "['Apples', 'Apples', 'Oranges', 'Kiwi']\n",
      "2\n",
      "[]\n"
     ]
    }
   ],
   "source": [
    "#Exercise 3: List\n",
    "\n",
    "#remove items\n",
    "basket = [\"Banana\", \"Apples\", \"Oranges\", \"Blueberries\"]\n",
    "\n",
    "list_to_remove = ('Banana', 'Blueberries')\n",
    "for item in list_to_remove:\n",
    "    basket.remove(item)\n",
    "print(basket)\n",
    "#add items\n",
    "basket.append('Kiwi')\n",
    "print(basket)\n",
    "\n",
    "basket.insert(0, 'Apples')\n",
    "print(basket)\n",
    "\n",
    "#count apples\n",
    "print(basket.count('Apples'))\n",
    "\n",
    "#clear basket\n",
    "basket.clear()\n",
    "\n",
    "#print\n",
    "print(basket)"
   ]
  },
  {
   "cell_type": "code",
   "execution_count": 67,
   "metadata": {},
   "outputs": [
    {
     "name": "stdout",
     "output_type": "stream",
     "text": [
      "[1.5, 2, 2.5, 3, 3.5, 4, 4.5, 5]\n"
     ]
    },
    {
     "data": {
      "text/plain": [
       "[2.5, 3.5, 4.5, 5.5]"
      ]
     },
     "execution_count": 67,
     "metadata": {},
     "output_type": "execute_result"
    }
   ],
   "source": [
    "#Exercise 4: Floats\n",
    "\n",
    "#float is a type of obj. The main difference between an int and a float in the type of numbers they can represent.\n",
    "\n",
    "num = 0.5\n",
    "list1 = [x + num for x in range(1000) if x > 0 and x <=4]\n",
    "list2 = [x for x in range(1000) if x > 1 and x <=5]\n",
    "list3 = list1 + list2\n",
    "list3.sort()\n",
    "print(list3)\n",
    "\n",
    "\n",
    "#another way to generate a sequence of floats\n"
   ]
  },
  {
   "cell_type": "code",
   "execution_count": 80,
   "metadata": {},
   "outputs": [
    {
     "name": "stdout",
     "output_type": "stream",
     "text": [
      "0\n",
      "1\n",
      "2\n",
      "3\n",
      "4\n",
      "5\n",
      "6\n",
      "7\n",
      "8\n",
      "9\n",
      "10\n",
      "11\n",
      "12\n",
      "13\n",
      "14\n",
      "15\n",
      "16\n",
      "17\n",
      "18\n",
      "19\n",
      "20\n",
      "0\n",
      "2\n",
      "4\n",
      "6\n",
      "8\n",
      "10\n",
      "12\n",
      "14\n",
      "16\n",
      "18\n",
      "20\n"
     ]
    }
   ],
   "source": [
    "#Exercise 5: For Loop\n",
    "\n",
    "for num in range(21):\n",
    "    print(num)\n",
    "\n",
    "\n",
    "\n",
    "for num in range(21):\n",
    "        if num % 2 == 0:\n",
    "            print(num)"
   ]
  },
  {
   "cell_type": "code",
   "execution_count": 87,
   "metadata": {},
   "outputs": [
    {
     "name": "stdout",
     "output_type": "stream",
     "text": [
      "nope, try again\n",
      "nope, try again\n",
      "nope, try again\n",
      "good\n"
     ]
    }
   ],
   "source": [
    "#Exercise 6 : While Loop\n",
    "my_name = 'Kanan'\n",
    "\n",
    "while True:\n",
    "    input_name = input(\"write your name\")\n",
    "\n",
    "    if input_name == my_name:\n",
    "        print('good')\n",
    "        break\n",
    "    else:\n",
    "        print(\"nope, try again\")"
   ]
  },
  {
   "cell_type": "code",
   "execution_count": 93,
   "metadata": {},
   "outputs": [
    {
     "name": "stdout",
     "output_type": "stream",
     "text": [
      "You chose a new fruit. I hope you enjoy\n"
     ]
    }
   ],
   "source": [
    "#Exercise 7: Favorite Fruits\n",
    "\n",
    "fav_fruit = input(\"enter your favorite fruit(s). separated by a single space\")\n",
    "\n",
    "fav_fruit_list = list(fav_fruit.split())\n",
    "\n",
    "any_fruit = input(\"enter a name of any fruit\")\n",
    "if any_fruit in fav_fruit_list:\n",
    "    print(\"You chose one of your favorite fruits! Enjoy!\")\n",
    "else:\n",
    "    print(\"You chose a new fruit. I hope you enjoy\")"
   ]
  },
  {
   "cell_type": "code",
   "execution_count": null,
   "metadata": {},
   "outputs": [],
   "source": []
  }
 ],
 "metadata": {
  "kernelspec": {
   "display_name": "Python 3",
   "language": "python",
   "name": "python3"
  },
  "language_info": {
   "codemirror_mode": {
    "name": "ipython",
    "version": 3
   },
   "file_extension": ".py",
   "mimetype": "text/x-python",
   "name": "python",
   "nbconvert_exporter": "python",
   "pygments_lexer": "ipython3",
   "version": "3.12.1"
  }
 },
 "nbformat": 4,
 "nbformat_minor": 2
}
