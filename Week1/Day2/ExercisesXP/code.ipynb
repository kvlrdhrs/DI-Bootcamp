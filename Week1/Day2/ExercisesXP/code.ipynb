{
 "cells": [
  {
   "cell_type": "code",
   "execution_count": 20,
   "metadata": {},
   "outputs": [
    {
     "data": {
      "text/plain": [
       "{23, 100, 200, 300, 666}"
      ]
     },
     "execution_count": 20,
     "metadata": {},
     "output_type": "execute_result"
    }
   ],
   "source": [
    "#Exercise 1 : Set\n",
    "\n",
    "my_fav_numbers = {23} # create a set\n",
    "my_fav_numbers.add(666) # add smthng in a set\n",
    "my_fav_numbers #we cant remove the last nunber in the set\n",
    "\n",
    "friend_fav_numbers = [100,200,300,100,200,300,100,200,300,100,200,300,100,200,300,100,200,300,100,200,300] # create a list with duplicates\n",
    "friend_fav_numbers = set(friend_fav_numbers)\n",
    "friend_fav_numbers\n",
    "\n",
    "our_fav_numbers = my_fav_numbers.union(friend_fav_numbers)\n",
    "our_fav_numbers\n"
   ]
  },
  {
   "cell_type": "code",
   "execution_count": null,
   "metadata": {},
   "outputs": [],
   "source": [
    "#Exercise 2: Tuple\n",
    "\n",
    "# nope, they r immutable"
   ]
  },
  {
   "cell_type": "code",
   "execution_count": 39,
   "metadata": {},
   "outputs": [
    {
     "name": "stdout",
     "output_type": "stream",
     "text": [
      "['Apples', 'Oranges']\n",
      "['Apples', 'Oranges', 'Kiwi']\n",
      "['Apples', 'Apples', 'Oranges', 'Kiwi']\n",
      "2\n",
      "[]\n"
     ]
    }
   ],
   "source": [
    "#Exercise 3: List\n",
    "\n",
    "#remove items\n",
    "basket = [\"Banana\", \"Apples\", \"Oranges\", \"Blueberries\"]\n",
    "\n",
    "list_to_remove = ('Banana', 'Blueberries')\n",
    "for item in list_to_remove:\n",
    "    basket.remove(item)\n",
    "print(basket)\n",
    "#add items\n",
    "basket.append('Kiwi')\n",
    "print(basket)\n",
    "\n",
    "basket.insert(0, 'Apples')\n",
    "print(basket)\n",
    "\n",
    "#count apples\n",
    "print(basket.count('Apples'))\n",
    "\n",
    "#clear basket\n",
    "basket.clear()\n",
    "\n",
    "#print\n",
    "print(basket)"
   ]
  },
  {
   "cell_type": "code",
   "execution_count": null,
   "metadata": {},
   "outputs": [],
   "source": [
    "#Exercise 4: Floats\n",
    "\n"
   ]
  }
 ],
 "metadata": {
  "kernelspec": {
   "display_name": "Python 3",
   "language": "python",
   "name": "python3"
  },
  "language_info": {
   "codemirror_mode": {
    "name": "ipython",
    "version": 3
   },
   "file_extension": ".py",
   "mimetype": "text/x-python",
   "name": "python",
   "nbconvert_exporter": "python",
   "pygments_lexer": "ipython3",
   "version": "3.12.1"
  }
 },
 "nbformat": 4,
 "nbformat_minor": 2
}
