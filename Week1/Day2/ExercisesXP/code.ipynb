{
 "cells": [
  {
   "cell_type": "code",
   "execution_count": null,
   "metadata": {},
   "outputs": [],
   "source": [
    "#Exercise 1 : Set\n",
    "\n",
    "my_fav_numbers = {23} # create a set\n",
    "my_fav_numbers.add(666) # add smthng in a set\n",
    "my_fav_numbers #we cant remove the last nunber in the set\n",
    "\n",
    "friend_fav_numbers = [100,200,300,100,200,300,100,200,300,100,200,300,100,200,300,100,200,300,100,200,300] # create a list with duplicates\n",
    "friend_fav_numbers = set(friend_fav_numbers)\n",
    "friend_fav_numbers\n",
    "\n",
    "our_fav_numbers = my_fav_numbers.union(friend_fav_numbers)\n",
    "our_fav_numbers\n"
   ]
  },
  {
   "cell_type": "code",
   "execution_count": null,
   "metadata": {},
   "outputs": [],
   "source": [
    "#Exercise 2: Tuple\n",
    "\n",
    "# nope, they r immutable"
   ]
  },
  {
   "cell_type": "code",
   "execution_count": null,
   "metadata": {},
   "outputs": [],
   "source": [
    "#Exercise 3: List\n",
    "\n",
    "#remove items\n",
    "basket = [\"Banana\", \"Apples\", \"Oranges\", \"Blueberries\"]\n",
    "\n",
    "list_to_remove = ('Banana', 'Blueberries')\n",
    "for item in list_to_remove:\n",
    "    basket.remove(item)\n",
    "print(basket)\n",
    "#add items\n",
    "basket.append('Kiwi')\n",
    "print(basket)\n",
    "\n",
    "basket.insert(0, 'Apples')\n",
    "print(basket)\n",
    "\n",
    "#count apples\n",
    "print(basket.count('Apples'))\n",
    "\n",
    "#clear basket\n",
    "basket.clear()\n",
    "\n",
    "#print\n",
    "print(basket)"
   ]
  },
  {
   "cell_type": "code",
   "execution_count": null,
   "metadata": {},
   "outputs": [],
   "source": [
    "#Exercise 4: Floats\n",
    "\n",
    "#float is a type of obj. The main difference between an int and a float in the type of numbers they can represent.\n",
    "\n",
    "num = 0.5\n",
    "list1 = [x + num for x in range(1000) if x > 0 and x <=4]\n",
    "list2 = [x for x in range(1000) if x > 1 and x <=5]\n",
    "list3 = list1 + list2\n",
    "list3.sort()\n",
    "print(list3)\n",
    "\n",
    "\n",
    "#another way to generate a sequence of floats\n"
   ]
  },
  {
   "cell_type": "code",
   "execution_count": null,
   "metadata": {},
   "outputs": [],
   "source": [
    "#Exercise 5: For Loop\n",
    "\n",
    "for num in range(21):\n",
    "    print(num)\n",
    "\n",
    "\n",
    "\n",
    "for num in range(21):\n",
    "        if num % 2 == 0:\n",
    "            print(num)"
   ]
  },
  {
   "cell_type": "code",
   "execution_count": null,
   "metadata": {},
   "outputs": [],
   "source": [
    "#Exercise 6 : While Loop\n",
    "my_name = 'Kanan'\n",
    "\n",
    "while True:\n",
    "    input_name = input(\"write your name\")\n",
    "\n",
    "    if input_name == my_name:\n",
    "        print('good')\n",
    "        break\n",
    "    else:\n",
    "        print(\"nope, try again\")"
   ]
  },
  {
   "cell_type": "code",
   "execution_count": null,
   "metadata": {},
   "outputs": [],
   "source": [
    "#Exercise 7: Favorite Fruits\n",
    "\n",
    "fav_fruit = input(\"enter your favorite fruit(s). separated by a single space\")\n",
    "\n",
    "fav_fruit_list = list(fav_fruit.split())\n",
    "\n",
    "any_fruit = input(\"enter a name of any fruit\")\n",
    "if any_fruit in fav_fruit_list:\n",
    "    print(\"You chose one of your favorite fruits! Enjoy!\")\n",
    "else:\n",
    "    print(\"You chose a new fruit. I hope you enjoy\")"
   ]
  },
  {
   "cell_type": "code",
   "execution_count": null,
   "metadata": {},
   "outputs": [],
   "source": [
    "#Exercise 8: Who Ordered A Pizza ?\n",
    "\n",
    "total_price = 10  # Base price for the pizza\n",
    "toppings_list = []  # Use a list to store toppings\n",
    "\n",
    "while True:\n",
    "    toppings = input(\"Enter a pizza topping (type 'quit' to finish): \")\n",
    "\n",
    "    if toppings.lower() == 'quit':\n",
    "        break\n",
    "\n",
    "    toppings_list.append(toppings)\n",
    "    total_price += 2.5  # Add $2.5 for each topping\n",
    "    print(f\"You'll add {toppings} to your pizza.\")\n",
    "\n",
    "print(\"\\nToppings on your pizza:\")\n",
    "for topping in toppings_list:\n",
    "    print(\"- \" + topping)\n",
    "\n",
    "print(f\"\\nTotal price: ${total_price}\")"
   ]
  },
  {
   "cell_type": "code",
   "execution_count": 6,
   "metadata": {},
   "outputs": [
    {
     "name": "stdout",
     "output_type": "stream",
     "text": [
      "total cost for the family tickets 35\n"
     ]
    }
   ],
   "source": [
    "#Exercise 9: Cinemax\n",
    "\n",
    "def calculate_ticket_cost(age):\n",
    "    if age < 3:\n",
    "        return 0\n",
    "    elif 3 < age < 12:\n",
    "        return 10\n",
    "    elif age > 12:\n",
    "        return 15\n",
    "    \n",
    "\n",
    "#calculate the total cost of family tickets\n",
    "num_people = int(input(\"enter the number of people in the family\"))\n",
    "total_cost = 0\n",
    "\n",
    "for _ in range(num_people):\n",
    "    person_age = int(input(\"enter the age of a person\"))\n",
    "    total_cost +=calculate_ticket_cost(person_age)\n",
    "\n",
    "print(f\"total cost for the family tickets {total_cost}\")"
   ]
  },
  {
   "cell_type": "code",
   "execution_count": null,
   "metadata": {
    "is_executing": true
   },
   "outputs": [],
   "source": [
    "andwich_orders = [\"Tuna sandwich\", \"Pastrami sandwich\", \"Avocado sandwich\", \"Pastrami sandwich\", \"Egg sandwich\",\n",
    "                   'Chicken sandwich', \"Pastrami sandwich\"]\n",
    "\n",
    "# Remove all occurrences of \"Pastrami sandwich\"\n",
    "while \"Pastrami sandwich\" in sandwich_orders:\n",
    "    sandwich_orders.remove(\"Pastrami sandwich\")\n",
    "\n",
    "# Create an empty list for finished sandwiches\n",
    "finished_sandwiches = []\n",
    "\n",
    "# Prepare the orders\n",
    "while sandwich_orders:\n",
    "    current_sandwich = sandwich_orders.pop(0)\n",
    "    finished_sandwiches.append(current_sandwich)\n",
    "    print(f\"I made your {current_sandwich.lower()}\")\n",
    "\n",
    "# Print a message listing each sandwich that was made\n",
    "print(\"\\nList of sandwiches made:\")\n",
    "for sandwich in finished_sandwiches:\n",
    "    print(sandwich)"
   ]
  },
  {
   "cell_type": "code",
   "outputs": [],
   "source": [],
   "metadata": {
    "collapsed": false
   }
  }
 ],
 "metadata": {
  "kernelspec": {
   "display_name": "Python 3",
   "language": "python",
   "name": "python3"
  },
  "language_info": {
   "codemirror_mode": {
    "name": "ipython",
    "version": 3
   },
   "file_extension": ".py",
   "mimetype": "text/x-python",
   "name": "python",
   "nbconvert_exporter": "python",
   "pygments_lexer": "ipython3",
   "version": "3.12.1"
  }
 },
 "nbformat": 4,
 "nbformat_minor": 2
}
