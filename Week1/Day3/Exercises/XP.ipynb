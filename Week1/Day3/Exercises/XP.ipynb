{
 "cells": [
  {
   "cell_type": "code",
   "execution_count": 2,
   "metadata": {
    "metadata": {}
   },
   "outputs": [],
   "source": [
    "# Exercise 1 : Student Grade Summary\n",
    "\n",
    "student_grades = {\n",
    "    \"Alice\": [88, 92, 100],\n",
    "    \"Bob\": [75, 78, 80],\n",
    "    \"Charlie\": [92, 90, 85],\n",
    "    \"Dana\": [83, 88, 92],\n",
    "    \"Eli\": [78, 80, 72]\n",
    "}"
   ]
  },
  {
   "cell_type": "code",
   "execution_count": 3,
   "metadata": {
    "metadata": {}
   },
   "outputs": [],
   "source": [
    "# Calculate the average grade for each student and store the results in a new dictionary called student_averages.\n",
    "\n",
    "import numpy as np\n",
    "student_averages = {}\n",
    "for name, grades in student_grades.items():\n",
    "    average = int(np.mean(grades))\n",
    "    student_averages[name] = average"
   ]
  },
  {
   "cell_type": "code",
   "execution_count": 4,
   "metadata": {
    "metadata": {}
   },
   "outputs": [
    {
     "data": {
      "text/plain": [
       "{'Alice': 93, 'Bob': 77, 'Charlie': 89, 'Dana': 87, 'Eli': 76}"
      ]
     },
     "execution_count": 4,
     "metadata": {},
     "output_type": "execute_result"
    }
   ],
   "source": [
    "# checking\n",
    "student_averages"
   ]
  },
  {
   "cell_type": "code",
   "execution_count": 5,
   "metadata": {
    "metadata": {}
   },
   "outputs": [],
   "source": [
    "# Assign each student a letter grade (A, B, C, D, F) based on their average grade according to the following scale, and store the results in a dictionary called student_letter_grades:\n",
    "\n",
    "student_letter_grades = {}\n",
    "for name, avg in student_averages.items():\n",
    "    if avg >= 90:\n",
    "        grade = 'A'\n",
    "    elif 80 <= avg <= 89:\n",
    "        grade = 'B'\n",
    "    elif 70 <= avg <= 79:\n",
    "        grade = 'C'\n",
    "    elif 60 <= avg <= 69:\n",
    "        grade = 'D'\n",
    "    else:\n",
    "        grade = 'F'\n",
    "\n",
    "    student_letter_grades[name] = grade"
   ]
  },
  {
   "cell_type": "code",
   "execution_count": 6,
   "metadata": {
    "metadata": {}
   },
   "outputs": [
    {
     "data": {
      "text/plain": [
       "{'Alice': 'A', 'Bob': 'C', 'Charlie': 'B', 'Dana': 'B', 'Eli': 'C'}"
      ]
     },
     "execution_count": 6,
     "metadata": {},
     "output_type": "execute_result"
    }
   ],
   "source": [
    "# checking\n",
    "student_letter_grades"
   ]
  },
  {
   "cell_type": "code",
   "execution_count": 7,
   "metadata": {
    "metadata": {}
   },
   "outputs": [
    {
     "data": {
      "text/plain": [
       "84.4"
      ]
     },
     "execution_count": 7,
     "metadata": {},
     "output_type": "execute_result"
    }
   ],
   "source": [
    "# Calculate the class average (the average of all students’ averages) and print it.\n",
    "sum(student_averages.values())/len(student_averages)"
   ]
  },
  {
   "cell_type": "code",
   "execution_count": 8,
   "metadata": {
    "metadata": {}
   },
   "outputs": [
    {
     "name": "stdout",
     "output_type": "stream",
     "text": [
      "{'Alice': {'grades': [88, 92, 100], 'AVG': 93, 'letter_grade': 'A'}, 'Bob': {'grades': [75, 78, 80], 'AVG': 77, 'letter_grade': 'C'}, 'Charlie': {'grades': [92, 90, 85], 'AVG': 89, 'letter_grade': 'B'}, 'Dana': {'grades': [83, 88, 92], 'AVG': 87, 'letter_grade': 'B'}, 'Eli': {'grades': [78, 80, 72], 'AVG': 76, 'letter_grade': 'C'}}\n"
     ]
    }
   ],
   "source": [
    "merge = {}\n",
    "for student, grades in student_grades.items():\n",
    "    merge[student] = {\n",
    "        'grades': grades,\n",
    "        'AVG': student_averages[student],\n",
    "        'letter_grade': student_letter_grades[student]\n",
    "    }\n",
    "\n",
    "print(merge)"
   ]
  },
  {
   "cell_type": "code",
   "execution_count": 33,
   "metadata": {
    "metadata": {}
   },
   "outputs": [],
   "source": [
    "# Exercise 2 : Advanced Data Manipulation And Analysis\n",
    "\n",
    "sales_data = [\n",
    "    {\"customer_id\": 1, \"product\": \"Smartphone\", \"price\": 600, \"quantity\": 1, \"date\": \"2023-04-03\"},\n",
    "    {\"customer_id\": 2, \"product\": \"Laptop\", \"price\": 1200, \"quantity\": 1, \"date\": \"2023-04-04\"},\n",
    "    {\"customer_id\": 1, \"product\": \"Laptop\", \"price\": 1000, \"quantity\": 1, \"date\": \"2023-04-05\"},\n",
    "    {\"customer_id\": 2, \"product\": \"Smartphone\", \"price\": 500, \"quantity\": 2, \"date\": \"2023-04-06\"},\n",
    "    {\"customer_id\": 3, \"product\": \"Headphones\", \"price\": 150, \"quantity\": 4, \"date\": \"2023-04-07\"},\n",
    "    {\"customer_id\": 3, \"product\": \"Smartphone\", \"price\": 550, \"quantity\": 1, \"date\": \"2023-04-08\"},\n",
    "    {\"customer_id\": 1, \"product\": \"Headphones\", \"price\": 100, \"quantity\": 2, \"date\": \"2023-04-09\"},\n",
    "]"
   ]
  },
  {
   "cell_type": "code",
   "execution_count": 68,
   "metadata": {
    "metadata": {}
   },
   "outputs": [
    {
     "name": "stdout",
     "output_type": "stream",
     "text": [
      "{'Smartphone': 2150, 'Laptop': 2200, 'Headphones': 800}\n"
     ]
    }
   ],
   "source": [
    "# Total Sales Calculation\n",
    "total_sales = {}\n",
    "\n",
    "for sale in sales_data:\n",
    "    product = sale[\"product\"]\n",
    "    price = sale[\"price\"]\n",
    "    quantity = sale[\"quantity\"]\n",
    "    total_price = price * quantity\n",
    "    \n",
    "    if product in total_sales:\n",
    "        total_sales[product] += total_price\n",
    "    else:\n",
    "        total_sales[product] = total_price\n",
    "\n",
    "print(total_sales)"
   ]
  },
  {
   "cell_type": "code",
   "execution_count": 74,
   "metadata": {
    "metadata": {}
   },
   "outputs": [
    {
     "name": "stdout",
     "output_type": "stream",
     "text": [
      "{1: 1800, 2: 2200, 3: 1150}\n"
     ]
    }
   ],
   "source": [
    "# Customer Spending Profile\n",
    "total_spend = {}\n",
    "\n",
    "for sale in sales_data:\n",
    "    price = sale['price']\n",
    "    quantity = sale['quantity']\n",
    "    customer = sale['customer_id']\n",
    "    total_price = quantity*price\n",
    "\n",
    "    if customer in total_spend:\n",
    "        total_spend[customer] += total_price\n",
    "    else:\n",
    "        total_spend[customer] = total_price\n",
    "\n",
    "print(total_spend)"
   ]
  },
  {
   "cell_type": "code",
   "execution_count": 75,
   "metadata": {
    "metadata": {}
   },
   "outputs": [
    {
     "name": "stdout",
     "output_type": "stream",
     "text": [
      "[{'customer_id': 1, 'product': 'Smartphone', 'price': 600, 'quantity': 1, 'date': '2023-04-03', 'total_price': 600}, {'customer_id': 2, 'product': 'Laptop', 'price': 1200, 'quantity': 1, 'date': '2023-04-04', 'total_price': 1200}, {'customer_id': 1, 'product': 'Laptop', 'price': 1000, 'quantity': 1, 'date': '2023-04-05', 'total_price': 1000}, {'customer_id': 2, 'product': 'Smartphone', 'price': 500, 'quantity': 2, 'date': '2023-04-06', 'total_price': 1000}, {'customer_id': 3, 'product': 'Headphones', 'price': 150, 'quantity': 4, 'date': '2023-04-07', 'total_price': 600}, {'customer_id': 3, 'product': 'Smartphone', 'price': 550, 'quantity': 1, 'date': '2023-04-08', 'total_price': 550}, {'customer_id': 1, 'product': 'Headphones', 'price': 100, 'quantity': 2, 'date': '2023-04-09', 'total_price': 200}]\n"
     ]
    }
   ],
   "source": [
    "# Sales Data Enhancement\n",
    "for sale in sales_data:\n",
    "    total_price = sale['quantity']*sale['price']\n",
    "    sale['total_price'] = total_price\n",
    "\n",
    "print(sales_data)"
   ]
  },
  {
   "cell_type": "code",
   "execution_count": 79,
   "metadata": {
    "metadata": {}
   },
   "outputs": [
    {
     "name": "stdout",
     "output_type": "stream",
     "text": [
      "[{'customer_id': 2, 'product': 'Laptop', 'price': 1200, 'quantity': 1, 'date': '2023-04-04', 'total_price': 1200}, {'customer_id': 1, 'product': 'Laptop', 'price': 1000, 'quantity': 1, 'date': '2023-04-05', 'total_price': 1000}, {'customer_id': 2, 'product': 'Smartphone', 'price': 500, 'quantity': 2, 'date': '2023-04-06', 'total_price': 1000}, {'customer_id': 1, 'product': 'Smartphone', 'price': 600, 'quantity': 1, 'date': '2023-04-03', 'total_price': 600}, {'customer_id': 3, 'product': 'Headphones', 'price': 150, 'quantity': 4, 'date': '2023-04-07', 'total_price': 600}, {'customer_id': 3, 'product': 'Smartphone', 'price': 550, 'quantity': 1, 'date': '2023-04-08', 'total_price': 550}]\n"
     ]
    }
   ],
   "source": [
    "# High-Value Transactions\n",
    "new_list = [sale for sale in sales_data if sale['total_price'] > 500]\n",
    "print(sorted(new_list, key=lambda x: x['total_price'], reverse=True))"
   ]
  },
  {
   "cell_type": "code",
   "execution_count": 80,
   "metadata": {
    "metadata": {}
   },
   "outputs": [
    {
     "name": "stdout",
     "output_type": "stream",
     "text": [
      "Customers who have made more than one purchase (potential loyalty): [1, 2, 3]\n"
     ]
    }
   ],
   "source": [
    "# Customer Loyalty Identification\n",
    "\n",
    "customer_purchases = {}\n",
    "for sale in sales_data:\n",
    "    customer_id = sale['customer_id']\n",
    "    if customer_id in customer_purchases:\n",
    "        customer_purchases[customer_id] += 1\n",
    "    else:\n",
    "        customer_purchases[customer_id] = 1\n",
    "\n",
    "loyal_customers = [customer_id for customer_id, purchases in customer_purchases.items() if purchases > 1]\n",
    "print(\"Customers who have made more than one purchase (potential loyalty):\", loyal_customers)\n"
   ]
  }
 ],
 "metadata": {
  "kernelspec": {
   "display_name": "Python 3",
   "language": "python",
   "name": "python3"
  },
  "language_info": {
   "codemirror_mode": {
    "name": "ipython",
    "version": 3
   },
   "file_extension": ".py",
   "mimetype": "text/x-python",
   "name": "python",
   "nbconvert_exporter": "python",
   "pygments_lexer": "ipython3",
   "version": "3.12.1"
  }
 },
 "nbformat": 4,
 "nbformat_minor": 2
}
